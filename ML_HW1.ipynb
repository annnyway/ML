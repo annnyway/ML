{
 "cells": [
  {
   "cell_type": "code",
   "execution_count": 216,
   "metadata": {
    "collapsed": false
   },
   "outputs": [
    {
     "name": "stdout",
     "output_type": "stream",
     "text": [
      "--2019-03-11 23:14:23--  https://www.dropbox.com/s/nd7v1fod89xla6j/vk_texts_with_sources.csv\n",
      "Распознаётся www.dropbox.com (www.dropbox.com)… 162.125.70.1\n",
      "Подключение к www.dropbox.com (www.dropbox.com)|162.125.70.1|:443... соединение установлено.\n",
      "HTTP-запрос отправлен. Ожидание ответа… 301 Moved Permanently\n",
      "Адрес: /s/raw/nd7v1fod89xla6j/vk_texts_with_sources.csv [переход]\n",
      "--2019-03-11 23:14:24--  https://www.dropbox.com/s/raw/nd7v1fod89xla6j/vk_texts_with_sources.csv\n",
      "Повторное использование соединения с www.dropbox.com:443.\n",
      "HTTP-запрос отправлен. Ожидание ответа… 302 Found\n",
      "Адрес: https://uca9e0637bf586808ef5667ce0cb.dl.dropboxusercontent.com/cd/0/inline/Ac4CNmAznWuiZowcNA0RjaU7jKlMOCp_zGSrkhvSf3c0wKTMPYhaNpFGTnY7JIAZAizKVTV6DRZMtQ82iD9NY5V43mFWSAKzG509M9E7FWTRRF00lboCpP5Z-2_i6Zt2lYc/file# [переход]\n",
      "--2019-03-11 23:14:24--  https://uca9e0637bf586808ef5667ce0cb.dl.dropboxusercontent.com/cd/0/inline/Ac4CNmAznWuiZowcNA0RjaU7jKlMOCp_zGSrkhvSf3c0wKTMPYhaNpFGTnY7JIAZAizKVTV6DRZMtQ82iD9NY5V43mFWSAKzG509M9E7FWTRRF00lboCpP5Z-2_i6Zt2lYc/file\n",
      "Распознаётся uca9e0637bf586808ef5667ce0cb.dl.dropboxusercontent.com (uca9e0637bf586808ef5667ce0cb.dl.dropboxusercontent.com)… 162.125.70.6\n",
      "Подключение к uca9e0637bf586808ef5667ce0cb.dl.dropboxusercontent.com (uca9e0637bf586808ef5667ce0cb.dl.dropboxusercontent.com)|162.125.70.6|:443... соединение установлено.\n",
      "HTTP-запрос отправлен. Ожидание ответа… 200 OK\n",
      "Длина: 14406837 (14M) [text/plain]\n",
      "Сохранение в: «vk_texts_with_sources.csv.1»\n",
      "\n",
      "vk_texts_with_sourc 100%[===================>]  13,74M  4,70MB/s    за 2,9s    \n",
      "\n",
      "2019-03-11 23:14:28 (4,70 MB/s) - «vk_texts_with_sources.csv.1» сохранён [14406837/14406837]\n",
      "\n"
     ]
    }
   ],
   "source": [
    "!wget https://www.dropbox.com/s/nd7v1fod89xla6j/vk_texts_with_sources.csv"
   ]
  },
  {
   "cell_type": "code",
   "execution_count": 219,
   "metadata": {
    "collapsed": false
   },
   "outputs": [
    {
     "data": {
      "text/html": [
       "<div>\n",
       "<style scoped>\n",
       "    .dataframe tbody tr th:only-of-type {\n",
       "        vertical-align: middle;\n",
       "    }\n",
       "\n",
       "    .dataframe tbody tr th {\n",
       "        vertical-align: top;\n",
       "    }\n",
       "\n",
       "    .dataframe thead th {\n",
       "        text-align: right;\n",
       "    }\n",
       "</style>\n",
       "<table border=\"1\" class=\"dataframe\">\n",
       "  <thead>\n",
       "    <tr style=\"text-align: right;\">\n",
       "      <th></th>\n",
       "      <th>text</th>\n",
       "      <th>source</th>\n",
       "    </tr>\n",
       "  </thead>\n",
       "  <tbody>\n",
       "    <tr>\n",
       "      <th>0</th>\n",
       "      <td>Начальник Главного оперативного управления Ген...</td>\n",
       "      <td>mil</td>\n",
       "    </tr>\n",
       "    <tr>\n",
       "      <th>1</th>\n",
       "      <td>Артиллерийские подразделения общевойскового об...</td>\n",
       "      <td>mil</td>\n",
       "    </tr>\n",
       "    <tr>\n",
       "      <th>2</th>\n",
       "      <td>Подразделения морской пехоты Каспийской флотил...</td>\n",
       "      <td>mil</td>\n",
       "    </tr>\n",
       "    <tr>\n",
       "      <th>3</th>\n",
       "      <td>Команды на всеармейских этапах конкурсов АрМИ-...</td>\n",
       "      <td>mil</td>\n",
       "    </tr>\n",
       "    <tr>\n",
       "      <th>4</th>\n",
       "      <td>На большом учебно-методическом командирском сб...</td>\n",
       "      <td>mil</td>\n",
       "    </tr>\n",
       "  </tbody>\n",
       "</table>\n",
       "</div>"
      ],
      "text/plain": [
       "                                                text source\n",
       "0  Начальник Главного оперативного управления Ген...    mil\n",
       "1  Артиллерийские подразделения общевойскового об...    mil\n",
       "2  Подразделения морской пехоты Каспийской флотил...    mil\n",
       "3  Команды на всеармейских этапах конкурсов АрМИ-...    mil\n",
       "4  На большом учебно-методическом командирском сб...    mil"
      ]
     },
     "execution_count": 219,
     "metadata": {},
     "output_type": "execute_result"
    }
   ],
   "source": [
    "import pandas as pd\n",
    "df = pd.read_csv('vk_texts_with_sources.csv', usecols = ['text', 'source'])\n",
    "df.head()"
   ]
  },
  {
   "cell_type": "markdown",
   "metadata": {},
   "source": [
    "## Задание 1\n",
    "Посчитайте:\n",
    "* количество текстов и количество классов\n",
    "* количество слов (без лемматизации и с лемматизацией) в коллекции\n",
    "* среднюю длину текста в словах и символах\n",
    "* найдите 5 самых частых существительных в текстах каждого паблика \n",
    "\n",
    "*Рекомендуем использовать pandas для расчета описательных статистик.*"
   ]
  },
  {
   "cell_type": "code",
   "execution_count": 222,
   "metadata": {
    "collapsed": false
   },
   "outputs": [
    {
     "data": {
      "text/plain": [
       "text      11526\n",
       "source    11526\n",
       "dtype: int64"
      ]
     },
     "execution_count": 222,
     "metadata": {},
     "output_type": "execute_result"
    }
   ],
   "source": [
    "df = df.dropna()\n",
    "df.count()"
   ]
  },
  {
   "cell_type": "code",
   "execution_count": 223,
   "metadata": {
    "collapsed": false,
    "scrolled": false
   },
   "outputs": [
    {
     "name": "stdout",
     "output_type": "stream",
     "text": [
      "11526 4\n"
     ]
    }
   ],
   "source": [
    "n_texts = len(df) #кол-во текстов\n",
    "n_categories = len(df.source.value_counts()) #кол-во классов\n",
    "print(n_texts, n_categories)"
   ]
  },
  {
   "cell_type": "code",
   "execution_count": 224,
   "metadata": {
    "collapsed": false,
    "scrolled": false
   },
   "outputs": [
    {
     "data": {
      "text/plain": [
       "mchsgov        3024\n",
       "mil            3017\n",
       "mospolice      2854\n",
       "russianpost    2631\n",
       "Name: source, dtype: int64"
      ]
     },
     "execution_count": 224,
     "metadata": {},
     "output_type": "execute_result"
    }
   ],
   "source": [
    "df.source.value_counts()"
   ]
  },
  {
   "cell_type": "code",
   "execution_count": 225,
   "metadata": {
    "collapsed": true
   },
   "outputs": [],
   "source": [
    "#избавляемся от <br> в тексте\n",
    "import re\n",
    "\n",
    "for i in df.index:\n",
    "    df.loc[i, \"text\"] = re.sub('<.*?>', ' ', str(df.text[i]))        "
   ]
  },
  {
   "cell_type": "code",
   "execution_count": 226,
   "metadata": {
    "collapsed": false
   },
   "outputs": [
    {
     "data": {
      "text/plain": [
       "84724"
      ]
     },
     "execution_count": 226,
     "metadata": {},
     "output_type": "execute_result"
    }
   ],
   "source": [
    "from string import punctuation\n",
    "punct = punctuation+'«»—…“”*№–'\n",
    "\n",
    "words = []\n",
    "for text in df.text:\n",
    "    text = text.split()\n",
    "    for word in text:\n",
    "        words.append(word.strip(punct))\n",
    "words = [w.lower() for w in words if w]\n",
    "\n",
    "wordcount = len(set(words)) #число уникальных слов без лемматизации\n",
    "wordcount"
   ]
  },
  {
   "cell_type": "code",
   "execution_count": 227,
   "metadata": {
    "collapsed": true
   },
   "outputs": [],
   "source": [
    "import pymorphy2\n",
    "morph = pymorphy2.MorphAnalyzer()"
   ]
  },
  {
   "cell_type": "code",
   "execution_count": 228,
   "metadata": {
    "collapsed": true
   },
   "outputs": [],
   "source": [
    "words_lemmatized = [morph.parse(w)[0].normal_form for w in words]"
   ]
  },
  {
   "cell_type": "code",
   "execution_count": 229,
   "metadata": {
    "collapsed": false
   },
   "outputs": [
    {
     "data": {
      "text/plain": [
       "39128"
      ]
     },
     "execution_count": 229,
     "metadata": {},
     "output_type": "execute_result"
    }
   ],
   "source": [
    "lemma_wordcount = len(set(words_lemmatized)) #число уникальных слов с лемматизацией\n",
    "lemma_wordcount "
   ]
  },
  {
   "cell_type": "code",
   "execution_count": 230,
   "metadata": {
    "collapsed": false
   },
   "outputs": [
    {
     "data": {
      "text/plain": [
       "84.624067326045463"
      ]
     },
     "execution_count": 230,
     "metadata": {},
     "output_type": "execute_result"
    }
   ],
   "source": [
    "import numpy as np\n",
    "\n",
    "word_lists = [[w.strip(punct) for w in text.split() if w.strip(punct)] for text in df.text]\n",
    "mean_words = np.mean([len(text) for text in word_lists]) #среднее число слов в тексте\n",
    "mean_words"
   ]
  },
  {
   "cell_type": "code",
   "execution_count": 231,
   "metadata": {
    "collapsed": false
   },
   "outputs": [
    {
     "data": {
      "text/plain": [
       "True"
      ]
     },
     "execution_count": 231,
     "metadata": {},
     "output_type": "execute_result"
    }
   ],
   "source": [
    "len(word_lists) == len(df.index)"
   ]
  },
  {
   "cell_type": "code",
   "execution_count": 232,
   "metadata": {
    "collapsed": false
   },
   "outputs": [
    {
     "data": {
      "text/plain": [
       "673.1597258372376"
      ]
     },
     "execution_count": 232,
     "metadata": {},
     "output_type": "execute_result"
    }
   ],
   "source": [
    "symbol_lists = [[s for s in text] for text in df.text]\n",
    "mean_symbols = np.mean([len(text) for text in symbol_lists]) #среднее число символов в тексте\n",
    "mean_symbols"
   ]
  },
  {
   "cell_type": "code",
   "execution_count": 233,
   "metadata": {
    "collapsed": false
   },
   "outputs": [
    {
     "data": {
      "text/plain": [
       "mchsgov        3024\n",
       "mil            3017\n",
       "mospolice      2854\n",
       "russianpost    2631\n",
       "Name: source, dtype: int64"
      ]
     },
     "execution_count": 233,
     "metadata": {},
     "output_type": "execute_result"
    }
   ],
   "source": [
    "df.source.value_counts()"
   ]
  },
  {
   "cell_type": "markdown",
   "metadata": {},
   "source": [
    "Для нахождения 5 самых частотных сущствительных в каждом классе создадим словарь вида \"класс-тексты этого класса\" и напишем программу, которая посчитает 5 самых частотных существительных в каждом классе и запишет в словарь. "
   ]
  },
  {
   "cell_type": "code",
   "execution_count": 234,
   "metadata": {
    "collapsed": true
   },
   "outputs": [],
   "source": [
    "classes = ['mchsgov', 'mil', 'mospolice', 'russianpost']\n",
    "dictionary = {}\n",
    "for i in classes:\n",
    "    text = ' '.join(df.loc[df[\"source\"]==i].text)\n",
    "    dictionary[i] = text"
   ]
  },
  {
   "cell_type": "code",
   "execution_count": 235,
   "metadata": {
    "collapsed": true
   },
   "outputs": [],
   "source": [
    "from collections import Counter\n",
    "\n",
    "\n",
    "def get_five_nouns(dictionary):\n",
    "    most_common = {}\n",
    "    for class_, text in dictionary.items():\n",
    "        words = []\n",
    "        text = text.split()\n",
    "        for word in text:\n",
    "            words.append(word.strip(punct))\n",
    "        words = [w.lower() for w in words if w]\n",
    "        nouns = [morph.parse(w)[0].normal_form for w in text if w and morph.parse(w)[0].tag.POS == 'NOUN'] \n",
    "        five_nouns = [n[0] for n in Counter(nouns).most_common(5)]\n",
    "        most_common[class_] = five_nouns\n",
    "    return most_common"
   ]
  },
  {
   "cell_type": "code",
   "execution_count": 236,
   "metadata": {
    "collapsed": true
   },
   "outputs": [],
   "source": [
    "nouns = get_five_nouns(dictionary) "
   ]
  },
  {
   "cell_type": "code",
   "execution_count": 237,
   "metadata": {
    "collapsed": false
   },
   "outputs": [
    {
     "data": {
      "text/plain": [
       "{'mchsgov': ['#мчс', '#мчсроссия', 'мчс', 'россия', 'спасатель'],\n",
       " 'mil': ['#минобороны', 'военный', 'россия', 'год', 'оборона'],\n",
       " 'mospolice': ['россия', 'мвд', 'москва', 'полиция', 'сотрудник'],\n",
       " 'russianpost': ['почта', 'россия', 'год', 'отделение', '#почтароссия']}"
      ]
     },
     "execution_count": 237,
     "metadata": {},
     "output_type": "execute_result"
    }
   ],
   "source": [
    "nouns #5 самых частых существительных в текстах каждого паблика"
   ]
  },
  {
   "cell_type": "code",
   "execution_count": 238,
   "metadata": {
    "collapsed": true
   },
   "outputs": [],
   "source": [
    "#для последующих заданий лемматизируем word_lists и добавим их в датафрейм\n",
    "# word_lists = [[w.strip(punct) for w in text.split() if w.strip(punct)] for text in df.text]\n",
    "lemmas_list = []\n",
    "for list_ in word_lists:\n",
    "    lemmas = [morph.parse(w)[0].normal_form for w in list_]\n",
    "    lemmas_list.append(lemmas)"
   ]
  },
  {
   "cell_type": "code",
   "execution_count": 239,
   "metadata": {
    "collapsed": false
   },
   "outputs": [
    {
     "data": {
      "text/html": [
       "<div>\n",
       "<style scoped>\n",
       "    .dataframe tbody tr th:only-of-type {\n",
       "        vertical-align: middle;\n",
       "    }\n",
       "\n",
       "    .dataframe tbody tr th {\n",
       "        vertical-align: top;\n",
       "    }\n",
       "\n",
       "    .dataframe thead th {\n",
       "        text-align: right;\n",
       "    }\n",
       "</style>\n",
       "<table border=\"1\" class=\"dataframe\">\n",
       "  <thead>\n",
       "    <tr style=\"text-align: right;\">\n",
       "      <th></th>\n",
       "      <th>text</th>\n",
       "      <th>source</th>\n",
       "      <th>lemmas</th>\n",
       "    </tr>\n",
       "  </thead>\n",
       "  <tbody>\n",
       "    <tr>\n",
       "      <th>0</th>\n",
       "      <td>Начальник Главного оперативного управления Ген...</td>\n",
       "      <td>mil</td>\n",
       "      <td>[начальник, главный, оперативный, управление, ...</td>\n",
       "    </tr>\n",
       "    <tr>\n",
       "      <th>1</th>\n",
       "      <td>Артиллерийские подразделения общевойскового об...</td>\n",
       "      <td>mil</td>\n",
       "      <td>[артиллерийский, подразделение, общевойсковой,...</td>\n",
       "    </tr>\n",
       "    <tr>\n",
       "      <th>2</th>\n",
       "      <td>Подразделения морской пехоты Каспийской флотил...</td>\n",
       "      <td>mil</td>\n",
       "      <td>[подразделение, морской, пехота, каспийский, ф...</td>\n",
       "    </tr>\n",
       "    <tr>\n",
       "      <th>3</th>\n",
       "      <td>Команды на всеармейских этапах конкурсов АрМИ-...</td>\n",
       "      <td>mil</td>\n",
       "      <td>[команда, на, всеармейский, этап, конкурс, арм...</td>\n",
       "    </tr>\n",
       "    <tr>\n",
       "      <th>4</th>\n",
       "      <td>На большом учебно-методическом командирском сб...</td>\n",
       "      <td>mil</td>\n",
       "      <td>[на, большой, учебно-методический, командирски...</td>\n",
       "    </tr>\n",
       "  </tbody>\n",
       "</table>\n",
       "</div>"
      ],
      "text/plain": [
       "                                                text source  \\\n",
       "0  Начальник Главного оперативного управления Ген...    mil   \n",
       "1  Артиллерийские подразделения общевойскового об...    mil   \n",
       "2  Подразделения морской пехоты Каспийской флотил...    mil   \n",
       "3  Команды на всеармейских этапах конкурсов АрМИ-...    mil   \n",
       "4  На большом учебно-методическом командирском сб...    mil   \n",
       "\n",
       "                                              lemmas  \n",
       "0  [начальник, главный, оперативный, управление, ...  \n",
       "1  [артиллерийский, подразделение, общевойсковой,...  \n",
       "2  [подразделение, морской, пехота, каспийский, ф...  \n",
       "3  [команда, на, всеармейский, этап, конкурс, арм...  \n",
       "4  [на, большой, учебно-методический, командирски...  "
      ]
     },
     "execution_count": 239,
     "metadata": {},
     "output_type": "execute_result"
    }
   ],
   "source": [
    "df.insert(loc = 2, column = 'lemmas', value = lemmas_list)\n",
    "df.head()"
   ]
  },
  {
   "cell_type": "markdown",
   "metadata": {},
   "source": [
    "Разделим коллекцию текстов на обучающую и тестовую части. "
   ]
  },
  {
   "cell_type": "code",
   "execution_count": 240,
   "metadata": {
    "collapsed": true
   },
   "outputs": [],
   "source": [
    "from sklearn.utils import shuffle\n",
    "from sklearn.model_selection import train_test_split\n",
    "\n",
    "data = shuffle(df)\n",
    "\n",
    "train, test = train_test_split(data, test_size=0.1)"
   ]
  },
  {
   "cell_type": "markdown",
   "metadata": {},
   "source": [
    "## Задание 2. Классификация по правилам\n",
    "\n",
    "### 1. Потестируем первый правиловый классификатор"
   ]
  },
  {
   "cell_type": "code",
   "execution_count": 241,
   "metadata": {
    "collapsed": true
   },
   "outputs": [],
   "source": [
    "import random\n",
    "\n",
    "def rule_classifier1(text):\n",
    "    if 'мчс' in text:\n",
    "        return 'mchsgov'\n",
    "    elif 'оборона' in text:\n",
    "        return 'mil'\n",
    "    elif 'мвд' in text:\n",
    "        return 'mospolice'\n",
    "    elif 'почта' in text:\n",
    "        return'russianpost'\n",
    "    elif '#мчс' in text:\n",
    "        return 'mchsgov'\n",
    "    elif '#мчсроссия' in text:\n",
    "        return 'mchsgov'\n",
    "    elif 'полиция' in text:\n",
    "        return 'mospolice'\n",
    "    elif 'отделение' in text:\n",
    "        return 'russianpost'\n",
    "    else:\n",
    "        return random.choice(['mchsgov', 'mospolice', 'russianpost', 'mil']) \n",
    "    #использем random.choice для определения класса текстов, в которых нет слов из правил"
   ]
  },
  {
   "cell_type": "code",
   "execution_count": 242,
   "metadata": {
    "collapsed": false
   },
   "outputs": [
    {
     "name": "stdout",
     "output_type": "stream",
     "text": [
      "['mospolice', 'mchsgov', 'mospolice', 'mospolice', 'mospolice', 'mchsgov', 'mchsgov', 'mospolice', 'mchsgov', 'mospolice', 'mospolice', 'mospolice', 'russianpost', 'russianpost', 'mospolice', 'mchsgov', 'russianpost', 'mchsgov', 'mospolice', 'mospolice']\n"
     ]
    }
   ],
   "source": [
    "predictions = []\n",
    "for text in test.lemmas:\n",
    "    class_ = rule_classifier1(text)\n",
    "    if class_ == None:\n",
    "        predictions.append('')\n",
    "    else:\n",
    "        predictions.append(class_)\n",
    "print(predictions[:20])"
   ]
  },
  {
   "cell_type": "code",
   "execution_count": 243,
   "metadata": {
    "collapsed": true
   },
   "outputs": [],
   "source": [
    "predictions_array = np.asarray(predictions)"
   ]
  },
  {
   "cell_type": "code",
   "execution_count": 244,
   "metadata": {
    "collapsed": true
   },
   "outputs": [],
   "source": [
    "from sklearn.metrics import *\n",
    "def evaluate(right_classes, predicted_classes):\n",
    "    # макро-усреднение\n",
    "    print(\"Precision: {0:6.2f}\".format(precision_score(right_classes, predicted_classes, average='macro')))\n",
    "    print(\"Recall: {0:6.2f}\".format(recall_score(right_classes, predicted_classes, average='macro')))\n",
    "    print(\"F1-measure: {0:6.2f}\".format(f1_score(right_classes, predicted_classes, average='macro')))\n",
    "\n",
    "    print(\"...\")\n",
    "    # микро-усреднение\n",
    "    print(\"Precision: {0:6.2f}\".format(precision_score(right_classes, predicted_classes, average='micro')))\n",
    "    print(\"Recall: {0:6.2f}\".format(recall_score(right_classes, predicted_classes, average='micro')))\n",
    "    print(\"F1-measure: {0:6.2f}\".format(f1_score(right_classes, predicted_classes, average='micro')))\n",
    "\n",
    "    print(\"...\")\n",
    "    # accuracy\n",
    "    print(\"Accuracy: {0:6.2f}\".format(accuracy_score(right_classes, predicted_classes)))"
   ]
  },
  {
   "cell_type": "code",
   "execution_count": 245,
   "metadata": {
    "collapsed": false
   },
   "outputs": [
    {
     "name": "stdout",
     "output_type": "stream",
     "text": [
      "Precision:   0.69\n",
      "Recall:   0.70\n",
      "F1-measure:   0.67\n",
      "...\n",
      "Precision:   0.70\n",
      "Recall:   0.70\n",
      "F1-measure:   0.70\n",
      "...\n",
      "Accuracy:   0.70\n"
     ]
    }
   ],
   "source": [
    "evaluate(test.source, predictions_array)"
   ]
  },
  {
   "cell_type": "code",
   "execution_count": 246,
   "metadata": {
    "collapsed": false,
    "scrolled": true
   },
   "outputs": [
    {
     "name": "stdout",
     "output_type": "stream",
     "text": [
      "             precision    recall  f1-score   support\n",
      "\n",
      "    mchsgov       0.73      0.83      0.78       297\n",
      "        mil       0.70      0.29      0.41       303\n",
      "  mospolice       0.75      0.97      0.85       322\n",
      "russianpost       0.60      0.71      0.65       231\n",
      "\n",
      "avg / total       0.70      0.70      0.67      1153\n",
      "\n"
     ]
    }
   ],
   "source": [
    "print(classification_report(test.source, predictions_array)) "
   ]
  },
  {
   "cell_type": "markdown",
   "metadata": {},
   "source": [
    "### 2. Потестируем второй классификатор, в котором класс определяется максимальным пересечением множеств слов текста и 5 самых частотных существительных класса"
   ]
  },
  {
   "cell_type": "code",
   "execution_count": 247,
   "metadata": {
    "collapsed": true
   },
   "outputs": [],
   "source": [
    "def rule_classifier2(text, nouns):\n",
    "    text = set(text)\n",
    "    overlaps = []\n",
    "    for class_, words in nouns.items():\n",
    "        overlap = text & set(words)\n",
    "        overlaps.append(tuple([class_, overlap]))\n",
    "    \n",
    "    max_overlap = 0\n",
    "    for overlap in overlaps:\n",
    "        if len(overlap[1]) > max_overlap:\n",
    "            max_overlap = len(overlap[1])\n",
    "    \n",
    "    for overlap in overlaps:\n",
    "        if max_overlap == len(overlap[1]):\n",
    "            return(overlap[0])"
   ]
  },
  {
   "cell_type": "code",
   "execution_count": 248,
   "metadata": {
    "collapsed": false,
    "scrolled": true
   },
   "outputs": [
    {
     "data": {
      "text/plain": [
       "['mospolice',\n",
       " 'mil',\n",
       " 'mospolice',\n",
       " 'mospolice',\n",
       " 'mospolice',\n",
       " 'mchsgov',\n",
       " 'mchsgov',\n",
       " 'mospolice',\n",
       " 'mchsgov',\n",
       " 'mospolice',\n",
       " 'mospolice',\n",
       " 'mospolice',\n",
       " 'russianpost',\n",
       " 'mospolice',\n",
       " 'mospolice',\n",
       " 'mchsgov',\n",
       " 'mil',\n",
       " 'mchsgov',\n",
       " 'mospolice',\n",
       " 'mil']"
      ]
     },
     "execution_count": 248,
     "metadata": {},
     "output_type": "execute_result"
    }
   ],
   "source": [
    "predictions2 = []\n",
    "for text in test.lemmas:\n",
    "    class_ = rule_classifier2(text, nouns)\n",
    "    predictions2.append(class_)\n",
    "predictions2[:20]"
   ]
  },
  {
   "cell_type": "code",
   "execution_count": 249,
   "metadata": {
    "collapsed": false
   },
   "outputs": [
    {
     "name": "stdout",
     "output_type": "stream",
     "text": [
      "Precision:   0.78\n",
      "Recall:   0.72\n",
      "F1-measure:   0.72\n",
      "...\n",
      "Precision:   0.73\n",
      "Recall:   0.73\n",
      "F1-measure:   0.73\n",
      "...\n",
      "Accuracy:   0.73\n"
     ]
    }
   ],
   "source": [
    "predictions_array2 = np.asarray(predictions2)\n",
    "evaluate(test.source, predictions_array2)"
   ]
  },
  {
   "cell_type": "code",
   "execution_count": 250,
   "metadata": {
    "collapsed": false
   },
   "outputs": [
    {
     "name": "stdout",
     "output_type": "stream",
     "text": [
      "             precision    recall  f1-score   support\n",
      "\n",
      "    mchsgov       0.56      0.93      0.70       297\n",
      "        mil       0.70      0.44      0.54       303\n",
      "  mospolice       0.93      0.97      0.95       322\n",
      "russianpost       0.95      0.54      0.69       231\n",
      "\n",
      "avg / total       0.78      0.73      0.72      1153\n",
      "\n"
     ]
    }
   ],
   "source": [
    "print(classification_report(test.source, predictions_array2)) "
   ]
  },
  {
   "cell_type": "markdown",
   "metadata": {},
   "source": [
    "Как видно из результатов, мы не смогли придумать правило, которое никогда не ошибается.  "
   ]
  },
  {
   "cell_type": "markdown",
   "metadata": {},
   "source": [
    "## Задание 3. Baseline\n",
    "Используйте стандартный ```sklearn.pipeline``` для классификации текстов: \n",
    "* векторизация \n",
    "* $tf-idf$ взвешивание \n",
    "* ваш любимый метод классификации.\n",
    "\n",
    "\n",
    "### 1. Попробуем мультиномиальный Байес "
   ]
  },
  {
   "cell_type": "code",
   "execution_count": 251,
   "metadata": {
    "collapsed": false
   },
   "outputs": [
    {
     "data": {
      "text/plain": [
       "10206    Неотъемлемой частью поздравительной программы ...\n",
       "1771     11 января 1957 года принято решение о создании...\n",
       "9026     НАЙДЕНА, ЖИВА. _______________________________...\n",
       "10585    Доброе утро! Хорошего дня и успешной рабочей н...\n",
       "9185     Желаем вам хороших и законопослушных выходных!...\n",
       "Name: text, dtype: object"
      ]
     },
     "execution_count": 251,
     "metadata": {},
     "output_type": "execute_result"
    }
   ],
   "source": [
    "test.text.head()"
   ]
  },
  {
   "cell_type": "code",
   "execution_count": 252,
   "metadata": {
    "collapsed": false
   },
   "outputs": [
    {
     "name": "stdout",
     "output_type": "stream",
     "text": [
      "CPU times: user 5.08 s, sys: 361 ms, total: 5.44 s\n",
      "Wall time: 5.62 s\n"
     ]
    },
    {
     "data": {
      "text/plain": [
       "Pipeline(memory=None,\n",
       "     steps=[('vect', CountVectorizer(analyzer='word', binary=False, decode_error='strict',\n",
       "        dtype=<class 'numpy.int64'>, encoding='utf-8', input='content',\n",
       "        lowercase=True, max_df=1.0, max_features=None, min_df=1,\n",
       "        ngram_range=(1, 2), preprocessor=None, stop_words=None,\n",
       "        strip...inear_tf=False, use_idf=True)), ('clf', MultinomialNB(alpha=1.0, class_prior=None, fit_prior=True))])"
      ]
     },
     "execution_count": 252,
     "metadata": {},
     "output_type": "execute_result"
    }
   ],
   "source": [
    "from sklearn.feature_extraction.text import *\n",
    "from sklearn.pipeline import Pipeline\n",
    "from sklearn.naive_bayes import MultinomialNB \n",
    "from sklearn.linear_model import LogisticRegression \n",
    "from sklearn.ensemble import RandomForestClassifier\n",
    "\n",
    "vectorizer = CountVectorizer(ngram_range=(1,2)) \n",
    "tfidf = TfidfTransformer()\n",
    "classifier = MultinomialNB()\n",
    "\n",
    "clf = Pipeline([\n",
    "    ('vect', vectorizer),\n",
    "    ('tfidf', tfidf),\n",
    "    ('clf', classifier)\n",
    "])\n",
    "%time clf.fit(train.text, train.source)"
   ]
  },
  {
   "cell_type": "code",
   "execution_count": 253,
   "metadata": {
    "collapsed": false
   },
   "outputs": [
    {
     "name": "stdout",
     "output_type": "stream",
     "text": [
      "Precision:   0.96\n",
      "Recall:   0.96\n",
      "F1-measure:   0.96\n",
      "...\n",
      "Precision:   0.97\n",
      "Recall:   0.97\n",
      "F1-measure:   0.97\n",
      "...\n",
      "Accuracy:   0.97\n"
     ]
    }
   ],
   "source": [
    "predictions3 = clf.predict(test.text)\n",
    "evaluate(test.source, predictions3)"
   ]
  },
  {
   "cell_type": "code",
   "execution_count": 261,
   "metadata": {
    "collapsed": false
   },
   "outputs": [
    {
     "data": {
      "image/png": "[encoded data removed]",
      "text/plain": [
       "<Figure size 360x360 with 1 Axes>"
      ]
     },
     "metadata": {},
     "output_type": "display_data"
    },
    {
     "name": "stdout",
     "output_type": "stream",
     "text": [
      "             precision    recall  f1-score   support\n",
      "\n",
      "    mchsgov       0.99      0.93      0.96       297\n",
      "        mil       0.98      0.96      0.97       303\n",
      "  mospolice       0.96      1.00      0.98       322\n",
      "russianpost       0.92      0.97      0.94       231\n",
      "\n",
      "avg / total       0.97      0.97      0.97      1153\n",
      "\n"
     ]
    }
   ],
   "source": [
    "import matplotlib.pyplot as plt\n",
    "import seaborn as sns\n",
    "import numpy as np\n",
    "\n",
    "m = confusion_matrix(test.source, predictions3)\n",
    "\n",
    "labels = clf.classes_\n",
    "plt.figure(figsize = (5,5))\n",
    "sns.heatmap(data=m, annot=True, fmt=\"d\", cbar=False, xticklabels=labels, yticklabels=labels, cmap=\"PuRd\")\n",
    "plt.title(\"Confusion matrix\")\n",
    "plt.show()\n",
    "\n",
    "print(classification_report(test.source, predictions3)) "
   ]
  },
  {
   "cell_type": "markdown",
   "metadata": {},
   "source": [
    "Мультиномиальный байес сработал неплохо. Попробуем другие:"
   ]
  },
  {
   "cell_type": "code",
   "execution_count": 255,
   "metadata": {
    "collapsed": false,
    "scrolled": false
   },
   "outputs": [
    {
     "name": "stdout",
     "output_type": "stream",
     "text": [
      "CPU times: user 11.4 s, sys: 511 ms, total: 11.9 s\n",
      "Wall time: 9.37 s\n"
     ]
    },
    {
     "data": {
      "text/plain": [
       "Pipeline(memory=None,\n",
       "     steps=[('vect', CountVectorizer(analyzer='word', binary=False, decode_error='strict',\n",
       "        dtype=<class 'numpy.int64'>, encoding='utf-8', input='content',\n",
       "        lowercase=True, max_df=1.0, max_features=None, min_df=1,\n",
       "        ngram_range=(1, 2), preprocessor=None, stop_words=None,\n",
       "        strip...ty='l2', random_state=None, solver='liblinear', tol=0.0001,\n",
       "          verbose=0, warm_start=False))])"
      ]
     },
     "execution_count": 255,
     "metadata": {},
     "output_type": "execute_result"
    }
   ],
   "source": [
    "vectorizer = CountVectorizer(ngram_range=(1,2)) \n",
    "tfidf = TfidfTransformer()\n",
    "classifier = LogisticRegression() #пробуем логистическую регрессию\n",
    "\n",
    "clf = Pipeline([\n",
    "    ('vect', vectorizer),\n",
    "    ('tfidf', tfidf),\n",
    "    ('clf', classifier)\n",
    "])\n",
    "\n",
    "%time clf.fit(train.text, train.source)"
   ]
  },
  {
   "cell_type": "code",
   "execution_count": 259,
   "metadata": {
    "collapsed": false
   },
   "outputs": [
    {
     "name": "stdout",
     "output_type": "stream",
     "text": [
      "Precision:   0.96\n",
      "Recall:   0.97\n",
      "F1-measure:   0.96\n",
      "...\n",
      "Precision:   0.97\n",
      "Recall:   0.97\n",
      "F1-measure:   0.97\n",
      "...\n",
      "Accuracy:   0.97\n"
     ]
    },
    {
     "data": {
      "image/png": "[encoded data removed]",
      "text/plain": [
       "<Figure size 360x360 with 1 Axes>"
      ]
     },
     "metadata": {},
     "output_type": "display_data"
    },
    {
     "name": "stdout",
     "output_type": "stream",
     "text": [
      "             precision    recall  f1-score   support\n",
      "\n",
      "    mchsgov       0.97      0.97      0.97       297\n",
      "        mil       0.97      0.95      0.96       303\n",
      "  mospolice       0.99      0.98      0.98       322\n",
      "russianpost       0.93      0.96      0.94       231\n",
      "\n",
      "avg / total       0.97      0.97      0.97      1153\n",
      "\n"
     ]
    }
   ],
   "source": [
    "predictions4 = clf.predict(test.text)\n",
    "evaluate(test.source, predictions4)\n",
    "\n",
    "m = confusion_matrix(test.source, predictions4)\n",
    "\n",
    "labels = clf.classes_\n",
    "plt.figure(figsize = (5,5))\n",
    "sns.heatmap(data=m, annot=True, fmt=\"d\", cbar=False, xticklabels=labels, yticklabels=labels, cmap=\"GnBu\")\n",
    "plt.title(\"Confusion matrix\")\n",
    "plt.show()\n",
    "\n",
    "print(classification_report(test.source, predictions4)) "
   ]
  },
  {
   "cell_type": "code",
   "execution_count": 257,
   "metadata": {
    "collapsed": false
   },
   "outputs": [
    {
     "name": "stdout",
     "output_type": "stream",
     "text": [
      "CPU times: user 19.5 s, sys: 361 ms, total: 19.8 s\n",
      "Wall time: 20 s\n"
     ]
    },
    {
     "data": {
      "text/plain": [
       "Pipeline(memory=None,\n",
       "     steps=[('vect', CountVectorizer(analyzer='word', binary=False, decode_error='strict',\n",
       "        dtype=<class 'numpy.int64'>, encoding='utf-8', input='content',\n",
       "        lowercase=True, max_df=1.0, max_features=None, min_df=1,\n",
       "        ngram_range=(1, 2), preprocessor=None, stop_words=None,\n",
       "        strip...n_jobs=1,\n",
       "            oob_score=False, random_state=None, verbose=0,\n",
       "            warm_start=False))])"
      ]
     },
     "execution_count": 257,
     "metadata": {},
     "output_type": "execute_result"
    }
   ],
   "source": [
    "vectorizer = CountVectorizer(ngram_range=(1,2)) \n",
    "tfidf = TfidfTransformer()\n",
    "classifier = RandomForestClassifier() #пробуем случайный лес\n",
    "\n",
    "clf = Pipeline([\n",
    "    ('vect', vectorizer),\n",
    "    ('tfidf', tfidf),\n",
    "    ('clf', classifier)\n",
    "])\n",
    "\n",
    "%time clf.fit(train.text, train.source)"
   ]
  },
  {
   "cell_type": "code",
   "execution_count": 260,
   "metadata": {
    "collapsed": false
   },
   "outputs": [
    {
     "name": "stdout",
     "output_type": "stream",
     "text": [
      "Precision:   0.96\n",
      "Recall:   0.97\n",
      "F1-measure:   0.96\n",
      "...\n",
      "Precision:   0.97\n",
      "Recall:   0.97\n",
      "F1-measure:   0.97\n",
      "...\n",
      "Accuracy:   0.97\n"
     ]
    },
    {
     "data": {
      "image/png": "[encoded data removed]",
      "text/plain": [
       "<Figure size 360x360 with 1 Axes>"
      ]
     },
     "metadata": {},
     "output_type": "display_data"
    },
    {
     "name": "stdout",
     "output_type": "stream",
     "text": [
      "             precision    recall  f1-score   support\n",
      "\n",
      "    mchsgov       0.97      0.97      0.97       297\n",
      "        mil       0.97      0.95      0.96       303\n",
      "  mospolice       0.99      0.98      0.98       322\n",
      "russianpost       0.93      0.96      0.94       231\n",
      "\n",
      "avg / total       0.97      0.97      0.97      1153\n",
      "\n"
     ]
    }
   ],
   "source": [
    "predictions5 = clf.predict(test.text)\n",
    "evaluate(test.source, predictions5)\n",
    "\n",
    "m = confusion_matrix(test.source, predictions5)\n",
    "\n",
    "labels = clf.classes_\n",
    "plt.figure(figsize = (5,5))\n",
    "sns.heatmap(data=m, annot=True, fmt=\"d\", cbar=False, xticklabels=labels, yticklabels=labels, cmap=\"PuBu\")\n",
    "plt.title(\"Confusion matrix\")\n",
    "plt.show()\n",
    "print(classification_report(test.source, predictions5)) "
   ]
  },
  {
   "cell_type": "markdown",
   "metadata": {},
   "source": [
    "Основное наблюдение - многие классификаторы не до конца могут провести различия между Почтой России и МЧС.\n",
    "### Как мы видим, F-меру 0.97 показали все использованные классификаторы. Возьмем ее за бейзлайн. "
   ]
  },
  {
   "cell_type": "markdown",
   "metadata": {},
   "source": [
    "## Задание 4. Снижение размерности\n",
    "Добавим в ```sklearn.pipeline```  методы снижения размерности: LSI (TruncatedSVD) и LDA. \n",
    "\n",
    "Какие методы классификации разумно использовать после снижения размерности? \n",
    "\n",
    "После снижения размерности методом LSA мы можем использовать те классификаторы, которые принимают на вход в качестве X и положительные, и отрицательные значения, например логистическую регрессию или случайный лес. Если мы будем использовать вероятностные методы снижения размерности, то область определения классификатора должна быть от 0 до 1 - можем попробовать наивный Байесовский классификатор."
   ]
  },
  {
   "cell_type": "code",
   "execution_count": 262,
   "metadata": {
    "collapsed": false
   },
   "outputs": [
    {
     "name": "stdout",
     "output_type": "stream",
     "text": [
      "CPU times: user 36.7 s, sys: 14.9 s, total: 51.6 s\n",
      "Wall time: 48.9 s\n"
     ]
    },
    {
     "data": {
      "text/plain": [
       "Pipeline(memory=None,\n",
       "     steps=[('vect', CountVectorizer(analyzer='word', binary=False, decode_error='strict',\n",
       "        dtype=<class 'numpy.int64'>, encoding='utf-8', input='content',\n",
       "        lowercase=True, max_df=1.0, max_features=None, min_df=1,\n",
       "        ngram_range=(1, 2), preprocessor=None, stop_words=None,\n",
       "        strip...ty='l2', random_state=None, solver='liblinear', tol=0.0001,\n",
       "          verbose=0, warm_start=False))])"
      ]
     },
     "execution_count": 262,
     "metadata": {},
     "output_type": "execute_result"
    }
   ],
   "source": [
    "from sklearn.decomposition import TruncatedSVD\n",
    "\n",
    "vectorizer = CountVectorizer(ngram_range=(1,2)) \n",
    "tfidf = TfidfTransformer()\n",
    "svd = TruncatedSVD(n_components=100, algorithm='randomized', n_iter=5, random_state=None, tol=0.0)\n",
    "classifier = LogisticRegression() \n",
    "\n",
    "clf = Pipeline([\n",
    "    ('vect', vectorizer),\n",
    "    ('tfidf', tfidf),\n",
    "    ('svd', svd),\n",
    "    ('clf', classifier)\n",
    "])\n",
    "\n",
    "%time clf.fit(train.text, train.source)"
   ]
  },
  {
   "cell_type": "code",
   "execution_count": 263,
   "metadata": {
    "collapsed": false
   },
   "outputs": [
    {
     "name": "stdout",
     "output_type": "stream",
     "text": [
      "Precision:   0.95\n",
      "Recall:   0.95\n",
      "F1-measure:   0.95\n",
      "...\n",
      "Precision:   0.95\n",
      "Recall:   0.95\n",
      "F1-measure:   0.95\n",
      "...\n",
      "Accuracy:   0.95\n"
     ]
    },
    {
     "data": {
      "image/png": "[encoded data removed]",
      "text/plain": [
       "<Figure size 360x360 with 1 Axes>"
      ]
     },
     "metadata": {},
     "output_type": "display_data"
    }
   ],
   "source": [
    "predictions6 = clf.predict(test.text)\n",
    "evaluate(test.source, predictions6)\n",
    "\n",
    "m = confusion_matrix(test.source, predictions6)\n",
    "\n",
    "labels = clf.classes_\n",
    "plt.figure(figsize = (5,5))\n",
    "sns.heatmap(data=m, annot=True, fmt=\"d\", cbar=False, xticklabels=labels, yticklabels=labels, cmap=\"PuBu\")\n",
    "plt.title(\"Confusion matrix\")\n",
    "plt.show()"
   ]
  },
  {
   "cell_type": "markdown",
   "metadata": {},
   "source": [
    "После снижения размерности F-мера не улучшилась. Пробуем вместо логистической регрессии случайный лес.  "
   ]
  },
  {
   "cell_type": "code",
   "execution_count": 264,
   "metadata": {
    "collapsed": false
   },
   "outputs": [
    {
     "name": "stdout",
     "output_type": "stream",
     "text": [
      "CPU times: user 37.1 s, sys: 17 s, total: 54.1 s\n",
      "Wall time: 54.5 s\n",
      "Precision:   0.97\n",
      "Recall:   0.97\n",
      "F1-measure:   0.97\n",
      "...\n",
      "Precision:   0.97\n",
      "Recall:   0.97\n",
      "F1-measure:   0.97\n",
      "...\n",
      "Accuracy:   0.97\n"
     ]
    },
    {
     "data": {
      "image/png": "[encoded data removed]",
      "text/plain": [
       "<Figure size 360x360 with 1 Axes>"
      ]
     },
     "metadata": {},
     "output_type": "display_data"
    }
   ],
   "source": [
    "vectorizer = CountVectorizer(ngram_range=(1,2)) \n",
    "tfidf = TfidfTransformer()\n",
    "svd = TruncatedSVD(n_components=100, algorithm='randomized', n_iter=5, random_state=None, tol=0.0)\n",
    "classifier = RandomForestClassifier() \n",
    "\n",
    "clf = Pipeline([\n",
    "    ('vect', vectorizer),\n",
    "    ('tfidf', tfidf),\n",
    "    ('svd', svd),\n",
    "    ('clf', classifier)\n",
    "])\n",
    "\n",
    "%time clf.fit(train.text, train.source)\n",
    "predictions7 = clf.predict(test.text)\n",
    "evaluate(test.source, predictions7)\n",
    "\n",
    "m = confusion_matrix(test.source, predictions7)\n",
    "\n",
    "labels = clf.classes_\n",
    "plt.figure(figsize = (5,5))\n",
    "sns.heatmap(data=m, annot=True, fmt=\"d\", cbar=False, xticklabels=labels, yticklabels=labels, cmap=\"PuBu\")\n",
    "plt.title(\"Confusion matrix\")\n",
    "plt.show()"
   ]
  },
  {
   "cell_type": "markdown",
   "metadata": {},
   "source": [
    "С LSA и случайным лесом мы остались на baseline 0.97. Теперь попробуем вероятностную LDA + мультиномиальный Байес."
   ]
  },
  {
   "cell_type": "code",
   "execution_count": 265,
   "metadata": {
    "collapsed": true
   },
   "outputs": [],
   "source": [
    "from sklearn.decomposition import LatentDirichletAllocation\n",
    "import warnings\n",
    "warnings.filterwarnings('ignore')"
   ]
  },
  {
   "cell_type": "code",
   "execution_count": 266,
   "metadata": {
    "collapsed": false,
    "scrolled": true
   },
   "outputs": [
    {
     "name": "stdout",
     "output_type": "stream",
     "text": [
      "CPU times: user 1min 59s, sys: 8.87 s, total: 2min 8s\n",
      "Wall time: 2min 10s\n"
     ]
    },
    {
     "data": {
      "text/plain": [
       "Pipeline(memory=None,\n",
       "     steps=[('vect', CountVectorizer(analyzer='word', binary=False, decode_error='strict',\n",
       "        dtype=<class 'numpy.int64'>, encoding='utf-8', input='content',\n",
       "        lowercase=True, max_df=1.0, max_features=None, min_df=1,\n",
       "        ngram_range=(1, 2), preprocessor=None, stop_words=None,\n",
       "        strip...samples=1000000.0, verbose=0)), ('clf', MultinomialNB(alpha=1.0, class_prior=None, fit_prior=True))])"
      ]
     },
     "execution_count": 266,
     "metadata": {},
     "output_type": "execute_result"
    }
   ],
   "source": [
    "vectorizer = CountVectorizer(ngram_range=(1,2)) \n",
    "tfidf = TfidfTransformer()\n",
    "lda = LatentDirichletAllocation(n_components=10, max_iter = 5) #возьмем 10 тем\n",
    "classifier = MultinomialNB() \n",
    "\n",
    "clf = Pipeline([\n",
    "    ('vect', vectorizer),\n",
    "    ('tfidf', tfidf),\n",
    "    ('lda', lda),\n",
    "    ('clf', classifier)\n",
    "])\n",
    "\n",
    "%time clf.fit(train.text, train.source)"
   ]
  },
  {
   "cell_type": "code",
   "execution_count": 267,
   "metadata": {
    "collapsed": false,
    "scrolled": false
   },
   "outputs": [
    {
     "name": "stdout",
     "output_type": "stream",
     "text": [
      "Precision:   0.77\n",
      "Recall:   0.60\n",
      "F1-measure:   0.60\n",
      "...\n",
      "Precision:   0.60\n",
      "Recall:   0.60\n",
      "F1-measure:   0.60\n",
      "...\n",
      "Accuracy:   0.60\n"
     ]
    },
    {
     "data": {
      "image/png": "[encoded data removed]",
      "text/plain": [
       "<Figure size 360x360 with 1 Axes>"
      ]
     },
     "metadata": {},
     "output_type": "display_data"
    }
   ],
   "source": [
    "predictions8 = clf.predict(test.text)\n",
    "evaluate(test.source, predictions8)\n",
    "\n",
    "m = confusion_matrix(test.source, predictions8)\n",
    "\n",
    "labels = clf.classes_\n",
    "plt.figure(figsize = (5,5))\n",
    "sns.heatmap(data=m, annot=True, fmt=\"d\", cbar=False, xticklabels=labels, yticklabels=labels, cmap=\"PuBu\")\n",
    "plt.title(\"Confusion matrix\")\n",
    "plt.show()"
   ]
  },
  {
   "cell_type": "markdown",
   "metadata": {},
   "source": [
    "Получилось еще хуже: теперь распознаются неправильно не только классы МЧС и Почты России, но и московской полиции. "
   ]
  },
  {
   "cell_type": "markdown",
   "metadata": {},
   "source": [
    "## Задание 5. Лемматизация\n",
    "\n",
    "Проверим, как изменятся результаты в случае варианта: TruncatedSVD + Random Forest Classifier "
   ]
  },
  {
   "cell_type": "code",
   "execution_count": 268,
   "metadata": {
    "collapsed": true
   },
   "outputs": [],
   "source": [
    "train_set = [' '.join(text) for text in train.lemmas]\n",
    "test_set = [' '.join(text) for text in test.lemmas]"
   ]
  },
  {
   "cell_type": "code",
   "execution_count": 269,
   "metadata": {
    "collapsed": false
   },
   "outputs": [
    {
     "name": "stdout",
     "output_type": "stream",
     "text": [
      "CPU times: user 27.6 s, sys: 7.47 s, total: 35.1 s\n",
      "Wall time: 30.1 s\n",
      "Precision:   0.97\n",
      "Recall:   0.97\n",
      "F1-measure:   0.97\n",
      "...\n",
      "Precision:   0.97\n",
      "Recall:   0.97\n",
      "F1-measure:   0.97\n",
      "...\n",
      "Accuracy:   0.97\n"
     ]
    },
    {
     "data": {
      "image/png": "[encoded data removed]",
      "text/plain": [
       "<Figure size 360x360 with 1 Axes>"
      ]
     },
     "metadata": {},
     "output_type": "display_data"
    }
   ],
   "source": [
    "vectorizer = CountVectorizer(ngram_range=(1,2)) #используем на униграммах и биграммах\n",
    "tfidf = TfidfTransformer()\n",
    "svd = TruncatedSVD(n_components=100, algorithm='randomized', n_iter=5)\n",
    "classifier = RandomForestClassifier() \n",
    "\n",
    "clf = Pipeline([\n",
    "    ('vect', vectorizer),\n",
    "    ('tfidf', tfidf),\n",
    "    ('svd', svd),\n",
    "    ('clf', classifier)\n",
    "])\n",
    "\n",
    "\n",
    "%time clf.fit(train_set, train.source) #используем на лемматизированных текстах\n",
    "predictions10 = clf.predict(test_set)\n",
    "evaluate(test.source, predictions10)\n",
    "\n",
    "m = confusion_matrix(test.source, predictions10)\n",
    "\n",
    "labels = clf.classes_\n",
    "plt.figure(figsize = (5,5))\n",
    "sns.heatmap(data=m, annot=True, fmt=\"d\", cbar=False, xticklabels=labels, yticklabels=labels, cmap=\"PuBu\")\n",
    "plt.title(\"Confusion matrix\")\n",
    "plt.show()"
   ]
  },
  {
   "cell_type": "markdown",
   "metadata": {},
   "source": [
    "Baseline остался тот же. \n",
    "\n",
    "Попробуем просто на словах: "
   ]
  },
  {
   "cell_type": "code",
   "execution_count": 270,
   "metadata": {
    "collapsed": false
   },
   "outputs": [
    {
     "name": "stdout",
     "output_type": "stream",
     "text": [
      "CPU times: user 5.07 s, sys: 256 ms, total: 5.32 s\n",
      "Wall time: 4.37 s\n",
      "Precision:   0.97\n",
      "Recall:   0.97\n",
      "F1-measure:   0.97\n",
      "...\n",
      "Precision:   0.97\n",
      "Recall:   0.97\n",
      "F1-measure:   0.97\n",
      "...\n",
      "Accuracy:   0.97\n"
     ]
    },
    {
     "data": {
      "image/png": "[encoded data removed]",
      "text/plain": [
       "<Figure size 360x360 with 1 Axes>"
      ]
     },
     "metadata": {},
     "output_type": "display_data"
    }
   ],
   "source": [
    "vectorizer = CountVectorizer(ngram_range=(1,1)) #возьмем просто слова\n",
    "tfidf = TfidfTransformer()\n",
    "svd = TruncatedSVD(n_components=100, algorithm='randomized', n_iter=5, random_state=None, tol=0.0)\n",
    "classifier = RandomForestClassifier() \n",
    "\n",
    "clf = Pipeline([\n",
    "    ('vect', vectorizer),\n",
    "    ('tfidf', tfidf),\n",
    "    ('svd', svd),\n",
    "    ('clf', classifier)\n",
    "])\n",
    "\n",
    "\n",
    "%time clf.fit(train_set, train.source) #используем на лемматизированных текстах\n",
    "predictions11 = clf.predict(test_set)\n",
    "evaluate(test.source, predictions11)\n",
    "\n",
    "m = confusion_matrix(test.source, predictions11)\n",
    "\n",
    "labels = clf.classes_\n",
    "plt.figure(figsize = (5,5))\n",
    "sns.heatmap(data=m, annot=True, fmt=\"d\", cbar=False, xticklabels=labels, yticklabels=labels, cmap=\"PuBu\")\n",
    "plt.title(\"Confusion matrix\")\n",
    "plt.show()"
   ]
  },
  {
   "cell_type": "markdown",
   "metadata": {},
   "source": [
    "Ничего не поменялось. "
   ]
  },
  {
   "cell_type": "markdown",
   "metadata": {},
   "source": [
    "## Задание 6. Модель скрытых тем\n",
    "Построим скрытую модель LDA по данной коллекции текстов. \n",
    "\n",
    "Здесь не нужно разделять корпус на тестовую и обучающую части, поскольку темы выявляются во всем датасете. \n",
    "\n",
    "Модель скрытых тем позволяет увидеть, почему тот или иной класс распознается классификаторами плохо. Темы - это наборы слов, наиболее характерные для того или иного класса (ключевые слова в своем роде). Мы можем видеть, у каких слов больший вес в том или ином классе и предполагать, почему некоторым текстам присваивается иной класс: например, потому что там нет слов, характерных для того или иного класса. Также через модель скрытых тем можно посмотреть, что еще сделать с текстами, чтобы они лучше классифицировались: например, какие еще стоп-слова можно выбросить.  \n",
    "\n",
    "Сначала предобработаем текст: уберем стоп-слова и т.д.  "
   ]
  },
  {
   "cell_type": "code",
   "execution_count": 271,
   "metadata": {
    "collapsed": false,
    "scrolled": true
   },
   "outputs": [],
   "source": [
    "import re\n",
    "from nltk.corpus import stopwords\n",
    "regex = re.compile(\"[А-Яа-я]+\")\n",
    "\n",
    "mystopwords = stopwords.words('russian') + ['это', 'наш' , 'тыс', 'млн', 'млрд', 'также',  'т', 'д', 'г']\n",
    "mystoplemmas = ['который','прошлый','сей', 'свой', 'наш', 'мочь', 'такой', 'год', 'время', 'день', 'весь']\n",
    "\n",
    "from pymystem3 import Mystem\n",
    "\n",
    "m = Mystem()\n",
    "\n",
    "def words_only(text, regex=regex):\n",
    "    return \" \".join(regex.findall(text))\n",
    "\n",
    "def remove_stopwords(text, mystopwords = mystopwords):\n",
    "    try:\n",
    "        return \" \".join([token for token in text.split() if not token in mystopwords])\n",
    "    except:\n",
    "        return \"\"\n",
    "\n",
    "def lemmatize(text, mystem=m):\n",
    "    try:\n",
    "        return \"\".join(m.lemmatize(text)).strip()  \n",
    "    except:\n",
    "        return \" \"\n",
    "    \n",
    "def  remove_stoplemmas(text, mystoplemmas = mystoplemmas):\n",
    "    try:\n",
    "        return \" \".join([token for token in text.split() if not token in mystoplemmas])\n",
    "    except:\n",
    "        return \"\""
   ]
  },
  {
   "cell_type": "code",
   "execution_count": 272,
   "metadata": {
    "collapsed": true
   },
   "outputs": [],
   "source": [
    "df.text = df.text.apply(lemmatize)\n",
    "df.text = df.text.str.lower()\n",
    "df.text = df.text.apply(words_only)\n",
    "df.text = df.text.apply(remove_stopwords)  \n",
    "df.text = df.text.apply(remove_stoplemmas)"
   ]
  },
  {
   "cell_type": "markdown",
   "metadata": {},
   "source": [
    "Представляем данные в Gensim словарем и корпусом:"
   ]
  },
  {
   "cell_type": "code",
   "execution_count": 276,
   "metadata": {
    "collapsed": false
   },
   "outputs": [],
   "source": [
    "from gensim.corpora import *\n",
    "texts = [df.text.iloc[i].split() for i in range(len(df))]\n",
    "dictionary = Dictionary(texts)\n",
    "corpus = [dictionary.doc2bow(text) for text in texts]"
   ]
  },
  {
   "cell_type": "code",
   "execution_count": 277,
   "metadata": {
    "collapsed": false,
    "scrolled": false
   },
   "outputs": [
    {
     "name": "stdout",
     "output_type": "stream",
     "text": [
      "Dictionary(28119 unique tokens: ['абу', 'автомобильный', 'агентство', 'адский', 'аккара']...)\n"
     ]
    }
   ],
   "source": [
    "print(dictionary)"
   ]
  },
  {
   "cell_type": "code",
   "execution_count": 280,
   "metadata": {
    "collapsed": false
   },
   "outputs": [],
   "source": [
    "from gensim.models import LdaModel"
   ]
  },
  {
   "cell_type": "markdown",
   "metadata": {},
   "source": [
    "Тестируем LDA."
   ]
  },
  {
   "cell_type": "code",
   "execution_count": 282,
   "metadata": {
    "collapsed": false
   },
   "outputs": [
    {
     "name": "stdout",
     "output_type": "stream",
     "text": [
      "CPU times: user 18.7 s, sys: 241 ms, total: 18.9 s\n",
      "Wall time: 19.2 s\n"
     ]
    }
   ],
   "source": [
    "%%time\n",
    "lda = LdaModel(corpus=corpus, id2word=dictionary, num_topics=4,\n",
    "                        alpha='auto', eta='auto', iterations = 10, passes = 5)"
   ]
  },
  {
   "cell_type": "code",
   "execution_count": 283,
   "metadata": {
    "collapsed": false,
    "scrolled": false
   },
   "outputs": [
    {
     "data": {
      "text/plain": [
       "[(0,\n",
       "  '0.013*\"ребенок\" + 0.012*\"мчс\" + 0.011*\"россия\" + 0.007*\"человек\" + 0.007*\"письмо\" + 0.006*\"мчсроссия\" + 0.006*\"отделение\" + 0.005*\"дом\" + 0.005*\"акция\" + 0.004*\"почта\"'),\n",
       " (1,\n",
       "  '0.018*\"россия\" + 0.014*\"почтовый\" + 0.011*\"почта\" + 0.008*\"марка\" + 0.006*\"российский\" + 0.006*\"конкурс\" + 0.005*\"открытка\" + 0.005*\"страна\" + 0.005*\"первый\" + 0.005*\"участие\"'),\n",
       " (2,\n",
       "  '0.031*\"полиция\" + 0.031*\"мвд\" + 0.022*\"москва\" + 0.017*\"россия\" + 0.016*\"сотрудник\" + 0.015*\"петровка\" + 0.011*\"гу\" + 0.009*\"задерживать\" + 0.009*\"увд\" + 0.009*\"полицейский\"'),\n",
       " (3,\n",
       "  '0.008*\"отправление\" + 0.007*\"почта\" + 0.007*\"россия\" + 0.006*\"почтовый\" + 0.006*\"услуга\" + 0.006*\"доставка\" + 0.005*\"посылка\" + 0.005*\"центр\" + 0.004*\"минобороны\" + 0.004*\"учение\"')]"
      ]
     },
     "execution_count": 283,
     "metadata": {},
     "output_type": "execute_result"
    }
   ],
   "source": [
    "lda.show_topics(4)"
   ]
  },
  {
   "cell_type": "markdown",
   "metadata": {},
   "source": [
    "Наши классы немножко смешались, особенно Почта России и Минобороны. Визуализируем:"
   ]
  },
  {
   "cell_type": "code",
   "execution_count": 284,
   "metadata": {
    "collapsed": false,
    "scrolled": false
   },
   "outputs": [
    {
     "data": {
      "text/html": [
       "\n",
       "<link rel=\"stylesheet\" type=\"text/css\" href=\"https://cdn.rawgit.com/bmabey/pyLDAvis/files/ldavis.v1.0.0.css\">\n",
       "\n",
       "\n",
       "<div id=\"ldavis_el4707211257266435211786227\"></div>\n",
       "<script type=\"text/javascript\">\n",
       "\n",
       "var ldavis_el4707211257266435211786227_data = {\"mdsDat\": {\"x\": [-0.26698400081163853, 0.08258440308606552, 0.1167835803196632, 0.06761601740590953], \"y\": [-0.026771108280136693, 0.04009651974651745, -0.1943922562727214, 0.18106684480634058], \"topics\": [1, 2, 3, 4], \"cluster\": [1, 1, 1, 1], \"Freq\": [26.977270126342773, 26.530794143676758, 24.843034744262695, 21.64889907836914]}, \"tinfo\": {\"Category\": [\"Default\", \"Default\", \"Default\", \"Default\", \"Default\", \"Default\", \"Default\", \"Default\", \"Default\", \"Default\", \"Default\", \"Default\", \"Default\", \"Default\", \"Default\", \"Default\", \"Default\", \"Default\", \"Default\", \"Default\", \"Default\", \"Default\", \"Default\", \"Default\", \"Default\", \"Default\", \"Default\", \"Default\", \"Default\", \"Default\", \"Topic1\", \"Topic1\", \"Topic1\", \"Topic1\", \"Topic1\", \"Topic1\", \"Topic1\", \"Topic1\", \"Topic1\", \"Topic1\", \"Topic1\", \"Topic1\", \"Topic1\", \"Topic1\", \"Topic1\", \"Topic1\", \"Topic1\", \"Topic1\", \"Topic1\", \"Topic1\", \"Topic1\", \"Topic1\", \"Topic1\", \"Topic1\", \"Topic1\", \"Topic1\", \"Topic1\", \"Topic1\", \"Topic1\", \"Topic1\", \"Topic1\", \"Topic1\", \"Topic1\", \"Topic1\", \"Topic1\", \"Topic1\", \"Topic1\", \"Topic1\", \"Topic1\", \"Topic1\", \"Topic1\", \"Topic1\", \"Topic1\", \"Topic1\", \"Topic1\", \"Topic1\", \"Topic1\", \"Topic1\", \"Topic1\", \"Topic1\", \"Topic1\", \"Topic1\", \"Topic1\", \"Topic1\", \"Topic1\", \"Topic1\", \"Topic1\", \"Topic1\", \"Topic1\", \"Topic2\", \"Topic2\", \"Topic2\", \"Topic2\", \"Topic2\", \"Topic2\", \"Topic2\", \"Topic2\", \"Topic2\", \"Topic2\", \"Topic2\", \"Topic2\", \"Topic2\", \"Topic2\", \"Topic2\", \"Topic2\", \"Topic2\", \"Topic2\", \"Topic2\", \"Topic2\", \"Topic2\", \"Topic2\", \"Topic2\", \"Topic2\", \"Topic2\", \"Topic2\", \"Topic2\", \"Topic2\", \"Topic2\", \"Topic2\", \"Topic2\", \"Topic2\", \"Topic2\", \"Topic2\", \"Topic2\", \"Topic2\", \"Topic2\", \"Topic2\", \"Topic2\", \"Topic2\", \"Topic2\", \"Topic2\", \"Topic2\", \"Topic2\", \"Topic2\", \"Topic2\", \"Topic2\", \"Topic2\", \"Topic2\", \"Topic2\", \"Topic2\", \"Topic2\", \"Topic2\", \"Topic2\", \"Topic2\", \"Topic2\", \"Topic2\", \"Topic2\", \"Topic2\", \"Topic2\", \"Topic2\", \"Topic2\", \"Topic2\", \"Topic2\", \"Topic2\", \"Topic2\", \"Topic2\", \"Topic2\", \"Topic2\", \"Topic2\", \"Topic2\", \"Topic2\", \"Topic2\", \"Topic2\", \"Topic2\", \"Topic2\", \"Topic2\", \"Topic2\", \"Topic2\", \"Topic2\", \"Topic3\", \"Topic3\", \"Topic3\", \"Topic3\", \"Topic3\", \"Topic3\", \"Topic3\", \"Topic3\", \"Topic3\", \"Topic3\", \"Topic3\", \"Topic3\", \"Topic3\", \"Topic3\", \"Topic3\", \"Topic3\", \"Topic3\", \"Topic3\", \"Topic3\", \"Topic3\", \"Topic3\", \"Topic3\", \"Topic3\", \"Topic3\", \"Topic3\", \"Topic3\", \"Topic3\", \"Topic3\", \"Topic3\", \"Topic3\", \"Topic3\", \"Topic3\", \"Topic3\", \"Topic3\", \"Topic3\", \"Topic3\", \"Topic3\", \"Topic3\", \"Topic3\", \"Topic3\", \"Topic3\", \"Topic3\", \"Topic3\", \"Topic3\", \"Topic3\", \"Topic3\", \"Topic3\", \"Topic3\", \"Topic3\", \"Topic3\", \"Topic3\", \"Topic3\", \"Topic3\", \"Topic3\", \"Topic3\", \"Topic3\", \"Topic3\", \"Topic3\", \"Topic3\", \"Topic3\", \"Topic3\", \"Topic3\", \"Topic3\", \"Topic3\", \"Topic3\", \"Topic3\", \"Topic3\", \"Topic3\", \"Topic3\", \"Topic3\", \"Topic3\", \"Topic3\", \"Topic3\", \"Topic3\", \"Topic3\", \"Topic3\", \"Topic3\", \"Topic3\", \"Topic3\", \"Topic3\", \"Topic3\", \"Topic3\", \"Topic4\", \"Topic4\", \"Topic4\", \"Topic4\", \"Topic4\", \"Topic4\", \"Topic4\", \"Topic4\", \"Topic4\", \"Topic4\", \"Topic4\", \"Topic4\", \"Topic4\", \"Topic4\", \"Topic4\", \"Topic4\", \"Topic4\", \"Topic4\", \"Topic4\", \"Topic4\", \"Topic4\", \"Topic4\", \"Topic4\", \"Topic4\", \"Topic4\", \"Topic4\", \"Topic4\", \"Topic4\", \"Topic4\", \"Topic4\", \"Topic4\", \"Topic4\", \"Topic4\", \"Topic4\", \"Topic4\", \"Topic4\", \"Topic4\", \"Topic4\", \"Topic4\", \"Topic4\", \"Topic4\", \"Topic4\", \"Topic4\", \"Topic4\", \"Topic4\", \"Topic4\", \"Topic4\", \"Topic4\", \"Topic4\", \"Topic4\", \"Topic4\", \"Topic4\", \"Topic4\", \"Topic4\", \"Topic4\", \"Topic4\", \"Topic4\", \"Topic4\", \"Topic4\", \"Topic4\", \"Topic4\", \"Topic4\", \"Topic4\", \"Topic4\", \"Topic4\", \"Topic4\", \"Topic4\", \"Topic4\", \"Topic4\", \"Topic4\", \"Topic4\", \"Topic4\", \"Topic4\", \"Topic4\", \"Topic4\"], \"Freq\": [6002.0, 6028.0, 2950.0, 5219.0, 3740.0, 2041.0, 2222.0, 1849.0, 1741.0, 1688.0, 1667.0, 4486.0, 1587.0, 1536.0, 1162.0, 1561.0, 1164.0, 4082.0, 1803.0, 1078.0, 1132.0, 886.0, 1488.0, 1297.0, 855.0, 1154.0, 1729.0, 1436.0, 2208.0, 1268.0, 1740.4500732421875, 1077.9332275390625, 1161.4212646484375, 854.3616943359375, 676.5155029296875, 465.7923583984375, 460.3738708496094, 476.98681640625, 393.1634521484375, 434.77984619140625, 381.2685852050781, 469.896728515625, 395.6898498535156, 287.2953796386719, 289.3343811035156, 438.5287170410156, 249.73326110839844, 253.08026123046875, 251.25486755371094, 1681.66845703125, 233.8843231201172, 5976.8388671875, 273.19415283203125, 218.7029266357422, 226.4573974609375, 204.44854736328125, 207.7220458984375, 196.09153747558594, 355.3451232910156, 2936.7763671875, 5987.60595703125, 2203.164306640625, 1158.2950439453125, 639.1720581054688, 543.1699829101562, 1637.02099609375, 305.2480163574219, 478.1283874511719, 850.3787231445312, 1197.3104248046875, 1423.901611328125, 4208.82470703125, 3090.286865234375, 1545.805419921875, 724.5621337890625, 1389.423095703125, 837.4890747070312, 1155.832275390625, 731.1367797851562, 720.323974609375, 1506.31103515625, 1547.202880859375, 1177.8948974609375, 689.9244995117188, 3178.0810546875, 923.5132446289062, 910.6401977539062, 794.232421875, 734.6869506835938, 278.7098693847656, 369.5262145996094, 183.78903198242188, 280.9644775390625, 176.8179168701172, 181.744140625, 122.39532470703125, 136.2287139892578, 136.0663604736328, 102.83511352539062, 492.0209045410156, 91.54092407226562, 81.0717544555664, 135.96795654296875, 72.55792236328125, 57.92609405517578, 257.4427490234375, 55.0538215637207, 53.9302978515625, 320.7860412597656, 259.2115783691406, 55.41828155517578, 54.246402740478516, 59.066734313964844, 51.13152313232422, 65.3348388671875, 51.21477127075195, 50.1842041015625, 47.87083053588867, 47.452484130859375, 1110.622314453125, 1529.1220703125, 219.7664794921875, 135.14804077148438, 750.9386596679688, 108.3239517211914, 211.79916381835938, 193.36151123046875, 82.00778198242188, 667.43798828125, 379.8489685058594, 207.9585723876953, 438.5328063964844, 204.42877197265625, 683.00537109375, 184.7380828857422, 546.5043334960938, 334.53009033203125, 510.12921142578125, 342.9415283203125, 280.275390625, 303.48858642578125, 388.65728759765625, 998.6162719726562, 534.1876220703125, 2728.70458984375, 808.1253051757812, 1005.694580078125, 571.7709350585938, 991.6845092773438, 396.3243713378906, 519.2719116210938, 623.4202880859375, 2131.587158203125, 994.4326782226562, 944.298828125, 707.3515014648438, 3315.013427734375, 1117.17578125, 801.5355224609375, 572.0926513671875, 937.8644409179688, 753.694580078125, 606.8170166015625, 629.9152221679688, 751.8758544921875, 662.175537109375, 654.126220703125, 527.0936889648438, 546.8032836914062, 369.0805969238281, 397.8863525390625, 214.38670349121094, 240.68478393554688, 186.27378845214844, 236.84991455078125, 155.68910217285156, 179.71197509765625, 195.92051696777344, 137.0487823486328, 194.86683654785156, 196.76177978515625, 115.64946746826172, 245.6839141845703, 341.1325378417969, 114.41619873046875, 101.13117980957031, 110.0791244506836, 369.4206237792969, 102.9178466796875, 190.79281616210938, 94.56165313720703, 90.29578399658203, 83.14515686035156, 100.78218841552734, 109.5069580078125, 103.3353500366211, 128.3756866455078, 726.6554565429688, 68.0557632446289, 402.8396301269531, 565.2315063476562, 186.0578155517578, 205.34890747070312, 230.39645385742188, 380.05841064453125, 350.4095458984375, 171.67027282714844, 242.4598388671875, 1439.137451171875, 504.5418395996094, 281.2232666015625, 177.20826721191406, 336.5166931152344, 243.0282440185547, 712.1051635742188, 1016.821533203125, 1064.63037109375, 495.97454833984375, 792.1464233398438, 333.9983215332031, 902.8775634765625, 719.6351318359375, 222.5784454345703, 416.47979736328125, 259.1990966796875, 298.45208740234375, 386.4211730957031, 580.9591064453125, 335.1285400390625, 494.3762512207031, 385.27825927734375, 621.9381713867188, 512.2017211914062, 404.32989501953125, 488.4121398925781, 533.789306640625, 464.9557189941406, 526.35400390625, 712.6033325195312, 1277.393798828125, 824.2681884765625, 1142.3419189453125, 516.0147094726562, 1187.1376953125, 661.2667846679688, 642.0313110351562, 581.28759765625, 493.62335205078125, 595.4592895507812, 491.230224609375, 489.1368713378906, 885.1298217773438, 262.81640625, 241.75662231445312, 184.15208435058594, 273.99493408203125, 162.87579345703125, 157.27894592285156, 473.682373046875, 158.28172302246094, 239.93980407714844, 139.8865509033203, 120.5087661743164, 132.40841674804688, 122.07447814941406, 118.74291229248047, 106.3847885131836, 102.81867980957031, 107.62490844726562, 99.98755645751953, 124.83293151855469, 166.6105194091797, 78.21327209472656, 86.49625396728516, 78.10151672363281, 72.62815856933594, 75.87397766113281, 67.65745544433594, 62.89707946777344, 63.83912658691406, 64.36814880371094, 1820.4720458984375, 568.9185791015625, 1973.190673828125, 372.29962158203125, 145.3879852294922, 85.57939910888672, 367.86639404296875, 233.8746795654297, 247.94775390625, 524.5798950195312, 360.5534362792969, 231.24925231933594, 181.09686279296875, 296.40447998046875, 408.7201843261719, 507.5618591308594, 802.783203125, 297.34674072265625, 1060.7745361328125, 274.6161193847656, 239.74435424804688, 627.2306518554688, 801.2149047851562, 284.8570251464844, 1070.457275390625, 527.9235229492188, 525.0220336914062, 454.5762023925781, 640.9382934570312, 498.6660461425781, 619.4086303710938, 392.2013854980469, 403.33038330078125, 867.6312866210938, 473.08935546875, 500.2139892578125, 1706.00390625, 513.4993896484375, 595.9223022460938, 428.7616271972656, 673.074462890625, 566.9419555664062, 464.77447509765625, 617.9046020507812, 615.3837890625], \"Term\": [\"\\u043c\\u0432\\u0434\", \"\\u043f\\u043e\\u043b\\u0438\\u0446\\u0438\\u044f\", \"\\u043f\\u0435\\u0442\\u0440\\u043e\\u0432\\u043a\\u0430\", \"\\u043c\\u043e\\u0441\\u043a\\u0432\\u0430\", \"\\u0441\\u043e\\u0442\\u0440\\u0443\\u0434\\u043d\\u0438\\u043a\", \"\\u0440\\u0435\\u0431\\u0435\\u043d\\u043e\\u043a\", \"\\u0433\\u0443\", \"\\u043c\\u0447\\u0441\", \"\\u0437\\u0430\\u0434\\u0435\\u0440\\u0436\\u0438\\u0432\\u0430\\u0442\\u044c\", \"\\u0443\\u0432\\u0434\", \"\\u043f\\u043e\\u043b\\u0438\\u0446\\u0435\\u0439\\u0441\\u043a\\u0438\\u0439\", \"\\u043f\\u043e\\u0447\\u0442\\u043e\\u0432\\u044b\\u0439\", \"\\u043c\\u0430\\u0440\\u043a\\u0430\", \"\\u043e\\u0442\\u043f\\u0440\\u0430\\u0432\\u043b\\u0435\\u043d\\u0438\\u0435\", \"\\u0443\\u0433\\u043e\\u043b\\u043e\\u0432\\u043d\\u044b\\u0439\", \"\\u043d\\u0430\\u0447\\u0430\\u043b\\u044c\\u043d\\u0438\\u043a\", \"\\u043c\\u0432\\u0434\\u0440\\u043e\\u0441\\u0441\\u0438\\u044f\", \"\\u043f\\u043e\\u0447\\u0442\\u0430\", \"\\u0434\\u0435\\u043b\\u043e\", \"\\u043f\\u043e\\u0434\\u043e\\u0437\\u0440\\u0435\\u0432\\u0430\\u0435\\u043c\\u044b\\u0439\", \"\\u043a\\u043e\\u043d\\u043a\\u0443\\u0440\\u0441\", \"\\u043c\\u0447\\u0441\\u0440\\u043e\\u0441\\u0441\\u0438\\u044f\", \"\\u043f\\u0438\\u0441\\u044c\\u043c\\u043e\", \"\\u0432\\u043d\\u0443\\u0442\\u0440\\u0435\\u043d\\u043d\\u0438\\u0439\", \"\\u043f\\u0440\\u0435\\u0441\\u0442\\u0443\\u043f\\u043b\\u0435\\u043d\\u0438\\u0435\", \"\\u0434\\u043e\\u0441\\u0442\\u0430\\u0432\\u043a\\u0430\", \"\\u0443\\u043f\\u0440\\u0430\\u0432\\u043b\\u0435\\u043d\\u0438\\u0435\", \"\\u043e\\u0442\\u043a\\u0440\\u044b\\u0442\\u043a\\u0430\", \"\\u043d\\u043e\\u0432\\u043e\\u0441\\u0442\\u044c\", \"\\u0443\\u0441\\u043b\\u0443\\u0433\\u0430\", \"\\u0437\\u0430\\u0434\\u0435\\u0440\\u0436\\u0438\\u0432\\u0430\\u0442\\u044c\", \"\\u043f\\u043e\\u0434\\u043e\\u0437\\u0440\\u0435\\u0432\\u0430\\u0435\\u043c\\u044b\\u0439\", \"\\u0443\\u0433\\u043e\\u043b\\u043e\\u0432\\u043d\\u044b\\u0439\", \"\\u043f\\u0440\\u0435\\u0441\\u0442\\u0443\\u043f\\u043b\\u0435\\u043d\\u0438\\u0435\", \"\\u0441\\u0442\", \"\\u043d\\u0430\\u0440\\u043a\\u043e\\u0442\\u0438\\u043a\", \"\\u0432\\u043e\\u0437\\u0431\\u0443\\u0436\\u0434\\u0430\\u0442\\u044c\", \"\\u043a\\u0440\\u0430\\u0436\\u0430\", \"\\u043d\\u0430\\u0440\\u043a\\u043e\\u0442\\u0438\\u0447\\u0435\\u0441\\u043a\\u0438\\u0439\", \"\\u043f\\u0440\\u0435\\u0434\\u0443\\u0441\\u043c\\u043e\\u0442\\u0440\\u0435\\u043d\\u043d\\u044b\\u0439\", \"\\u0438\\u0437\\u044b\\u043c\\u0430\\u0442\\u044c\", \"\\u0443\\u043a\", \"\\u043c\\u043e\\u0448\\u0435\\u043d\\u043d\\u0438\\u0447\\u0435\\u0441\\u0442\\u0432\\u043e\", \"\\u0441\\u0431\\u044b\\u0442\", \"\\u043f\\u0440\\u0435\\u0441\\u0435\\u0447\\u0435\\u043d\\u0438\\u0435\", \"\\u043f\\u0440\\u0438\\u0437\\u043d\\u0430\\u043a\", \"\\u043e\\u043f\\u0435\\u0440\\u0430\\u0442\\u0438\\u0432\\u043d\\u0438\\u043a\", \"\\u0433\\u0440\\u0430\\u0431\\u0435\\u0436\", \"\\u043f\\u043e\\u0434\\u043e\\u0437\\u0440\\u0435\\u043d\\u0438\\u0435\", \"\\u0443\\u0432\\u0434\", \"\\u043f\\u043e\\u0445\\u0438\\u0449\\u0430\\u0442\\u044c\", \"\\u043c\\u0432\\u0434\", \"\\u0438\\u0437\\u0431\\u0438\\u0440\\u0430\\u0442\\u044c\", \"\\u043f\\u0440\\u043e\\u0442\\u0438\\u0432\\u043e\\u043f\\u0440\\u0430\\u0432\\u043d\\u044b\\u0439\", \"\\u0445\\u0438\\u0449\\u0435\\u043d\\u0438\\u0435\", \"\\u0441\\u043b\\u0435\\u0434\\u0441\\u0442\\u0432\\u0435\\u043d\\u043d\\u044b\\u0439\", \"\\u0431\\u0430\\u0440\\u0430\\u043d\\u043e\\u0432\", \"\\u043f\\u0441\\u0438\\u0445\\u043e\\u0442\\u0440\\u043e\\u043f\\u043d\\u044b\\u0439\", \"\\u0437\\u043b\\u043e\\u0443\\u043c\\u044b\\u0448\\u043b\\u0435\\u043d\\u043d\\u0438\\u043a\", \"\\u043f\\u0435\\u0442\\u0440\\u043e\\u0432\\u043a\\u0430\", \"\\u043f\\u043e\\u043b\\u0438\\u0446\\u0438\\u044f\", \"\\u0433\\u0443\", \"\\u043c\\u0432\\u0434\\u0440\\u043e\\u0441\\u0441\\u0438\\u044f\", \"\\u043e\\u043c\\u0432\\u0434\", \"\\u043f\\u043e\\u043b\\u0438\\u0446\\u0438\\u044f\\u0440\\u043e\\u0441\\u0441\\u0438\\u044f\", \"\\u043f\\u043e\\u043b\\u0438\\u0446\\u0435\\u0439\\u0441\\u043a\\u0438\\u0439\", \"\\u0432\\u0430\\u043e\", \"\\u043e\\u0442\\u0434\\u0435\\u043b\", \"\\u0441\\u0442\\u043e\\u043b\\u0438\\u0447\\u043d\\u044b\\u0439\", \"\\u0432\\u043d\\u0443\\u0442\\u0440\\u0435\\u043d\\u043d\\u0438\\u0439\", \"\\u043d\\u0430\\u0447\\u0430\\u043b\\u044c\\u043d\\u0438\\u043a\", \"\\u043c\\u043e\\u0441\\u043a\\u0432\\u0430\", \"\\u0441\\u043e\\u0442\\u0440\\u0443\\u0434\\u043d\\u0438\\u043a\", \"\\u0434\\u0435\\u043b\\u043e\", \"\\u0440\\u043e\\u0437\\u044b\\u0441\\u043a\", \"\\u0443\\u043f\\u0440\\u0430\\u0432\\u043b\\u0435\\u043d\\u0438\\u0435\", \"\\u0433\\u0440\\u0430\\u0436\\u0434\\u0430\\u043d\\u0438\\u043d\", \"\\u0440\\u0444\", \"\\u043e\\u0431\\u0449\\u0435\\u0441\\u0442\\u0432\\u0435\\u043d\\u043d\\u044b\\u0439\", \"\\u043e\\u0440\\u0433\\u0430\\u043d\", \"\\u0441\\u043b\\u0443\\u0436\\u0431\\u0430\", \"\\u043d\\u043e\\u0432\\u043e\\u0441\\u0442\\u044c\", \"\\u043c\\u0435\\u0440\\u043e\\u043f\\u0440\\u0438\\u044f\\u0442\\u0438\\u0435\", \"\\u043b\\u0435\\u0442\\u043d\\u0438\\u0439\", \"\\u0440\\u043e\\u0441\\u0441\\u0438\\u044f\", \"\\u0441\\u0440\\u0435\\u0434\\u0441\\u0442\\u0432\\u043e\", \"\\u0440\\u0430\\u0439\\u043e\\u043d\", \"\\u043c\\u043e\\u0441\\u043a\\u043e\\u0432\\u0441\\u043a\\u0438\\u0439\", \"\\u0434\\u0432\\u0438\\u0436\\u0435\\u043d\\u0438\\u0435\", \"\\u0433\\u0430\\u0448\\u0435\\u043d\\u0438\\u0435\", \"\\u043c\\u0443\\u0437\\u0435\\u0439\", \"\\u0442\\u0438\\u0440\\u0430\\u0436\", \"\\u0448\\u0442\\u0435\\u043c\\u043f\\u0435\\u043b\\u044c\", \"\\u0438\\u0441\\u0442\\u043e\\u0440\\u0438\\u0447\\u0435\\u0441\\u043a\\u0438\\u0439\", \"\\u0430\\u0440\\u0442\\u0435\\u043a\", \"\\u0444\\u0438\\u043b\\u0430\\u0442\\u0435\\u043b\\u0438\\u044f\", \"\\u043a\\u043e\\u043b\\u043b\\u0435\\u043a\\u0446\\u0438\\u044f\", \"\\u043d\\u043e\\u043c\\u0438\\u043d\\u0430\\u043b\", \"\\u0444\\u0438\\u043b\\u0430\\u0442\\u0435\\u043b\\u0438\\u0441\\u0442\", \"\\u043f\\u043e\\u0431\\u0435\\u0434\\u0430\", \"\\u043e\\u0442\\u0442\\u0438\\u0441\\u043a\", \"\\u043f\\u043e\\u0434\\u043f\\u0438\\u0441\\u043d\\u043e\\u0439\", \"\\u0445\\u0443\\u0434\\u043e\\u0436\\u0435\\u0441\\u0442\\u0432\\u0435\\u043d\\u043d\\u044b\\u0439\", \"\\u043f\\u0443\\u0442\\u0438\\u043d\", \"\\u0441\\u043f\\u0435\\u0446\\u0433\\u0430\\u0448\\u0435\\u043d\\u0438\\u0435\", \"\\u0438\\u0437\\u0434\\u0430\\u043d\\u0438\\u0435\", \"\\u0436\\u044e\\u0440\\u0438\", \"\\u0430\\u043d\\u0441\\u0430\\u043c\\u0431\\u043b\\u044c\", \"\\u0441\\u043e\\u0432\\u0435\\u0442\\u0441\\u043a\\u0438\\u0439\", \"\\u0432\\u044b\\u0441\\u0442\\u0430\\u0432\\u043a\\u0430\", \"\\u043a\\u043e\\u043d\\u0446\\u0435\\u0440\\u0442\\u043d\\u044b\\u0439\", \"\\u044f\\u043f\\u043e\\u043d\\u0438\\u044f\", \"\\u0434\\u0435\\u044f\\u0442\\u0435\\u043b\\u044c\", \"\\u0431\\u0438\\u0442\\u0432\\u0430\", \"\\u043a\\u043e\\u043b\\u043b\\u0435\\u043a\\u0446\\u0438\\u043e\\u043d\\u0435\\u0440\", \"\\u0433\\u0430\\u043b\\u0430\", \"\\u0438\\u0437\\u0434\\u0430\\u0432\\u0430\\u0442\\u044c\", \"\\u0444\\u0438\\u043b\\u0430\\u0442\\u0435\\u043b\\u0438\\u0441\\u0442\\u0438\\u0447\\u0435\\u0441\\u043a\\u0438\\u0439\", \"\\u0432\\u043e\\u0438\\u043d\", \"\\u043a\\u043e\\u043d\\u043a\\u0443\\u0440\\u0441\", \"\\u043c\\u0430\\u0440\\u043a\\u0430\", \"\\u0448\\u043e\\u0439\\u0433\\u0443\", \"\\u043d\\u043e\\u043c\\u0438\\u043d\\u0430\\u0446\\u0438\\u044f\", \"\\u0432\\u043e\\u0439\\u043d\\u0430\", \"\\u0444\\u0440\\u043e\\u043d\\u0442\", \"\\u0441\\u043e\\u0442\\u0440\\u0443\\u0434\\u043d\\u0438\\u0447\\u0435\\u0441\\u0442\\u0432\\u043e\", \"\\u0442\\u0432\\u043e\\u0440\\u0447\\u0435\\u0441\\u043a\\u0438\\u0439\", \"\\u043f\\u043e\\u043b\\u0438\\u0442\\u0438\\u0447\\u0435\\u0441\\u043a\\u0438\\u0439\", \"\\u0432\\u0435\\u043b\\u0438\\u043a\\u0438\\u0439\", \"\\u0446\\u0435\\u0440\\u0435\\u043c\\u043e\\u043d\\u0438\\u044f\", \"\\u0438\\u0437\\u043e\\u0431\\u0440\\u0430\\u0436\\u0430\\u0442\\u044c\", \"\\u043f\\u043e\\u0431\\u0435\\u0434\\u0438\\u0442\\u0435\\u043b\\u044c\", \"\\u043e\\u043b\\u0438\\u043c\\u043f\\u0438\\u0439\\u0441\\u043a\\u0438\\u0439\", \"\\u043f\\u043e\\u0441\\u0432\\u044f\\u0449\\u0430\\u0442\\u044c\", \"\\u0444\\u043e\\u0440\\u0443\\u043c\", \"\\u043e\\u0442\\u0435\\u0447\\u0435\\u0441\\u0442\\u0432\\u0435\\u043d\\u043d\\u044b\\u0439\", \"\\u043b\\u0435\\u0442\\u0438\\u0435\", \"\\u043c\\u0438\\u043d\\u0438\\u0441\\u0442\\u0440\", \"\\u0444\\u0435\\u0441\\u0442\\u0438\\u0432\\u0430\\u043b\\u044c\", \"\\u0447\\u0435\\u0441\\u0442\\u044c\", \"\\u0432\\u0435\\u0434\\u043e\\u043c\\u0441\\u0442\\u0432\\u043e\", \"\\u0440\\u0430\\u0437\\u0432\\u0438\\u0442\\u0438\\u0435\", \"\\u0441\\u0442\\u0440\\u0430\\u043d\\u0430\", \"\\u0433\\u0430\\u0437\\u0435\\u0442\\u0430\", \"\\u043f\\u043e\\u0447\\u0442\\u043e\\u0432\\u044b\\u0439\", \"\\u0441\\u0435\\u0433\\u043e\\u0434\\u043d\\u044f\", \"\\u043e\\u0442\\u043a\\u0440\\u044b\\u0442\\u043a\\u0430\", \"\\u043c\\u0438\\u0440\", \"\\u0443\\u0447\\u0430\\u0441\\u0442\\u0438\\u0435\", \"\\u0442\\u043e\\u0440\\u0436\\u0435\\u0441\\u0442\\u0432\\u0435\\u043d\\u043d\\u044b\\u0439\", \"\\u0438\\u0441\\u0442\\u043e\\u0440\\u0438\\u044f\", \"\\u0441\\u043e\\u0441\\u0442\\u043e\\u044f\\u0442\\u044c\\u0441\\u044f\", \"\\u043f\\u043e\\u0447\\u0442\\u0430\", \"\\u043f\\u0435\\u0440\\u0432\\u044b\\u0439\", \"\\u043f\\u0440\\u0438\\u043d\\u0438\\u043c\\u0430\\u0442\\u044c\", \"\\u0432\\u0435\\u0442\\u0435\\u0440\\u0430\\u043d\", \"\\u0440\\u043e\\u0441\\u0441\\u0438\\u044f\", \"\\u0440\\u043e\\u0441\\u0441\\u0438\\u0439\\u0441\\u043a\\u0438\\u0439\", \"\\u0441\\u0442\\u0430\\u043d\\u043e\\u0432\\u0438\\u0442\\u044c\\u0441\\u044f\", \"\\u043e\\u0442\\u043c\\u0435\\u0447\\u0430\\u0442\\u044c\", \"\\u043d\\u043e\\u0432\\u044b\\u0439\", \"\\u043f\\u0440\\u043e\\u0445\\u043e\\u0434\\u0438\\u0442\\u044c\", \"\\u043c\\u0435\\u0436\\u0434\\u0443\\u043d\\u0430\\u0440\\u043e\\u0434\\u043d\\u044b\\u0439\", \"\\u0432\\u043e\\u0435\\u043d\\u043d\\u044b\\u0439\", \"\\u0440\\u0430\\u0431\\u043e\\u0442\\u0430\", \"\\u0433\\u043e\\u0440\\u043e\\u0434\", \"\\u043e\\u0442\\u0434\\u0435\\u043b\\u0435\\u043d\\u0438\\u0435\", \"\\u0443\\u0447\\u0430\\u0441\\u0442\\u043d\\u0438\\u043a\", \"\\u043c\\u043e\\u0441\\u043a\\u0432\\u0430\", \"\\u0432\\u0435\\u0440\\u0442\\u043e\\u043b\\u0435\\u0442\", \"\\u0443\\u0441\\u043b\\u043e\\u0432\\u043d\\u044b\\u0439\", \"\\u0438\\u0441\\u0442\\u0440\\u0435\\u0431\\u0438\\u0442\\u0435\\u043b\\u044c\", \"\\u0442\\u0430\\u043a\\u0442\\u0438\\u0447\\u0435\\u0441\\u043a\\u0438\\u0439\", \"\\u0431\\u043e\\u0435\\u0432\\u0430\\u044f\\u043f\\u043e\\u0434\\u0433\\u043e\\u0442\\u043e\\u0432\\u043a\\u0430\", \"\\u0440\\u0430\\u043a\\u0435\\u0442\\u0430\", \"\\u043c\\u0438\\u0433\", \"\\u0437\\u0432\\u043e\", \"\\u0430\\u044d\\u0440\\u043e\\u0434\\u0440\\u043e\\u043c\", \"\\u043c\\u043c\\u043f\\u043e\", \"\\u0443\\u0432\\u0435\\u0434\\u043e\\u043c\\u043b\\u0435\\u043d\\u0438\\u0435\", \"\\u043e\\u0442\\u0441\\u043b\\u0435\\u0436\\u0438\\u0432\\u0430\\u0442\\u044c\", \"\\u0442\\u043e\\u043d\\u043d\\u0430\", \"\\u043e\\u0442\\u0440\\u0430\\u0431\\u0430\\u0442\\u044b\\u0432\\u0430\\u0442\\u044c\", \"\\u043f\\u043e\\u043b\\u0438\\u0433\\u043e\\u043d\", \"\\u043f\\u043e\\u0440\\u0430\\u0436\\u0435\\u043d\\u0438\\u0435\", \"\\u0430\\u0432\\u0438\\u0430\\u043a\\u043e\\u043c\\u043f\\u0430\\u043d\\u0438\\u044f\", \"\\u0433\\u0443\\u0442\\u0430\", \"\\u043f\\u0440\\u043e\\u0442\\u0438\\u0432\\u043d\\u0438\\u043a\", \"\\u043a\\u0430\", \"\\u0432\\u043a\\u0441\", \"\\u043f\\u043e\\u0447\\u0442\\u043e\\u043c\\u0430\\u0442\", \"\\u043f\\u043e\\u0441\\u0430\\u0434\\u043a\\u0430\", \"\\u043f\\u0440\\u0438\\u043c\\u0438\\u0440\\u0435\\u043d\\u0438\\u0435\", \"\\u0442\\u043e\\u0444\", \"\\u0431\\u043e\\u043c\\u0431\\u0430\\u0440\\u0434\\u0438\\u0440\\u043e\\u0432\\u0449\\u0438\\u043a\", \"\\u043c\\u0438\\u0448\\u0435\\u043d\\u044c\", \"\\u0438\\u043b\", \"\\u0443\\u0447\\u0435\\u043d\\u0438\\u0435\", \"\\u0432\\u0440\\u0430\\u0436\\u0434\\u043e\\u0432\\u0430\\u0442\\u044c\", \"\\u0440\\u0430\\u043a\\u0435\\u0442\\u043d\\u044b\\u0439\", \"\\u0441\\u0430\\u043c\\u043e\\u043b\\u0435\\u0442\", \"\\u044e\\u0432\\u043e\", \"\\u043e\\u0431\\u0440\\u0430\\u0431\\u043e\\u0442\\u043a\\u0430\", \"\\u0432\\u044b\\u0434\\u0430\\u0447\\u0430\", \"\\u0430\\u0432\\u0438\\u0430\\u0446\\u0438\\u044f\", \"\\u0432\\u043e\\u0437\\u0434\\u0443\\u0448\\u043d\\u044b\\u0439\", \"\\u043f\\u043b\\u0430\\u0442\\u0435\\u0436\", \"\\u0430\\u0432\\u0438\\u0430\\u0446\\u0438\\u043e\\u043d\\u043d\\u044b\\u0439\", \"\\u043e\\u0442\\u043f\\u0440\\u0430\\u0432\\u043b\\u0435\\u043d\\u0438\\u0435\", \"\\u044d\\u043a\\u0438\\u043f\\u0430\\u0436\", \"\\u043d\\u0430\\u0441\\u0435\\u043b\\u0435\\u043d\\u043d\\u044b\\u0439\", \"\\u0433\\u0440\\u0443\\u0437\", \"\\u0441\\u0435\\u0440\\u0432\\u0438\\u0441\", \"\\u043c\\u0438\", \"\\u043f\\u0443\\u043d\\u043a\\u0442\", \"\\u0434\\u043e\\u0441\\u0442\\u0430\\u0432\\u043a\\u0430\", \"\\u0443\\u0441\\u043b\\u0443\\u0433\\u0430\", \"\\u043a\\u043e\\u0440\\u0430\\u0431\\u043b\\u044c\", \"\\u043c\\u0438\\u043d\\u043e\\u0431\\u043e\\u0440\\u043e\\u043d\\u044b\", \"\\u0441\\u0443\", \"\\u043f\\u043e\\u0441\\u044b\\u043b\\u043a\\u0430\", \"\\u0431\\u043e\\u0435\\u0432\\u043e\\u0439\", \"\\u0433\\u0443\\u043c\\u0430\\u043d\\u0438\\u0442\\u0430\\u0440\\u043d\\u044b\\u0439\", \"\\u043c\\u043e\\u0440\\u0441\\u043a\\u043e\\u0439\", \"\\u0442\\u0440\\u0435\\u043d\\u0438\\u0440\\u043e\\u0432\\u043a\\u0430\", \"\\u0441\\u0438\\u0440\\u0438\\u044f\", \"\\u0444\\u043b\\u043e\\u0442\", \"\\u043a\\u043e\\u043c\\u043f\\u043b\\u0435\\u043a\\u0441\", \"\\u0441\\u0442\\u0440\\u0435\\u043b\\u044c\\u0431\\u0430\", \"\\u0442\\u0435\\u0445\\u043d\\u0438\\u043a\\u0430\", \"\\u0442\\u043e\\u0432\\u0430\\u0440\", \"\\u0441\\u0438\\u0441\\u0442\\u0435\\u043c\\u0430\", \"\\u0438\\u043d\\u0442\\u0435\\u0440\\u043d\\u0435\\u0442\", \"\\u0441\\u0440\\u043e\\u043a\", \"\\u043a\\u043b\\u0438\\u0435\\u043d\\u0442\", \"\\u0432\\u044b\\u043f\\u043e\\u043b\\u043d\\u044f\\u0442\\u044c\", \"\\u043f\\u043e\\u0437\\u0432\\u043e\\u043b\\u044f\\u0442\\u044c\", \"\\u0446\\u0435\\u043b\\u044c\", \"\\u0432\\u043e\\u0435\\u043d\\u043d\\u044b\\u0439\", \"\\u043f\\u043e\\u0447\\u0442\\u0430\", \"\\u0446\\u0435\\u043d\\u0442\\u0440\", \"\\u043f\\u043e\\u0447\\u0442\\u043e\\u0432\\u044b\\u0439\", \"\\u043f\\u043e\\u0434\\u0440\\u0430\\u0437\\u0434\\u0435\\u043b\\u0435\\u043d\\u0438\\u0435\", \"\\u0440\\u043e\\u0441\\u0441\\u0438\\u044f\", \"\\u0440\\u043e\\u0441\\u0441\\u0438\\u0439\\u0441\\u043a\\u0438\\u0439\", \"\\u043d\\u043e\\u0432\\u044b\\u0439\", \"\\u0441\\u0440\\u0435\\u0434\\u0441\\u0442\\u0432\\u043e\", \"\\u0441\\u0430\\u0439\\u0442\", \"\\u043e\\u0442\\u0434\\u0435\\u043b\\u0435\\u043d\\u0438\\u0435\", \"\\u0445\\u043e\\u0434\", \"\\u043e\\u0431\\u043b\\u0430\\u0441\\u0442\\u044c\", \"\\u043c\\u0447\\u0441\\u0440\\u043e\\u0441\\u0441\\u0438\\u044f\", \"\\u043c\\u043e\\u0440\\u043e\\u0437\", \"\\u0434\\u0435\\u0434\", \"\\u043c\\u0430\\u043c\\u0430\", \"\\u0441\\u043f\\u0430\\u0441\\u0430\\u0442\\u044c\", \"\\u0432\\u043e\\u043b\\u043e\\u0441\", \"\\u0431\\u0443\\u0434\\u043d\\u0438\\u043c\\u0447\\u0441\", \"\\u043f\\u043e\\u0436\\u0430\\u0440\\u043d\\u044b\\u0439\", \"\\u0442\\u0435\\u043b\\u043e\\u0441\\u043b\\u043e\\u0436\\u0435\\u043d\\u0438\\u0435\", \"\\u043c\\u0430\\u043b\\u0435\\u043d\\u044c\\u043a\\u0438\\u0439\", \"\\u0432\\u0437\\u0440\\u043e\\u0441\\u043b\\u044b\\u0439\", \"\\u043c\\u0430\\u043b\\u044c\\u0447\\u0438\\u043a\", \"\\u0431\\u0440\\u0430\\u0442\", \"\\u0432\\u0435\\u043b\\u043e\\u0441\\u0438\\u043f\\u0435\\u0434\", \"\\u0434\\u0435\\u0432\\u043e\\u0447\\u043a\\u0430\", \"\\u0442\\u0432\\u043e\\u0439\", \"\\u043f\\u0430\\u043c\\u044f\\u0442\\u043a\\u0430\\u043c\\u0447\\u0441\", \"\\u043d\\u0430\\u0441\\u0442\\u0440\\u043e\\u0435\\u043d\\u0438\\u0435\", \"\\u043c\\u0430\\u043b\\u044b\\u0448\", \"\\u0435\\u043b\\u043a\\u0430\", \"\\u0436\\u0438\\u0432\\u043e\\u0442\\u043d\\u043e\\u0435\", \"\\u043f\\u043e\\u0433\\u043e\\u0434\\u0430\", \"\\u0441\\u0432\\u0435\\u0442\\u043e\\u043e\\u0442\\u0440\\u0430\\u0436\\u0430\\u044e\\u0449\\u0438\\u0439\", \"\\u0441\\u0432\\u0435\\u0442\\u043e\\u0432\\u043e\\u0437\\u0432\\u0440\\u0430\\u0449\\u0430\\u044e\\u0449\\u0438\\u0439\", \"\\u0443\\u0441\\u043b\\u044b\\u0448\\u0430\\u0442\\u044c\", \"\\u043a\\u0430\\u043d\\u0438\\u043a\\u0443\\u043b\\u044b\", \"\\u043f\\u0438\\u0442\\u043e\\u043c\\u0435\\u0446\", \"\\u0431\\u0435\\u0440\\u0435\\u0447\\u044c\", \"\\u0432\\u044b\\u0442\\u0430\\u0441\\u043a\\u0438\\u0432\\u0430\\u0442\\u044c\", \"\\u0434\\u043e\\u043c\\u0430\", \"\\u043c\\u0447\\u0441\", \"\\u0444\\u043e\\u0442\\u043e\", \"\\u0440\\u0435\\u0431\\u0435\\u043d\\u043e\\u043a\", \"\\u0441\\u043f\\u0430\\u0441\\u0430\\u0442\\u0435\\u043b\\u044c\", \"\\u043e\\u0434\\u0435\\u0432\\u0430\\u0442\\u044c\", \"\\u0432\\u0435\\u0441\\u0435\\u043d\\u043d\\u0438\\u0439\", \"\\u0432\\u044b\\u0445\\u043e\\u0434\\u043d\\u043e\\u0439\", \"\\u043f\\u0440\\u0438\\u043c\\u0435\\u0442\\u0430\", \"\\u043d\\u043e\\u0432\\u043e\\u0433\\u043e\\u0434\\u043d\\u0438\\u0439\", \"\\u043f\\u043e\\u0447\\u0442\\u0430\\u043b\\u044c\\u043e\\u043d\", \"\\u0440\\u043e\\u0434\\u0438\\u0442\\u0435\\u043b\\u044c\", \"\\u043f\\u043e\\u0436\\u0430\\u0440\", \"\\u0433\\u043b\\u0430\\u0437\", \"\\u0446\\u0432\\u0435\\u0442\", \"\\u043f\\u043e\\u043c\\u043e\\u0433\\u0430\\u0442\\u044c\", \"\\u0440\\u0435\\u0431\\u044f\\u0442\\u0430\", \"\\u0434\\u043e\\u043c\", \"\\u0434\\u043e\\u0431\\u0440\\u044b\\u0439\", \"\\u043f\\u0438\\u0441\\u044c\\u043c\\u043e\", \"\\u0448\\u043a\\u043e\\u043b\\u044c\\u043d\\u0438\\u043a\", \"\\u0440\\u0443\\u043a\\u0430\", \"\\u043f\\u0440\\u0430\\u0432\\u0438\\u043b\\u043e\", \"\\u0430\\u043a\\u0446\\u0438\\u044f\", \"\\u0440\\u0430\\u0437\\u044b\\u0441\\u043a\\u0438\\u0432\\u0430\\u0442\\u044c\", \"\\u0447\\u0435\\u043b\\u043e\\u0432\\u0435\\u043a\", \"\\u0432\\u0430\\u0448\", \"\\u0434\\u0440\\u0443\\u0433\", \"\\u0434\\u043e\\u0440\\u043e\\u0433\\u0430\", \"\\u043f\\u043e\\u043c\\u043e\\u0449\\u044c\", \"\\u0436\\u0438\\u0437\\u043d\\u044c\", \"\\u0441\\u0430\\u043c\\u044b\\u0439\", \"\\u0441\\u0435\\u043c\\u044c\\u044f\", \"\\u0434\\u0435\\u0442\\u0441\\u043a\\u0438\\u0439\", \"\\u043e\\u0442\\u0434\\u0435\\u043b\\u0435\\u043d\\u0438\\u0435\", \"\\u0440\\u0430\\u0431\\u043e\\u0442\\u0430\\u0442\\u044c\", \"\\u0440\\u0430\\u0441\\u0441\\u043a\\u0430\\u0437\\u044b\\u0432\\u0430\\u0442\\u044c\", \"\\u0440\\u043e\\u0441\\u0441\\u0438\\u044f\", \"\\u043a\\u0430\\u0436\\u0434\\u044b\\u0439\", \"\\u0431\\u0435\\u0437\\u043e\\u043f\\u0430\\u0441\\u043d\\u043e\\u0441\\u0442\\u044c\", \"\\u0432\\u043d\\u0438\\u043c\\u0430\\u043d\\u0438\\u0435\", \"\\u043f\\u043e\\u0447\\u0442\\u0430\", \"\\u0440\\u0430\\u0431\\u043e\\u0442\\u0430\", \"\\u0445\\u043e\\u0440\\u043e\\u0448\\u0438\\u0439\", \"\\u0441\\u043e\\u0442\\u0440\\u0443\\u0434\\u043d\\u0438\\u043a\", \"\\u043f\\u043e\\u0447\\u0442\\u043e\\u0432\\u044b\\u0439\"], \"Total\": [6002.0, 6028.0, 2950.0, 5219.0, 3740.0, 2041.0, 2222.0, 1849.0, 1741.0, 1688.0, 1667.0, 4486.0, 1587.0, 1536.0, 1162.0, 1561.0, 1164.0, 4082.0, 1803.0, 1078.0, 1132.0, 886.0, 1488.0, 1297.0, 855.0, 1154.0, 1729.0, 1436.0, 2208.0, 1268.0, 1741.83544921875, 1078.9202880859375, 1162.6273193359375, 855.4457397460938, 677.4912109375, 466.7486572265625, 461.3427734375, 478.0256652832031, 394.0863342285156, 435.8895568847656, 382.2840881347656, 471.21966552734375, 396.9163818359375, 288.2151184082031, 290.30035400390625, 440.0473937988281, 250.64524841308594, 254.00820922851562, 252.20811462402344, 1688.13037109375, 234.83978271484375, 6002.296875, 274.37518310546875, 219.66268920898438, 227.45777893066406, 205.36065673828125, 208.68011474609375, 197.01028442382812, 357.0289306640625, 2950.731689453125, 6028.25341796875, 2222.498291015625, 1164.6580810546875, 643.2047729492188, 546.0408325195312, 1667.9150390625, 306.7952575683594, 488.6498718261719, 886.5045776367188, 1297.1669921875, 1561.396240234375, 5219.814453125, 3740.50927734375, 1803.73291015625, 793.9978637695312, 1729.700927734375, 967.711181640625, 1455.0545654296875, 828.570068359375, 818.3938598632812, 2091.79296875, 2208.61865234375, 1601.90234375, 822.1207275390625, 9386.236328125, 1539.4840087890625, 1581.2520751953125, 1419.5491943359375, 1032.5562744140625, 279.5501403808594, 371.2989807128906, 184.68496704101562, 282.4295654296875, 177.83782958984375, 182.79843139648438, 123.18954467773438, 137.24266052246094, 137.0821533203125, 103.6217041015625, 496.50421142578125, 92.42694091796875, 81.88958740234375, 137.46978759765625, 73.50717163085938, 58.71109390258789, 260.9812927246094, 55.863346099853516, 54.72673416137695, 325.5398864746094, 263.09765625, 56.25749588012695, 55.07667922973633, 59.97417068481445, 51.92209243774414, 66.34617614746094, 52.01919937133789, 50.97352981567383, 48.651973724365234, 48.227943420410156, 1132.9598388671875, 1587.337646484375, 223.83837890625, 137.3839874267578, 777.0618286132812, 110.13793182373047, 216.94158935546875, 198.49620056152344, 83.52549743652344, 700.1010131835938, 394.2305603027344, 214.00889587402344, 458.80950927734375, 211.0860595703125, 731.8524169921875, 190.5206756591797, 582.8837280273438, 352.389892578125, 555.2413330078125, 367.048828125, 297.61822509765625, 325.0121765136719, 434.7427062988281, 1302.0958251953125, 654.552734375, 4486.611328125, 1065.8695068359375, 1436.419677734375, 727.3742065429688, 1431.3677978515625, 471.4462890625, 662.8884887695312, 842.0750122070312, 4082.211669921875, 1549.251220703125, 1522.39111328125, 1035.8409423828125, 9386.236328125, 2101.68896484375, 1377.8463134765625, 835.7607421875, 2029.757080078125, 1466.295166015625, 1083.5968017578125, 1344.8978271484375, 2250.59326171875, 1617.881591796875, 2154.0048828125, 1030.1112060546875, 5219.814453125, 369.7305908203125, 398.5924987792969, 215.07489013671875, 241.48358154296875, 186.98159790039062, 237.84548950195312, 156.36825561523438, 180.5843505859375, 196.87184143066406, 137.7256622314453, 195.8416748046875, 197.76876831054688, 116.31405639648438, 247.12905883789062, 343.16156005859375, 115.0995864868164, 101.74981689453125, 110.75538635253906, 371.73431396484375, 103.5879898071289, 192.05992126464844, 95.19640350341797, 90.9306640625, 83.7533187866211, 101.54872131347656, 110.37275695800781, 104.21543884277344, 129.48239135742188, 732.9472045898438, 68.6609115600586, 407.0406494140625, 573.12109375, 187.7319793701172, 207.73410034179688, 233.4902801513672, 389.2542419433594, 358.478515625, 174.06399536132812, 247.65023803710938, 1536.3311767578125, 525.8938598632812, 289.7908630371094, 180.24844360351562, 349.7466735839844, 249.77685546875, 782.196044921875, 1154.3951416015625, 1268.4947509765625, 549.1898803710938, 947.1878051757812, 360.8535461425781, 1145.599609375, 914.6202392578125, 229.17025756835938, 490.3901062011719, 275.6361389160156, 327.51239013671875, 452.4080505371094, 760.5568237304688, 379.5198059082031, 631.84375, 458.28131103515625, 878.5775756835938, 675.0116577148438, 500.82379150390625, 661.5902099609375, 759.8626098632812, 620.3275756835938, 770.8114013671875, 1344.8978271484375, 4082.211669921875, 1834.41943359375, 4486.611328125, 965.2806396484375, 9386.236328125, 2101.68896484375, 2029.757080078125, 1539.4840087890625, 926.3811645507812, 2154.0048828125, 1202.6812744140625, 1280.7938232421875, 886.87158203125, 263.67291259765625, 242.62705993652344, 184.98858642578125, 275.2707214355469, 163.74081420898438, 158.12051391601562, 476.3710021972656, 159.20423889160156, 241.3733367919922, 140.74703979492188, 121.34687042236328, 133.3323211669922, 122.9618911743164, 119.63074493408203, 107.2231216430664, 103.6424331665039, 108.49507141113281, 100.82447814941406, 126.07342529296875, 168.277587890625, 79.05026245117188, 87.46796417236328, 78.9991683959961, 73.51463317871094, 76.82429504394531, 68.51941680908203, 63.72123336791992, 64.68792724609375, 65.2447509765625, 1849.4078369140625, 577.5192260742188, 2041.9234619140625, 380.6075439453125, 149.5228729248047, 86.95935821533203, 392.1033935546875, 246.3395538330078, 264.7980041503906, 592.8965454101562, 400.8258056640625, 250.6761474609375, 191.90884399414062, 333.7760009765625, 477.17694091796875, 611.7457275390625, 1038.564453125, 337.5762634277344, 1488.578125, 311.14324951171875, 266.6511535644531, 840.754638671875, 1154.9774169921875, 329.0668029785156, 1780.325927734375, 764.9271240234375, 776.4664916992188, 638.451416015625, 1086.27294921875, 778.593017578125, 1150.40673828125, 552.85546875, 587.4826049804688, 2154.0048828125, 787.7681274414062, 883.5225830078125, 9386.236328125, 944.93505859375, 1390.164306640625, 751.309814453125, 4082.211669921875, 2250.59326171875, 1042.7967529296875, 3740.50927734375, 4486.611328125], \"loglift\": [30.0, 29.0, 28.0, 27.0, 26.0, 25.0, 24.0, 23.0, 22.0, 21.0, 20.0, 19.0, 18.0, 17.0, 16.0, 15.0, 14.0, 13.0, 12.0, 11.0, 10.0, 9.0, 8.0, 7.0, 6.0, 5.0, 4.0, 3.0, 2.0, 1.0, 1.309399962425232, 1.3092999458312988, 1.3091000318527222, 1.308899998664856, 1.3086999654769897, 1.3080999851226807, 1.3080999851226807, 1.3079999685287476, 1.307800054550171, 1.3076000213623047, 1.3075000047683716, 1.3073999881744385, 1.3071000576019287, 1.3070000410079956, 1.3068000078201294, 1.3066999912261963, 1.30649995803833, 1.30649995803833, 1.306399941444397, 1.3063000440597534, 1.3061000108718872, 1.305899977684021, 1.305899977684021, 1.305799961090088, 1.305799961090088, 1.3056999444961548, 1.3056000471115112, 1.3055000305175781, 1.305400013923645, 1.305400013923645, 1.3034000396728516, 1.3013999462127686, 1.3047000169754028, 1.3039000034332275, 1.304900050163269, 1.2914999723434448, 1.3050999641418457, 1.2884000539779663, 1.2685999870300293, 1.2301000356674194, 1.218000054359436, 1.0949000120162964, 1.1191999912261963, 1.155900001525879, 1.2187000513076782, 1.0910999774932861, 1.1655999422073364, 1.0800000429153442, 1.1850999593734741, 1.1825000047683716, 0.9818000197410583, 0.9542999863624573, 1.0026999711990356, 1.1348999738693237, 0.2272000014781952, 0.7991999983787537, 0.758400022983551, 0.7294999957084656, 0.9697999954223633, 1.3238999843597412, 1.322100043296814, 1.3220000267028809, 1.3216999769210815, 1.3210999965667725, 1.3210999965667725, 1.3203999996185303, 1.3193999528884888, 1.3193999528884888, 1.319200038909912, 1.3178000450134277, 1.317199945449829, 1.3167999982833862, 1.3158999681472778, 1.3138999938964844, 1.3134000301361084, 1.3131999969482422, 1.3122999668121338, 1.3121999502182007, 1.3121999502182007, 1.312000036239624, 1.3118000030517578, 1.3116999864578247, 1.3115999698638916, 1.3114999532699585, 1.3114999532699585, 1.3113000392913818, 1.3113000392913818, 1.3107000589370728, 1.3107000589370728, 1.3070000410079956, 1.2894999980926514, 1.308500051498413, 1.3105000257492065, 1.2927000522613525, 1.3102999925613403, 1.302899956703186, 1.3006999492645264, 1.308500051498413, 1.279099941253662, 1.2897000312805176, 1.298200011253357, 1.2817000150680542, 1.294800043106079, 1.2577999830245972, 1.2960000038146973, 1.2624000310897827, 1.274899959564209, 1.2421000003814697, 1.2589000463485718, 1.266800045967102, 1.2582999467849731, 1.2148000001907349, 1.0614999532699585, 1.1237000226974487, 0.8295999765396118, 1.0499999523162842, 0.9703999757766724, 1.0861999988555908, 0.9599000215530396, 1.1533000469207764, 1.0827000141143799, 1.0262000560760498, 0.6771000027656555, 0.8834999799728394, 0.8493000268936157, 0.9453999996185303, 0.28610000014305115, 0.6948999762535095, 0.785099983215332, 0.9477999806404114, 0.5547999739646912, 0.6614000201225281, 0.7470999956130981, 0.5684000253677368, 0.2304999977350235, 0.4334999918937683, 0.13510000705718994, 0.6567999720573425, -0.9293000102043152, 1.3907999992370605, 1.3907999992370605, 1.3894000053405762, 1.389299988746643, 1.388800024986267, 1.3883999586105347, 1.388200044631958, 1.3877999782562256, 1.3876999616622925, 1.3876999616622925, 1.3875999450683594, 1.3875000476837158, 1.3868999481201172, 1.3867000341415405, 1.3867000341415405, 1.3866000175476074, 1.3865000009536743, 1.3865000009536743, 1.386299967765808, 1.3861000537872314, 1.3860000371932983, 1.3859000205993652, 1.385599970817566, 1.3853000402450562, 1.3849999904632568, 1.3846999406814575, 1.3840999603271484, 1.3839999437332153, 1.3839999437332153, 1.3837000131607056, 1.382200002670288, 1.3787000179290771, 1.3835999965667725, 1.38100004196167, 1.3792999982833862, 1.3687000274658203, 1.3697999715805054, 1.3787000179290771, 1.371399998664856, 1.3272000551223755, 1.351099967956543, 1.3625999689102173, 1.375599980354309, 1.3539999723434448, 1.3652000427246094, 1.298699975013733, 1.2656999826431274, 1.2173999547958374, 1.2906999588012695, 1.2137999534606934, 1.3152999877929688, 1.1545000076293945, 1.1527999639511108, 1.3633999824523926, 1.229200005531311, 1.3310999870300293, 1.2997000217437744, 1.2348999977111816, 1.1232000589370728, 1.2682000398635864, 1.1471999883651733, 1.219099998474121, 1.0470999479293823, 1.1166000366210938, 1.1785999536514282, 1.0891000032424927, 1.0394999980926514, 1.1043000221252441, 1.0111000537872314, 0.7573999762535095, 0.23080000281333923, 0.5925999879837036, 0.02459999918937683, 0.7663000226020813, -0.6751000285148621, 0.2363000065088272, 0.24160000681877136, 0.4185999929904938, 0.7631000280380249, 0.10679999738931656, 0.49720001220703125, 0.4300000071525574, 1.5282000303268433, 1.5269999504089355, 1.5266000032424927, 1.5256999731063843, 1.5255999565124512, 1.524899959564209, 1.524899959564209, 1.5246000289916992, 1.524399995803833, 1.5242999792099, 1.5240999460220337, 1.523300051689148, 1.523300051689148, 1.5230000019073486, 1.5227999687194824, 1.5224000215530396, 1.5221999883651733, 1.5221999883651733, 1.5219000577926636, 1.520300030708313, 1.520300030708313, 1.5196000337600708, 1.5190000534057617, 1.5188000202178955, 1.5181000232696533, 1.517799973487854, 1.5176000595092773, 1.517199993133545, 1.5169999599456787, 1.516700029373169, 1.5144000053405762, 1.5152000188827515, 1.496000051498413, 1.5081000328063965, 1.5022000074386597, 1.51419997215271, 1.4664000272750854, 1.4782999753952026, 1.4644999504089355, 1.4077999591827393, 1.424299955368042, 1.4494999647140503, 1.4722000360488892, 1.4114999771118164, 1.3753999471664429, 1.343500018119812, 1.2726999521255493, 1.4033000469207764, 1.1914000511169434, 1.4053000211715698, 1.423799991607666, 1.2372000217437744, 1.1644999980926514, 1.3859000205993652, 1.0214999914169312, 1.1593999862670898, 1.1389000415802002, 1.190500020980835, 1.0025999546051025, 1.0846999883651733, 0.9110999703407288, 1.186900019645691, 1.154099941253662, 0.6208999752998352, 1.020300030708313, 0.9613000154495239, -0.17489999532699585, 0.9203000068664551, 0.6830999851226807, 0.9692999720573425, -0.27230000495910645, 0.15150000154972076, 0.722100019454956, -0.2703999876976013, -0.4564000070095062], \"logprob\": [30.0, 29.0, 28.0, 27.0, 26.0, 25.0, 24.0, 23.0, 22.0, 21.0, 20.0, 19.0, 18.0, 17.0, 16.0, 15.0, 14.0, 13.0, 12.0, 11.0, 10.0, 9.0, 8.0, 7.0, 6.0, 5.0, 4.0, 3.0, 2.0, 1.0, -4.7017998695373535, -5.1809000968933105, -5.106299877166748, -5.413300037384033, -5.646699905395508, -6.019999980926514, -6.031700134277344, -5.996200084686279, -6.189499855041504, -6.088900089263916, -6.220200061798096, -6.011199951171875, -6.18310022354126, -6.503200054168701, -6.496099948883057, -6.0802998542785645, -6.6433000564575195, -6.630000114440918, -6.637199878692627, -4.736199855804443, -6.708899974822998, -3.468100070953369, -6.553500175476074, -6.776000022888184, -6.741099834442139, -6.843400001525879, -6.827499866485596, -6.8850998878479, -6.290599822998047, -4.178599834442139, -3.4663000106811523, -4.466100215911865, -5.109000205993652, -5.703499794006348, -5.866300106048584, -4.7631001472473145, -6.442599773406982, -5.993800163269043, -5.418000221252441, -5.075900077819824, -4.902500152587891, -3.8187999725341797, -4.127699851989746, -4.820400238037109, -5.578100204467773, -4.92710018157959, -5.433300018310547, -5.111100196838379, -5.5690999031066895, -5.584000110626221, -4.84630012512207, -4.819499969482422, -5.092199802398682, -5.627099990844727, -4.099699974060059, -5.3354997634887695, -5.349599838256836, -5.486299991607666, -5.564300060272217, -6.5167999267578125, -6.234799861907959, -6.933199882507324, -6.508800029754639, -6.97189998626709, -6.944399833679199, -7.339799880981445, -7.232699871063232, -7.23390007019043, -7.513899803161621, -5.948500156402588, -7.630199909210205, -7.751699924468994, -7.234600067138672, -7.862599849700928, -8.087800025939941, -6.596199989318848, -8.138699531555176, -8.159299850463867, -6.376200199127197, -6.589399814605713, -8.132100105285645, -8.153499603271484, -8.068300247192383, -8.212599754333496, -7.96750020980835, -8.211000442504883, -8.231300354003906, -8.278499603271484, -8.287300109863281, -5.134300231933594, -4.814599990844727, -6.75439977645874, -7.240600109100342, -5.525700092315674, -7.461900234222412, -6.791399955749512, -6.882500171661377, -7.740200042724609, -5.643599987030029, -6.207200050354004, -6.809700012207031, -6.063600063323975, -6.8267998695373535, -5.620500087738037, -6.928100109100342, -5.843500137329102, -6.3343000411987305, -5.912300109863281, -6.309500217437744, -6.511199951171875, -6.431700229644775, -6.184299945831299, -5.240600109100342, -5.866300106048584, -4.235400199890137, -5.452300071716309, -5.23360013961792, -5.798299789428711, -5.247600078582764, -6.16480016708374, -5.894599914550781, -5.7118000984191895, -4.482399940490723, -5.244800090789795, -5.296599864959717, -5.5854997634887695, -4.040800094604492, -5.128499984741211, -5.4604997634887695, -5.797699928283691, -5.303400039672852, -5.521999835968018, -5.738800048828125, -5.701399803161621, -5.524400234222412, -5.651500225067139, -5.663700103759766, -5.8796000480651855, -5.842899799346924, -6.170300006866455, -6.095099925994873, -6.713500022888184, -6.597799777984619, -6.854100227355957, -6.613900184631348, -7.033400058746338, -6.889900207519531, -6.803599834442139, -7.160900115966797, -6.809000015258789, -6.799300193786621, -7.330699920654297, -6.577199935913086, -6.249000072479248, -7.341400146484375, -7.464900016784668, -7.380099773406982, -6.169300079345703, -7.447400093078613, -6.830100059509277, -7.5320000648498535, -7.578199863433838, -7.660699844360352, -7.468299865722656, -7.385300159454346, -7.443299770355225, -7.22629976272583, -5.492800235748291, -7.861000061035156, -6.082699775695801, -5.74399995803833, -6.855199813842773, -6.7565999031066895, -6.641499996185303, -6.140999794006348, -6.2221999168396, -6.935699939727783, -6.590400218963623, -4.809500217437744, -5.857600212097168, -6.4421000480651855, -6.9039998054504395, -6.262599945068359, -6.588099956512451, -5.5131001472473145, -5.156799793243408, -5.110899925231934, -5.874800205230713, -5.406499862670898, -6.270100116729736, -5.275700092315674, -5.502500057220459, -6.676000118255615, -6.0493998527526855, -6.52370023727417, -6.382699966430664, -6.1244001388549805, -5.716599941253662, -6.2667999267578125, -5.877999782562256, -6.127299785614014, -5.648399829864502, -5.842599868774414, -6.079100131988525, -5.890100002288818, -5.801300048828125, -5.939300060272217, -5.815299987792969, -5.512400150299072, -4.928699970245361, -5.366799831390381, -5.04040002822876, -5.835100173950195, -5.001999855041504, -5.587100028991699, -5.616600036621094, -5.716000080108643, -5.879499912261963, -5.691999912261963, -5.884399890899658, -5.888599872589111, -5.157899856567383, -6.372200012207031, -6.455699920654297, -6.72790002822876, -6.330599784851074, -6.8506999015808105, -6.8856000900268555, -5.783100128173828, -6.879300117492676, -6.4633002281188965, -7.002799987792969, -7.151899814605713, -7.057799816131592, -7.138999938964844, -7.1666998863220215, -7.276599884033203, -7.310699939727783, -7.264999866485596, -7.338600158691406, -7.116700172424316, -6.828000068664551, -7.584199905395508, -7.48360013961792, -7.585700035095215, -7.658299922943115, -7.61460018157959, -7.7291998863220215, -7.802199840545654, -7.787300109863281, -7.7789998054504395, -4.436800003051758, -5.599899768829346, -4.356299877166748, -6.02400016784668, -6.964300155639648, -7.494200229644775, -6.035900115966797, -6.488900184631348, -6.4303998947143555, -5.681099891662598, -6.056000232696533, -6.500199794769287, -6.74459981918335, -6.2519001960754395, -5.930600166320801, -5.714000225067139, -5.2555999755859375, -6.248799800872803, -4.976900100708008, -6.3282999992370605, -6.464099884033203, -5.502299785614014, -5.257500171661377, -6.2916998863220215, -4.967800140380859, -5.674699783325195, -5.680200099945068, -5.8242998123168945, -5.4807000160217285, -5.7316999435424805, -5.514900207519531, -5.97189998626709, -5.943900108337402, -5.1778998374938965, -5.78439998626709, -5.728600025177002, -4.501800060272217, -5.702400207519531, -5.553599834442139, -5.882800102233887, -5.43179988861084, -5.603400230407715, -5.80210018157959, -5.517300128936768, -5.521399974822998]}, \"token.table\": {\"Topic\": [3, 2, 3, 2, 3, 1, 2, 3, 4, 2, 2, 4, 2, 3, 1, 1, 2, 3, 4, 4, 2, 3, 1, 2, 3, 4, 2, 3, 4, 4, 1, 4, 1, 2, 3, 4, 1, 2, 3, 4, 1, 2, 3, 4, 4, 3, 2, 4, 1, 2, 4, 4, 2, 3, 1, 2, 3, 4, 1, 2, 3, 4, 1, 2, 3, 1, 2, 3, 2, 1, 2, 3, 4, 4, 3, 1, 3, 1, 2, 3, 4, 1, 2, 4, 4, 1, 2, 3, 4, 1, 2, 3, 4, 2, 2, 1, 2, 4, 1, 2, 3, 4, 1, 1, 2, 3, 4, 3, 4, 1, 4, 1, 2, 3, 3, 1, 2, 3, 4, 4, 4, 1, 2, 3, 4, 1, 2, 4, 2, 1, 2, 4, 1, 2, 3, 4, 4, 1, 2, 3, 4, 2, 3, 4, 2, 3, 4, 2, 4, 1, 4, 1, 2, 3, 4, 2, 1, 3, 4, 2, 3, 1, 4, 1, 2, 2, 3, 4, 2, 3, 4, 1, 2, 3, 1, 2, 3, 4, 2, 3, 1, 2, 3, 4, 3, 3, 1, 2, 3, 4, 4, 1, 2, 3, 4, 2, 2, 1, 2, 3, 4, 1, 2, 3, 4, 2, 2, 3, 4, 1, 1, 2, 3, 4, 1, 2, 3, 4, 2, 3, 4, 4, 4, 4, 1, 2, 3, 4, 1, 2, 3, 4, 1, 4, 1, 2, 3, 4, 1, 2, 3, 4, 1, 3, 3, 1, 2, 3, 2, 3, 1, 2, 3, 4, 2, 3, 3, 4, 2, 3, 1, 2, 3, 4, 1, 2, 3, 4, 1, 3, 1, 2, 4, 1, 2, 3, 4, 2, 3, 4, 1, 1, 2, 3, 4, 4, 1, 2, 3, 4, 1, 2, 3, 4, 1, 2, 3, 4, 1, 2, 3, 4, 2, 2, 4, 1, 2, 3, 4, 2, 3, 4, 1, 2, 4, 1, 4, 1, 2, 4, 1, 4, 1, 1, 2, 3, 4, 1, 2, 4, 1, 2, 3, 4, 1, 2, 3, 4, 2, 3, 4, 1, 2, 3, 4, 2, 3, 4, 1, 3, 3, 2, 3, 4, 1, 2, 3, 4, 1, 2, 3, 4, 2, 3, 4, 4, 2, 3, 4, 1, 2, 3, 4, 2, 4, 4, 1, 1, 2, 1, 2, 3, 4, 3, 4, 1, 2, 4, 1, 2, 3, 4, 2, 3, 1, 2, 3, 1, 2, 3, 4, 1, 2, 3, 4, 1, 4, 1, 2, 3, 4, 1, 2, 3, 4, 3, 3, 1, 2, 4, 2, 3, 4, 1, 2, 3, 4, 2, 3, 4, 2, 3, 4, 3, 1, 2, 3, 4, 1, 3, 1, 1, 1, 3, 4, 1, 4, 3, 1, 2, 3, 4, 2, 3, 1, 1, 2, 3, 4, 1, 1, 2, 3, 4, 2, 3, 1, 2, 3, 4, 1, 2, 3, 4, 1, 2, 3, 4, 1, 4, 1, 2, 3, 4, 2, 3, 2, 3, 1, 2, 3, 4, 1, 2, 4, 1, 2, 4, 1, 2, 4, 1, 3, 4, 1, 2, 3, 4, 1, 2, 3, 4, 1, 2, 3, 4, 1, 2, 3, 4, 1, 2, 3, 4, 2, 3, 4, 1, 2, 3, 4, 1, 4, 4, 1, 2, 3, 4, 1, 2, 3, 4, 2, 3, 4, 2, 3, 1, 2, 3, 4, 1, 1, 2, 3, 4, 1, 2, 3, 4, 1, 2, 3, 4, 1, 2, 3, 4, 1, 2, 3, 3, 4, 1, 4, 2, 1, 2, 3, 4, 1, 2, 3, 4, 1, 1, 2, 3, 4, 1, 2, 3, 4, 1, 2, 3, 4, 1, 2, 3, 1, 3, 3, 4, 2, 4, 4, 1, 2, 3, 4, 2, 1, 3, 4, 3, 1, 2, 4, 3, 1, 2, 3, 4, 1, 4, 2, 3, 1, 1, 4, 1, 2, 3, 4, 3, 1, 2, 3, 4, 4, 1, 2, 3, 4, 1, 2, 3, 4, 2, 3, 2, 4, 2, 2, 2, 2, 3, 2, 3, 1, 2, 3, 4, 2, 3, 1, 3, 1, 2, 3, 4, 1, 2, 3, 4, 2, 4, 1, 2, 3, 4, 1, 2, 3, 4, 1, 2, 3, 4, 1, 2, 3, 4, 1, 2, 3, 4, 1, 2, 4, 1, 2, 4, 2, 3, 2, 3, 4, 1, 2, 3, 4, 2, 3, 2], \"Freq\": [0.9926307797431946, 0.020189763978123665, 0.9771845936775208, 0.02312113530933857, 0.976225733757019, 0.03809598460793495, 0.2675377130508423, 0.0008658177684992552, 0.6935200691223145, 0.9867206811904907, 0.9956321716308594, 0.005470506381243467, 0.0050794463604688644, 0.9955715537071228, 0.9967408776283264, 0.4049881100654602, 0.1431485414505005, 0.023018861189484596, 0.42872628569602966, 0.988681435585022, 0.9822408556938171, 0.9947503209114075, 0.0754411444067955, 0.13776209950447083, 0.7872119545936584, 0.0010933500016108155, 0.009060206823050976, 0.9966227412223816, 0.9900075197219849, 0.992913544178009, 0.9941483736038208, 0.0032595028169453144, 0.007843884639441967, 0.24708236753940582, 0.054907191544771194, 0.6902618408203125, 0.043075308203697205, 0.9322727918624878, 0.018460847437381744, 0.006153615657240152, 0.021425480023026466, 0.9527196884155273, 0.014283653348684311, 0.009998557157814503, 0.9921773076057434, 0.9980239868164062, 0.011499624699354172, 0.9889677166938782, 0.30216994881629944, 0.6825371980667114, 0.014480987563729286, 0.994692325592041, 0.005206708330661058, 0.9944813251495361, 0.18234820663928986, 0.16770711541175842, 0.07986053079366684, 0.5710027813911438, 0.9227802157402039, 0.04779646918177605, 0.0069381967186927795, 0.021585501730442047, 0.0014871017774567008, 0.4684370756149292, 0.5301517844200134, 0.9970894455909729, 0.02231653966009617, 0.9763486385345459, 0.9745387434959412, 0.029598673805594444, 0.9664610624313354, 0.0012868988560512662, 0.0025737977121025324, 0.995475709438324, 0.9903742671012878, 0.00856566708534956, 0.985051691532135, 0.17108355462551117, 0.09606999903917313, 0.7027586102485657, 0.030268630012869835, 0.0038008701521903276, 0.9844253659248352, 0.011402609758079052, 0.9893654584884644, 0.05355730280280113, 0.0025503477081656456, 0.005100695416331291, 0.9385279417037964, 0.003055521519854665, 0.8158242702484131, 0.0015277607599273324, 0.18027576804161072, 0.9804072380065918, 0.9980320334434509, 0.026054035872220993, 0.026054035872220993, 0.9431561231613159, 0.1650306135416031, 0.4091770350933075, 0.183573380112648, 0.2422921508550644, 0.9960308074951172, 0.8649274706840515, 0.016533859074115753, 0.09816978871822357, 0.019633958116173744, 0.9819779396057129, 0.011095795780420303, 0.991226851940155, 0.008548937737941742, 0.0043635680340230465, 0.026181407272815704, 0.9730756878852844, 0.9931796789169312, 0.7118256092071533, 0.014527053572237492, 0.08038302510976791, 0.19369404017925262, 0.9947275519371033, 0.9974155426025391, 0.857111394405365, 0.06819191575050354, 0.000554405793081969, 0.07429037988185883, 0.008510890416800976, 0.3029876947402954, 0.6859777569770813, 0.9837568402290344, 0.06517045944929123, 0.05035899206995964, 0.8798012137413025, 0.11650697141885757, 0.08665807545185089, 0.02407168783247471, 0.7731826305389404, 0.9809218049049377, 0.21301542222499847, 0.009397739544510841, 0.06578417867422104, 0.7126619219779968, 0.061504069715738297, 0.8809808492660522, 0.05803905054926872, 0.31681984663009644, 0.007727313321083784, 0.6761399507522583, 0.007931885309517384, 0.9914857149124146, 0.0059425621293485165, 0.9924078583717346, 0.08605265617370605, 0.26586419343948364, 0.00899057649075985, 0.640899658203125, 0.9845454096794128, 0.9989462494850159, 0.0005741070490330458, 0.0005741070490330458, 0.005537578370422125, 0.9967641234397888, 0.9943171739578247, 0.0028008935041725636, 0.994987964630127, 0.9809012413024902, 0.9847449064254761, 0.003831692272797227, 0.011495077051222324, 0.9719222187995911, 0.004672702867537737, 0.023363513872027397, 0.9966410398483276, 0.007723057642579079, 0.9885513782501221, 0.03703639656305313, 0.06666551530361176, 0.7585054039955139, 0.13777539134025574, 0.9952887892723083, 0.00562310079112649, 0.0015085493214428425, 0.7829371094703674, 0.003017098642885685, 0.21270546317100525, 0.995002269744873, 0.9943237900733948, 0.0317482128739357, 0.3322979807853699, 0.09206981956958771, 0.5428944230079651, 0.9892703890800476, 0.03325321152806282, 0.09975963830947876, 0.7376167178153992, 0.1299898326396942, 0.979709804058075, 0.9909455180168152, 0.13674192130565643, 0.09861195832490921, 0.7639139890670776, 0.001314826193265617, 0.0008826437988318503, 0.9806172847747803, 0.007943794131278992, 0.011474370025098324, 0.9776474833488464, 0.0965057834982872, 0.9031484723091125, 0.001820863806642592, 0.9978543519973755, 0.04540425166487694, 0.9506515860557556, 0.0028377657290548086, 0.0028377657290548086, 0.8392927646636963, 0.02067822776734829, 0.002432732842862606, 0.13866576552391052, 0.004142959602177143, 0.004142959602177143, 0.9943103194236755, 0.9918226599693298, 0.9971414804458618, 0.994655966758728, 0.02834935672581196, 0.9632481336593628, 0.001259971410036087, 0.006929842755198479, 0.9957854747772217, 0.0003332057676743716, 0.0001666028838371858, 0.00383186643011868, 0.9942832589149475, 0.004293105565011501, 0.028608426451683044, 0.5601714849472046, 0.37190955877304077, 0.038759805262088776, 0.7353756427764893, 0.23035112023353577, 0.017479218542575836, 0.016854960471391678, 0.024021441116929054, 0.9728683829307556, 0.9976449608802795, 0.07744380086660385, 0.9185194969177246, 0.0018010186031460762, 0.1636423021554947, 0.8361594080924988, 0.0027496162801980972, 0.7863902449607849, 0.021996930241584778, 0.18834872543811798, 0.009595506824553013, 0.9883372187614441, 0.9947311282157898, 0.9974479079246521, 0.15090027451515198, 0.8483042120933533, 0.8063505291938782, 0.1047929972410202, 0.007854685187339783, 0.08122894167900085, 0.5593324899673462, 0.37054017186164856, 0.009862286038696766, 0.059878163039684296, 0.99769127368927, 0.0025194224435836077, 0.0026932472828775644, 0.9965015053749084, 0.0026932472828775644, 0.0010814272100105882, 0.014058553613722324, 0.0010814272100105882, 0.9840987920761108, 0.0011275589931756258, 0.0011275589931756258, 0.9978896975517273, 0.9983960390090942, 0.9972434043884277, 0.0034507643431425095, 0.9696648120880127, 0.027606114745140076, 0.9954369068145752, 0.9120042324066162, 0.06980931013822556, 0.001280904863961041, 0.016651762649416924, 0.003776463447138667, 0.05664695426821709, 0.003776463447138667, 0.9365629553794861, 0.7004377841949463, 0.22185812890529633, 0.02173304185271263, 0.05614368990063667, 0.06453974545001984, 0.4621242582798004, 0.31629401445388794, 0.1571616679430008, 0.9921057820320129, 0.9826472401618958, 0.014557736925780773, 0.1623992770910263, 0.24594122171401978, 0.3817944824695587, 0.2092452347278595, 0.004813846200704575, 0.9868384599685669, 0.004813846200704575, 0.8822427988052368, 0.10620707273483276, 0.010862086899578571, 0.020063819363713264, 0.9697512984275818, 0.018949616700410843, 0.9664304852485657, 0.009474808350205421, 0.9934628009796143, 0.004664144478738308, 0.9974256753921509, 0.8797720074653625, 0.09897434711456299, 0.013440961018204689, 0.007331433240324259, 0.9782055020332336, 0.0020464551635086536, 0.018418096005916595, 0.01717730611562729, 0.30362048745155334, 0.2762296497821808, 0.4029703140258789, 0.05833067372441292, 0.9384375810623169, 0.0017156080575659871, 0.0017156080575659871, 0.7003524303436279, 0.0020885260310024023, 0.29796305298805237, 0.23212385177612305, 0.6844063997268677, 0.04068149998784065, 0.04187801480293274, 0.007810815703123808, 0.9366469979286194, 0.055326614528894424, 0.0040464685298502445, 0.9954313039779663, 0.9961127638816833, 0.9953807592391968, 0.010819355957210064, 0.993801474571228, 0.025173451751470566, 0.6416002511978149, 0.17105036973953247, 0.16201375424861908, 0.9953463673591614, 0.00033889900078065693, 0.00033889900078065693, 0.0044056870974600315, 0.2720717191696167, 0.015450986102223396, 0.7127606868743896, 0.992419421672821, 0.00574501371011138, 0.9881423115730286, 0.00574501371011138, 0.006042244844138622, 0.9909281730651855, 0.0020140816923230886, 0.0020140816923230886, 0.9568241238594055, 0.04359107464551926, 0.9867140054702759, 0.9991470575332642, 0.9952098727226257, 0.9891367554664612, 0.4060995280742645, 0.046618565917015076, 0.5345595479011536, 0.012431617826223373, 0.0757950022816658, 0.921507716178894, 0.002099204109981656, 0.004198408219963312, 0.9950227737426758, 0.06448206305503845, 0.13218821585178375, 0.7496039271354675, 0.053197700530290604, 0.005828158464282751, 0.9937010407447815, 0.011972391977906227, 0.9817361235618591, 0.011972391977906227, 0.9814648628234863, 0.0005995508981868625, 0.0005995508981868625, 0.01798652857542038, 0.9933225512504578, 0.00033177106524817646, 0.00016588553262408823, 0.006303649861365557, 0.9944311380386353, 0.003662729635834694, 0.05239146575331688, 0.05239146575331688, 0.03981751576066017, 0.857124388217926, 0.13624568283557892, 0.02117331512272358, 0.2522386312484741, 0.5900911092758179, 0.9904466271400452, 0.9897651076316833, 0.0437246635556221, 0.9332482814788818, 0.02186233177781105, 0.0052374317310750484, 0.7882335186004639, 0.20600566267967224, 0.9964240193367004, 0.5222659111022949, 0.3128206133842468, 0.16486161947250366, 0.11300453543663025, 0.0016866348451003432, 0.8854833245277405, 0.6082541346549988, 0.25453507900238037, 0.13707450032234192, 0.9979368448257446, 0.22004041075706482, 0.0011894076596945524, 0.03211400657892227, 0.745758593082428, 0.9979591965675354, 0.0022941590286791325, 0.9955206513404846, 0.9983099699020386, 0.9976198077201843, 0.002272482495754957, 0.002272482495754957, 0.04871324822306633, 0.9499083757400513, 0.9910054802894592, 0.18917609751224518, 0.6200771927833557, 0.0919606015086174, 0.09852921217679977, 0.005380186717957258, 0.9926444292068481, 0.9969831705093384, 0.1568579077720642, 0.5142211318016052, 0.2223290354013443, 0.10707257688045502, 0.9948719143867493, 0.014062970876693726, 0.02940439246594906, 0.9102577567100525, 0.04602426663041115, 0.9931004047393799, 0.013604114763438702, 0.24304702877998352, 0.33413413166999817, 0.17106600105762482, 0.25193357467651367, 0.06473986059427261, 0.20564426481723785, 0.12821032106876373, 0.6004304885864258, 0.039103589951992035, 0.8947821259498596, 0.0644059106707573, 0.0023002109955996275, 0.13067255914211273, 0.8660855293273926, 0.5761257410049438, 0.0012648204574361444, 0.27256882190704346, 0.1505136340856552, 0.004204410128295422, 0.9964452385902405, 0.009827028028666973, 0.9900730848312378, 0.21957559883594513, 0.1958070993423462, 0.01924115978181362, 0.5659164786338806, 0.027425121515989304, 0.005876811686903238, 0.9662458300590515, 0.06538664549589157, 0.10298396646976471, 0.830410361289978, 0.09230942279100418, 0.004989698529243469, 0.900640606880188, 0.9131007194519043, 0.0012594492873176932, 0.08564254641532898, 0.15178269147872925, 0.5314773321151733, 0.31450894474983215, 0.0019032311392948031, 0.3385808765888214, 0.35317671298980713, 0.12646175920963287, 0.18175549805164337, 0.08250480145215988, 0.011250654235482216, 0.003750218078494072, 0.9000523686408997, 0.7944719195365906, 0.12027040123939514, 0.08178387582302094, 0.0034362971782684326, 0.03130460903048515, 0.3292381167411804, 0.5332578420639038, 0.10686745494604111, 0.01221382338553667, 0.9858300685882568, 0.0017448319122195244, 0.008692577481269836, 0.39464303851127625, 0.05824027210474014, 0.538070559501648, 0.9957839846611023, 0.987352192401886, 0.9832171201705933, 0.020640425384044647, 0.7580665349960327, 0.05629206821322441, 0.16418519616127014, 0.08139559626579285, 0.19896700978279114, 0.010852745734155178, 0.7090460658073425, 0.03431054949760437, 0.9635545611381531, 0.002859212225303054, 0.0885462686419487, 0.9098892211914062, 0.05577196925878525, 0.23446990549564362, 0.7079625129699707, 0.002276406856253743, 0.9933742880821228, 0.7199565172195435, 0.09943622350692749, 0.027249351143836975, 0.1529788076877594, 0.009215460158884525, 0.9860543012619019, 0.003071820130571723, 0.003071820130571723, 0.21019504964351654, 0.7398390769958496, 0.04275153577327728, 0.005937713198363781, 0.8260906934738159, 0.00828764121979475, 0.000267343275481835, 0.16521814465522766, 0.013828607276082039, 0.9772215485572815, 0.009219071827828884, 0.02101902663707733, 0.9773847460746765, 0.0036327873822301626, 0.9953837394714355, 0.9878882765769958, 0.6002011299133301, 0.005846114829182625, 0.37739917635917664, 0.016239207237958908, 0.09384538233280182, 0.06589143723249435, 0.8066709637641907, 0.031947363168001175, 0.9992749691009521, 0.05951317027211189, 0.5820678472518921, 0.07330280542373657, 0.2859535217285156, 0.9588218927383423, 0.029328670352697372, 0.00112802570220083, 0.011280257254838943, 0.0038399631157517433, 0.7672246098518372, 0.13055874407291412, 0.09907104820013046, 0.10276143252849579, 0.013174543157219887, 0.8826943635940552, 0.07205139100551605, 0.9255832433700562, 0.9979974627494812, 0.9885927438735962, 0.9723107814788818, 0.020151518285274506, 0.992435872554779, 0.01899203658103943, 0.17884168028831482, 0.7818388938903809, 0.01899203658103943, 0.9962911605834961, 0.06327991187572479, 0.8400953412055969, 0.09382883459329605, 0.9972999095916748, 0.1569637954235077, 0.8399684429168701, 0.002121132332831621, 0.9945964813232422, 0.01451188512146473, 0.025395799428224564, 0.9396445751190186, 0.018139855936169624, 0.9963685274124146, 0.003554227761924267, 0.005106165539473295, 0.9957022666931152, 0.9986003041267395, 0.9974116683006287, 0.0021221525967121124, 0.8030290007591248, 0.06764174997806549, 0.11331439018249512, 0.015609635040163994, 0.9985135197639465, 0.028380094096064568, 0.08987029641866684, 0.8395777940750122, 0.04257014021277428, 0.9929995536804199, 0.19421982765197754, 0.6930434107780457, 0.06357555091381073, 0.04960290342569351, 0.3417106866836548, 0.5115952491760254, 0.031064607203006744, 0.11552150547504425, 0.008186128921806812, 0.9918859004974365, 0.9344805479049683, 0.06266196072101593, 0.994000256061554, 0.9865992069244385, 0.9903438091278076, 0.14588600397109985, 0.8532120585441589, 0.9710232019424438, 0.026243871077895164, 0.008657720871269703, 0.0034630880691111088, 0.0034630880691111088, 0.9852485656738281, 0.9805886149406433, 0.00907952431589365, 0.9935910105705261, 0.0043964204378426075, 0.5055370926856995, 0.0831475481390953, 0.408254474401474, 0.0033259019255638123, 0.11411619931459427, 0.42769598960876465, 0.012466475367546082, 0.44591623544692993, 0.9893082976341248, 0.007274325471371412, 0.10486074537038803, 0.005992042366415262, 0.002996021183207631, 0.8868222832679749, 0.23092548549175262, 0.0726507157087326, 0.6823977828025818, 0.012973342090845108, 0.21096593141555786, 0.21205618977546692, 0.4491884410381317, 0.1275607943534851, 0.03297562897205353, 0.9639029502868652, 0.002536586718633771, 0.002536586718633771, 0.1926613450050354, 0.11009220033884048, 0.09604983031749725, 0.6010135412216187, 0.01344003714621067, 0.9408025741577148, 0.04368012025952339, 0.028925582766532898, 0.0867767482995987, 0.8838372826576233, 0.9828519821166992, 0.017870036885142326, 0.994938313961029, 0.0035407058894634247, 0.0035407058894634247, 0.03232591599225998, 0.007606097497045994, 0.9602698087692261, 0.0019015243742614985, 0.005326742772012949, 0.9907742142677307, 0.9804512858390808], \"Term\": [\"\\u0430\\u0432\\u0438\\u0430\\u043a\\u043e\\u043c\\u043f\\u0430\\u043d\\u0438\\u044f\", \"\\u0430\\u0432\\u0438\\u0430\\u0446\\u0438\\u043e\\u043d\\u043d\\u044b\\u0439\", \"\\u0430\\u0432\\u0438\\u0430\\u0446\\u0438\\u043e\\u043d\\u043d\\u044b\\u0439\", \"\\u0430\\u0432\\u0438\\u0430\\u0446\\u0438\\u044f\", \"\\u0430\\u0432\\u0438\\u0430\\u0446\\u0438\\u044f\", \"\\u0430\\u043a\\u0446\\u0438\\u044f\", \"\\u0430\\u043a\\u0446\\u0438\\u044f\", \"\\u0430\\u043a\\u0446\\u0438\\u044f\", \"\\u0430\\u043a\\u0446\\u0438\\u044f\", \"\\u0430\\u043d\\u0441\\u0430\\u043c\\u0431\\u043b\\u044c\", \"\\u0430\\u0440\\u0442\\u0435\\u043a\", \"\\u0430\\u0440\\u0442\\u0435\\u043a\", \"\\u0430\\u044d\\u0440\\u043e\\u0434\\u0440\\u043e\\u043c\", \"\\u0430\\u044d\\u0440\\u043e\\u0434\\u0440\\u043e\\u043c\", \"\\u0431\\u0430\\u0440\\u0430\\u043d\\u043e\\u0432\", \"\\u0431\\u0435\\u0437\\u043e\\u043f\\u0430\\u0441\\u043d\\u043e\\u0441\\u0442\\u044c\", \"\\u0431\\u0435\\u0437\\u043e\\u043f\\u0430\\u0441\\u043d\\u043e\\u0441\\u0442\\u044c\", \"\\u0431\\u0435\\u0437\\u043e\\u043f\\u0430\\u0441\\u043d\\u043e\\u0441\\u0442\\u044c\", \"\\u0431\\u0435\\u0437\\u043e\\u043f\\u0430\\u0441\\u043d\\u043e\\u0441\\u0442\\u044c\", \"\\u0431\\u0435\\u0440\\u0435\\u0447\\u044c\", \"\\u0431\\u0438\\u0442\\u0432\\u0430\", \"\\u0431\\u043e\\u0435\\u0432\\u0430\\u044f\\u043f\\u043e\\u0434\\u0433\\u043e\\u0442\\u043e\\u0432\\u043a\\u0430\", \"\\u0431\\u043e\\u0435\\u0432\\u043e\\u0439\", \"\\u0431\\u043e\\u0435\\u0432\\u043e\\u0439\", \"\\u0431\\u043e\\u0435\\u0432\\u043e\\u0439\", \"\\u0431\\u043e\\u0435\\u0432\\u043e\\u0439\", \"\\u0431\\u043e\\u043c\\u0431\\u0430\\u0440\\u0434\\u0438\\u0440\\u043e\\u0432\\u0449\\u0438\\u043a\", \"\\u0431\\u043e\\u043c\\u0431\\u0430\\u0440\\u0434\\u0438\\u0440\\u043e\\u0432\\u0449\\u0438\\u043a\", \"\\u0431\\u0440\\u0430\\u0442\", \"\\u0431\\u0443\\u0434\\u043d\\u0438\\u043c\\u0447\\u0441\", \"\\u0432\\u0430\\u043e\", \"\\u0432\\u0430\\u043e\", \"\\u0432\\u0430\\u0448\", \"\\u0432\\u0430\\u0448\", \"\\u0432\\u0430\\u0448\", \"\\u0432\\u0430\\u0448\", \"\\u0432\\u0435\\u0434\\u043e\\u043c\\u0441\\u0442\\u0432\\u043e\", \"\\u0432\\u0435\\u0434\\u043e\\u043c\\u0441\\u0442\\u0432\\u043e\", \"\\u0432\\u0435\\u0434\\u043e\\u043c\\u0441\\u0442\\u0432\\u043e\", \"\\u0432\\u0435\\u0434\\u043e\\u043c\\u0441\\u0442\\u0432\\u043e\", \"\\u0432\\u0435\\u043b\\u0438\\u043a\\u0438\\u0439\", \"\\u0432\\u0435\\u043b\\u0438\\u043a\\u0438\\u0439\", \"\\u0432\\u0435\\u043b\\u0438\\u043a\\u0438\\u0439\", \"\\u0432\\u0435\\u043b\\u0438\\u043a\\u0438\\u0439\", \"\\u0432\\u0435\\u043b\\u043e\\u0441\\u0438\\u043f\\u0435\\u0434\", \"\\u0432\\u0435\\u0440\\u0442\\u043e\\u043b\\u0435\\u0442\", \"\\u0432\\u0435\\u0441\\u0435\\u043d\\u043d\\u0438\\u0439\", \"\\u0432\\u0435\\u0441\\u0435\\u043d\\u043d\\u0438\\u0439\", \"\\u0432\\u0435\\u0442\\u0435\\u0440\\u0430\\u043d\", \"\\u0432\\u0435\\u0442\\u0435\\u0440\\u0430\\u043d\", \"\\u0432\\u0435\\u0442\\u0435\\u0440\\u0430\\u043d\", \"\\u0432\\u0437\\u0440\\u043e\\u0441\\u043b\\u044b\\u0439\", \"\\u0432\\u043a\\u0441\", \"\\u0432\\u043a\\u0441\", \"\\u0432\\u043d\\u0438\\u043c\\u0430\\u043d\\u0438\\u0435\", \"\\u0432\\u043d\\u0438\\u043c\\u0430\\u043d\\u0438\\u0435\", \"\\u0432\\u043d\\u0438\\u043c\\u0430\\u043d\\u0438\\u0435\", \"\\u0432\\u043d\\u0438\\u043c\\u0430\\u043d\\u0438\\u0435\", \"\\u0432\\u043d\\u0443\\u0442\\u0440\\u0435\\u043d\\u043d\\u0438\\u0439\", \"\\u0432\\u043d\\u0443\\u0442\\u0440\\u0435\\u043d\\u043d\\u0438\\u0439\", \"\\u0432\\u043d\\u0443\\u0442\\u0440\\u0435\\u043d\\u043d\\u0438\\u0439\", \"\\u0432\\u043d\\u0443\\u0442\\u0440\\u0435\\u043d\\u043d\\u0438\\u0439\", \"\\u0432\\u043e\\u0435\\u043d\\u043d\\u044b\\u0439\", \"\\u0432\\u043e\\u0435\\u043d\\u043d\\u044b\\u0439\", \"\\u0432\\u043e\\u0435\\u043d\\u043d\\u044b\\u0439\", \"\\u0432\\u043e\\u0437\\u0431\\u0443\\u0436\\u0434\\u0430\\u0442\\u044c\", \"\\u0432\\u043e\\u0437\\u0434\\u0443\\u0448\\u043d\\u044b\\u0439\", \"\\u0432\\u043e\\u0437\\u0434\\u0443\\u0448\\u043d\\u044b\\u0439\", \"\\u0432\\u043e\\u0438\\u043d\", \"\\u0432\\u043e\\u0439\\u043d\\u0430\", \"\\u0432\\u043e\\u0439\\u043d\\u0430\", \"\\u0432\\u043e\\u0439\\u043d\\u0430\", \"\\u0432\\u043e\\u0439\\u043d\\u0430\", \"\\u0432\\u043e\\u043b\\u043e\\u0441\", \"\\u0432\\u0440\\u0430\\u0436\\u0434\\u043e\\u0432\\u0430\\u0442\\u044c\", \"\\u0432\\u044b\\u0434\\u0430\\u0447\\u0430\", \"\\u0432\\u044b\\u0434\\u0430\\u0447\\u0430\", \"\\u0432\\u044b\\u043f\\u043e\\u043b\\u043d\\u044f\\u0442\\u044c\", \"\\u0432\\u044b\\u043f\\u043e\\u043b\\u043d\\u044f\\u0442\\u044c\", \"\\u0432\\u044b\\u043f\\u043e\\u043b\\u043d\\u044f\\u0442\\u044c\", \"\\u0432\\u044b\\u043f\\u043e\\u043b\\u043d\\u044f\\u0442\\u044c\", \"\\u0432\\u044b\\u0441\\u0442\\u0430\\u0432\\u043a\\u0430\", \"\\u0432\\u044b\\u0441\\u0442\\u0430\\u0432\\u043a\\u0430\", \"\\u0432\\u044b\\u0441\\u0442\\u0430\\u0432\\u043a\\u0430\", \"\\u0432\\u044b\\u0442\\u0430\\u0441\\u043a\\u0438\\u0432\\u0430\\u0442\\u044c\", \"\\u0432\\u044b\\u0445\\u043e\\u0434\\u043d\\u043e\\u0439\", \"\\u0432\\u044b\\u0445\\u043e\\u0434\\u043d\\u043e\\u0439\", \"\\u0432\\u044b\\u0445\\u043e\\u0434\\u043d\\u043e\\u0439\", \"\\u0432\\u044b\\u0445\\u043e\\u0434\\u043d\\u043e\\u0439\", \"\\u0433\\u0430\\u0437\\u0435\\u0442\\u0430\", \"\\u0433\\u0430\\u0437\\u0435\\u0442\\u0430\", \"\\u0433\\u0430\\u0437\\u0435\\u0442\\u0430\", \"\\u0433\\u0430\\u0437\\u0435\\u0442\\u0430\", \"\\u0433\\u0430\\u043b\\u0430\", \"\\u0433\\u0430\\u0448\\u0435\\u043d\\u0438\\u0435\", \"\\u0433\\u043b\\u0430\\u0437\", \"\\u0433\\u043b\\u0430\\u0437\", \"\\u0433\\u043b\\u0430\\u0437\", \"\\u0433\\u043e\\u0440\\u043e\\u0434\", \"\\u0433\\u043e\\u0440\\u043e\\u0434\", \"\\u0433\\u043e\\u0440\\u043e\\u0434\", \"\\u0433\\u043e\\u0440\\u043e\\u0434\", \"\\u0433\\u0440\\u0430\\u0431\\u0435\\u0436\", \"\\u0433\\u0440\\u0430\\u0436\\u0434\\u0430\\u043d\\u0438\\u043d\", \"\\u0433\\u0440\\u0430\\u0436\\u0434\\u0430\\u043d\\u0438\\u043d\", \"\\u0433\\u0440\\u0430\\u0436\\u0434\\u0430\\u043d\\u0438\\u043d\", \"\\u0433\\u0440\\u0430\\u0436\\u0434\\u0430\\u043d\\u0438\\u043d\", \"\\u0433\\u0440\\u0443\\u0437\", \"\\u0433\\u0440\\u0443\\u0437\", \"\\u0433\\u0443\", \"\\u0433\\u0443\", \"\\u0433\\u0443\\u043c\\u0430\\u043d\\u0438\\u0442\\u0430\\u0440\\u043d\\u044b\\u0439\", \"\\u0433\\u0443\\u043c\\u0430\\u043d\\u0438\\u0442\\u0430\\u0440\\u043d\\u044b\\u0439\", \"\\u0433\\u0443\\u043c\\u0430\\u043d\\u0438\\u0442\\u0430\\u0440\\u043d\\u044b\\u0439\", \"\\u0433\\u0443\\u0442\\u0430\", \"\\u0434\\u0432\\u0438\\u0436\\u0435\\u043d\\u0438\\u0435\", \"\\u0434\\u0432\\u0438\\u0436\\u0435\\u043d\\u0438\\u0435\", \"\\u0434\\u0432\\u0438\\u0436\\u0435\\u043d\\u0438\\u0435\", \"\\u0434\\u0432\\u0438\\u0436\\u0435\\u043d\\u0438\\u0435\", \"\\u0434\\u0435\\u0432\\u043e\\u0447\\u043a\\u0430\", \"\\u0434\\u0435\\u0434\", \"\\u0434\\u0435\\u043b\\u043e\", \"\\u0434\\u0435\\u043b\\u043e\", \"\\u0434\\u0435\\u043b\\u043e\", \"\\u0434\\u0435\\u043b\\u043e\", \"\\u0434\\u0435\\u0442\\u0441\\u043a\\u0438\\u0439\", \"\\u0434\\u0435\\u0442\\u0441\\u043a\\u0438\\u0439\", \"\\u0434\\u0435\\u0442\\u0441\\u043a\\u0438\\u0439\", \"\\u0434\\u0435\\u044f\\u0442\\u0435\\u043b\\u044c\", \"\\u0434\\u043e\\u0431\\u0440\\u044b\\u0439\", \"\\u0434\\u043e\\u0431\\u0440\\u044b\\u0439\", \"\\u0434\\u043e\\u0431\\u0440\\u044b\\u0439\", \"\\u0434\\u043e\\u043c\", \"\\u0434\\u043e\\u043c\", \"\\u0434\\u043e\\u043c\", \"\\u0434\\u043e\\u043c\", \"\\u0434\\u043e\\u043c\\u0430\", \"\\u0434\\u043e\\u0440\\u043e\\u0433\\u0430\", \"\\u0434\\u043e\\u0440\\u043e\\u0433\\u0430\", \"\\u0434\\u043e\\u0440\\u043e\\u0433\\u0430\", \"\\u0434\\u043e\\u0440\\u043e\\u0433\\u0430\", \"\\u0434\\u043e\\u0441\\u0442\\u0430\\u0432\\u043a\\u0430\", \"\\u0434\\u043e\\u0441\\u0442\\u0430\\u0432\\u043a\\u0430\", \"\\u0434\\u043e\\u0441\\u0442\\u0430\\u0432\\u043a\\u0430\", \"\\u0434\\u0440\\u0443\\u0433\", \"\\u0434\\u0440\\u0443\\u0433\", \"\\u0434\\u0440\\u0443\\u0433\", \"\\u0435\\u043b\\u043a\\u0430\", \"\\u0435\\u043b\\u043a\\u0430\", \"\\u0436\\u0438\\u0432\\u043e\\u0442\\u043d\\u043e\\u0435\", \"\\u0436\\u0438\\u0432\\u043e\\u0442\\u043d\\u043e\\u0435\", \"\\u0436\\u0438\\u0437\\u043d\\u044c\", \"\\u0436\\u0438\\u0437\\u043d\\u044c\", \"\\u0436\\u0438\\u0437\\u043d\\u044c\", \"\\u0436\\u0438\\u0437\\u043d\\u044c\", \"\\u0436\\u044e\\u0440\\u0438\", \"\\u0437\\u0430\\u0434\\u0435\\u0440\\u0436\\u0438\\u0432\\u0430\\u0442\\u044c\", \"\\u0437\\u0430\\u0434\\u0435\\u0440\\u0436\\u0438\\u0432\\u0430\\u0442\\u044c\", \"\\u0437\\u0430\\u0434\\u0435\\u0440\\u0436\\u0438\\u0432\\u0430\\u0442\\u044c\", \"\\u0437\\u0432\\u043e\", \"\\u0437\\u0432\\u043e\", \"\\u0437\\u043b\\u043e\\u0443\\u043c\\u044b\\u0448\\u043b\\u0435\\u043d\\u043d\\u0438\\u043a\", \"\\u0437\\u043b\\u043e\\u0443\\u043c\\u044b\\u0448\\u043b\\u0435\\u043d\\u043d\\u0438\\u043a\", \"\\u0438\\u0437\\u0431\\u0438\\u0440\\u0430\\u0442\\u044c\", \"\\u0438\\u0437\\u0434\\u0430\\u0432\\u0430\\u0442\\u044c\", \"\\u0438\\u0437\\u0434\\u0430\\u043d\\u0438\\u0435\", \"\\u0438\\u0437\\u0434\\u0430\\u043d\\u0438\\u0435\", \"\\u0438\\u0437\\u0434\\u0430\\u043d\\u0438\\u0435\", \"\\u0438\\u0437\\u043e\\u0431\\u0440\\u0430\\u0436\\u0430\\u0442\\u044c\", \"\\u0438\\u0437\\u043e\\u0431\\u0440\\u0430\\u0436\\u0430\\u0442\\u044c\", \"\\u0438\\u0437\\u043e\\u0431\\u0440\\u0430\\u0436\\u0430\\u0442\\u044c\", \"\\u0438\\u0437\\u044b\\u043c\\u0430\\u0442\\u044c\", \"\\u0438\\u043b\", \"\\u0438\\u043b\", \"\\u0438\\u043d\\u0442\\u0435\\u0440\\u043d\\u0435\\u0442\", \"\\u0438\\u043d\\u0442\\u0435\\u0440\\u043d\\u0435\\u0442\", \"\\u0438\\u043d\\u0442\\u0435\\u0440\\u043d\\u0435\\u0442\", \"\\u0438\\u043d\\u0442\\u0435\\u0440\\u043d\\u0435\\u0442\", \"\\u0438\\u0441\\u0442\\u043e\\u0440\\u0438\\u0447\\u0435\\u0441\\u043a\\u0438\\u0439\", \"\\u0438\\u0441\\u0442\\u043e\\u0440\\u0438\\u0447\\u0435\\u0441\\u043a\\u0438\\u0439\", \"\\u0438\\u0441\\u0442\\u043e\\u0440\\u0438\\u044f\", \"\\u0438\\u0441\\u0442\\u043e\\u0440\\u0438\\u044f\", \"\\u0438\\u0441\\u0442\\u043e\\u0440\\u0438\\u044f\", \"\\u0438\\u0441\\u0442\\u043e\\u0440\\u0438\\u044f\", \"\\u0438\\u0441\\u0442\\u0440\\u0435\\u0431\\u0438\\u0442\\u0435\\u043b\\u044c\", \"\\u043a\\u0430\", \"\\u043a\\u0430\\u0436\\u0434\\u044b\\u0439\", \"\\u043a\\u0430\\u0436\\u0434\\u044b\\u0439\", \"\\u043a\\u0430\\u0436\\u0434\\u044b\\u0439\", \"\\u043a\\u0430\\u0436\\u0434\\u044b\\u0439\", \"\\u043a\\u0430\\u043d\\u0438\\u043a\\u0443\\u043b\\u044b\", \"\\u043a\\u043b\\u0438\\u0435\\u043d\\u0442\", \"\\u043a\\u043b\\u0438\\u0435\\u043d\\u0442\", \"\\u043a\\u043b\\u0438\\u0435\\u043d\\u0442\", \"\\u043a\\u043b\\u0438\\u0435\\u043d\\u0442\", \"\\u043a\\u043e\\u043b\\u043b\\u0435\\u043a\\u0446\\u0438\\u043e\\u043d\\u0435\\u0440\", \"\\u043a\\u043e\\u043b\\u043b\\u0435\\u043a\\u0446\\u0438\\u044f\", \"\\u043a\\u043e\\u043c\\u043f\\u043b\\u0435\\u043a\\u0441\", \"\\u043a\\u043e\\u043c\\u043f\\u043b\\u0435\\u043a\\u0441\", \"\\u043a\\u043e\\u043c\\u043f\\u043b\\u0435\\u043a\\u0441\", \"\\u043a\\u043e\\u043c\\u043f\\u043b\\u0435\\u043a\\u0441\", \"\\u043a\\u043e\\u043d\\u043a\\u0443\\u0440\\u0441\", \"\\u043a\\u043e\\u043d\\u043a\\u0443\\u0440\\u0441\", \"\\u043a\\u043e\\u043d\\u043a\\u0443\\u0440\\u0441\", \"\\u043a\\u043e\\u043d\\u043a\\u0443\\u0440\\u0441\", \"\\u043a\\u043e\\u043d\\u0446\\u0435\\u0440\\u0442\\u043d\\u044b\\u0439\", \"\\u043a\\u043e\\u0440\\u0430\\u0431\\u043b\\u044c\", \"\\u043a\\u043e\\u0440\\u0430\\u0431\\u043b\\u044c\", \"\\u043a\\u043e\\u0440\\u0430\\u0431\\u043b\\u044c\", \"\\u043a\\u0440\\u0430\\u0436\\u0430\", \"\\u043b\\u0435\\u0442\\u0438\\u0435\", \"\\u043b\\u0435\\u0442\\u0438\\u0435\", \"\\u043b\\u0435\\u0442\\u0438\\u0435\", \"\\u043b\\u0435\\u0442\\u0438\\u0435\", \"\\u043b\\u0435\\u0442\\u043d\\u0438\\u0439\", \"\\u043b\\u0435\\u0442\\u043d\\u0438\\u0439\", \"\\u043b\\u0435\\u0442\\u043d\\u0438\\u0439\", \"\\u043b\\u0435\\u0442\\u043d\\u0438\\u0439\", \"\\u043c\\u0430\\u043b\\u0435\\u043d\\u044c\\u043a\\u0438\\u0439\", \"\\u043c\\u0430\\u043b\\u0435\\u043d\\u044c\\u043a\\u0438\\u0439\", \"\\u043c\\u0430\\u043b\\u0435\\u043d\\u044c\\u043a\\u0438\\u0439\", \"\\u043c\\u0430\\u043b\\u044b\\u0448\", \"\\u043c\\u0430\\u043b\\u044c\\u0447\\u0438\\u043a\", \"\\u043c\\u0430\\u043c\\u0430\", \"\\u043c\\u0430\\u0440\\u043a\\u0430\", \"\\u043c\\u0430\\u0440\\u043a\\u0430\", \"\\u043c\\u0430\\u0440\\u043a\\u0430\", \"\\u043c\\u0430\\u0440\\u043a\\u0430\", \"\\u043c\\u0432\\u0434\", \"\\u043c\\u0432\\u0434\", \"\\u043c\\u0432\\u0434\", \"\\u043c\\u0432\\u0434\", \"\\u043c\\u0432\\u0434\\u0440\\u043e\\u0441\\u0441\\u0438\\u044f\", \"\\u043c\\u0432\\u0434\\u0440\\u043e\\u0441\\u0441\\u0438\\u044f\", \"\\u043c\\u0435\\u0436\\u0434\\u0443\\u043d\\u0430\\u0440\\u043e\\u0434\\u043d\\u044b\\u0439\", \"\\u043c\\u0435\\u0436\\u0434\\u0443\\u043d\\u0430\\u0440\\u043e\\u0434\\u043d\\u044b\\u0439\", \"\\u043c\\u0435\\u0436\\u0434\\u0443\\u043d\\u0430\\u0440\\u043e\\u0434\\u043d\\u044b\\u0439\", \"\\u043c\\u0435\\u0436\\u0434\\u0443\\u043d\\u0430\\u0440\\u043e\\u0434\\u043d\\u044b\\u0439\", \"\\u043c\\u0435\\u0440\\u043e\\u043f\\u0440\\u0438\\u044f\\u0442\\u0438\\u0435\", \"\\u043c\\u0435\\u0440\\u043e\\u043f\\u0440\\u0438\\u044f\\u0442\\u0438\\u0435\", \"\\u043c\\u0435\\u0440\\u043e\\u043f\\u0440\\u0438\\u044f\\u0442\\u0438\\u0435\", \"\\u043c\\u0435\\u0440\\u043e\\u043f\\u0440\\u0438\\u044f\\u0442\\u0438\\u0435\", \"\\u043c\\u0438\", \"\\u043c\\u0438\", \"\\u043c\\u0438\\u0433\", \"\\u043c\\u0438\\u043d\\u0438\\u0441\\u0442\\u0440\", \"\\u043c\\u0438\\u043d\\u0438\\u0441\\u0442\\u0440\", \"\\u043c\\u0438\\u043d\\u0438\\u0441\\u0442\\u0440\", \"\\u043c\\u0438\\u043d\\u043e\\u0431\\u043e\\u0440\\u043e\\u043d\\u044b\", \"\\u043c\\u0438\\u043d\\u043e\\u0431\\u043e\\u0440\\u043e\\u043d\\u044b\", \"\\u043c\\u0438\\u0440\", \"\\u043c\\u0438\\u0440\", \"\\u043c\\u0438\\u0440\", \"\\u043c\\u0438\\u0440\", \"\\u043c\\u0438\\u0448\\u0435\\u043d\\u044c\", \"\\u043c\\u0438\\u0448\\u0435\\u043d\\u044c\", \"\\u043c\\u043c\\u043f\\u043e\", \"\\u043c\\u043e\\u0440\\u043e\\u0437\", \"\\u043c\\u043e\\u0440\\u0441\\u043a\\u043e\\u0439\", \"\\u043c\\u043e\\u0440\\u0441\\u043a\\u043e\\u0439\", \"\\u043c\\u043e\\u0441\\u043a\\u0432\\u0430\", \"\\u043c\\u043e\\u0441\\u043a\\u0432\\u0430\", \"\\u043c\\u043e\\u0441\\u043a\\u0432\\u0430\", \"\\u043c\\u043e\\u0441\\u043a\\u0432\\u0430\", \"\\u043c\\u043e\\u0441\\u043a\\u043e\\u0432\\u0441\\u043a\\u0438\\u0439\", \"\\u043c\\u043e\\u0441\\u043a\\u043e\\u0432\\u0441\\u043a\\u0438\\u0439\", \"\\u043c\\u043e\\u0441\\u043a\\u043e\\u0432\\u0441\\u043a\\u0438\\u0439\", \"\\u043c\\u043e\\u0441\\u043a\\u043e\\u0432\\u0441\\u043a\\u0438\\u0439\", \"\\u043c\\u043e\\u0448\\u0435\\u043d\\u043d\\u0438\\u0447\\u0435\\u0441\\u0442\\u0432\\u043e\", \"\\u043c\\u043e\\u0448\\u0435\\u043d\\u043d\\u0438\\u0447\\u0435\\u0441\\u0442\\u0432\\u043e\", \"\\u043c\\u0443\\u0437\\u0435\\u0439\", \"\\u043c\\u0443\\u0437\\u0435\\u0439\", \"\\u043c\\u0443\\u0437\\u0435\\u0439\", \"\\u043c\\u0447\\u0441\", \"\\u043c\\u0447\\u0441\", \"\\u043c\\u0447\\u0441\", \"\\u043c\\u0447\\u0441\", \"\\u043c\\u0447\\u0441\\u0440\\u043e\\u0441\\u0441\\u0438\\u044f\", \"\\u043c\\u0447\\u0441\\u0440\\u043e\\u0441\\u0441\\u0438\\u044f\", \"\\u043c\\u0447\\u0441\\u0440\\u043e\\u0441\\u0441\\u0438\\u044f\", \"\\u043d\\u0430\\u0440\\u043a\\u043e\\u0442\\u0438\\u043a\", \"\\u043d\\u0430\\u0440\\u043a\\u043e\\u0442\\u0438\\u0447\\u0435\\u0441\\u043a\\u0438\\u0439\", \"\\u043d\\u0430\\u0441\\u0435\\u043b\\u0435\\u043d\\u043d\\u044b\\u0439\", \"\\u043d\\u0430\\u0441\\u0435\\u043b\\u0435\\u043d\\u043d\\u044b\\u0439\", \"\\u043d\\u0430\\u0441\\u0435\\u043b\\u0435\\u043d\\u043d\\u044b\\u0439\", \"\\u043d\\u0430\\u0441\\u0442\\u0440\\u043e\\u0435\\u043d\\u0438\\u0435\", \"\\u043d\\u0430\\u0447\\u0430\\u043b\\u044c\\u043d\\u0438\\u043a\", \"\\u043d\\u0430\\u0447\\u0430\\u043b\\u044c\\u043d\\u0438\\u043a\", \"\\u043d\\u0430\\u0447\\u0430\\u043b\\u044c\\u043d\\u0438\\u043a\", \"\\u043d\\u0430\\u0447\\u0430\\u043b\\u044c\\u043d\\u0438\\u043a\", \"\\u043d\\u043e\\u0432\\u043e\\u0433\\u043e\\u0434\\u043d\\u0438\\u0439\", \"\\u043d\\u043e\\u0432\\u043e\\u0433\\u043e\\u0434\\u043d\\u0438\\u0439\", \"\\u043d\\u043e\\u0432\\u043e\\u0433\\u043e\\u0434\\u043d\\u0438\\u0439\", \"\\u043d\\u043e\\u0432\\u043e\\u0433\\u043e\\u0434\\u043d\\u0438\\u0439\", \"\\u043d\\u043e\\u0432\\u043e\\u0441\\u0442\\u044c\", \"\\u043d\\u043e\\u0432\\u043e\\u0441\\u0442\\u044c\", \"\\u043d\\u043e\\u0432\\u043e\\u0441\\u0442\\u044c\", \"\\u043d\\u043e\\u0432\\u043e\\u0441\\u0442\\u044c\", \"\\u043d\\u043e\\u0432\\u044b\\u0439\", \"\\u043d\\u043e\\u0432\\u044b\\u0439\", \"\\u043d\\u043e\\u0432\\u044b\\u0439\", \"\\u043d\\u043e\\u0432\\u044b\\u0439\", \"\\u043d\\u043e\\u043c\\u0438\\u043d\\u0430\\u043b\", \"\\u043d\\u043e\\u043c\\u0438\\u043d\\u0430\\u0446\\u0438\\u044f\", \"\\u043d\\u043e\\u043c\\u0438\\u043d\\u0430\\u0446\\u0438\\u044f\", \"\\u043e\\u0431\\u043b\\u0430\\u0441\\u0442\\u044c\", \"\\u043e\\u0431\\u043b\\u0430\\u0441\\u0442\\u044c\", \"\\u043e\\u0431\\u043b\\u0430\\u0441\\u0442\\u044c\", \"\\u043e\\u0431\\u043b\\u0430\\u0441\\u0442\\u044c\", \"\\u043e\\u0431\\u0440\\u0430\\u0431\\u043e\\u0442\\u043a\\u0430\", \"\\u043e\\u0431\\u0440\\u0430\\u0431\\u043e\\u0442\\u043a\\u0430\", \"\\u043e\\u0431\\u0440\\u0430\\u0431\\u043e\\u0442\\u043a\\u0430\", \"\\u043e\\u0431\\u0449\\u0435\\u0441\\u0442\\u0432\\u0435\\u043d\\u043d\\u044b\\u0439\", \"\\u043e\\u0431\\u0449\\u0435\\u0441\\u0442\\u0432\\u0435\\u043d\\u043d\\u044b\\u0439\", \"\\u043e\\u0431\\u0449\\u0435\\u0441\\u0442\\u0432\\u0435\\u043d\\u043d\\u044b\\u0439\", \"\\u043e\\u0434\\u0435\\u0432\\u0430\\u0442\\u044c\", \"\\u043e\\u0434\\u0435\\u0432\\u0430\\u0442\\u044c\", \"\\u043e\\u043b\\u0438\\u043c\\u043f\\u0438\\u0439\\u0441\\u043a\\u0438\\u0439\", \"\\u043e\\u043b\\u0438\\u043c\\u043f\\u0438\\u0439\\u0441\\u043a\\u0438\\u0439\", \"\\u043e\\u043b\\u0438\\u043c\\u043f\\u0438\\u0439\\u0441\\u043a\\u0438\\u0439\", \"\\u043e\\u043c\\u0432\\u0434\", \"\\u043e\\u043c\\u0432\\u0434\", \"\\u043e\\u043f\\u0435\\u0440\\u0430\\u0442\\u0438\\u0432\\u043d\\u0438\\u043a\", \"\\u043e\\u0440\\u0433\\u0430\\u043d\", \"\\u043e\\u0440\\u0433\\u0430\\u043d\", \"\\u043e\\u0440\\u0433\\u0430\\u043d\", \"\\u043e\\u0440\\u0433\\u0430\\u043d\", \"\\u043e\\u0442\\u0434\\u0435\\u043b\", \"\\u043e\\u0442\\u0434\\u0435\\u043b\", \"\\u043e\\u0442\\u0434\\u0435\\u043b\", \"\\u043e\\u0442\\u0434\\u0435\\u043b\\u0435\\u043d\\u0438\\u0435\", \"\\u043e\\u0442\\u0434\\u0435\\u043b\\u0435\\u043d\\u0438\\u0435\", \"\\u043e\\u0442\\u0434\\u0435\\u043b\\u0435\\u043d\\u0438\\u0435\", \"\\u043e\\u0442\\u0434\\u0435\\u043b\\u0435\\u043d\\u0438\\u0435\", \"\\u043e\\u0442\\u0435\\u0447\\u0435\\u0441\\u0442\\u0432\\u0435\\u043d\\u043d\\u044b\\u0439\", \"\\u043e\\u0442\\u0435\\u0447\\u0435\\u0441\\u0442\\u0432\\u0435\\u043d\\u043d\\u044b\\u0439\", \"\\u043e\\u0442\\u0435\\u0447\\u0435\\u0441\\u0442\\u0432\\u0435\\u043d\\u043d\\u044b\\u0439\", \"\\u043e\\u0442\\u0435\\u0447\\u0435\\u0441\\u0442\\u0432\\u0435\\u043d\\u043d\\u044b\\u0439\", \"\\u043e\\u0442\\u043a\\u0440\\u044b\\u0442\\u043a\\u0430\", \"\\u043e\\u0442\\u043a\\u0440\\u044b\\u0442\\u043a\\u0430\", \"\\u043e\\u0442\\u043a\\u0440\\u044b\\u0442\\u043a\\u0430\", \"\\u043e\\u0442\\u043c\\u0435\\u0447\\u0430\\u0442\\u044c\", \"\\u043e\\u0442\\u043c\\u0435\\u0447\\u0430\\u0442\\u044c\", \"\\u043e\\u0442\\u043c\\u0435\\u0447\\u0430\\u0442\\u044c\", \"\\u043e\\u0442\\u043c\\u0435\\u0447\\u0430\\u0442\\u044c\", \"\\u043e\\u0442\\u043f\\u0440\\u0430\\u0432\\u043b\\u0435\\u043d\\u0438\\u0435\", \"\\u043e\\u0442\\u043f\\u0440\\u0430\\u0432\\u043b\\u0435\\u043d\\u0438\\u0435\", \"\\u043e\\u0442\\u043f\\u0440\\u0430\\u0432\\u043b\\u0435\\u043d\\u0438\\u0435\", \"\\u043e\\u0442\\u0440\\u0430\\u0431\\u0430\\u0442\\u044b\\u0432\\u0430\\u0442\\u044c\", \"\\u043e\\u0442\\u0440\\u0430\\u0431\\u0430\\u0442\\u044b\\u0432\\u0430\\u0442\\u044c\", \"\\u043e\\u0442\\u0441\\u043b\\u0435\\u0436\\u0438\\u0432\\u0430\\u0442\\u044c\", \"\\u043e\\u0442\\u0442\\u0438\\u0441\\u043a\", \"\\u043e\\u0442\\u0442\\u0438\\u0441\\u043a\", \"\\u043f\\u0430\\u043c\\u044f\\u0442\\u043a\\u0430\\u043c\\u0447\\u0441\", \"\\u043f\\u0435\\u0440\\u0432\\u044b\\u0439\", \"\\u043f\\u0435\\u0440\\u0432\\u044b\\u0439\", \"\\u043f\\u0435\\u0440\\u0432\\u044b\\u0439\", \"\\u043f\\u0435\\u0440\\u0432\\u044b\\u0439\", \"\\u043f\\u0435\\u0442\\u0440\\u043e\\u0432\\u043a\\u0430\", \"\\u043f\\u0435\\u0442\\u0440\\u043e\\u0432\\u043a\\u0430\", \"\\u043f\\u0435\\u0442\\u0440\\u043e\\u0432\\u043a\\u0430\", \"\\u043f\\u0435\\u0442\\u0440\\u043e\\u0432\\u043a\\u0430\", \"\\u043f\\u0438\\u0441\\u044c\\u043c\\u043e\", \"\\u043f\\u0438\\u0441\\u044c\\u043c\\u043e\", \"\\u043f\\u0438\\u0441\\u044c\\u043c\\u043e\", \"\\u043f\\u0438\\u0442\\u043e\\u043c\\u0435\\u0446\", \"\\u043f\\u043b\\u0430\\u0442\\u0435\\u0436\", \"\\u043f\\u043b\\u0430\\u0442\\u0435\\u0436\", \"\\u043f\\u043b\\u0430\\u0442\\u0435\\u0436\", \"\\u043f\\u043e\\u0431\\u0435\\u0434\\u0430\", \"\\u043f\\u043e\\u0431\\u0435\\u0434\\u0430\", \"\\u043f\\u043e\\u0431\\u0435\\u0434\\u0430\", \"\\u043f\\u043e\\u0431\\u0435\\u0434\\u0430\", \"\\u043f\\u043e\\u0431\\u0435\\u0434\\u0438\\u0442\\u0435\\u043b\\u044c\", \"\\u043f\\u043e\\u0431\\u0435\\u0434\\u0438\\u0442\\u0435\\u043b\\u044c\", \"\\u043f\\u043e\\u0433\\u043e\\u0434\\u0430\", \"\\u043f\\u043e\\u0434\\u043e\\u0437\\u0440\\u0435\\u0432\\u0430\\u0435\\u043c\\u044b\\u0439\", \"\\u043f\\u043e\\u0434\\u043e\\u0437\\u0440\\u0435\\u043d\\u0438\\u0435\", \"\\u043f\\u043e\\u0434\\u043f\\u0438\\u0441\\u043d\\u043e\\u0439\", \"\\u043f\\u043e\\u0434\\u0440\\u0430\\u0437\\u0434\\u0435\\u043b\\u0435\\u043d\\u0438\\u0435\", \"\\u043f\\u043e\\u0434\\u0440\\u0430\\u0437\\u0434\\u0435\\u043b\\u0435\\u043d\\u0438\\u0435\", \"\\u043f\\u043e\\u0434\\u0440\\u0430\\u0437\\u0434\\u0435\\u043b\\u0435\\u043d\\u0438\\u0435\", \"\\u043f\\u043e\\u0434\\u0440\\u0430\\u0437\\u0434\\u0435\\u043b\\u0435\\u043d\\u0438\\u0435\", \"\\u043f\\u043e\\u0436\\u0430\\u0440\", \"\\u043f\\u043e\\u0436\\u0430\\u0440\", \"\\u043f\\u043e\\u0436\\u0430\\u0440\\u043d\\u044b\\u0439\", \"\\u043f\\u043e\\u0436\\u0430\\u0440\\u043d\\u044b\\u0439\", \"\\u043f\\u043e\\u0436\\u0430\\u0440\\u043d\\u044b\\u0439\", \"\\u043f\\u043e\\u0437\\u0432\\u043e\\u043b\\u044f\\u0442\\u044c\", \"\\u043f\\u043e\\u0437\\u0432\\u043e\\u043b\\u044f\\u0442\\u044c\", \"\\u043f\\u043e\\u0437\\u0432\\u043e\\u043b\\u044f\\u0442\\u044c\", \"\\u043f\\u043e\\u0437\\u0432\\u043e\\u043b\\u044f\\u0442\\u044c\", \"\\u043f\\u043e\\u043b\\u0438\\u0433\\u043e\\u043d\", \"\\u043f\\u043e\\u043b\\u0438\\u0433\\u043e\\u043d\", \"\\u043f\\u043e\\u043b\\u0438\\u0442\\u0438\\u0447\\u0435\\u0441\\u043a\\u0438\\u0439\", \"\\u043f\\u043e\\u043b\\u0438\\u0442\\u0438\\u0447\\u0435\\u0441\\u043a\\u0438\\u0439\", \"\\u043f\\u043e\\u043b\\u0438\\u0442\\u0438\\u0447\\u0435\\u0441\\u043a\\u0438\\u0439\", \"\\u043f\\u043e\\u043b\\u0438\\u0446\\u0435\\u0439\\u0441\\u043a\\u0438\\u0439\", \"\\u043f\\u043e\\u043b\\u0438\\u0446\\u0435\\u0439\\u0441\\u043a\\u0438\\u0439\", \"\\u043f\\u043e\\u043b\\u0438\\u0446\\u0435\\u0439\\u0441\\u043a\\u0438\\u0439\", \"\\u043f\\u043e\\u043b\\u0438\\u0446\\u0435\\u0439\\u0441\\u043a\\u0438\\u0439\", \"\\u043f\\u043e\\u043b\\u0438\\u0446\\u0438\\u044f\", \"\\u043f\\u043e\\u043b\\u0438\\u0446\\u0438\\u044f\", \"\\u043f\\u043e\\u043b\\u0438\\u0446\\u0438\\u044f\", \"\\u043f\\u043e\\u043b\\u0438\\u0446\\u0438\\u044f\", \"\\u043f\\u043e\\u043b\\u0438\\u0446\\u0438\\u044f\\u0440\\u043e\\u0441\\u0441\\u0438\\u044f\", \"\\u043f\\u043e\\u043b\\u0438\\u0446\\u0438\\u044f\\u0440\\u043e\\u0441\\u0441\\u0438\\u044f\", \"\\u043f\\u043e\\u043c\\u043e\\u0433\\u0430\\u0442\\u044c\", \"\\u043f\\u043e\\u043c\\u043e\\u0433\\u0430\\u0442\\u044c\", \"\\u043f\\u043e\\u043c\\u043e\\u0433\\u0430\\u0442\\u044c\", \"\\u043f\\u043e\\u043c\\u043e\\u0433\\u0430\\u0442\\u044c\", \"\\u043f\\u043e\\u043c\\u043e\\u0449\\u044c\", \"\\u043f\\u043e\\u043c\\u043e\\u0449\\u044c\", \"\\u043f\\u043e\\u043c\\u043e\\u0449\\u044c\", \"\\u043f\\u043e\\u043c\\u043e\\u0449\\u044c\", \"\\u043f\\u043e\\u0440\\u0430\\u0436\\u0435\\u043d\\u0438\\u0435\", \"\\u043f\\u043e\\u0441\\u0430\\u0434\\u043a\\u0430\", \"\\u043f\\u043e\\u0441\\u0432\\u044f\\u0449\\u0430\\u0442\\u044c\", \"\\u043f\\u043e\\u0441\\u0432\\u044f\\u0449\\u0430\\u0442\\u044c\", \"\\u043f\\u043e\\u0441\\u0432\\u044f\\u0449\\u0430\\u0442\\u044c\", \"\\u043f\\u043e\\u0441\\u044b\\u043b\\u043a\\u0430\", \"\\u043f\\u043e\\u0441\\u044b\\u043b\\u043a\\u0430\", \"\\u043f\\u043e\\u0441\\u044b\\u043b\\u043a\\u0430\", \"\\u043f\\u043e\\u0445\\u0438\\u0449\\u0430\\u0442\\u044c\", \"\\u043f\\u043e\\u0447\\u0442\\u0430\", \"\\u043f\\u043e\\u0447\\u0442\\u0430\", \"\\u043f\\u043e\\u0447\\u0442\\u0430\", \"\\u043f\\u043e\\u0447\\u0442\\u0430\\u043b\\u044c\\u043e\\u043d\", \"\\u043f\\u043e\\u0447\\u0442\\u0430\\u043b\\u044c\\u043e\\u043d\", \"\\u043f\\u043e\\u0447\\u0442\\u0430\\u043b\\u044c\\u043e\\u043d\", \"\\u043f\\u043e\\u0447\\u0442\\u043e\\u0432\\u044b\\u0439\", \"\\u043f\\u043e\\u0447\\u0442\\u043e\\u0432\\u044b\\u0439\", \"\\u043f\\u043e\\u0447\\u0442\\u043e\\u0432\\u044b\\u0439\", \"\\u043f\\u043e\\u0447\\u0442\\u043e\\u043c\\u0430\\u0442\", \"\\u043f\\u0440\\u0430\\u0432\\u0438\\u043b\\u043e\", \"\\u043f\\u0440\\u0430\\u0432\\u0438\\u043b\\u043e\", \"\\u043f\\u0440\\u0430\\u0432\\u0438\\u043b\\u043e\", \"\\u043f\\u0440\\u0430\\u0432\\u0438\\u043b\\u043e\", \"\\u043f\\u0440\\u0435\\u0434\\u0443\\u0441\\u043c\\u043e\\u0442\\u0440\\u0435\\u043d\\u043d\\u044b\\u0439\", \"\\u043f\\u0440\\u0435\\u0434\\u0443\\u0441\\u043c\\u043e\\u0442\\u0440\\u0435\\u043d\\u043d\\u044b\\u0439\", \"\\u043f\\u0440\\u0435\\u0441\\u0435\\u0447\\u0435\\u043d\\u0438\\u0435\", \"\\u043f\\u0440\\u0435\\u0441\\u0442\\u0443\\u043f\\u043b\\u0435\\u043d\\u0438\\u0435\", \"\\u043f\\u0440\\u0438\\u0437\\u043d\\u0430\\u043a\", \"\\u043f\\u0440\\u0438\\u0437\\u043d\\u0430\\u043a\", \"\\u043f\\u0440\\u0438\\u0437\\u043d\\u0430\\u043a\", \"\\u043f\\u0440\\u0438\\u043c\\u0435\\u0442\\u0430\", \"\\u043f\\u0440\\u0438\\u043c\\u0435\\u0442\\u0430\", \"\\u043f\\u0440\\u0438\\u043c\\u0438\\u0440\\u0435\\u043d\\u0438\\u0435\", \"\\u043f\\u0440\\u0438\\u043d\\u0438\\u043c\\u0430\\u0442\\u044c\", \"\\u043f\\u0440\\u0438\\u043d\\u0438\\u043c\\u0430\\u0442\\u044c\", \"\\u043f\\u0440\\u0438\\u043d\\u0438\\u043c\\u0430\\u0442\\u044c\", \"\\u043f\\u0440\\u0438\\u043d\\u0438\\u043c\\u0430\\u0442\\u044c\", \"\\u043f\\u0440\\u043e\\u0442\\u0438\\u0432\\u043d\\u0438\\u043a\", \"\\u043f\\u0440\\u043e\\u0442\\u0438\\u0432\\u043d\\u0438\\u043a\", \"\\u043f\\u0440\\u043e\\u0442\\u0438\\u0432\\u043e\\u043f\\u0440\\u0430\\u0432\\u043d\\u044b\\u0439\", \"\\u043f\\u0440\\u043e\\u0445\\u043e\\u0434\\u0438\\u0442\\u044c\", \"\\u043f\\u0440\\u043e\\u0445\\u043e\\u0434\\u0438\\u0442\\u044c\", \"\\u043f\\u0440\\u043e\\u0445\\u043e\\u0434\\u0438\\u0442\\u044c\", \"\\u043f\\u0440\\u043e\\u0445\\u043e\\u0434\\u0438\\u0442\\u044c\", \"\\u043f\\u0441\\u0438\\u0445\\u043e\\u0442\\u0440\\u043e\\u043f\\u043d\\u044b\\u0439\", \"\\u043f\\u0443\\u043d\\u043a\\u0442\", \"\\u043f\\u0443\\u043d\\u043a\\u0442\", \"\\u043f\\u0443\\u043d\\u043a\\u0442\", \"\\u043f\\u0443\\u043d\\u043a\\u0442\", \"\\u043f\\u0443\\u0442\\u0438\\u043d\", \"\\u043f\\u0443\\u0442\\u0438\\u043d\", \"\\u0440\\u0430\\u0431\\u043e\\u0442\\u0430\", \"\\u0440\\u0430\\u0431\\u043e\\u0442\\u0430\", \"\\u0440\\u0430\\u0431\\u043e\\u0442\\u0430\", \"\\u0440\\u0430\\u0431\\u043e\\u0442\\u0430\", \"\\u0440\\u0430\\u0431\\u043e\\u0442\\u0430\\u0442\\u044c\", \"\\u0440\\u0430\\u0431\\u043e\\u0442\\u0430\\u0442\\u044c\", \"\\u0440\\u0430\\u0431\\u043e\\u0442\\u0430\\u0442\\u044c\", \"\\u0440\\u0430\\u0431\\u043e\\u0442\\u0430\\u0442\\u044c\", \"\\u0440\\u0430\\u0437\\u0432\\u0438\\u0442\\u0438\\u0435\", \"\\u0440\\u0430\\u0437\\u0432\\u0438\\u0442\\u0438\\u0435\", \"\\u0440\\u0430\\u0437\\u0432\\u0438\\u0442\\u0438\\u0435\", \"\\u0440\\u0430\\u0437\\u0432\\u0438\\u0442\\u0438\\u0435\", \"\\u0440\\u0430\\u0437\\u044b\\u0441\\u043a\\u0438\\u0432\\u0430\\u0442\\u044c\", \"\\u0440\\u0430\\u0437\\u044b\\u0441\\u043a\\u0438\\u0432\\u0430\\u0442\\u044c\", \"\\u0440\\u0430\\u0439\\u043e\\u043d\", \"\\u0440\\u0430\\u0439\\u043e\\u043d\", \"\\u0440\\u0430\\u0439\\u043e\\u043d\", \"\\u0440\\u0430\\u0439\\u043e\\u043d\", \"\\u0440\\u0430\\u043a\\u0435\\u0442\\u0430\", \"\\u0440\\u0430\\u043a\\u0435\\u0442\\u0430\", \"\\u0440\\u0430\\u043a\\u0435\\u0442\\u043d\\u044b\\u0439\", \"\\u0440\\u0430\\u043a\\u0435\\u0442\\u043d\\u044b\\u0439\", \"\\u0440\\u0430\\u0441\\u0441\\u043a\\u0430\\u0437\\u044b\\u0432\\u0430\\u0442\\u044c\", \"\\u0440\\u0430\\u0441\\u0441\\u043a\\u0430\\u0437\\u044b\\u0432\\u0430\\u0442\\u044c\", \"\\u0440\\u0430\\u0441\\u0441\\u043a\\u0430\\u0437\\u044b\\u0432\\u0430\\u0442\\u044c\", \"\\u0440\\u0430\\u0441\\u0441\\u043a\\u0430\\u0437\\u044b\\u0432\\u0430\\u0442\\u044c\", \"\\u0440\\u0435\\u0431\\u0435\\u043d\\u043e\\u043a\", \"\\u0440\\u0435\\u0431\\u0435\\u043d\\u043e\\u043a\", \"\\u0440\\u0435\\u0431\\u0435\\u043d\\u043e\\u043a\", \"\\u0440\\u0435\\u0431\\u044f\\u0442\\u0430\", \"\\u0440\\u0435\\u0431\\u044f\\u0442\\u0430\", \"\\u0440\\u0435\\u0431\\u044f\\u0442\\u0430\", \"\\u0440\\u043e\\u0434\\u0438\\u0442\\u0435\\u043b\\u044c\", \"\\u0440\\u043e\\u0434\\u0438\\u0442\\u0435\\u043b\\u044c\", \"\\u0440\\u043e\\u0434\\u0438\\u0442\\u0435\\u043b\\u044c\", \"\\u0440\\u043e\\u0437\\u044b\\u0441\\u043a\", \"\\u0440\\u043e\\u0437\\u044b\\u0441\\u043a\", \"\\u0440\\u043e\\u0437\\u044b\\u0441\\u043a\", \"\\u0440\\u043e\\u0441\\u0441\\u0438\\u0439\\u0441\\u043a\\u0438\\u0439\", \"\\u0440\\u043e\\u0441\\u0441\\u0438\\u0439\\u0441\\u043a\\u0438\\u0439\", \"\\u0440\\u043e\\u0441\\u0441\\u0438\\u0439\\u0441\\u043a\\u0438\\u0439\", \"\\u0440\\u043e\\u0441\\u0441\\u0438\\u0439\\u0441\\u043a\\u0438\\u0439\", \"\\u0440\\u043e\\u0441\\u0441\\u0438\\u044f\", \"\\u0440\\u043e\\u0441\\u0441\\u0438\\u044f\", \"\\u0440\\u043e\\u0441\\u0441\\u0438\\u044f\", \"\\u0440\\u043e\\u0441\\u0441\\u0438\\u044f\", \"\\u0440\\u0443\\u043a\\u0430\", \"\\u0440\\u0443\\u043a\\u0430\", \"\\u0440\\u0443\\u043a\\u0430\", \"\\u0440\\u0443\\u043a\\u0430\", \"\\u0440\\u0444\", \"\\u0440\\u0444\", \"\\u0440\\u0444\", \"\\u0440\\u0444\", \"\\u0441\\u0430\\u0439\\u0442\", \"\\u0441\\u0430\\u0439\\u0442\", \"\\u0441\\u0430\\u0439\\u0442\", \"\\u0441\\u0430\\u0439\\u0442\", \"\\u0441\\u0430\\u043c\\u043e\\u043b\\u0435\\u0442\", \"\\u0441\\u0430\\u043c\\u043e\\u043b\\u0435\\u0442\", \"\\u0441\\u0430\\u043c\\u043e\\u043b\\u0435\\u0442\", \"\\u0441\\u0430\\u043c\\u044b\\u0439\", \"\\u0441\\u0430\\u043c\\u044b\\u0439\", \"\\u0441\\u0430\\u043c\\u044b\\u0439\", \"\\u0441\\u0430\\u043c\\u044b\\u0439\", \"\\u0441\\u0431\\u044b\\u0442\", \"\\u0441\\u0432\\u0435\\u0442\\u043e\\u0432\\u043e\\u0437\\u0432\\u0440\\u0430\\u0449\\u0430\\u044e\\u0449\\u0438\\u0439\", \"\\u0441\\u0432\\u0435\\u0442\\u043e\\u043e\\u0442\\u0440\\u0430\\u0436\\u0430\\u044e\\u0449\\u0438\\u0439\", \"\\u0441\\u0435\\u0433\\u043e\\u0434\\u043d\\u044f\", \"\\u0441\\u0435\\u0433\\u043e\\u0434\\u043d\\u044f\", \"\\u0441\\u0435\\u0433\\u043e\\u0434\\u043d\\u044f\", \"\\u0441\\u0435\\u0433\\u043e\\u0434\\u043d\\u044f\", \"\\u0441\\u0435\\u043c\\u044c\\u044f\", \"\\u0441\\u0435\\u043c\\u044c\\u044f\", \"\\u0441\\u0435\\u043c\\u044c\\u044f\", \"\\u0441\\u0435\\u043c\\u044c\\u044f\", \"\\u0441\\u0435\\u0440\\u0432\\u0438\\u0441\", \"\\u0441\\u0435\\u0440\\u0432\\u0438\\u0441\", \"\\u0441\\u0435\\u0440\\u0432\\u0438\\u0441\", \"\\u0441\\u0438\\u0440\\u0438\\u044f\", \"\\u0441\\u0438\\u0440\\u0438\\u044f\", \"\\u0441\\u0438\\u0441\\u0442\\u0435\\u043c\\u0430\", \"\\u0441\\u0438\\u0441\\u0442\\u0435\\u043c\\u0430\", \"\\u0441\\u0438\\u0441\\u0442\\u0435\\u043c\\u0430\", \"\\u0441\\u0438\\u0441\\u0442\\u0435\\u043c\\u0430\", \"\\u0441\\u043b\\u0435\\u0434\\u0441\\u0442\\u0432\\u0435\\u043d\\u043d\\u044b\\u0439\", \"\\u0441\\u043b\\u0443\\u0436\\u0431\\u0430\", \"\\u0441\\u043b\\u0443\\u0436\\u0431\\u0430\", \"\\u0441\\u043b\\u0443\\u0436\\u0431\\u0430\", \"\\u0441\\u043b\\u0443\\u0436\\u0431\\u0430\", \"\\u0441\\u043e\\u0432\\u0435\\u0442\\u0441\\u043a\\u0438\\u0439\", \"\\u0441\\u043e\\u0432\\u0435\\u0442\\u0441\\u043a\\u0438\\u0439\", \"\\u0441\\u043e\\u0432\\u0435\\u0442\\u0441\\u043a\\u0438\\u0439\", \"\\u0441\\u043e\\u0432\\u0435\\u0442\\u0441\\u043a\\u0438\\u0439\", \"\\u0441\\u043e\\u0441\\u0442\\u043e\\u044f\\u0442\\u044c\\u0441\\u044f\", \"\\u0441\\u043e\\u0441\\u0442\\u043e\\u044f\\u0442\\u044c\\u0441\\u044f\", \"\\u0441\\u043e\\u0441\\u0442\\u043e\\u044f\\u0442\\u044c\\u0441\\u044f\", \"\\u0441\\u043e\\u0441\\u0442\\u043e\\u044f\\u0442\\u044c\\u0441\\u044f\", \"\\u0441\\u043e\\u0442\\u0440\\u0443\\u0434\\u043d\\u0438\\u043a\", \"\\u0441\\u043e\\u0442\\u0440\\u0443\\u0434\\u043d\\u0438\\u043a\", \"\\u0441\\u043e\\u0442\\u0440\\u0443\\u0434\\u043d\\u0438\\u043a\", \"\\u0441\\u043e\\u0442\\u0440\\u0443\\u0434\\u043d\\u0438\\u043a\", \"\\u0441\\u043e\\u0442\\u0440\\u0443\\u0434\\u043d\\u0438\\u0447\\u0435\\u0441\\u0442\\u0432\\u043e\", \"\\u0441\\u043e\\u0442\\u0440\\u0443\\u0434\\u043d\\u0438\\u0447\\u0435\\u0441\\u0442\\u0432\\u043e\", \"\\u0441\\u043e\\u0442\\u0440\\u0443\\u0434\\u043d\\u0438\\u0447\\u0435\\u0441\\u0442\\u0432\\u043e\", \"\\u0441\\u043f\\u0430\\u0441\\u0430\\u0442\\u0435\\u043b\\u044c\", \"\\u0441\\u043f\\u0430\\u0441\\u0430\\u0442\\u0435\\u043b\\u044c\", \"\\u0441\\u043f\\u0430\\u0441\\u0430\\u0442\\u044c\", \"\\u0441\\u043f\\u0430\\u0441\\u0430\\u0442\\u044c\", \"\\u0441\\u043f\\u0435\\u0446\\u0433\\u0430\\u0448\\u0435\\u043d\\u0438\\u0435\", \"\\u0441\\u0440\\u0435\\u0434\\u0441\\u0442\\u0432\\u043e\", \"\\u0441\\u0440\\u0435\\u0434\\u0441\\u0442\\u0432\\u043e\", \"\\u0441\\u0440\\u0435\\u0434\\u0441\\u0442\\u0432\\u043e\", \"\\u0441\\u0440\\u0435\\u0434\\u0441\\u0442\\u0432\\u043e\", \"\\u0441\\u0440\\u043e\\u043a\", \"\\u0441\\u0440\\u043e\\u043a\", \"\\u0441\\u0440\\u043e\\u043a\", \"\\u0441\\u0440\\u043e\\u043a\", \"\\u0441\\u0442\", \"\\u0441\\u0442\\u0430\\u043d\\u043e\\u0432\\u0438\\u0442\\u044c\\u0441\\u044f\", \"\\u0441\\u0442\\u0430\\u043d\\u043e\\u0432\\u0438\\u0442\\u044c\\u0441\\u044f\", \"\\u0441\\u0442\\u0430\\u043d\\u043e\\u0432\\u0438\\u0442\\u044c\\u0441\\u044f\", \"\\u0441\\u0442\\u0430\\u043d\\u043e\\u0432\\u0438\\u0442\\u044c\\u0441\\u044f\", \"\\u0441\\u0442\\u043e\\u043b\\u0438\\u0447\\u043d\\u044b\\u0439\", \"\\u0441\\u0442\\u043e\\u043b\\u0438\\u0447\\u043d\\u044b\\u0439\", \"\\u0441\\u0442\\u043e\\u043b\\u0438\\u0447\\u043d\\u044b\\u0439\", \"\\u0441\\u0442\\u043e\\u043b\\u0438\\u0447\\u043d\\u044b\\u0439\", \"\\u0441\\u0442\\u0440\\u0430\\u043d\\u0430\", \"\\u0441\\u0442\\u0440\\u0430\\u043d\\u0430\", \"\\u0441\\u0442\\u0440\\u0430\\u043d\\u0430\", \"\\u0441\\u0442\\u0440\\u0430\\u043d\\u0430\", \"\\u0441\\u0442\\u0440\\u0435\\u043b\\u044c\\u0431\\u0430\", \"\\u0441\\u0442\\u0440\\u0435\\u043b\\u044c\\u0431\\u0430\", \"\\u0441\\u0442\\u0440\\u0435\\u043b\\u044c\\u0431\\u0430\", \"\\u0441\\u0443\", \"\\u0441\\u0443\", \"\\u0442\\u0430\\u043a\\u0442\\u0438\\u0447\\u0435\\u0441\\u043a\\u0438\\u0439\", \"\\u0442\\u0432\\u043e\\u0439\", \"\\u0442\\u0432\\u043e\\u0440\\u0447\\u0435\\u0441\\u043a\\u0438\\u0439\", \"\\u0442\\u0432\\u043e\\u0440\\u0447\\u0435\\u0441\\u043a\\u0438\\u0439\", \"\\u0442\\u0435\\u043b\\u043e\\u0441\\u043b\\u043e\\u0436\\u0435\\u043d\\u0438\\u0435\", \"\\u0442\\u0435\\u0445\\u043d\\u0438\\u043a\\u0430\", \"\\u0442\\u0435\\u0445\\u043d\\u0438\\u043a\\u0430\", \"\\u0442\\u0435\\u0445\\u043d\\u0438\\u043a\\u0430\", \"\\u0442\\u0435\\u0445\\u043d\\u0438\\u043a\\u0430\", \"\\u0442\\u0438\\u0440\\u0430\\u0436\", \"\\u0442\\u043e\\u0432\\u0430\\u0440\", \"\\u0442\\u043e\\u0432\\u0430\\u0440\", \"\\u0442\\u043e\\u0432\\u0430\\u0440\", \"\\u0442\\u043e\\u043d\\u043d\\u0430\", \"\\u0442\\u043e\\u0440\\u0436\\u0435\\u0441\\u0442\\u0432\\u0435\\u043d\\u043d\\u044b\\u0439\", \"\\u0442\\u043e\\u0440\\u0436\\u0435\\u0441\\u0442\\u0432\\u0435\\u043d\\u043d\\u044b\\u0439\", \"\\u0442\\u043e\\u0440\\u0436\\u0435\\u0441\\u0442\\u0432\\u0435\\u043d\\u043d\\u044b\\u0439\", \"\\u0442\\u043e\\u0444\", \"\\u0442\\u0440\\u0435\\u043d\\u0438\\u0440\\u043e\\u0432\\u043a\\u0430\", \"\\u0442\\u0440\\u0435\\u043d\\u0438\\u0440\\u043e\\u0432\\u043a\\u0430\", \"\\u0442\\u0440\\u0435\\u043d\\u0438\\u0440\\u043e\\u0432\\u043a\\u0430\", \"\\u0442\\u0440\\u0435\\u043d\\u0438\\u0440\\u043e\\u0432\\u043a\\u0430\", \"\\u0443\\u0432\\u0434\", \"\\u0443\\u0432\\u0434\", \"\\u0443\\u0432\\u0435\\u0434\\u043e\\u043c\\u043b\\u0435\\u043d\\u0438\\u0435\", \"\\u0443\\u0432\\u0435\\u0434\\u043e\\u043c\\u043b\\u0435\\u043d\\u0438\\u0435\", \"\\u0443\\u0433\\u043e\\u043b\\u043e\\u0432\\u043d\\u044b\\u0439\", \"\\u0443\\u043a\", \"\\u0443\\u043a\", \"\\u0443\\u043f\\u0440\\u0430\\u0432\\u043b\\u0435\\u043d\\u0438\\u0435\", \"\\u0443\\u043f\\u0440\\u0430\\u0432\\u043b\\u0435\\u043d\\u0438\\u0435\", \"\\u0443\\u043f\\u0440\\u0430\\u0432\\u043b\\u0435\\u043d\\u0438\\u0435\", \"\\u0443\\u043f\\u0440\\u0430\\u0432\\u043b\\u0435\\u043d\\u0438\\u0435\", \"\\u0443\\u0441\\u043b\\u043e\\u0432\\u043d\\u044b\\u0439\", \"\\u0443\\u0441\\u043b\\u0443\\u0433\\u0430\", \"\\u0443\\u0441\\u043b\\u0443\\u0433\\u0430\", \"\\u0443\\u0441\\u043b\\u0443\\u0433\\u0430\", \"\\u0443\\u0441\\u043b\\u0443\\u0433\\u0430\", \"\\u0443\\u0441\\u043b\\u044b\\u0448\\u0430\\u0442\\u044c\", \"\\u0443\\u0447\\u0430\\u0441\\u0442\\u0438\\u0435\", \"\\u0443\\u0447\\u0430\\u0441\\u0442\\u0438\\u0435\", \"\\u0443\\u0447\\u0430\\u0441\\u0442\\u0438\\u0435\", \"\\u0443\\u0447\\u0430\\u0441\\u0442\\u0438\\u0435\", \"\\u0443\\u0447\\u0430\\u0441\\u0442\\u043d\\u0438\\u043a\", \"\\u0443\\u0447\\u0430\\u0441\\u0442\\u043d\\u0438\\u043a\", \"\\u0443\\u0447\\u0430\\u0441\\u0442\\u043d\\u0438\\u043a\", \"\\u0443\\u0447\\u0430\\u0441\\u0442\\u043d\\u0438\\u043a\", \"\\u0443\\u0447\\u0435\\u043d\\u0438\\u0435\", \"\\u0443\\u0447\\u0435\\u043d\\u0438\\u0435\", \"\\u0444\\u0435\\u0441\\u0442\\u0438\\u0432\\u0430\\u043b\\u044c\", \"\\u0444\\u0435\\u0441\\u0442\\u0438\\u0432\\u0430\\u043b\\u044c\", \"\\u0444\\u0438\\u043b\\u0430\\u0442\\u0435\\u043b\\u0438\\u0441\\u0442\", \"\\u0444\\u0438\\u043b\\u0430\\u0442\\u0435\\u043b\\u0438\\u0441\\u0442\\u0438\\u0447\\u0435\\u0441\\u043a\\u0438\\u0439\", \"\\u0444\\u0438\\u043b\\u0430\\u0442\\u0435\\u043b\\u0438\\u044f\", \"\\u0444\\u043b\\u043e\\u0442\", \"\\u0444\\u043b\\u043e\\u0442\", \"\\u0444\\u043e\\u0440\\u0443\\u043c\", \"\\u0444\\u043e\\u0440\\u0443\\u043c\", \"\\u0444\\u043e\\u0442\\u043e\", \"\\u0444\\u043e\\u0442\\u043e\", \"\\u0444\\u043e\\u0442\\u043e\", \"\\u0444\\u043e\\u0442\\u043e\", \"\\u0444\\u0440\\u043e\\u043d\\u0442\", \"\\u0444\\u0440\\u043e\\u043d\\u0442\", \"\\u0445\\u0438\\u0449\\u0435\\u043d\\u0438\\u0435\", \"\\u0445\\u0438\\u0449\\u0435\\u043d\\u0438\\u0435\", \"\\u0445\\u043e\\u0434\", \"\\u0445\\u043e\\u0434\", \"\\u0445\\u043e\\u0434\", \"\\u0445\\u043e\\u0434\", \"\\u0445\\u043e\\u0440\\u043e\\u0448\\u0438\\u0439\", \"\\u0445\\u043e\\u0440\\u043e\\u0448\\u0438\\u0439\", \"\\u0445\\u043e\\u0440\\u043e\\u0448\\u0438\\u0439\", \"\\u0445\\u043e\\u0440\\u043e\\u0448\\u0438\\u0439\", \"\\u0445\\u0443\\u0434\\u043e\\u0436\\u0435\\u0441\\u0442\\u0432\\u0435\\u043d\\u043d\\u044b\\u0439\", \"\\u0445\\u0443\\u0434\\u043e\\u0436\\u0435\\u0441\\u0442\\u0432\\u0435\\u043d\\u043d\\u044b\\u0439\", \"\\u0446\\u0432\\u0435\\u0442\", \"\\u0446\\u0432\\u0435\\u0442\", \"\\u0446\\u0432\\u0435\\u0442\", \"\\u0446\\u0432\\u0435\\u0442\", \"\\u0446\\u0435\\u043b\\u044c\", \"\\u0446\\u0435\\u043b\\u044c\", \"\\u0446\\u0435\\u043b\\u044c\", \"\\u0446\\u0435\\u043b\\u044c\", \"\\u0446\\u0435\\u043d\\u0442\\u0440\", \"\\u0446\\u0435\\u043d\\u0442\\u0440\", \"\\u0446\\u0435\\u043d\\u0442\\u0440\", \"\\u0446\\u0435\\u043d\\u0442\\u0440\", \"\\u0446\\u0435\\u0440\\u0435\\u043c\\u043e\\u043d\\u0438\\u044f\", \"\\u0446\\u0435\\u0440\\u0435\\u043c\\u043e\\u043d\\u0438\\u044f\", \"\\u0446\\u0435\\u0440\\u0435\\u043c\\u043e\\u043d\\u0438\\u044f\", \"\\u0446\\u0435\\u0440\\u0435\\u043c\\u043e\\u043d\\u0438\\u044f\", \"\\u0447\\u0435\\u043b\\u043e\\u0432\\u0435\\u043a\", \"\\u0447\\u0435\\u043b\\u043e\\u0432\\u0435\\u043a\", \"\\u0447\\u0435\\u043b\\u043e\\u0432\\u0435\\u043a\", \"\\u0447\\u0435\\u043b\\u043e\\u0432\\u0435\\u043a\", \"\\u0447\\u0435\\u0441\\u0442\\u044c\", \"\\u0447\\u0435\\u0441\\u0442\\u044c\", \"\\u0447\\u0435\\u0441\\u0442\\u044c\", \"\\u0448\\u043a\\u043e\\u043b\\u044c\\u043d\\u0438\\u043a\", \"\\u0448\\u043a\\u043e\\u043b\\u044c\\u043d\\u0438\\u043a\", \"\\u0448\\u043a\\u043e\\u043b\\u044c\\u043d\\u0438\\u043a\", \"\\u0448\\u043e\\u0439\\u0433\\u0443\", \"\\u0448\\u043e\\u0439\\u0433\\u0443\", \"\\u0448\\u0442\\u0435\\u043c\\u043f\\u0435\\u043b\\u044c\", \"\\u0448\\u0442\\u0435\\u043c\\u043f\\u0435\\u043b\\u044c\", \"\\u0448\\u0442\\u0435\\u043c\\u043f\\u0435\\u043b\\u044c\", \"\\u044d\\u043a\\u0438\\u043f\\u0430\\u0436\", \"\\u044d\\u043a\\u0438\\u043f\\u0430\\u0436\", \"\\u044d\\u043a\\u0438\\u043f\\u0430\\u0436\", \"\\u044d\\u043a\\u0438\\u043f\\u0430\\u0436\", \"\\u044e\\u0432\\u043e\", \"\\u044e\\u0432\\u043e\", \"\\u044f\\u043f\\u043e\\u043d\\u0438\\u044f\"]}, \"R\": 30, \"lambda.step\": 0.01, \"plot.opts\": {\"xlab\": \"PC1\", \"ylab\": \"PC2\"}, \"topic.order\": [3, 2, 4, 1]};\n",
       "\n",
       "function LDAvis_load_lib(url, callback){\n",
       "  var s = document.createElement('script');\n",
       "  s.src = url;\n",
       "  s.async = true;\n",
       "  s.onreadystatechange = s.onload = callback;\n",
       "  s.onerror = function(){console.warn(\"failed to load library \" + url);};\n",
       "  document.getElementsByTagName(\"head\")[0].appendChild(s);\n",
       "}\n",
       "\n",
       "if(typeof(LDAvis) !== \"undefined\"){\n",
       "   // already loaded: just create the visualization\n",
       "   !function(LDAvis){\n",
       "       new LDAvis(\"#\" + \"ldavis_el4707211257266435211786227\", ldavis_el4707211257266435211786227_data);\n",
       "   }(LDAvis);\n",
       "}else if(typeof define === \"function\" && define.amd){\n",
       "   // require.js is available: use it to load d3/LDAvis\n",
       "   require.config({paths: {d3: \"https://cdnjs.cloudflare.com/ajax/libs/d3/3.5.5/d3.min\"}});\n",
       "   require([\"d3\"], function(d3){\n",
       "      window.d3 = d3;\n",
       "      LDAvis_load_lib(\"https://cdn.rawgit.com/bmabey/pyLDAvis/files/ldavis.v1.0.0.js\", function(){\n",
       "        new LDAvis(\"#\" + \"ldavis_el4707211257266435211786227\", ldavis_el4707211257266435211786227_data);\n",
       "      });\n",
       "    });\n",
       "}else{\n",
       "    // require.js not available: dynamically load d3 & LDAvis\n",
       "    LDAvis_load_lib(\"https://cdnjs.cloudflare.com/ajax/libs/d3/3.5.5/d3.min.js\", function(){\n",
       "         LDAvis_load_lib(\"https://cdn.rawgit.com/bmabey/pyLDAvis/files/ldavis.v1.0.0.js\", function(){\n",
       "                 new LDAvis(\"#\" + \"ldavis_el4707211257266435211786227\", ldavis_el4707211257266435211786227_data);\n",
       "            })\n",
       "         });\n",
       "}\n",
       "</script>"
      ],
      "text/plain": [
       "<IPython.core.display.HTML object>"
      ]
     },
     "execution_count": 284,
     "metadata": {},
     "output_type": "execute_result"
    }
   ],
   "source": [
    "import pyLDAvis.gensim as gensimvis\n",
    "import pyLDAvis\n",
    "vis_data = gensimvis.prepare(lda, corpus, dictionary)\n",
    "pyLDAvis.display(vis_data)"
   ]
  },
  {
   "cell_type": "markdown",
   "metadata": {},
   "source": [
    "## Задание 7. Continious bag of words\n",
    "\n",
    "Представим тексты в виде усреднённых векторов слов, классифицируем тексты при помощи логистической регрессии и проанализируем результаты.\n",
    "\n",
    "Для получения векторов загрузим векторную модель, без тэгов."
   ]
  },
  {
   "cell_type": "code",
   "execution_count": 285,
   "metadata": {
    "collapsed": true
   },
   "outputs": [],
   "source": [
    "import gensim\n",
    "from gensim.models import KeyedVectors\n",
    "\n",
    "model = gensim.models.KeyedVectors.load('/Users/anyway/Downloads/araneum_none_fasttextcbow_300_5_2018/araneum_none_fasttextcbow_300_5_2018.model')"
   ]
  },
  {
   "cell_type": "markdown",
   "metadata": {},
   "source": [
    "Получим и усредним вектора слов, входящих в текст, при помощи функции get_matrix, и получим в качестве текстов матрицу из усреднённых векторов."
   ]
  },
  {
   "cell_type": "code",
   "execution_count": 286,
   "metadata": {
    "collapsed": true
   },
   "outputs": [],
   "source": [
    "def get_matrix(text, model):\n",
    "    vector = np.zeros(shape=model.vector_size)\n",
    "    counter = 0\n",
    "    for word in text:\n",
    "        if word in model.vocab: \n",
    "            try:\n",
    "                vector = np.add(vector, model[word])\n",
    "                counter += 1\n",
    "            except KeyError:\n",
    "                pass\n",
    "    if counter == 0:\n",
    "        return vector.squeeze()\n",
    "    return (vector / counter).squeeze() # убираем одномерные векторы при помощи функции .squeeze()"
   ]
  },
  {
   "cell_type": "code",
   "execution_count": 287,
   "metadata": {
    "collapsed": false,
    "scrolled": true
   },
   "outputs": [
    {
     "data": {
      "text/plain": [
       "10206    Неотъемлемой частью поздравительной программы ...\n",
       "1771     11 января 1957 года принято решение о создании...\n",
       "9026     НАЙДЕНА, ЖИВА. _______________________________...\n",
       "10585    Доброе утро! Хорошего дня и успешной рабочей н...\n",
       "9185     Желаем вам хороших и законопослушных выходных!...\n",
       "Name: text, dtype: object"
      ]
     },
     "execution_count": 287,
     "metadata": {},
     "output_type": "execute_result"
    }
   ],
   "source": [
    "test.text.head()"
   ]
  },
  {
   "cell_type": "code",
   "execution_count": 288,
   "metadata": {
    "collapsed": true
   },
   "outputs": [],
   "source": [
    "#давайте лемматизируем и обработаем трейн и тест отдельно\n",
    "\n",
    "test.text = test.text.apply(lemmatize)\n",
    "test.text = test.text.str.lower()\n",
    "test.text = test.text.apply(words_only)\n",
    "test.text = test.text.apply(remove_stopwords)  \n",
    "test.text = test.text.apply(remove_stoplemmas)\n",
    "\n",
    "train.text = train.text.apply(lemmatize)\n",
    "train.text = train.text.str.lower()\n",
    "train.text = train.text.apply(words_only)\n",
    "train.text = train.text.apply(remove_stopwords)  \n",
    "train.text = train.text.apply(remove_stoplemmas)"
   ]
  },
  {
   "cell_type": "code",
   "execution_count": 289,
   "metadata": {
    "collapsed": false
   },
   "outputs": [],
   "source": [
    "# теперь получим эмбеддинги слов для трейн- \n",
    "# и тест-сета (уже предварительно лемматизированных на предыдущем шаге):\n",
    "train_vectors = [get_matrix(text.split(), model) for text in train.text]\n",
    "test_vectors = [get_matrix(text.split(), model) for text in test.text]"
   ]
  },
  {
   "cell_type": "code",
   "execution_count": 290,
   "metadata": {
    "collapsed": false,
    "scrolled": true
   },
   "outputs": [
    {
     "name": "stdout",
     "output_type": "stream",
     "text": [
      "Precision:   0.94\n",
      "Recall:   0.95\n",
      "F1-measure:   0.94\n",
      "...\n",
      "Precision:   0.95\n",
      "Recall:   0.95\n",
      "F1-measure:   0.95\n",
      "...\n",
      "Accuracy:   0.95\n"
     ]
    }
   ],
   "source": [
    "# используем логистическую регрессию для проверки метода\n",
    "from sklearn.linear_model import LogisticRegression \n",
    "\n",
    "clf = LogisticRegression(C=1)\n",
    "clf.fit(train_vectors, train.source)\n",
    "predictions12 = clf.predict(test_vectors)\n",
    "evaluate(test.source, predictions12)"
   ]
  },
  {
   "cell_type": "code",
   "execution_count": 291,
   "metadata": {
    "collapsed": false,
    "scrolled": false
   },
   "outputs": [
    {
     "name": "stderr",
     "output_type": "stream",
     "text": [
      "/Users/anyway/anaconda/lib/python3.6/site-packages/seaborn/matrix.py:143: DeprecationWarning: elementwise == comparison failed; this will raise an error in the future.\n",
      "  if xticklabels == []:\n",
      "/Users/anyway/anaconda/lib/python3.6/site-packages/seaborn/matrix.py:151: DeprecationWarning: elementwise == comparison failed; this will raise an error in the future.\n",
      "  if yticklabels == []:\n"
     ]
    },
    {
     "data": {
      "image/png": "[encoded data removed]",
      "text/plain": [
       "<Figure size 360x360 with 1 Axes>"
      ]
     },
     "metadata": {},
     "output_type": "display_data"
    }
   ],
   "source": [
    "m = confusion_matrix(test.source, predictions12)\n",
    "\n",
    "labels = clf.classes_\n",
    "plt.figure(figsize = (5,5))\n",
    "sns.heatmap(data=m, annot=True, fmt=\"d\", cbar=False, xticklabels=labels, yticklabels=labels, cmap=\"PuBu\")\n",
    "plt.title(\"Confusion matrix\")\n",
    "plt.show()"
   ]
  },
  {
   "cell_type": "markdown",
   "metadata": {},
   "source": [
    "Как всегда, больше проблем с классом МЧС. Пока результаты так себе. "
   ]
  },
  {
   "cell_type": "markdown",
   "metadata": {},
   "source": [
    "### Теперь наложим на усредненные вектора текстов tf-idf-веса и снова используем логистическую регрессию. Визуализируем результаты."
   ]
  },
  {
   "cell_type": "code",
   "execution_count": 297,
   "metadata": {
    "collapsed": false
   },
   "outputs": [
    {
     "name": "stdout",
     "output_type": "stream",
     "text": [
      "Precision:   0.96\n",
      "Recall:   0.96\n",
      "F1-measure:   0.96\n",
      "...\n",
      "Precision:   0.96\n",
      "Recall:   0.96\n",
      "F1-measure:   0.96\n",
      "...\n",
      "Accuracy:   0.96\n"
     ]
    }
   ],
   "source": [
    "from sklearn.feature_extraction.text import *\n",
    "\n",
    "tfidf = TfidfTransformer(use_idf=True, norm='l2', smooth_idf=True)\n",
    "\n",
    "train_tfidf = tfidf.fit_transform(train_vectors)\n",
    "test_tfidf = tfidf.fit_transform(test_vectors)\n",
    "\n",
    "clf = LogisticRegression(C=1)\n",
    "clf.fit(train_tfidf, train.source)\n",
    "preds13 = clf.predict(test_tfidf)\n",
    "evaluate(test.source, preds13)"
   ]
  },
  {
   "cell_type": "code",
   "execution_count": 298,
   "metadata": {
    "collapsed": false
   },
   "outputs": [
    {
     "name": "stderr",
     "output_type": "stream",
     "text": [
      "/Users/anyway/anaconda/lib/python3.6/site-packages/seaborn/matrix.py:143: DeprecationWarning: elementwise == comparison failed; this will raise an error in the future.\n",
      "  if xticklabels == []:\n",
      "/Users/anyway/anaconda/lib/python3.6/site-packages/seaborn/matrix.py:151: DeprecationWarning: elementwise == comparison failed; this will raise an error in the future.\n",
      "  if yticklabels == []:\n"
     ]
    },
    {
     "data": {
      "image/png": "[encoded data removed]",
      "text/plain": [
       "<Figure size 360x360 with 1 Axes>"
      ]
     },
     "metadata": {},
     "output_type": "display_data"
    }
   ],
   "source": [
    "m = confusion_matrix(test.source, preds13)\n",
    "\n",
    "labels = clf.classes_\n",
    "plt.figure(figsize = (5,5))\n",
    "sns.heatmap(data=m, annot=True, fmt=\"d\", cbar=False, xticklabels=labels, yticklabels=labels, cmap=\"PuBu\")\n",
    "plt.title(\"Confusion matrix\")\n",
    "plt.show()"
   ]
  },
  {
   "cell_type": "markdown",
   "metadata": {},
   "source": [
    "С tf-idf бейзлайн не побит, но всё равно довольно неплохо. "
   ]
  },
  {
   "cell_type": "markdown",
   "metadata": {},
   "source": [
    "### Теперь используем модель эмбеддингов документов doc2vec"
   ]
  },
  {
   "cell_type": "code",
   "execution_count": 299,
   "metadata": {
    "collapsed": true
   },
   "outputs": [],
   "source": [
    "from gensim.models.doc2vec import Doc2Vec, TaggedDocument\n",
    "\n",
    "train_docs = [TaggedDocument(doc, [i]) for i, doc in enumerate(train.text)]\n",
    "test_docs = [TaggedDocument(doc, [i]) for i, doc in enumerate(test.text)]\n",
    "\n",
    "model = Doc2Vec(train_docs, \n",
    "                vector_size=100,\n",
    "                epochs=40)"
   ]
  },
  {
   "cell_type": "code",
   "execution_count": 300,
   "metadata": {
    "collapsed": false
   },
   "outputs": [
    {
     "data": {
      "text/plain": [
       "10373"
      ]
     },
     "execution_count": 300,
     "metadata": {},
     "output_type": "execute_result"
    }
   ],
   "source": [
    "len(train_docs)"
   ]
  },
  {
   "cell_type": "code",
   "execution_count": 302,
   "metadata": {
    "collapsed": false
   },
   "outputs": [],
   "source": [
    "train_vectors = [] # извлекаем вектора текстов тренировочного сета из модели\n",
    "for i in range(10373):\n",
    "    train_vectors.append(model.docvecs[i])"
   ]
  },
  {
   "cell_type": "code",
   "execution_count": 303,
   "metadata": {
    "collapsed": true
   },
   "outputs": [],
   "source": [
    "test_vectors = [] # извлекаем из той же модели вектора тест-сета\n",
    "for text in test.text:\n",
    "    test_vectors.append(model.infer_vector(text.split()))"
   ]
  },
  {
   "cell_type": "code",
   "execution_count": 306,
   "metadata": {
    "collapsed": false
   },
   "outputs": [
    {
     "data": {
      "text/plain": [
       "array([-0.00330081,  0.00155571,  0.00397036,  0.00128181,  0.00136164,\n",
       "        0.00155671, -0.00267304, -0.00196101,  0.00091012, -0.00175011,\n",
       "       -0.0010904 , -0.0045861 ,  0.00449215,  0.00193505,  0.00456745,\n",
       "        0.00394565,  0.00480944,  0.00245285, -0.00082997,  0.00230993,\n",
       "        0.00448378, -0.00019809, -0.0023149 , -0.00208668, -0.00272517,\n",
       "        0.00387218,  0.00071818,  0.0041687 ,  0.00396137, -0.00226743,\n",
       "        0.00220841, -0.00362722, -0.00055984, -0.00181088,  0.00157215,\n",
       "       -0.00096851, -0.00357092, -0.00236132, -0.00466207,  0.00251252,\n",
       "       -0.00342512, -0.0037382 , -0.00117547, -0.00118941, -0.00230681,\n",
       "        0.00466946,  0.00468331, -0.00297088,  0.00022848, -0.00011053,\n",
       "       -0.00452881,  0.00416702, -0.00413488, -0.00143066, -0.00465467,\n",
       "       -0.0047137 , -0.00141478,  0.00466114, -0.0007933 , -0.00273398,\n",
       "        0.00025676, -0.00032365, -0.00148142, -0.00350913, -0.00131097,\n",
       "       -0.00437459, -0.00142193,  0.00229321, -0.00188515, -0.00499733,\n",
       "        0.00423501, -0.00353168, -0.00090983, -0.00384862, -0.00475456,\n",
       "        0.00321728,  0.00364271,  0.00159667,  0.00491365, -0.0013984 ,\n",
       "       -0.00211807, -0.00175815, -0.00240636,  0.00079277,  0.00077992,\n",
       "        0.00204304, -0.00238647, -0.00028057,  0.00231474,  0.00493723,\n",
       "        0.00339296, -0.00444266, -0.0040071 ,  0.00012672, -0.00045884,\n",
       "        0.00349112, -0.0044104 ,  0.00257141, -0.00087663, -0.00259248], dtype=float32)"
      ]
     },
     "execution_count": 306,
     "metadata": {},
     "output_type": "execute_result"
    }
   ],
   "source": [
    "test_vectors[115]"
   ]
  },
  {
   "cell_type": "markdown",
   "metadata": {},
   "source": [
    "Попробуем случайный лес (в нем результаты получаются сбалансированнее, чем при логистической регрессии). "
   ]
  },
  {
   "cell_type": "code",
   "execution_count": 328,
   "metadata": {
    "collapsed": false
   },
   "outputs": [
    {
     "name": "stdout",
     "output_type": "stream",
     "text": [
      "Precision:   0.27\n",
      "Recall:   0.24\n",
      "F1-measure:   0.11\n",
      "...\n",
      "Precision:   0.26\n",
      "Recall:   0.26\n",
      "F1-measure:   0.26\n",
      "...\n",
      "Accuracy:   0.26\n"
     ]
    },
    {
     "data": {
      "image/png": "[encoded data removed]",
      "text/plain": [
       "<Figure size 360x360 with 1 Axes>"
      ]
     },
     "metadata": {},
     "output_type": "display_data"
    }
   ],
   "source": [
    "from sklearn.ensemble import RandomForestClassifier\n",
    "clf = RandomForestClassifier()\n",
    "clf.fit(train_vectors, train.source)\n",
    "predictions14 = clf.predict(test_vectors)\n",
    "evaluate(test.source, predictions14)\n",
    "\n",
    "m = confusion_matrix(test.source, predictions14)\n",
    "\n",
    "labels = clf.classes_\n",
    "plt.figure(figsize = (5,5))\n",
    "sns.heatmap(data=m, annot=True, fmt=\"d\", cbar=False, xticklabels=labels, yticklabels=labels, cmap=\"PuBu\")\n",
    "plt.title(\"Confusion matrix\")\n",
    "plt.show()"
   ]
  },
  {
   "cell_type": "markdown",
   "metadata": {},
   "source": [
    "Как видно из матрицы ошибок, этот метод сработал плохо, если мы правильно его применили. Почему-то доминирует 1 класс. "
   ]
  },
  {
   "cell_type": "code",
   "execution_count": 329,
   "metadata": {
    "collapsed": false,
    "scrolled": true
   },
   "outputs": [
    {
     "name": "stdout",
     "output_type": "stream",
     "text": [
      "             precision    recall  f1-score   support\n",
      "\n",
      "    mchsgov       0.08      0.01      0.01       297\n",
      "        mil       0.26      0.96      0.41       303\n",
      "  mospolice       0.60      0.01      0.02       322\n",
      "russianpost       0.14      0.00      0.01       231\n",
      "\n",
      "avg / total       0.29      0.26      0.12      1153\n",
      "\n"
     ]
    }
   ],
   "source": [
    "print(classification_report(test.source, predictions14))"
   ]
  },
  {
   "cell_type": "markdown",
   "metadata": {},
   "source": [
    "Странно. \n",
    "\n",
    "\n",
    "Так или иначе, этими методами побить бейзлайн не удалось. "
   ]
  },
  {
   "cell_type": "markdown",
   "metadata": {
    "collapsed": true
   },
   "source": [
    "## Задание 8\n",
    "Используем ```fastText``` в режиме классификации. Возьмем лемматизированный текст. "
   ]
  },
  {
   "cell_type": "code",
   "execution_count": 330,
   "metadata": {
    "collapsed": true
   },
   "outputs": [],
   "source": [
    "import fasttext"
   ]
  },
  {
   "cell_type": "code",
   "execution_count": 331,
   "metadata": {
    "collapsed": true
   },
   "outputs": [],
   "source": [
    "with open('data.train.txt', 'w', encoding = 'UTF-8') as f:\n",
    "    for i in train.index:\n",
    "        text = str(train.text[i])\n",
    "        label = str(train.source[i])\n",
    "        f.write(text + ' ' + '__label__' + label + '\\n')"
   ]
  },
  {
   "cell_type": "code",
   "execution_count": 332,
   "metadata": {
    "collapsed": false,
    "scrolled": true
   },
   "outputs": [],
   "source": [
    "classifier = fasttext.supervised('data.train.txt', 'model1', label_prefix='__label__')"
   ]
  },
  {
   "cell_type": "code",
   "execution_count": 333,
   "metadata": {
    "collapsed": false,
    "scrolled": true
   },
   "outputs": [
    {
     "data": {
      "text/plain": [
       "1153"
      ]
     },
     "execution_count": 333,
     "metadata": {},
     "output_type": "execute_result"
    }
   ],
   "source": [
    "result = classifier.predict([i for i in test.text if i]) "
   ]
  },
  {
   "cell_type": "code",
   "execution_count": 335,
   "metadata": {
    "collapsed": false
   },
   "outputs": [
    {
     "name": "stdout",
     "output_type": "stream",
     "text": [
      "Precision:   0.98\n",
      "Recall:   0.98\n",
      "F1-measure:   0.98\n",
      "...\n",
      "Precision:   0.98\n",
      "Recall:   0.98\n",
      "F1-measure:   0.98\n",
      "...\n",
      "Accuracy:   0.98\n"
     ]
    }
   ],
   "source": [
    "evaluate(test.source, result)"
   ]
  },
  {
   "cell_type": "code",
   "execution_count": 337,
   "metadata": {
    "collapsed": false
   },
   "outputs": [
    {
     "data": {
      "image/png": "[encoded data removed]",
      "text/plain": [
       "<Figure size 360x360 with 1 Axes>"
      ]
     },
     "metadata": {},
     "output_type": "display_data"
    }
   ],
   "source": [
    "m = confusion_matrix(test.source, result)\n",
    "\n",
    "labels = ['mchsgov', 'russianpost', 'mil', 'mospolice']\n",
    "plt.figure(figsize = (5,5))\n",
    "sns.heatmap(data=m, annot=True, fmt=\"d\", cbar=False, xticklabels=labels, yticklabels=labels, cmap=\"PuBu\")\n",
    "plt.title(\"Confusion matrix\")\n",
    "plt.show()"
   ]
  },
  {
   "cell_type": "markdown",
   "metadata": {},
   "source": [
    "### FastText показал лучший результат! "
   ]
  },
  {
   "cell_type": "markdown",
   "metadata": {},
   "source": [
    "# Заключение"
   ]
  },
  {
   "cell_type": "markdown",
   "metadata": {},
   "source": [
    "Сложно сказать, какой метод нам показался лучше - многие классификаторы были на уровне baseline. Во время экспериментов в зависимости от выборки baseline был 0.96, и лучше всех о себе тогда заявил метод TruncatedSVD + Random Forest Classifier + лемматизация (F1 = 0.98), но, к сожалению, тестовая выборка поменялась, и те результаты не сохранились. Думаю, для этого датасета мы бы выбрали это сочетание методов или FastText. "
   ]
  },
  {
   "cell_type": "markdown",
   "metadata": {
    "collapsed": true
   },
   "source": [
    "Задание выполнено Николаевой Анной и Катричевой Надеждой. "
   ]
  },
  {
   "cell_type": "code",
   "execution_count": null,
   "metadata": {
    "collapsed": true
   },
   "outputs": [],
   "source": []
  }
 ],
 "metadata": {
  "kernelspec": {
   "display_name": "Python 3",
   "language": "python",
   "name": "python3"
  },
  "language_info": {
   "codemirror_mode": {
    "name": "ipython",
    "version": 3
   },
   "file_extension": ".py",
   "mimetype": "text/x-python",
   "name": "python",
   "nbconvert_exporter": "python",
   "pygments_lexer": "ipython3",
   "version": "3.6.8"
  }
 },
 "nbformat": 4,
 "nbformat_minor": 2
}
