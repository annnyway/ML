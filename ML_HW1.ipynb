{
 "cells": [
  {
   "cell_type": "code",
   "execution_count": 1,
   "metadata": {},
   "outputs": [
    {
     "name": "stdout",
     "output_type": "stream",
     "text": [
      "--2019-03-04 23:07:13--  https://www.dropbox.com/s/nd7v1fod89xla6j/vk_texts_with_sources.csv\n",
      "Распознаётся www.dropbox.com (www.dropbox.com)… 162.125.70.1\n",
      "Подключение к www.dropbox.com (www.dropbox.com)|162.125.70.1|:443... соединение установлено.\n",
      "HTTP-запрос отправлен. Ожидание ответа… 301 Moved Permanently\n",
      "Адрес: /s/raw/nd7v1fod89xla6j/vk_texts_with_sources.csv [переход]\n",
      "--2019-03-04 23:07:14--  https://www.dropbox.com/s/raw/nd7v1fod89xla6j/vk_texts_with_sources.csv\n",
      "Повторное использование соединения с www.dropbox.com:443.\n",
      "HTTP-запрос отправлен. Ожидание ответа… 302 Found\n",
      "Адрес: https://ucd4f9bfb1c342c3e972240f70d1.dl.dropboxusercontent.com/cd/0/inline/AcfCUtOhNQXUEz6qhi7m2JXDiK5prOau2aPZv6h2MVrNXVYl9rEgwX5V-XNiK7-hIcEHeNlg8avUvAGH9Pf7Fs_-ghu88p3U48AOSzlM6djauGY0qKKzE06ZwM06wlZOyzk/file# [переход]\n",
      "--2019-03-04 23:07:14--  https://ucd4f9bfb1c342c3e972240f70d1.dl.dropboxusercontent.com/cd/0/inline/AcfCUtOhNQXUEz6qhi7m2JXDiK5prOau2aPZv6h2MVrNXVYl9rEgwX5V-XNiK7-hIcEHeNlg8avUvAGH9Pf7Fs_-ghu88p3U48AOSzlM6djauGY0qKKzE06ZwM06wlZOyzk/file\n",
      "Распознаётся ucd4f9bfb1c342c3e972240f70d1.dl.dropboxusercontent.com (ucd4f9bfb1c342c3e972240f70d1.dl.dropboxusercontent.com)… 162.125.70.6\n",
      "Подключение к ucd4f9bfb1c342c3e972240f70d1.dl.dropboxusercontent.com (ucd4f9bfb1c342c3e972240f70d1.dl.dropboxusercontent.com)|162.125.70.6|:443... соединение установлено.\n",
      "HTTP-запрос отправлен. Ожидание ответа… 200 OK\n",
      "Длина: 14406837 (14M) [text/plain]\n",
      "Сохранение в: «vk_texts_with_sources.csv.1»\n",
      "\n",
      "vk_texts_with_sourc 100%[===================>]  13,74M  3,49MB/s    за 4,1s    \n",
      "\n",
      "2019-03-04 23:07:19 (3,34 MB/s) - «vk_texts_with_sources.csv.1» сохранён [14406837/14406837]\n",
      "\n"
     ]
    }
   ],
   "source": [
    "!wget https://www.dropbox.com/s/nd7v1fod89xla6j/vk_texts_with_sources.csv"
   ]
  },
  {
   "cell_type": "code",
   "execution_count": 172,
   "metadata": {},
   "outputs": [
    {
     "data": {
      "text/html": [
       "<div>\n",
       "<style scoped>\n",
       "    .dataframe tbody tr th:only-of-type {\n",
       "        vertical-align: middle;\n",
       "    }\n",
       "\n",
       "    .dataframe tbody tr th {\n",
       "        vertical-align: top;\n",
       "    }\n",
       "\n",
       "    .dataframe thead th {\n",
       "        text-align: right;\n",
       "    }\n",
       "</style>\n",
       "<table border=\"1\" class=\"dataframe\">\n",
       "  <thead>\n",
       "    <tr style=\"text-align: right;\">\n",
       "      <th></th>\n",
       "      <th>text</th>\n",
       "      <th>source</th>\n",
       "    </tr>\n",
       "  </thead>\n",
       "  <tbody>\n",
       "    <tr>\n",
       "      <th>0</th>\n",
       "      <td>Начальник Главного оперативного управления Ген...</td>\n",
       "      <td>mil</td>\n",
       "    </tr>\n",
       "    <tr>\n",
       "      <th>1</th>\n",
       "      <td>Артиллерийские подразделения общевойскового об...</td>\n",
       "      <td>mil</td>\n",
       "    </tr>\n",
       "    <tr>\n",
       "      <th>2</th>\n",
       "      <td>Подразделения морской пехоты Каспийской флотил...</td>\n",
       "      <td>mil</td>\n",
       "    </tr>\n",
       "    <tr>\n",
       "      <th>3</th>\n",
       "      <td>Команды на всеармейских этапах конкурсов АрМИ-...</td>\n",
       "      <td>mil</td>\n",
       "    </tr>\n",
       "    <tr>\n",
       "      <th>4</th>\n",
       "      <td>На большом учебно-методическом командирском сб...</td>\n",
       "      <td>mil</td>\n",
       "    </tr>\n",
       "  </tbody>\n",
       "</table>\n",
       "</div>"
      ],
      "text/plain": [
       "                                                text source\n",
       "0  Начальник Главного оперативного управления Ген...    mil\n",
       "1  Артиллерийские подразделения общевойскового об...    mil\n",
       "2  Подразделения морской пехоты Каспийской флотил...    mil\n",
       "3  Команды на всеармейских этапах конкурсов АрМИ-...    mil\n",
       "4  На большом учебно-методическом командирском сб...    mil"
      ]
     },
     "execution_count": 172,
     "metadata": {},
     "output_type": "execute_result"
    }
   ],
   "source": [
    "import pandas as pd\n",
    "df = pd.read_csv('vk_texts_with_sources.csv', usecols = ['text', 'source'])\n",
    "df.head()"
   ]
  },
  {
   "cell_type": "markdown",
   "metadata": {},
   "source": [
    "## Задание 1\n",
    "Посчитайте:\n",
    "* количество текстов и количество классов\n",
    "* количество слов (без лемматизации и с лемматизацией) в коллекции\n",
    "* среднюю длину текста в словах и символах\n",
    "* найдите 5 самых частых существительных в текстах каждого паблика \n",
    "\n",
    "*Рекомендуем использовать pandas для расчета описательных статистик.*"
   ]
  },
  {
   "cell_type": "code",
   "execution_count": 13,
   "metadata": {},
   "outputs": [
    {
     "data": {
      "text/plain": [
       "text      11625\n",
       "source    11625\n",
       "dtype: int64"
      ]
     },
     "execution_count": 13,
     "metadata": {},
     "output_type": "execute_result"
    }
   ],
   "source": [
    "df.count()"
   ]
  },
  {
   "cell_type": "code",
   "execution_count": 2,
   "metadata": {
    "scrolled": false
   },
   "outputs": [
    {
     "name": "stdout",
     "output_type": "stream",
     "text": [
      "11625 4\n"
     ]
    }
   ],
   "source": [
    "n_texts = len(df) #кол-во текстов\n",
    "n_categories = len(df.source.value_counts()) #кол-во классов\n",
    "print(n_texts, n_categories)"
   ]
  },
  {
   "cell_type": "code",
   "execution_count": 6,
   "metadata": {
    "scrolled": false
   },
   "outputs": [
    {
     "data": {
      "text/plain": [
       "mchsgov        3030\n",
       "mil            3030\n",
       "mospolice      2910\n",
       "russianpost    2655\n",
       "Name: source, dtype: int64"
      ]
     },
     "execution_count": 6,
     "metadata": {},
     "output_type": "execute_result"
    }
   ],
   "source": [
    "df.source.value_counts()"
   ]
  },
  {
   "cell_type": "code",
   "execution_count": 3,
   "metadata": {},
   "outputs": [],
   "source": [
    "#избавляемся от <br> в тексте\n",
    "import re\n",
    "\n",
    "for i in df.index:\n",
    "    df.loc[i, \"text\"] = re.sub('<.*?>', ' ', str(df.text[i]))        "
   ]
  },
  {
   "cell_type": "code",
   "execution_count": 32,
   "metadata": {},
   "outputs": [
    {
     "data": {
      "text/plain": [
       "84725"
      ]
     },
     "execution_count": 32,
     "metadata": {},
     "output_type": "execute_result"
    }
   ],
   "source": [
    "from string import punctuation\n",
    "punct = punctuation+'«»—…“”*№–'\n",
    "\n",
    "words = []\n",
    "for text in df.text:\n",
    "    text = text.split()\n",
    "    for word in text:\n",
    "        words.append(word.strip(punct))\n",
    "words = [w.lower() for w in words if w]\n",
    "\n",
    "wordcount = len(set(words)) #число уникальных слов без лемматизации\n",
    "wordcount"
   ]
  },
  {
   "cell_type": "code",
   "execution_count": 34,
   "metadata": {},
   "outputs": [],
   "source": [
    "import pymorphy2\n",
    "morph = pymorphy2.MorphAnalyzer()"
   ]
  },
  {
   "cell_type": "code",
   "execution_count": null,
   "metadata": {
    "collapsed": true
   },
   "outputs": [],
   "source": [
    "words_lemmatized = [morph.parse(w)[0].normal_form for w in words]"
   ]
  },
  {
   "cell_type": "code",
   "execution_count": 12,
   "metadata": {},
   "outputs": [
    {
     "data": {
      "text/plain": [
       "39129"
      ]
     },
     "execution_count": 12,
     "metadata": {},
     "output_type": "execute_result"
    }
   ],
   "source": [
    "lemma_wordcount = len(set(words_lemmatized)) #число уникальных слов с лемматизацией\n",
    "lemma_wordcount "
   ]
  },
  {
   "cell_type": "code",
   "execution_count": 6,
   "metadata": {},
   "outputs": [
    {
     "data": {
      "text/plain": [
       "83.911913978494624"
      ]
     },
     "execution_count": 6,
     "metadata": {},
     "output_type": "execute_result"
    }
   ],
   "source": [
    "import numpy as np\n",
    "\n",
    "word_lists = [[w.strip(punct) for w in text.split() if w.strip(punct)] for text in df.text]\n",
    "mean_words = np.mean([len(text) for text in word_lists]) #среднее число слов в тексте\n",
    "mean_words"
   ]
  },
  {
   "cell_type": "code",
   "execution_count": 7,
   "metadata": {},
   "outputs": [
    {
     "data": {
      "text/plain": [
       "True"
      ]
     },
     "execution_count": 7,
     "metadata": {},
     "output_type": "execute_result"
    }
   ],
   "source": [
    "len(word_lists) == len(df.index)"
   ]
  },
  {
   "cell_type": "code",
   "execution_count": 13,
   "metadata": {},
   "outputs": [
    {
     "data": {
      "text/plain": [
       "667.45255913978497"
      ]
     },
     "execution_count": 13,
     "metadata": {},
     "output_type": "execute_result"
    }
   ],
   "source": [
    "symbol_lists = [[s for s in text] for text in df.text]\n",
    "mean_symbols = np.mean([len(text) for text in symbol_lists]) #среднее число символов в тексте\n",
    "mean_symbols"
   ]
  },
  {
   "cell_type": "code",
   "execution_count": 14,
   "metadata": {},
   "outputs": [
    {
     "data": {
      "text/plain": [
       "mchsgov        3030\n",
       "mil            3030\n",
       "mospolice      2910\n",
       "russianpost    2655\n",
       "Name: source, dtype: int64"
      ]
     },
     "execution_count": 14,
     "metadata": {},
     "output_type": "execute_result"
    }
   ],
   "source": [
    "df.source.value_counts()"
   ]
  },
  {
   "cell_type": "markdown",
   "metadata": {},
   "source": [
    "Для нахождения 5 самых частотных сущствительных в каждом классе создадим словарь вида \"класс-тексты этого класса\" и напишем программу, которая посчитает 5 самых частотных существительных в каждом классе и запишет в словарь. "
   ]
  },
  {
   "cell_type": "code",
   "execution_count": 47,
   "metadata": {},
   "outputs": [],
   "source": [
    "classes = ['mchsgov', 'mil', 'mospolice', 'russianpost']\n",
    "dictionary = {}\n",
    "for i in classes:\n",
    "    text = ' '.join(df.loc[df[\"source\"]==i].text)\n",
    "    dictionary[i] = text"
   ]
  },
  {
   "cell_type": "code",
   "execution_count": 48,
   "metadata": {},
   "outputs": [],
   "source": [
    "from collections import Counter\n",
    "\n",
    "\n",
    "def get_five_nouns(dictionary):\n",
    "    most_common = {}\n",
    "    for class_, text in dictionary.items():\n",
    "        words = []\n",
    "        text = text.split()\n",
    "        for word in text:\n",
    "            words.append(word.strip(punct))\n",
    "        words = [w.lower() for w in words if w]\n",
    "        nouns = [morph.parse(w)[0].normal_form for w in text if w and morph.parse(w)[0].tag.POS == 'NOUN'] \n",
    "        five_nouns = [n[0] for n in Counter(nouns).most_common(5)]\n",
    "        most_common[class_] = five_nouns\n",
    "    return most_common"
   ]
  },
  {
   "cell_type": "code",
   "execution_count": 49,
   "metadata": {},
   "outputs": [],
   "source": [
    "nouns = get_five_nouns(dictionary) "
   ]
  },
  {
   "cell_type": "code",
   "execution_count": 50,
   "metadata": {},
   "outputs": [
    {
     "data": {
      "text/plain": [
       "{'mchsgov': ['#мчс', '#мчсроссия', 'мчс', 'россия', 'спасатель'],\n",
       " 'mil': ['#минобороны', 'военный', 'россия', 'год', 'оборона'],\n",
       " 'mospolice': ['россия', 'мвд', 'москва', 'полиция', 'сотрудник'],\n",
       " 'russianpost': ['почта', 'россия', 'год', 'отделение', '#почтароссия']}"
      ]
     },
     "execution_count": 50,
     "metadata": {},
     "output_type": "execute_result"
    }
   ],
   "source": [
    "nouns #5 самых частых существительных в текстах каждого паблика"
   ]
  },
  {
   "cell_type": "code",
   "execution_count": 35,
   "metadata": {},
   "outputs": [],
   "source": [
    "#для последующих заданий лемматизируем word_lists и добавим их в датафрейм\n",
    "word_lists = [[w.strip(punct) for w in text.split() if w.strip(punct)] for text in df.text]\n",
    "lemmas_list = []\n",
    "for list_ in word_lists:\n",
    "    lemmas = [morph.parse(w)[0].normal_form for w in list_]\n",
    "    lemmas_list.append(lemmas)"
   ]
  },
  {
   "cell_type": "code",
   "execution_count": 36,
   "metadata": {},
   "outputs": [
    {
     "data": {
      "text/html": [
       "<div>\n",
       "<style scoped>\n",
       "    .dataframe tbody tr th:only-of-type {\n",
       "        vertical-align: middle;\n",
       "    }\n",
       "\n",
       "    .dataframe tbody tr th {\n",
       "        vertical-align: top;\n",
       "    }\n",
       "\n",
       "    .dataframe thead th {\n",
       "        text-align: right;\n",
       "    }\n",
       "</style>\n",
       "<table border=\"1\" class=\"dataframe\">\n",
       "  <thead>\n",
       "    <tr style=\"text-align: right;\">\n",
       "      <th></th>\n",
       "      <th>text</th>\n",
       "      <th>source</th>\n",
       "      <th>lemmas</th>\n",
       "    </tr>\n",
       "  </thead>\n",
       "  <tbody>\n",
       "    <tr>\n",
       "      <th>0</th>\n",
       "      <td>Начальник Главного оперативного управления Ген...</td>\n",
       "      <td>mil</td>\n",
       "      <td>[начальник, главный, оперативный, управление, ...</td>\n",
       "    </tr>\n",
       "    <tr>\n",
       "      <th>1</th>\n",
       "      <td>Артиллерийские подразделения общевойскового об...</td>\n",
       "      <td>mil</td>\n",
       "      <td>[артиллерийский, подразделение, общевойсковой,...</td>\n",
       "    </tr>\n",
       "    <tr>\n",
       "      <th>2</th>\n",
       "      <td>Подразделения морской пехоты Каспийской флотил...</td>\n",
       "      <td>mil</td>\n",
       "      <td>[подразделение, морской, пехота, каспийский, ф...</td>\n",
       "    </tr>\n",
       "    <tr>\n",
       "      <th>3</th>\n",
       "      <td>Команды на всеармейских этапах конкурсов АрМИ-...</td>\n",
       "      <td>mil</td>\n",
       "      <td>[команда, на, всеармейский, этап, конкурс, арм...</td>\n",
       "    </tr>\n",
       "    <tr>\n",
       "      <th>4</th>\n",
       "      <td>На большом учебно-методическом командирском сб...</td>\n",
       "      <td>mil</td>\n",
       "      <td>[на, большой, учебно-методический, командирски...</td>\n",
       "    </tr>\n",
       "  </tbody>\n",
       "</table>\n",
       "</div>"
      ],
      "text/plain": [
       "                                                text source  \\\n",
       "0  Начальник Главного оперативного управления Ген...    mil   \n",
       "1  Артиллерийские подразделения общевойскового об...    mil   \n",
       "2  Подразделения морской пехоты Каспийской флотил...    mil   \n",
       "3  Команды на всеармейских этапах конкурсов АрМИ-...    mil   \n",
       "4  На большом учебно-методическом командирском сб...    mil   \n",
       "\n",
       "                                              lemmas  \n",
       "0  [начальник, главный, оперативный, управление, ...  \n",
       "1  [артиллерийский, подразделение, общевойсковой,...  \n",
       "2  [подразделение, морской, пехота, каспийский, ф...  \n",
       "3  [команда, на, всеармейский, этап, конкурс, арм...  \n",
       "4  [на, большой, учебно-методический, командирски...  "
      ]
     },
     "execution_count": 36,
     "metadata": {},
     "output_type": "execute_result"
    }
   ],
   "source": [
    "df.insert(loc = 2, column = 'lemmas', value = lemmas_list)\n",
    "df.head()"
   ]
  },
  {
   "cell_type": "markdown",
   "metadata": {},
   "source": [
    "Разделим коллекцию текстов на обучающую и тестовую части. "
   ]
  },
  {
   "cell_type": "code",
   "execution_count": 173,
   "metadata": {},
   "outputs": [],
   "source": [
    "from sklearn.utils import shuffle\n",
    "from sklearn.model_selection import train_test_split\n",
    "\n",
    "data = shuffle(df)\n",
    "\n",
    "train, test = train_test_split(data, test_size=0.1)"
   ]
  },
  {
   "cell_type": "markdown",
   "metadata": {},
   "source": [
    "## Задание 2. Классификация по правилам\n",
    "\n",
    "### 1. Потестируем первый правиловый классификатор"
   ]
  },
  {
   "cell_type": "code",
   "execution_count": 51,
   "metadata": {},
   "outputs": [],
   "source": [
    "import random\n",
    "\n",
    "def rule_classifier1(text):\n",
    "    if 'мчс' in text:\n",
    "        return 'mchsgov'\n",
    "    elif 'оборона' in text:\n",
    "        return 'mil'\n",
    "    elif 'мвд' in text:\n",
    "        return 'mospolice'\n",
    "    elif 'почта' in text:\n",
    "        return'russianpost'\n",
    "    elif '#мчс' in text:\n",
    "        return 'mchsgov'\n",
    "    elif '#мчсроссия' in text:\n",
    "        return 'mchsgov'\n",
    "    elif 'полиция' in text:\n",
    "        return 'mospolice'\n",
    "    elif 'отделение' in text:\n",
    "        return 'russianpost'\n",
    "    else:\n",
    "        return random.choice(['mchsgov', 'mospolice', 'russianpost', 'mil']) \n",
    "    #использем random.choice для определения класса текстов, в которых нет слов из правил"
   ]
  },
  {
   "cell_type": "code",
   "execution_count": 52,
   "metadata": {},
   "outputs": [
    {
     "name": "stdout",
     "output_type": "stream",
     "text": [
      "['mil', 'russianpost', 'mospolice', 'mospolice', 'russianpost', 'mil', 'russianpost', 'russianpost', 'mil', 'mil', 'mchsgov', 'mchsgov', 'mil', 'mchsgov', 'mchsgov', 'mospolice', 'mospolice', 'mospolice', 'russianpost', 'russianpost']\n"
     ]
    }
   ],
   "source": [
    "predictions = []\n",
    "for text in test.lemmas:\n",
    "    class_ = rule_classifier1(text)\n",
    "    if class_ == None:\n",
    "        predictions.append('')\n",
    "    else:\n",
    "        predictions.append(class_)\n",
    "print(predictions[:20])"
   ]
  },
  {
   "cell_type": "code",
   "execution_count": 53,
   "metadata": {
    "collapsed": true
   },
   "outputs": [],
   "source": [
    "predictions_array = np.asarray(predictions)"
   ]
  },
  {
   "cell_type": "code",
   "execution_count": 54,
   "metadata": {},
   "outputs": [],
   "source": [
    "from sklearn.metrics import *\n",
    "def evaluate(right_classes, predicted_classes):\n",
    "    # макро-усреднение\n",
    "    print(\"Precision: {0:6.2f}\".format(precision_score(right_classes, predicted_classes, average='macro')))\n",
    "    print(\"Recall: {0:6.2f}\".format(recall_score(right_classes, predicted_classes, average='macro')))\n",
    "    print(\"F1-measure: {0:6.2f}\".format(f1_score(right_classes, predicted_classes, average='macro')))\n",
    "\n",
    "    print(\"...\")\n",
    "    # микро-усреднение\n",
    "    print(\"Precision: {0:6.2f}\".format(precision_score(right_classes, predicted_classes, average='micro')))\n",
    "    print(\"Recall: {0:6.2f}\".format(recall_score(right_classes, predicted_classes, average='micro')))\n",
    "    print(\"F1-measure: {0:6.2f}\".format(f1_score(right_classes, predicted_classes, average='micro')))\n",
    "\n",
    "    print(\"...\")\n",
    "    # accuracy\n",
    "    print(\"Accuracy: {0:6.2f}\".format(accuracy_score(right_classes, predicted_classes)))"
   ]
  },
  {
   "cell_type": "code",
   "execution_count": 55,
   "metadata": {},
   "outputs": [
    {
     "name": "stdout",
     "output_type": "stream",
     "text": [
      "Precision:   0.70\n",
      "Recall:   0.71\n",
      "F1-measure:   0.69\n",
      "...\n",
      "Precision:   0.71\n",
      "Recall:   0.71\n",
      "F1-measure:   0.71\n",
      "...\n",
      "Accuracy:   0.71\n"
     ]
    }
   ],
   "source": [
    "evaluate(test.source, predictions_array)"
   ]
  },
  {
   "cell_type": "code",
   "execution_count": 56,
   "metadata": {
    "scrolled": true
   },
   "outputs": [
    {
     "name": "stdout",
     "output_type": "stream",
     "text": [
      "             precision    recall  f1-score   support\n",
      "\n",
      "    mchsgov       0.72      0.84      0.77       287\n",
      "        mil       0.66      0.36      0.47       299\n",
      "  mospolice       0.74      0.93      0.82       303\n",
      "russianpost       0.68      0.70      0.69       274\n",
      "\n",
      "avg / total       0.70      0.71      0.69      1163\n",
      "\n"
     ]
    }
   ],
   "source": [
    "print(classification_report(test.source, predictions_array)) "
   ]
  },
  {
   "cell_type": "markdown",
   "metadata": {},
   "source": [
    "### 2. Потестируем второй классификатор, в котором класс определяется максимальным пересечением множеств слов текста и 5 самых частотных существительных класса"
   ]
  },
  {
   "cell_type": "code",
   "execution_count": 57,
   "metadata": {},
   "outputs": [],
   "source": [
    "def rule_classifier2(text, nouns):\n",
    "    text = set(text)\n",
    "    overlaps = []\n",
    "    for class_, words in nouns.items():\n",
    "        overlap = text & set(words)\n",
    "        overlaps.append(tuple([class_, overlap]))\n",
    "    \n",
    "    max_overlap = 0\n",
    "    for overlap in overlaps:\n",
    "        if len(overlap[1]) > max_overlap:\n",
    "            max_overlap = len(overlap[1])\n",
    "    \n",
    "    for overlap in overlaps:\n",
    "        if max_overlap == len(overlap[1]):\n",
    "            return(overlap[0])"
   ]
  },
  {
   "cell_type": "code",
   "execution_count": 58,
   "metadata": {
    "scrolled": true
   },
   "outputs": [
    {
     "data": {
      "text/plain": [
       "['mil',\n",
       " 'russianpost',\n",
       " 'mchsgov',\n",
       " 'mospolice',\n",
       " 'russianpost',\n",
       " 'mchsgov',\n",
       " 'russianpost',\n",
       " 'mil',\n",
       " 'mchsgov',\n",
       " 'mil',\n",
       " 'mchsgov',\n",
       " 'mchsgov',\n",
       " 'mchsgov',\n",
       " 'mchsgov',\n",
       " 'mchsgov',\n",
       " 'mospolice',\n",
       " 'mospolice',\n",
       " 'mospolice',\n",
       " 'mil',\n",
       " 'russianpost']"
      ]
     },
     "execution_count": 58,
     "metadata": {},
     "output_type": "execute_result"
    }
   ],
   "source": [
    "predictions2 = []\n",
    "for text in test.lemmas:\n",
    "    class_ = rule_classifier2(text, nouns)\n",
    "    predictions2.append(class_)\n",
    "predictions2[:20]"
   ]
  },
  {
   "cell_type": "code",
   "execution_count": 59,
   "metadata": {},
   "outputs": [
    {
     "name": "stdout",
     "output_type": "stream",
     "text": [
      "Precision:   0.80\n",
      "Recall:   0.75\n",
      "F1-measure:   0.75\n",
      "...\n",
      "Precision:   0.75\n",
      "Recall:   0.75\n",
      "F1-measure:   0.75\n",
      "...\n",
      "Accuracy:   0.75\n"
     ]
    }
   ],
   "source": [
    "predictions_array2 = np.asarray(predictions2)\n",
    "evaluate(test.source, predictions_array2)"
   ]
  },
  {
   "cell_type": "code",
   "execution_count": 60,
   "metadata": {},
   "outputs": [
    {
     "name": "stdout",
     "output_type": "stream",
     "text": [
      "             precision    recall  f1-score   support\n",
      "\n",
      "    mchsgov       0.58      0.95      0.72       287\n",
      "        mil       0.76      0.54      0.63       299\n",
      "  mospolice       0.91      0.93      0.92       303\n",
      "russianpost       0.96      0.59      0.73       274\n",
      "\n",
      "avg / total       0.80      0.75      0.75      1163\n",
      "\n"
     ]
    }
   ],
   "source": [
    "print(classification_report(test.source, predictions_array2)) "
   ]
  },
  {
   "cell_type": "markdown",
   "metadata": {},
   "source": [
    "Как видно из результатов, мы не смогли придумать правило, которое никогда не ошибается.  "
   ]
  },
  {
   "cell_type": "markdown",
   "metadata": {},
   "source": [
    "## Задание 3. Baseline\n",
    "Используйте стандартный ```sklearn.pipeline``` для классификации текстов: \n",
    "* векторизация \n",
    "* $tf-idf$ взвешивание \n",
    "* ваш любимый метод классификации.\n",
    "\n",
    "\n",
    "### 1. Попробуем мультиномиальный Байес "
   ]
  },
  {
   "cell_type": "code",
   "execution_count": 33,
   "metadata": {},
   "outputs": [
    {
     "data": {
      "text/plain": [
       "239      Воспитанник Аксайского казачьего кадетского ко...\n",
       "321      Этап конкурса «Рембат» по эвакуации неисправно...\n",
       "349      Экипажи двух противолодочных самолетов Ил-38 С...\n",
       "10178    Полицейские задержали подозреваемых в разбойно...\n",
       "4284     #БудниМЧС #МЧС #МЧСРОССИИ   Собачий нос надежн...\n",
       "Name: text, dtype: object"
      ]
     },
     "execution_count": 33,
     "metadata": {},
     "output_type": "execute_result"
    }
   ],
   "source": [
    "test.text.head()"
   ]
  },
  {
   "cell_type": "code",
   "execution_count": 61,
   "metadata": {},
   "outputs": [
    {
     "name": "stdout",
     "output_type": "stream",
     "text": [
      "CPU times: user 5.29 s, sys: 371 ms, total: 5.66 s\n",
      "Wall time: 5.77 s\n"
     ]
    },
    {
     "data": {
      "text/plain": [
       "Pipeline(memory=None,\n",
       "     steps=[('vect', CountVectorizer(analyzer='word', binary=False, decode_error='strict',\n",
       "        dtype=<class 'numpy.int64'>, encoding='utf-8', input='content',\n",
       "        lowercase=True, max_df=1.0, max_features=None, min_df=1,\n",
       "        ngram_range=(1, 2), preprocessor=None, stop_words=None,\n",
       "        strip...inear_tf=False, use_idf=True)), ('clf', MultinomialNB(alpha=1.0, class_prior=None, fit_prior=True))])"
      ]
     },
     "execution_count": 61,
     "metadata": {},
     "output_type": "execute_result"
    }
   ],
   "source": [
    "from sklearn.feature_extraction.text import *\n",
    "from sklearn.pipeline import Pipeline\n",
    "from sklearn.naive_bayes import MultinomialNB \n",
    "from sklearn.linear_model import LogisticRegression \n",
    "from sklearn.ensemble import RandomForestClassifier\n",
    "\n",
    "vectorizer = CountVectorizer(ngram_range=(1,2)) \n",
    "tfidf = TfidfTransformer()\n",
    "classifier = MultinomialNB()\n",
    "\n",
    "clf = Pipeline([\n",
    "    ('vect', vectorizer),\n",
    "    ('tfidf', tfidf),\n",
    "    ('clf', classifier)\n",
    "])\n",
    "%time clf.fit(train.text, train.source)"
   ]
  },
  {
   "cell_type": "code",
   "execution_count": 62,
   "metadata": {},
   "outputs": [
    {
     "name": "stdout",
     "output_type": "stream",
     "text": [
      "Precision:   0.97\n",
      "Recall:   0.96\n",
      "F1-measure:   0.96\n",
      "...\n",
      "Precision:   0.96\n",
      "Recall:   0.96\n",
      "F1-measure:   0.96\n",
      "...\n",
      "Accuracy:   0.96\n"
     ]
    }
   ],
   "source": [
    "predictions3 = clf.predict(test.text)\n",
    "evaluate(test.source, predictions3)"
   ]
  },
  {
   "cell_type": "code",
   "execution_count": 64,
   "metadata": {},
   "outputs": [
    {
     "name": "stderr",
     "output_type": "stream",
     "text": [
      "/Users/anyway/anaconda/lib/python3.6/site-packages/seaborn/matrix.py:143: FutureWarning: elementwise comparison failed; returning scalar instead, but in the future will perform elementwise comparison\n",
      "  if xticklabels == []:\n",
      "/Users/anyway/anaconda/lib/python3.6/site-packages/seaborn/matrix.py:151: FutureWarning: elementwise comparison failed; returning scalar instead, but in the future will perform elementwise comparison\n",
      "  if yticklabels == []:\n"
     ]
    },
    {
     "data": {
      "image/png": "[encoded data removed]",
      "text/plain": [
       "<Figure size 360x360 with 1 Axes>"
      ]
     },
     "metadata": {},
     "output_type": "display_data"
    }
   ],
   "source": [
    "import matplotlib.pyplot as plt\n",
    "import seaborn as sns\n",
    "import numpy as np\n",
    "\n",
    "m = confusion_matrix(test.source, predictions3)\n",
    "\n",
    "labels = clf.classes_\n",
    "plt.figure(figsize = (5,5))\n",
    "sns.heatmap(data=m, annot=True, fmt=\"d\", cbar=False, xticklabels=labels, yticklabels=labels, cmap=\"PuRd\")\n",
    "plt.title(\"Confusion matrix\")\n",
    "plt.show()"
   ]
  },
  {
   "cell_type": "markdown",
   "metadata": {},
   "source": [
    "Мультиномиальный байес сработал неплохо. Попробуем другие:"
   ]
  },
  {
   "cell_type": "code",
   "execution_count": 66,
   "metadata": {
    "scrolled": false
   },
   "outputs": [
    {
     "name": "stdout",
     "output_type": "stream",
     "text": [
      "CPU times: user 11.1 s, sys: 385 ms, total: 11.4 s\n",
      "Wall time: 8.59 s\n"
     ]
    },
    {
     "data": {
      "text/plain": [
       "Pipeline(memory=None,\n",
       "     steps=[('vect', CountVectorizer(analyzer='word', binary=False, decode_error='strict',\n",
       "        dtype=<class 'numpy.int64'>, encoding='utf-8', input='content',\n",
       "        lowercase=True, max_df=1.0, max_features=None, min_df=1,\n",
       "        ngram_range=(1, 2), preprocessor=None, stop_words=None,\n",
       "        strip...ty='l2', random_state=None, solver='liblinear', tol=0.0001,\n",
       "          verbose=0, warm_start=False))])"
      ]
     },
     "execution_count": 66,
     "metadata": {},
     "output_type": "execute_result"
    }
   ],
   "source": [
    "vectorizer = CountVectorizer(ngram_range=(1,2)) \n",
    "tfidf = TfidfTransformer()\n",
    "classifier = LogisticRegression() #пробуем логистическую регрессию\n",
    "\n",
    "clf = Pipeline([\n",
    "    ('vect', vectorizer),\n",
    "    ('tfidf', tfidf),\n",
    "    ('clf', classifier)\n",
    "])\n",
    "\n",
    "%time clf.fit(train.text, train.source)"
   ]
  },
  {
   "cell_type": "code",
   "execution_count": 67,
   "metadata": {},
   "outputs": [
    {
     "name": "stdout",
     "output_type": "stream",
     "text": [
      "Precision:   0.97\n",
      "Recall:   0.97\n",
      "F1-measure:   0.97\n",
      "...\n",
      "Precision:   0.97\n",
      "Recall:   0.97\n",
      "F1-measure:   0.97\n",
      "...\n",
      "Accuracy:   0.97\n"
     ]
    },
    {
     "data": {
      "image/png": "[encoded data removed]",
      "text/plain": [
       "<Figure size 360x360 with 1 Axes>"
      ]
     },
     "metadata": {},
     "output_type": "display_data"
    }
   ],
   "source": [
    "predictions4 = clf.predict(test.text)\n",
    "evaluate(test.source, predictions4)\n",
    "\n",
    "m = confusion_matrix(test.source, predictions4)\n",
    "\n",
    "labels = clf.classes_\n",
    "plt.figure(figsize = (5,5))\n",
    "sns.heatmap(data=m, annot=True, fmt=\"d\", cbar=False, xticklabels=labels, yticklabels=labels, cmap=\"GnBu\")\n",
    "plt.title(\"Confusion matrix\")\n",
    "plt.show()"
   ]
  },
  {
   "cell_type": "code",
   "execution_count": 70,
   "metadata": {},
   "outputs": [
    {
     "name": "stdout",
     "output_type": "stream",
     "text": [
      "CPU times: user 20.1 s, sys: 423 ms, total: 20.5 s\n",
      "Wall time: 21 s\n"
     ]
    },
    {
     "data": {
      "text/plain": [
       "Pipeline(memory=None,\n",
       "     steps=[('vect', CountVectorizer(analyzer='word', binary=False, decode_error='strict',\n",
       "        dtype=<class 'numpy.int64'>, encoding='utf-8', input='content',\n",
       "        lowercase=True, max_df=1.0, max_features=None, min_df=1,\n",
       "        ngram_range=(1, 2), preprocessor=None, stop_words=None,\n",
       "        strip...n_jobs=1,\n",
       "            oob_score=False, random_state=None, verbose=0,\n",
       "            warm_start=False))])"
      ]
     },
     "execution_count": 70,
     "metadata": {},
     "output_type": "execute_result"
    }
   ],
   "source": [
    "vectorizer = CountVectorizer(ngram_range=(1,2)) \n",
    "tfidf = TfidfTransformer()\n",
    "classifier = RandomForestClassifier() #пробуем случайный лес\n",
    "\n",
    "clf = Pipeline([\n",
    "    ('vect', vectorizer),\n",
    "    ('tfidf', tfidf),\n",
    "    ('clf', classifier)\n",
    "])\n",
    "\n",
    "%time clf.fit(train.text, train.source)"
   ]
  },
  {
   "cell_type": "code",
   "execution_count": 72,
   "metadata": {},
   "outputs": [
    {
     "name": "stdout",
     "output_type": "stream",
     "text": [
      "Precision:   0.96\n",
      "Recall:   0.96\n",
      "F1-measure:   0.96\n",
      "...\n",
      "Precision:   0.96\n",
      "Recall:   0.96\n",
      "F1-measure:   0.96\n",
      "...\n",
      "Accuracy:   0.96\n"
     ]
    },
    {
     "data": {
      "image/png": "[encoded data removed]",
      "text/plain": [
       "<Figure size 360x360 with 1 Axes>"
      ]
     },
     "metadata": {},
     "output_type": "display_data"
    }
   ],
   "source": [
    "predictions5 = clf.predict(test.text)\n",
    "evaluate(test.source, predictions5)\n",
    "\n",
    "m = confusion_matrix(test.source, predictions5)\n",
    "\n",
    "labels = clf.classes_\n",
    "plt.figure(figsize = (5,5))\n",
    "sns.heatmap(data=m, annot=True, fmt=\"d\", cbar=False, xticklabels=labels, yticklabels=labels, cmap=\"PuBu\")\n",
    "plt.title(\"Confusion matrix\")\n",
    "plt.show()"
   ]
  },
  {
   "cell_type": "markdown",
   "metadata": {},
   "source": [
    "Основное наблюдение - все классификаторы не до конца могут провести различия между Почтой России и МЧС.\n",
    "### Как мы видим, F-меру 0.97 показала логистическая регрессия - возьмем эту цифру за baseline. "
   ]
  },
  {
   "cell_type": "markdown",
   "metadata": {},
   "source": [
    "## Задание 4. Снижение размерности\n",
    "Добавим в ```sklearn.pipeline```  методы снижения размерности: LSI (TruncatedSVD) и LDA. \n",
    "\n",
    "Какие методы классификации разумно использовать после снижения размерности? \n",
    "\n",
    "После снижения размерности методом LSA мы можем использовать те классификаторы, которые принимают на вход в качестве X и положительные, и отрицательные значения, например логистическую регрессию или случайный лес. Если мы будем использовать вероятностные методы снижения размерности, то область определения классификатора должна быть от 0 до 1 - можем попробовать наивный Байесовский классификатор."
   ]
  },
  {
   "cell_type": "code",
   "execution_count": 75,
   "metadata": {},
   "outputs": [
    {
     "name": "stdout",
     "output_type": "stream",
     "text": [
      "CPU times: user 36.5 s, sys: 13.1 s, total: 49.6 s\n",
      "Wall time: 46.3 s\n"
     ]
    },
    {
     "data": {
      "text/plain": [
       "Pipeline(memory=None,\n",
       "     steps=[('vect', CountVectorizer(analyzer='word', binary=False, decode_error='strict',\n",
       "        dtype=<class 'numpy.int64'>, encoding='utf-8', input='content',\n",
       "        lowercase=True, max_df=1.0, max_features=None, min_df=1,\n",
       "        ngram_range=(1, 2), preprocessor=None, stop_words=None,\n",
       "        strip...ty='l2', random_state=None, solver='liblinear', tol=0.0001,\n",
       "          verbose=0, warm_start=False))])"
      ]
     },
     "execution_count": 75,
     "metadata": {},
     "output_type": "execute_result"
    }
   ],
   "source": [
    "from sklearn.decomposition import TruncatedSVD\n",
    "\n",
    "vectorizer = CountVectorizer(ngram_range=(1,2)) \n",
    "tfidf = TfidfTransformer()\n",
    "svd = TruncatedSVD(n_components=100, algorithm='randomized', n_iter=5, random_state=None, tol=0.0)\n",
    "classifier = LogisticRegression() \n",
    "\n",
    "clf = Pipeline([\n",
    "    ('vect', vectorizer),\n",
    "    ('tfidf', tfidf),\n",
    "    ('svd', svd),\n",
    "    ('clf', classifier)\n",
    "])\n",
    "\n",
    "%time clf.fit(train.text, train.source)"
   ]
  },
  {
   "cell_type": "code",
   "execution_count": 76,
   "metadata": {},
   "outputs": [
    {
     "name": "stdout",
     "output_type": "stream",
     "text": [
      "Precision:   0.96\n",
      "Recall:   0.95\n",
      "F1-measure:   0.95\n",
      "...\n",
      "Precision:   0.96\n",
      "Recall:   0.96\n",
      "F1-measure:   0.96\n",
      "...\n",
      "Accuracy:   0.96\n"
     ]
    },
    {
     "data": {
      "image/png": "[encoded data removed]",
      "text/plain": [
       "<Figure size 360x360 with 1 Axes>"
      ]
     },
     "metadata": {},
     "output_type": "display_data"
    }
   ],
   "source": [
    "predictions6 = clf.predict(test.text)\n",
    "evaluate(test.source, predictions6)\n",
    "\n",
    "m = confusion_matrix(test.source, predictions6)\n",
    "\n",
    "labels = clf.classes_\n",
    "plt.figure(figsize = (5,5))\n",
    "sns.heatmap(data=m, annot=True, fmt=\"d\", cbar=False, xticklabels=labels, yticklabels=labels, cmap=\"PuBu\")\n",
    "plt.title(\"Confusion matrix\")\n",
    "plt.show()"
   ]
  },
  {
   "cell_type": "markdown",
   "metadata": {},
   "source": [
    "После снижения размерности F-мера не улучшилась. Пробуем вместо логистической регрессии случайный лес.  "
   ]
  },
  {
   "cell_type": "code",
   "execution_count": 77,
   "metadata": {},
   "outputs": [
    {
     "name": "stdout",
     "output_type": "stream",
     "text": [
      "CPU times: user 37.3 s, sys: 15.4 s, total: 52.7 s\n",
      "Wall time: 50.8 s\n",
      "Precision:   0.97\n",
      "Recall:   0.96\n",
      "F1-measure:   0.97\n",
      "...\n",
      "Precision:   0.97\n",
      "Recall:   0.97\n",
      "F1-measure:   0.97\n",
      "...\n",
      "Accuracy:   0.97\n"
     ]
    },
    {
     "data": {
      "image/png": "[encoded data removed]",
      "text/plain": [
       "<Figure size 360x360 with 1 Axes>"
      ]
     },
     "metadata": {},
     "output_type": "display_data"
    }
   ],
   "source": [
    "vectorizer = CountVectorizer(ngram_range=(1,2)) \n",
    "tfidf = TfidfTransformer()\n",
    "svd = TruncatedSVD(n_components=100, algorithm='randomized', n_iter=5, random_state=None, tol=0.0)\n",
    "classifier = RandomForestClassifier() \n",
    "\n",
    "clf = Pipeline([\n",
    "    ('vect', vectorizer),\n",
    "    ('tfidf', tfidf),\n",
    "    ('svd', svd),\n",
    "    ('clf', classifier)\n",
    "])\n",
    "\n",
    "%time clf.fit(train.text, train.source)\n",
    "predictions7 = clf.predict(test.text)\n",
    "evaluate(test.source, predictions7)\n",
    "\n",
    "m = confusion_matrix(test.source, predictions7)\n",
    "\n",
    "labels = clf.classes_\n",
    "plt.figure(figsize = (5,5))\n",
    "sns.heatmap(data=m, annot=True, fmt=\"d\", cbar=False, xticklabels=labels, yticklabels=labels, cmap=\"PuBu\")\n",
    "plt.title(\"Confusion matrix\")\n",
    "plt.show()"
   ]
  },
  {
   "cell_type": "markdown",
   "metadata": {},
   "source": [
    "С LSA и случайным лесом мы остались на baseline 0.97. Теперь попробуем вероятностную LDA + мультиномиальный Байес."
   ]
  },
  {
   "cell_type": "code",
   "execution_count": 79,
   "metadata": {},
   "outputs": [],
   "source": [
    "from sklearn.decomposition import LatentDirichletAllocation\n",
    "import warnings\n",
    "warnings.filterwarnings('ignore')"
   ]
  },
  {
   "cell_type": "code",
   "execution_count": 80,
   "metadata": {
    "scrolled": true
   },
   "outputs": [
    {
     "name": "stdout",
     "output_type": "stream",
     "text": [
      "CPU times: user 1min 52s, sys: 7.42 s, total: 1min 59s\n",
      "Wall time: 2min\n"
     ]
    },
    {
     "data": {
      "text/plain": [
       "Pipeline(memory=None,\n",
       "     steps=[('vect', CountVectorizer(analyzer='word', binary=False, decode_error='strict',\n",
       "        dtype=<class 'numpy.int64'>, encoding='utf-8', input='content',\n",
       "        lowercase=True, max_df=1.0, max_features=None, min_df=1,\n",
       "        ngram_range=(1, 2), preprocessor=None, stop_words=None,\n",
       "        strip...samples=1000000.0, verbose=0)), ('clf', MultinomialNB(alpha=1.0, class_prior=None, fit_prior=True))])"
      ]
     },
     "execution_count": 80,
     "metadata": {},
     "output_type": "execute_result"
    }
   ],
   "source": [
    "vectorizer = CountVectorizer(ngram_range=(1,2)) \n",
    "tfidf = TfidfTransformer()\n",
    "lda = LatentDirichletAllocation(n_components=10, max_iter = 5) #возьмем 10 тем\n",
    "classifier = MultinomialNB() \n",
    "\n",
    "clf = Pipeline([\n",
    "    ('vect', vectorizer),\n",
    "    ('tfidf', tfidf),\n",
    "    ('lda', lda),\n",
    "    ('clf', classifier)\n",
    "])\n",
    "\n",
    "%time clf.fit(train.text, train.source)"
   ]
  },
  {
   "cell_type": "code",
   "execution_count": 81,
   "metadata": {
    "scrolled": false
   },
   "outputs": [
    {
     "name": "stdout",
     "output_type": "stream",
     "text": [
      "Precision:   0.82\n",
      "Recall:   0.72\n",
      "F1-measure:   0.73\n",
      "...\n",
      "Precision:   0.72\n",
      "Recall:   0.72\n",
      "F1-measure:   0.72\n",
      "...\n",
      "Accuracy:   0.72\n"
     ]
    },
    {
     "data": {
      "image/png": "[encoded data removed]",
      "text/plain": [
       "<Figure size 360x360 with 1 Axes>"
      ]
     },
     "metadata": {},
     "output_type": "display_data"
    }
   ],
   "source": [
    "predictions8 = clf.predict(test.text)\n",
    "evaluate(test.source, predictions8)\n",
    "\n",
    "m = confusion_matrix(test.source, predictions8)\n",
    "\n",
    "labels = clf.classes_\n",
    "plt.figure(figsize = (5,5))\n",
    "sns.heatmap(data=m, annot=True, fmt=\"d\", cbar=False, xticklabels=labels, yticklabels=labels, cmap=\"PuBu\")\n",
    "plt.title(\"Confusion matrix\")\n",
    "plt.show()"
   ]
  },
  {
   "cell_type": "markdown",
   "metadata": {},
   "source": [
    "Получилось еще хуже: теперь распознаются неправильно не только классы МЧС и Почты России, но и московской полиции. "
   ]
  },
  {
   "cell_type": "markdown",
   "metadata": {},
   "source": [
    "## Задание 5. Лемматизация\n",
    "\n",
    "Проверим, как изменятся результаты в случае варианта: TruncatedSVD + Random Forest Classifier "
   ]
  },
  {
   "cell_type": "code",
   "execution_count": 86,
   "metadata": {
    "collapsed": true
   },
   "outputs": [],
   "source": [
    "train_set = [' '.join(text) for text in train.lemmas]\n",
    "test_set = [' '.join(text) for text in test.lemmas]"
   ]
  },
  {
   "cell_type": "code",
   "execution_count": 92,
   "metadata": {},
   "outputs": [
    {
     "name": "stdout",
     "output_type": "stream",
     "text": [
      "CPU times: user 28.2 s, sys: 8.23 s, total: 36.4 s\n",
      "Wall time: 32.7 s\n",
      "Precision:   0.97\n",
      "Recall:   0.97\n",
      "F1-measure:   0.97\n",
      "...\n",
      "Precision:   0.97\n",
      "Recall:   0.97\n",
      "F1-measure:   0.97\n",
      "...\n",
      "Accuracy:   0.97\n"
     ]
    },
    {
     "data": {
      "image/png": "[encoded data removed]",
      "text/plain": [
       "<Figure size 360x360 with 1 Axes>"
      ]
     },
     "metadata": {},
     "output_type": "display_data"
    }
   ],
   "source": [
    "vectorizer = CountVectorizer(ngram_range=(1,2)) #используем на униграммах и биграммах\n",
    "tfidf = TfidfTransformer()\n",
    "svd = TruncatedSVD(n_components=100, algorithm='randomized', n_iter=5)\n",
    "classifier = RandomForestClassifier() \n",
    "\n",
    "clf = Pipeline([\n",
    "    ('vect', vectorizer),\n",
    "    ('tfidf', tfidf),\n",
    "    ('svd', svd),\n",
    "    ('clf', classifier)\n",
    "])\n",
    "\n",
    "\n",
    "%time clf.fit(train_set, train.source) #используем на лемматизированных текстах\n",
    "predictions10 = clf.predict(test_set)\n",
    "evaluate(test.source, predictions10)\n",
    "\n",
    "m = confusion_matrix(test.source, predictions10)\n",
    "\n",
    "labels = clf.classes_\n",
    "plt.figure(figsize = (5,5))\n",
    "sns.heatmap(data=m, annot=True, fmt=\"d\", cbar=False, xticklabels=labels, yticklabels=labels, cmap=\"PuBu\")\n",
    "plt.title(\"Confusion matrix\")\n",
    "plt.show()"
   ]
  },
  {
   "cell_type": "markdown",
   "metadata": {},
   "source": [
    "Baseline остался тот же. \n",
    "\n",
    "Попробуем просто на словах: "
   ]
  },
  {
   "cell_type": "code",
   "execution_count": 90,
   "metadata": {},
   "outputs": [
    {
     "name": "stdout",
     "output_type": "stream",
     "text": [
      "CPU times: user 4.82 s, sys: 217 ms, total: 5.04 s\n",
      "Wall time: 4.16 s\n",
      "Precision:   0.97\n",
      "Recall:   0.97\n",
      "F1-measure:   0.97\n",
      "...\n",
      "Precision:   0.97\n",
      "Recall:   0.97\n",
      "F1-measure:   0.97\n",
      "...\n",
      "Accuracy:   0.97\n"
     ]
    },
    {
     "data": {
      "image/png": "[encoded data removed]",
      "text/plain": [
       "<Figure size 360x360 with 1 Axes>"
      ]
     },
     "metadata": {},
     "output_type": "display_data"
    }
   ],
   "source": [
    "vectorizer = CountVectorizer(ngram_range=(1,1)) #возьмем просто слова\n",
    "tfidf = TfidfTransformer()\n",
    "svd = TruncatedSVD(n_components=100, algorithm='randomized', n_iter=5, random_state=None, tol=0.0)\n",
    "classifier = RandomForestClassifier() \n",
    "\n",
    "clf = Pipeline([\n",
    "    ('vect', vectorizer),\n",
    "    ('tfidf', tfidf),\n",
    "    ('svd', svd),\n",
    "    ('clf', classifier)\n",
    "])\n",
    "\n",
    "\n",
    "%time clf.fit(train_set, train.source) #используем на лемматизированных текстах\n",
    "predictions11 = clf.predict(test_set)\n",
    "evaluate(test.source, predictions11)\n",
    "\n",
    "m = confusion_matrix(test.source, predictions11)\n",
    "\n",
    "labels = clf.classes_\n",
    "plt.figure(figsize = (5,5))\n",
    "sns.heatmap(data=m, annot=True, fmt=\"d\", cbar=False, xticklabels=labels, yticklabels=labels, cmap=\"PuBu\")\n",
    "plt.title(\"Confusion matrix\")\n",
    "plt.show()"
   ]
  },
  {
   "cell_type": "markdown",
   "metadata": {},
   "source": [
    "Ничего не поменялось. "
   ]
  },
  {
   "cell_type": "markdown",
   "metadata": {},
   "source": [
    "## Задание 6. Модель скрытых тем\n",
    "Построим скрытую модель LDA по данной коллекции текстов. \n",
    "\n",
    "Здесь не нужно разделять корпус на тестовую и обучающую части, поскольку темы выявляются во всем датасете. \n",
    "\n",
    "Модель скрытых тем позволяет увидеть, почему тот или иной класс распознается классификаторами плохо. Темы - это наборы слов, наиболее характерные для того или иного класса (ключевые слова в своем роде). Мы можем видеть, у каких слов больший вес в том или ином классе и предполагать, почему некоторым текстам присваивается иной класс: например, потому что там нет слов, характерных для того или иного класса. Также через модель скрытых тем можно посмотреть, что еще сделать с текстами, чтобы они лучше классифицировались: например, какие еще стоп-слова можно выбросить.  \n",
    "\n",
    "Сначала предобработаем текст: уберем стоп-слова и т.д.  "
   ]
  },
  {
   "cell_type": "code",
   "execution_count": 150,
   "metadata": {
    "scrolled": true
   },
   "outputs": [
    {
     "name": "stdout",
     "output_type": "stream",
     "text": [
      "CPU times: user 5 µs, sys: 1e+03 ns, total: 6 µs\n",
      "Wall time: 22.2 µs\n"
     ]
    }
   ],
   "source": [
    "%time\n",
    "import re\n",
    "from nltk.corpus import stopwords\n",
    "regex = re.compile(\"[А-Яа-я]+\")\n",
    "\n",
    "mystopwords = stopwords.words('russian') + ['это', 'наш' , 'тыс', 'млн', 'млрд', 'также',  'т', 'д', 'г']\n",
    "mystoplemmas = ['который','прошлый','сей', 'свой', 'наш', 'мочь', 'такой', 'год', 'время', 'день', 'весь']\n",
    "\n",
    "from pymystem3 import Mystem\n",
    "\n",
    "m = Mystem()\n",
    "\n",
    "def words_only(text, regex=regex):\n",
    "    return \" \".join(regex.findall(text))\n",
    "\n",
    "def remove_stopwords(text, mystopwords = mystopwords):\n",
    "    try:\n",
    "        return \" \".join([token for token in text.split() if not token in mystopwords])\n",
    "    except:\n",
    "        return \"\"\n",
    "\n",
    "def lemmatize(text, mystem=m):\n",
    "    try:\n",
    "        return \"\".join(m.lemmatize(text)).strip()  \n",
    "    except:\n",
    "        return \" \"\n",
    "    \n",
    "def  remove_stoplemmas(text, mystoplemmas = mystoplemmas):\n",
    "    try:\n",
    "        return \" \".join([token for token in text.split() if not token in mystoplemmas])\n",
    "    except:\n",
    "        return \"\"\n",
    "\n",
    "\n",
    "\n",
    "df.text = df.text.apply(lemmatize)\n",
    "df.text = df.text.str.lower()\n",
    "df.text = df.text.apply(words_only)\n",
    "df.text = df.text.apply(remove_stopwords)  \n",
    "df.text = df.text.apply(remove_stoplemmas)"
   ]
  },
  {
   "cell_type": "markdown",
   "metadata": {},
   "source": [
    "Представляем данные в Gensim словарем и корпусом:"
   ]
  },
  {
   "cell_type": "code",
   "execution_count": 93,
   "metadata": {},
   "outputs": [
    {
     "name": "stderr",
     "output_type": "stream",
     "text": [
      "Using TensorFlow backend.\n"
     ]
    }
   ],
   "source": [
    "from gensim.corpora import *\n",
    "texts = [df.text.iloc[i].split() for i in range(len(df))]\n",
    "dictionary = Dictionary(texts)\n",
    "corpus = [dictionary.doc2bow(text) for text in texts]"
   ]
  },
  {
   "cell_type": "code",
   "execution_count": 94,
   "metadata": {
    "scrolled": false
   },
   "outputs": [
    {
     "name": "stdout",
     "output_type": "stream",
     "text": [
      "Dictionary(28119 unique tokens: ['начальник', 'главный', 'оперативный', 'управление', 'генеральный']...)\n"
     ]
    }
   ],
   "source": [
    "print(dictionary)"
   ]
  },
  {
   "cell_type": "markdown",
   "metadata": {},
   "source": [
    "Тестируем LDA."
   ]
  },
  {
   "cell_type": "code",
   "execution_count": 96,
   "metadata": {},
   "outputs": [
    {
     "name": "stdout",
     "output_type": "stream",
     "text": [
      "CPU times: user 51.7 s, sys: 385 ms, total: 52 s\n",
      "Wall time: 52.5 s\n"
     ]
    }
   ],
   "source": [
    "%%time\n",
    "lda = ldamodel.LdaModel(corpus=corpus, id2word=dictionary, num_topics=4,\n",
    "                        alpha='auto', eta='auto', iterations = 10, passes = 5)"
   ]
  },
  {
   "cell_type": "code",
   "execution_count": 98,
   "metadata": {
    "scrolled": false
   },
   "outputs": [
    {
     "data": {
      "text/plain": [
       "[(0,\n",
       "  '0.029*\"полиция\" + 0.029*\"мвд\" + 0.021*\"москва\" + 0.016*\"россия\" + 0.015*\"сотрудник\" + 0.014*\"петровка\" + 0.011*\"гу\" + 0.008*\"задерживать\" + 0.008*\"увд\" + 0.008*\"полицейский\"'),\n",
       " (1,\n",
       "  '0.022*\"россия\" + 0.019*\"почтовый\" + 0.018*\"почта\" + 0.009*\"отделение\" + 0.007*\"марка\" + 0.006*\"российский\" + 0.006*\"работа\" + 0.006*\"страна\" + 0.005*\"новый\" + 0.005*\"отправление\"'),\n",
       " (2,\n",
       "  '0.006*\"военный\" + 0.006*\"минобороны\" + 0.005*\"боевой\" + 0.005*\"учение\" + 0.004*\"корабль\" + 0.004*\"выполнять\" + 0.003*\"россия\" + 0.003*\"комплекс\" + 0.003*\"открытка\" + 0.003*\"морской\"'),\n",
       " (3,\n",
       "  '0.013*\"мчс\" + 0.011*\"ребенок\" + 0.010*\"россия\" + 0.007*\"письмо\" + 0.007*\"человек\" + 0.007*\"мчсроссия\" + 0.005*\"дом\" + 0.005*\"самый\" + 0.004*\"помощь\" + 0.004*\"акция\"')]"
      ]
     },
     "execution_count": 98,
     "metadata": {},
     "output_type": "execute_result"
    }
   ],
   "source": [
    "lda.show_topics(4)"
   ]
  },
  {
   "cell_type": "markdown",
   "metadata": {},
   "source": [
    "Ключевые слова всех классов в принципе определились. Визуализируем:"
   ]
  },
  {
   "cell_type": "code",
   "execution_count": 99,
   "metadata": {
    "scrolled": false
   },
   "outputs": [
    {
     "data": {
      "text/html": [
       "\n",
       "<link rel=\"stylesheet\" type=\"text/css\" href=\"https://cdn.rawgit.com/bmabey/pyLDAvis/files/ldavis.v1.0.0.css\">\n",
       "\n",
       "\n",
       "<div id=\"ldavis_el3280045008624404291654811\"></div>\n",
       "<script type=\"text/javascript\">\n",
       "\n",
       "var ldavis_el3280045008624404291654811_data = {\"mdsDat\": {\"x\": [-0.2413694529938912, 0.04769398841674129, 0.1535231478880317, 0.04015231668911823], \"y\": [-0.05603600987899432, -0.0029453750724526915, -0.1389523517522637, 0.19793373670371067], \"topics\": [1, 2, 3, 4], \"cluster\": [1, 1, 1, 1], \"Freq\": [29.09007067513072, 27.36640293657618, 23.640373589992983, 19.90315279830012]}, \"tinfo\": {\"Category\": [\"Default\", \"Default\", \"Default\", \"Default\", \"Default\", \"Default\", \"Default\", \"Default\", \"Default\", \"Default\", \"Default\", \"Default\", \"Default\", \"Default\", \"Default\", \"Default\", \"Default\", \"Default\", \"Default\", \"Default\", \"Default\", \"Default\", \"Default\", \"Default\", \"Default\", \"Default\", \"Default\", \"Default\", \"Default\", \"Default\", \"Topic1\", \"Topic1\", \"Topic1\", \"Topic1\", \"Topic1\", \"Topic1\", \"Topic1\", \"Topic1\", \"Topic1\", \"Topic1\", \"Topic1\", \"Topic1\", \"Topic1\", \"Topic1\", \"Topic1\", \"Topic1\", \"Topic1\", \"Topic1\", \"Topic1\", \"Topic1\", \"Topic1\", \"Topic1\", \"Topic1\", \"Topic1\", \"Topic1\", \"Topic1\", \"Topic1\", \"Topic1\", \"Topic1\", \"Topic1\", \"Topic1\", \"Topic1\", \"Topic1\", \"Topic1\", \"Topic1\", \"Topic1\", \"Topic1\", \"Topic1\", \"Topic1\", \"Topic1\", \"Topic1\", \"Topic1\", \"Topic1\", \"Topic1\", \"Topic1\", \"Topic1\", \"Topic1\", \"Topic1\", \"Topic1\", \"Topic1\", \"Topic1\", \"Topic1\", \"Topic1\", \"Topic1\", \"Topic1\", \"Topic1\", \"Topic1\", \"Topic1\", \"Topic1\", \"Topic1\", \"Topic1\", \"Topic1\", \"Topic2\", \"Topic2\", \"Topic2\", \"Topic2\", \"Topic2\", \"Topic2\", \"Topic2\", \"Topic2\", \"Topic2\", \"Topic2\", \"Topic2\", \"Topic2\", \"Topic2\", \"Topic2\", \"Topic2\", \"Topic2\", \"Topic2\", \"Topic2\", \"Topic2\", \"Topic2\", \"Topic2\", \"Topic2\", \"Topic2\", \"Topic2\", \"Topic2\", \"Topic2\", \"Topic2\", \"Topic2\", \"Topic2\", \"Topic2\", \"Topic2\", \"Topic2\", \"Topic2\", \"Topic2\", \"Topic2\", \"Topic2\", \"Topic2\", \"Topic2\", \"Topic2\", \"Topic2\", \"Topic2\", \"Topic2\", \"Topic2\", \"Topic2\", \"Topic2\", \"Topic2\", \"Topic2\", \"Topic2\", \"Topic2\", \"Topic2\", \"Topic2\", \"Topic2\", \"Topic2\", \"Topic2\", \"Topic2\", \"Topic2\", \"Topic2\", \"Topic2\", \"Topic2\", \"Topic2\", \"Topic2\", \"Topic2\", \"Topic2\", \"Topic2\", \"Topic2\", \"Topic2\", \"Topic2\", \"Topic2\", \"Topic2\", \"Topic2\", \"Topic2\", \"Topic2\", \"Topic2\", \"Topic2\", \"Topic2\", \"Topic2\", \"Topic2\", \"Topic2\", \"Topic2\", \"Topic2\", \"Topic2\", \"Topic2\", \"Topic2\", \"Topic2\", \"Topic2\", \"Topic3\", \"Topic3\", \"Topic3\", \"Topic3\", \"Topic3\", \"Topic3\", \"Topic3\", \"Topic3\", \"Topic3\", \"Topic3\", \"Topic3\", \"Topic3\", \"Topic3\", \"Topic3\", \"Topic3\", \"Topic3\", \"Topic3\", \"Topic3\", \"Topic3\", \"Topic3\", \"Topic3\", \"Topic3\", \"Topic3\", \"Topic3\", \"Topic3\", \"Topic3\", \"Topic3\", \"Topic3\", \"Topic3\", \"Topic3\", \"Topic3\", \"Topic3\", \"Topic3\", \"Topic3\", \"Topic3\", \"Topic3\", \"Topic3\", \"Topic3\", \"Topic3\", \"Topic3\", \"Topic3\", \"Topic3\", \"Topic3\", \"Topic3\", \"Topic3\", \"Topic3\", \"Topic3\", \"Topic3\", \"Topic3\", \"Topic3\", \"Topic3\", \"Topic3\", \"Topic3\", \"Topic3\", \"Topic3\", \"Topic3\", \"Topic3\", \"Topic3\", \"Topic3\", \"Topic3\", \"Topic3\", \"Topic3\", \"Topic3\", \"Topic3\", \"Topic3\", \"Topic3\", \"Topic3\", \"Topic3\", \"Topic3\", \"Topic3\", \"Topic3\", \"Topic3\", \"Topic3\", \"Topic3\", \"Topic3\", \"Topic3\", \"Topic3\", \"Topic4\", \"Topic4\", \"Topic4\", \"Topic4\", \"Topic4\", \"Topic4\", \"Topic4\", \"Topic4\", \"Topic4\", \"Topic4\", \"Topic4\", \"Topic4\", \"Topic4\", \"Topic4\", \"Topic4\", \"Topic4\", \"Topic4\", \"Topic4\", \"Topic4\", \"Topic4\", \"Topic4\", \"Topic4\", \"Topic4\", \"Topic4\", \"Topic4\", \"Topic4\", \"Topic4\", \"Topic4\", \"Topic4\", \"Topic4\", \"Topic4\", \"Topic4\", \"Topic4\", \"Topic4\", \"Topic4\", \"Topic4\", \"Topic4\", \"Topic4\", \"Topic4\", \"Topic4\", \"Topic4\", \"Topic4\", \"Topic4\", \"Topic4\", \"Topic4\", \"Topic4\", \"Topic4\", \"Topic4\", \"Topic4\", \"Topic4\", \"Topic4\", \"Topic4\", \"Topic4\", \"Topic4\", \"Topic4\", \"Topic4\", \"Topic4\", \"Topic4\", \"Topic4\", \"Topic4\", \"Topic4\", \"Topic4\", \"Topic4\", \"Topic4\", \"Topic4\", \"Topic4\", \"Topic4\", \"Topic4\", \"Topic4\", \"Topic4\", \"Topic4\", \"Topic4\", \"Topic4\", \"Topic4\", \"Topic4\", \"Topic4\", \"Topic4\", \"Topic4\", \"Topic4\", \"Topic4\", \"Topic4\"], \"Freq\": [5998.0, 6017.0, 2944.0, 3745.0, 4328.0, 5299.0, 1993.0, 2240.0, 3815.0, 1948.0, 1733.0, 1681.0, 1659.0, 951.0, 1209.0, 1163.0, 1080.0, 2152.0, 1078.0, 1595.0, 9474.0, 1752.0, 1853.0, 1638.0, 1497.0, 1338.0, 785.0, 851.0, 2207.0, 995.0, 1079.341139460662, 1730.6734113975679, 1161.0369607854511, 479.713550617872, 849.8958410209627, 399.64249564082274, 459.6525348667692, 1676.208473017756, 394.8489365150115, 468.34201237675364, 2934.924798439618, 288.3450756326744, 252.97849057910457, 434.58768320143554, 470.0873218174645, 379.5678822113353, 251.41929498440396, 227.9514001885296, 236.39097245876613, 251.2165633073581, 201.71030656842996, 291.2758626998973, 163.92214193563913, 184.63064819752074, 1204.3304436074466, 5971.0831032616525, 218.38034530631424, 226.27666110549382, 213.7418704929562, 306.63344026955406, 5979.04646232479, 2218.449615816024, 1644.9756673020488, 675.8060117844727, 559.3750657414766, 471.5476025866163, 638.8935196899429, 437.99868230184825, 361.84476268556807, 351.97507683928416, 686.7124733384475, 753.769452724026, 838.7853957488584, 478.18028375944255, 1412.813108539311, 4239.850071115416, 3120.5121034291046, 1187.0918133527748, 1546.894833309342, 722.3981112799812, 1374.2014524526853, 821.1633986180376, 1141.9589456917981, 1565.0363209399507, 831.576995268461, 734.5725507294785, 1206.188151486889, 1501.9960069176102, 3288.002999595329, 965.9686322903452, 920.8479205849646, 839.7385103836465, 138.9949130233797, 133.93721486417527, 61.33031533210243, 161.4187180219446, 94.33093418560931, 83.92433762843828, 70.40278252232015, 270.8682859107028, 216.00529506464713, 100.3954862536529, 83.55221917317805, 80.18396289680814, 208.02717299314693, 35.311416409044526, 47.753642316183516, 27.91682681740244, 39.95821836759217, 36.379317896098904, 22.454924046591458, 25.240455053237465, 34.30188008476295, 96.33347557107346, 39.19158234702837, 19.21082413201873, 23.2767382636456, 24.78616011249237, 23.618424627389654, 41.22937279501639, 19.941013039828103, 36.95894297589297, 115.92890687418087, 78.6723780364952, 3415.9530048244583, 130.6709492413927, 117.33979285174782, 60.37517394766778, 87.88426981799559, 503.6963565856752, 305.0012349997543, 382.1097613443275, 728.2219471564059, 264.72206567927236, 288.9926226337025, 3635.8289727769297, 337.0184884566729, 173.40530363381566, 238.411466664522, 1086.2624356943195, 1369.6513130389283, 739.6404566464624, 1747.1535028036633, 190.6018000851897, 207.99367521185405, 887.074967541353, 425.48003576602673, 316.6894063083837, 608.3469491882369, 457.32129405446443, 263.2939113238775, 277.1737097276303, 782.4889487241885, 792.0382743803076, 532.2017449711974, 725.2363813140538, 295.2090685592938, 1254.3428713522371, 4204.163556236317, 519.3997146653102, 418.4703145578953, 570.2101457387358, 643.5946074039729, 657.9232597858829, 566.9941052337557, 1167.916443729735, 770.4857766929779, 923.1249144309894, 816.4597616209059, 798.7822116256492, 793.6277201805996, 585.743987179239, 721.026640862788, 583.9218855868702, 689.6693684572966, 623.5890913935219, 747.5537073537328, 403.0078790299232, 231.93857245015136, 194.60611895831417, 201.45061110109975, 256.39984000260336, 203.05855765028593, 398.6462605360245, 428.5508268514336, 188.1972354961549, 163.10389303101306, 168.21730597336938, 440.4513994861923, 118.9208374343119, 259.1411313218153, 370.46890456738913, 109.10134810496912, 255.82683202883373, 184.06866275135815, 110.00844624450538, 211.7173884402139, 623.8049205238153, 100.35396277931123, 88.41897947484463, 104.28708037256119, 90.07136896663732, 111.87706937629834, 206.50329596539586, 77.92846657682517, 93.06242275504869, 37.699569284729115, 247.08323678228535, 770.057951049045, 230.5724246985717, 386.5659102100333, 238.05732703520135, 143.11334639852572, 170.72641717217178, 145.76922149902197, 549.4973599585468, 506.194728380556, 194.85741969403344, 542.8555193532317, 159.06713291146278, 1007.0474416150926, 399.2777157186001, 546.3807243468086, 250.10558434633083, 852.4412967513722, 393.9084058473637, 254.92366901110947, 349.95547816152293, 351.76247355845186, 252.52018283120321, 276.00081774077626, 286.9219019249549, 1010.6468830721574, 600.5902391074662, 318.1590766790364, 452.32777226593265, 496.9320379275942, 441.3907708154931, 558.8539124814118, 478.3914128346338, 517.2353850673629, 406.111886145319, 460.28290685018226, 499.2528711622495, 557.3653193913754, 493.5855993067049, 457.46558483291113, 564.2439484041495, 452.18407019917504, 432.80632998055944, 420.12594950853463, 434.4596063801634, 410.5769261838502, 407.78050026067285, 163.85051838029642, 169.72680861167436, 262.6498695787505, 189.53082845020543, 167.8779336294365, 68.57696975292363, 109.78263369408235, 269.69238827877354, 96.99050871282445, 63.93446210718005, 125.43910076171593, 943.6001010307017, 247.44395809011806, 102.14728030691316, 56.06558373041571, 66.08726656366773, 37.451732347781636, 51.5793595368081, 51.76407745456489, 49.59036858753925, 67.9726910869226, 46.59719772565547, 50.83830685851307, 31.6938938852987, 36.31520930515671, 70.19236078092081, 50.64761869317747, 287.4148423796314, 503.27196238417116, 63.5001011402892, 255.73190887064777, 397.2934778245894, 134.84224929148758, 108.26661175174192, 1907.5570240631337, 76.21296881038698, 171.010147556222, 122.40917894516684, 244.95887337581306, 72.7673189592478, 140.3888033868647, 149.48380671261253, 167.8548172536969, 189.21773008197636, 1618.5891002736105, 93.19177993183216, 308.78321776143446, 312.02626376698504, 263.15948640291333, 308.0863928902912, 440.04656896167785, 764.1133262048097, 255.62086680586324, 481.16877943536616, 1037.6015686374556, 291.6302290707243, 411.7541817255198, 240.00337327793272, 1021.1958776044366, 534.2232488360074, 363.90892668401386, 374.9483195649295, 495.1864486264612, 644.7827822841692, 598.1152833652603, 566.392703685274, 358.7491059808399, 465.0339278054639, 431.95361072713666, 1418.4959620641146, 455.27138357981164, 326.45307477782814, 484.15650876741597, 329.23939821669387, 455.616768713919, 376.69300157812665, 426.41667886455366, 422.10608192491827, 469.8046026901439, 398.77692599422056, 376.1537888938254], \"Term\": [\"\\u043c\\u0432\\u0434\", \"\\u043f\\u043e\\u043b\\u0438\\u0446\\u0438\\u044f\", \"\\u043f\\u0435\\u0442\\u0440\\u043e\\u0432\\u043a\\u0430\", \"\\u043f\\u043e\\u0447\\u0442\\u0430\", \"\\u043f\\u043e\\u0447\\u0442\\u043e\\u0432\\u044b\\u0439\", \"\\u043c\\u043e\\u0441\\u043a\\u0432\\u0430\", \"\\u043c\\u0447\\u0441\", \"\\u0433\\u0443\", \"\\u0441\\u043e\\u0442\\u0440\\u0443\\u0434\\u043d\\u0438\\u043a\", \"\\u0440\\u0435\\u0431\\u0435\\u043d\\u043e\\u043a\", \"\\u0437\\u0430\\u0434\\u0435\\u0440\\u0436\\u0438\\u0432\\u0430\\u0442\\u044c\", \"\\u0443\\u0432\\u0434\", \"\\u043f\\u043e\\u043b\\u0438\\u0446\\u0435\\u0439\\u0441\\u043a\\u0438\\u0439\", \"\\u043c\\u0447\\u0441\\u0440\\u043e\\u0441\\u0441\\u0438\\u044f\", \"\\u043c\\u0432\\u0434\\u0440\\u043e\\u0441\\u0441\\u0438\\u044f\", \"\\u0443\\u0433\\u043e\\u043b\\u043e\\u0432\\u043d\\u044b\\u0439\", \"\\u043f\\u043e\\u0434\\u043e\\u0437\\u0440\\u0435\\u0432\\u0430\\u0435\\u043c\\u044b\\u0439\", \"\\u043e\\u0442\\u0434\\u0435\\u043b\\u0435\\u043d\\u0438\\u0435\", \"\\u043c\\u0438\\u043d\\u043e\\u0431\\u043e\\u0440\\u043e\\u043d\\u044b\", \"\\u043d\\u0430\\u0447\\u0430\\u043b\\u044c\\u043d\\u0438\\u043a\", \"\\u0440\\u043e\\u0441\\u0441\\u0438\\u044f\", \"\\u043f\\u0438\\u0441\\u044c\\u043c\\u043e\", \"\\u0434\\u0435\\u043b\\u043e\", \"\\u043c\\u0430\\u0440\\u043a\\u0430\", \"\\u0432\\u043e\\u0435\\u043d\\u043d\\u044b\\u0439\", \"\\u0432\\u043d\\u0443\\u0442\\u0440\\u0435\\u043d\\u043d\\u0438\\u0439\", \"\\u0443\\u0447\\u0435\\u043d\\u0438\\u0435\", \"\\u043f\\u0440\\u0435\\u0441\\u0442\\u0443\\u043f\\u043b\\u0435\\u043d\\u0438\\u0435\", \"\\u043d\\u043e\\u0432\\u043e\\u0441\\u0442\\u044c\", \"\\u0431\\u043e\\u0435\\u0432\\u043e\\u0439\", \"\\u043f\\u043e\\u0434\\u043e\\u0437\\u0440\\u0435\\u0432\\u0430\\u0435\\u043c\\u044b\\u0439\", \"\\u0437\\u0430\\u0434\\u0435\\u0440\\u0436\\u0438\\u0432\\u0430\\u0442\\u044c\", \"\\u0443\\u0433\\u043e\\u043b\\u043e\\u0432\\u043d\\u044b\\u0439\", \"\\u043a\\u0440\\u0430\\u0436\\u0430\", \"\\u043f\\u0440\\u0435\\u0441\\u0442\\u0443\\u043f\\u043b\\u0435\\u043d\\u0438\\u0435\", \"\\u043d\\u0430\\u0440\\u043a\\u043e\\u0442\\u0438\\u0447\\u0435\\u0441\\u043a\\u0438\\u0439\", \"\\u0432\\u043e\\u0437\\u0431\\u0443\\u0436\\u0434\\u0430\\u0442\\u044c\", \"\\u0443\\u0432\\u0434\", \"\\u043c\\u043e\\u0448\\u0435\\u043d\\u043d\\u0438\\u0447\\u0435\\u0441\\u0442\\u0432\\u043e\", \"\\u043d\\u0430\\u0440\\u043a\\u043e\\u0442\\u0438\\u043a\", \"\\u043f\\u0435\\u0442\\u0440\\u043e\\u0432\\u043a\\u0430\", \"\\u0441\\u0431\\u044b\\u0442\", \"\\u043e\\u043f\\u0435\\u0440\\u0430\\u0442\\u0438\\u0432\\u043d\\u0438\\u043a\", \"\\u043f\\u0440\\u0435\\u0434\\u0443\\u0441\\u043c\\u043e\\u0442\\u0440\\u0435\\u043d\\u043d\\u044b\\u0439\", \"\\u0433\\u043e\\u0441\\u0430\\u0432\\u0442\\u043e\\u0438\\u043d\\u0441\\u043f\\u0435\\u043a\\u0446\\u0438\\u044f\", \"\\u0438\\u0437\\u044b\\u043c\\u0430\\u0442\\u044c\", \"\\u0433\\u0440\\u0430\\u0431\\u0435\\u0436\", \"\\u0445\\u0438\\u0449\\u0435\\u043d\\u0438\\u0435\", \"\\u043f\\u043e\\u0445\\u0438\\u0449\\u0430\\u0442\\u044c\", \"\\u043f\\u043e\\u0434\\u043e\\u0437\\u0440\\u0435\\u043d\\u0438\\u0435\", \"\\u043f\\u0441\\u0438\\u0445\\u043e\\u0442\\u0440\\u043e\\u043f\\u043d\\u044b\\u0439\", \"\\u043f\\u0440\\u0435\\u0441\\u0435\\u0447\\u0435\\u043d\\u0438\\u0435\", \"\\u0440\\u0430\\u0437\\u0431\\u043e\\u0439\\u043d\\u044b\\u0439\", \"\\u0440\\u0430\\u0437\\u044b\\u0441\\u043a\\u043d\\u043e\\u0439\", \"\\u043c\\u0432\\u0434\\u0440\\u043e\\u0441\\u0441\\u0438\\u044f\", \"\\u043c\\u0432\\u0434\", \"\\u043f\\u0440\\u043e\\u0442\\u0438\\u0432\\u043e\\u043f\\u0440\\u0430\\u0432\\u043d\\u044b\\u0439\", \"\\u044e\\u0437\\u0430\\u043e\", \"\\u044e\\u0432\\u0430\\u043e\", \"\\u0432\\u0430\\u043e\", \"\\u043f\\u043e\\u043b\\u0438\\u0446\\u0438\\u044f\", \"\\u0433\\u0443\", \"\\u043f\\u043e\\u043b\\u0438\\u0446\\u0435\\u0439\\u0441\\u043a\\u0438\\u0439\", \"\\u0441\\u0442\", \"\\u043f\\u043e\\u043b\\u0438\\u0446\\u0438\\u044f\\u0440\\u043e\\u0441\\u0441\\u0438\\u044f\", \"\\u0443\\u043a\", \"\\u043e\\u043c\\u0432\\u0434\", \"\\u043f\\u0440\\u0438\\u0437\\u043d\\u0430\\u043a\", \"\\u0434\\u043f\\u0441\", \"\\u0437\\u043b\\u043e\\u0443\\u043c\\u044b\\u0448\\u043b\\u0435\\u043d\\u043d\\u0438\\u043a\", \"\\u0433\\u0438\\u0431\\u0434\\u0434\", \"\\u0434\\u043e\\u0440\\u043e\\u0436\\u043d\\u044b\\u0439\", \"\\u0441\\u0442\\u043e\\u043b\\u0438\\u0447\\u043d\\u044b\\u0439\", \"\\u043e\\u0442\\u0434\\u0435\\u043b\", \"\\u043d\\u0430\\u0447\\u0430\\u043b\\u044c\\u043d\\u0438\\u043a\", \"\\u043c\\u043e\\u0441\\u043a\\u0432\\u0430\", \"\\u0441\\u043e\\u0442\\u0440\\u0443\\u0434\\u043d\\u0438\\u043a\", \"\\u0432\\u043d\\u0443\\u0442\\u0440\\u0435\\u043d\\u043d\\u0438\\u0439\", \"\\u0434\\u0435\\u043b\\u043e\", \"\\u0440\\u043e\\u0437\\u044b\\u0441\\u043a\", \"\\u0443\\u043f\\u0440\\u0430\\u0432\\u043b\\u0435\\u043d\\u0438\\u0435\", \"\\u0433\\u0440\\u0430\\u0436\\u0434\\u0430\\u043d\\u0438\\u043d\", \"\\u0440\\u0444\", \"\\u043d\\u043e\\u0432\\u043e\\u0441\\u0442\\u044c\", \"\\u0434\\u0432\\u0438\\u0436\\u0435\\u043d\\u0438\\u0435\", \"\\u043e\\u0431\\u0449\\u0435\\u0441\\u0442\\u0432\\u0435\\u043d\\u043d\\u044b\\u0439\", \"\\u043c\\u0435\\u0440\\u043e\\u043f\\u0440\\u0438\\u044f\\u0442\\u0438\\u0435\", \"\\u0441\\u043b\\u0443\\u0436\\u0431\\u0430\", \"\\u0440\\u043e\\u0441\\u0441\\u0438\\u044f\", \"\\u0441\\u0440\\u0435\\u0434\\u0441\\u0442\\u0432\\u043e\", \"\\u0440\\u0430\\u0439\\u043e\\u043d\", \"\\u043c\\u043e\\u0441\\u043a\\u043e\\u0432\\u0441\\u043a\\u0438\\u0439\", \"\\u0441\\u0442\\u0440\\u0430\\u0448\\u043d\\u043e\\u0432\", \"\\u0444\\u0433\\u0443\\u043f\", \"\\u0430\\u0432\\u0438\\u0430\\u043a\\u043e\\u043c\\u043f\\u0430\\u043d\\u0438\\u044f\", \"\\u043b\\u043e\\u0433\\u0438\\u0441\\u0442\\u0438\\u0447\\u0435\\u0441\\u043a\\u0438\\u0439\", \"\\u0431\\u0430\\u0433\\u0430\\u0436\", \"\\u0441\\u043e\\u0433\\u043b\\u0430\\u0448\\u0435\\u043d\\u0438\\u0435\", \"\\u043f\\u0443\\u0442\\u0438\\u043d\", \"\\u0433\\u0430\\u0448\\u0435\\u043d\\u0438\\u0435\", \"\\u0448\\u043e\\u0439\\u0433\\u0443\", \"\\u0433\\u0440\\u0430\\u0444\\u0438\\u043a\", \"\\u043c\\u043c\\u043f\\u043e\", \"\\u043f\\u043e\\u0434\\u043f\\u0438\\u0441\\u043d\\u043e\\u0439\", \"\\u0441\\u043e\\u0442\\u0440\\u0443\\u0434\\u043d\\u0438\\u0447\\u0435\\u0441\\u0442\\u0432\\u043e\", \"\\u0440\\u0430\\u0441\\u0448\\u0438\\u0440\\u0435\\u043d\\u0438\\u0435\", \"\\u0446\\u0438\\u0444\\u0440\\u0430\\u0434\\u0435\\u043d\\u044c\", \"\\u043f\\u043e\\u0434\\u0433\\u0443\\u0437\\u043e\\u0432\", \"\\u0432\\u043d\\u0435\\u0434\\u0440\\u0435\\u043d\\u0438\\u0435\", \"\\u043f\\u043c\\u044d\\u0444\", \"\\u043c\\u0435\\u043c\\u043e\\u0440\\u0430\\u043d\\u0434\\u0443\\u043c\", \"\\u0432\\u0430\\u043a\\u0430\\u043d\\u0441\\u0438\\u044f\", \"\\u0442\\u0440\\u0443\\u0436\\u0435\\u043d\\u0438\\u043a\", \"\\u044d\\u043a\\u0441\\u043f\\u0440\\u0435\\u0441\\u0441\", \"\\u0443\\u0437\\u0431\\u0435\\u043a\\u0438\\u0441\\u0442\\u0430\\u043d\", \"\\u043d\\u0435\\u0438\\u0441\\u0441\\u044f\\u043a\\u0430\\u0435\\u043c\\u044b\\u0439\", \"\\u0437\\u0430\\u043a\\u0440\\u044b\\u0432\\u0430\\u0442\\u044c\\u0441\\u044f\", \"\\u0432\\u043e\\u043b\\u0433\\u0438\\u043d\", \"\\u0432\\u0442\\u0431\", \"\\u0435\\u0433\\u0438\\u043f\\u0435\\u0442\", \"\\u043b\\u043f\\u0446\", \"\\u043c\\u0430\\u0433\\u0438\\u0441\\u0442\\u0440\\u0430\\u043b\\u044c\\u043d\\u044b\\u0439\", \"\\u043a\\u0438\\u0442\\u0430\\u0439\", \"\\u043f\\u0435\\u0440\\u0435\\u0440\\u044b\\u0432\", \"\\u043f\\u043e\\u0447\\u0442\\u0430\", \"\\u043d\\u043e\\u043c\\u0438\\u043d\\u0430\\u043b\", \"\\u0444\\u0438\\u043b\\u0430\\u0442\\u0435\\u043b\\u0438\\u044f\", \"\\u0430\\u0432\\u0442\\u043e\\u043f\\u0430\\u0440\\u043a\", \"\\u043e\\u0442\\u0442\\u0438\\u0441\\u043a\", \"\\u043c\\u0438\\u043d\\u0438\\u0441\\u0442\\u0440\", \"\\u0432\\u0435\\u0434\\u043e\\u043c\\u0441\\u0442\\u0432\\u043e\", \"\\u0440\\u0430\\u0437\\u0432\\u0438\\u0442\\u0438\\u0435\", \"\\u0434\\u043e\\u0441\\u0442\\u0430\\u0432\\u043a\\u0430\", \"\\u0448\\u0442\\u0435\\u043c\\u043f\\u0435\\u043b\\u044c\", \"\\u0433\\u0435\\u043d\\u0435\\u0440\\u0430\\u043b\\u044c\\u043d\\u044b\\u0439\", \"\\u043f\\u043e\\u0447\\u0442\\u043e\\u0432\\u044b\\u0439\", \"\\u0433\\u043b\\u0430\\u0432\\u0430\", \"\\u0442\\u0438\\u0440\\u0430\\u0436\", \"\\u0438\\u0437\\u0434\\u0430\\u043d\\u0438\\u0435\", \"\\u0441\\u0442\\u0440\\u0430\\u043d\\u0430\", \"\\u043c\\u0430\\u0440\\u043a\\u0430\", \"\\u0443\\u0441\\u043b\\u0443\\u0433\\u0430\", \"\\u043e\\u0442\\u0434\\u0435\\u043b\\u0435\\u043d\\u0438\\u0435\", \"\\u0433\\u043b\\u0430\\u0432\\u043f\\u043e\\u0447\\u0442\\u0430\\u043c\\u0442\", \"\\u0441\\u0435\\u0440\\u0432\\u0438\\u0441\", \"\\u043e\\u0442\\u043f\\u0440\\u0430\\u0432\\u043b\\u0435\\u043d\\u0438\\u0435\", \"\\u043a\\u043b\\u0438\\u0435\\u043d\\u0442\", \"\\u0434\\u0438\\u0440\\u0435\\u043a\\u0442\\u043e\\u0440\", \"\\u0432\\u043e\\u0439\\u043d\\u0430\", \"\\u043e\\u0442\\u0435\\u0447\\u0435\\u0441\\u0442\\u0432\\u0435\\u043d\\u043d\\u044b\\u0439\", \"\\u043f\\u0440\\u0435\\u0437\\u0438\\u0434\\u0435\\u043d\\u0442\", \"\\u043c\\u0438\\u043d\\u0438\\u0441\\u0442\\u0435\\u0440\\u0441\\u0442\\u0432\\u043e\", \"\\u043f\\u043e\\u0447\\u0442\\u0430\\u0440\\u043e\\u0441\\u0441\\u0438\\u044f\", \"\\u0441\\u0435\\u0433\\u043e\\u0434\\u043d\\u044f\", \"\\u0432\\u0435\\u043b\\u0438\\u043a\\u0438\\u0439\", \"\\u043c\\u0435\\u0436\\u0434\\u0443\\u043d\\u0430\\u0440\\u043e\\u0434\\u043d\\u044b\\u0439\", \"\\u043b\\u0435\\u0442\\u0438\\u0435\", \"\\u0440\\u043e\\u0441\\u0441\\u0438\\u0439\\u0441\\u043a\\u0438\\u0439\", \"\\u0440\\u043e\\u0441\\u0441\\u0438\\u044f\", \"\\u043f\\u043e\\u0441\\u0432\\u044f\\u0449\\u0430\\u0442\\u044c\", \"\\u0440\\u0435\\u0433\\u0438\\u043e\\u043d\", \"\\u0441\\u0430\\u0439\\u0442\", \"\\u043f\\u043e\\u0441\\u044b\\u043b\\u043a\\u0430\", \"\\u0432\\u0435\\u0442\\u0435\\u0440\\u0430\\u043d\", \"\\u043e\\u0442\\u043c\\u0435\\u0447\\u0430\\u0442\\u044c\", \"\\u0440\\u0430\\u0431\\u043e\\u0442\\u0430\", \"\\u0441\\u0432\\u044f\\u0437\\u044c\", \"\\u043d\\u043e\\u0432\\u044b\\u0439\", \"\\u043f\\u0435\\u0440\\u0432\\u044b\\u0439\", \"\\u0446\\u0435\\u043d\\u0442\\u0440\", \"\\u0433\\u043e\\u0440\\u043e\\u0434\", \"\\u0444\\u0435\\u0434\\u0435\\u0440\\u0430\\u0446\\u0438\\u044f\", \"\\u043f\\u0440\\u0438\\u043d\\u0438\\u043c\\u0430\\u0442\\u044c\", \"\\u0442\\u044b\\u0441\\u044f\\u0447\\u0430\", \"\\u043e\\u0442\\u043a\\u0440\\u044b\\u0442\\u043a\\u0430\", \"\\u0443\\u0447\\u0430\\u0441\\u0442\\u0438\\u0435\", \"\\u043c\\u043e\\u0441\\u043a\\u0432\\u0430\", \"\\u043f\\u0440\\u043e\\u0442\\u0438\\u0432\\u043d\\u0438\\u043a\", \"\\u0438\\u0441\\u0442\\u0440\\u0435\\u0431\\u0438\\u0442\\u0435\\u043b\\u044c\", \"\\u0437\\u0432\\u043e\", \"\\u0431\\u043e\\u0435\\u0432\\u0430\\u044f\\u043f\\u043e\\u0434\\u0433\\u043e\\u0442\\u043e\\u0432\\u043a\\u0430\", \"\\u0440\\u0430\\u043a\\u0435\\u0442\\u0430\", \"\\u044e\\u0432\\u043e\", \"\\u0432\\u0435\\u0440\\u0442\\u043e\\u043b\\u0435\\u0442\", \"\\u0443\\u0441\\u043b\\u043e\\u0432\\u043d\\u044b\\u0439\", \"\\u0432\\u0434\\u0432\", \"\\u0432\\u0432\\u043e\", \"\\u043c\\u0438\\u0433\", \"\\u0440\\u0430\\u043a\\u0435\\u0442\\u043d\\u044b\\u0439\", \"\\u0431\\u043e\\u043c\\u0431\\u0430\\u0440\\u0434\\u0438\\u0440\\u043e\\u0432\\u0449\\u0438\\u043a\", \"\\u0442\\u0430\\u043a\\u0442\\u0438\\u0447\\u0435\\u0441\\u043a\\u0438\\u0439\", \"\\u043f\\u043e\\u043b\\u0438\\u0433\\u043e\\u043d\", \"\\u0442\\u043e\\u0444\", \"\\u043b\\u0435\\u0442\\u0447\\u0438\\u043a\", \"\\u0430\\u0440\\u0442\\u0438\\u043b\\u043b\\u0435\\u0440\\u0438\\u0439\\u0441\\u043a\\u0438\\u0439\", \"\\u0431\\u0430\\u043b\\u0442\\u0438\\u0439\\u0441\\u043a\\u0438\\u0439\", \"\\u0430\\u044d\\u0440\\u043e\\u0434\\u0440\\u043e\\u043c\", \"\\u043a\\u043e\\u0440\\u0430\\u0431\\u043b\\u044c\", \"\\u043f\\u0443\\u0441\\u043a\", \"\\u043f\\u0440\\u043e\\u0442\\u0438\\u0432\\u043e\\u043b\\u043e\\u0434\\u043e\\u0447\\u043d\\u044b\\u0439\", \"\\u0440\\u0430\\u0437\\u0432\\u0435\\u0434\\u0447\\u0438\\u043a\", \"\\u043f\\u0435\\u0445\\u043e\\u0442\\u0430\", \"\\u043c\\u0438\\u0448\\u0435\\u043d\\u044c\", \"\\u0432\\u043a\\u0441\", \"\\u0441\\u0444\", \"\\u0442\\u0430\\u043d\\u043a\\u043e\\u0432\\u044b\\u0439\", \"\\u0442\\u0440\\u043e\\u0433\\u0430\\u0442\\u044c\", \"\\u0432\\u043c\\u0444\", \"\\u0443\\u0447\\u0435\\u043d\\u0438\\u0435\", \"\\u043f\\u043e\\u043b\\u0435\\u0442\", \"\\u0432\\u043e\\u0437\\u0434\\u0443\\u0448\\u043d\\u044b\\u0439\", \"\\u0441\\u043e\\u0435\\u0434\\u0438\\u043d\\u0435\\u043d\\u0438\\u0435\", \"\\u0434\\u0435\\u0441\\u0430\\u043d\\u0442\\u043d\\u044b\\u0439\", \"\\u0442\\u0430\\u043d\\u043a\", \"\\u0437\\u0435\\u043d\\u0438\\u0442\\u043d\\u044b\\u0439\", \"\\u043c\\u043e\\u0440\\u0441\\u043a\\u043e\\u0439\", \"\\u0444\\u043b\\u043e\\u0442\", \"\\u043f\\u043e\\u0434\\u0432\\u043e\\u0434\\u043d\\u044b\\u0439\", \"\\u044d\\u043a\\u0438\\u043f\\u0430\\u0436\", \"\\u043f\\u0432\\u043e\", \"\\u043c\\u0438\\u043d\\u043e\\u0431\\u043e\\u0440\\u043e\\u043d\\u044b\", \"\\u0430\\u0432\\u0438\\u0430\\u0446\\u0438\\u044f\", \"\\u0441\\u0430\\u043c\\u043e\\u043b\\u0435\\u0442\", \"\\u043e\\u0442\\u0440\\u0430\\u0431\\u0430\\u0442\\u044b\\u0432\\u0430\\u0442\\u044c\", \"\\u0431\\u043e\\u0435\\u0432\\u043e\\u0439\", \"\\u0441\\u0442\\u0440\\u0435\\u043b\\u044c\\u0431\\u0430\", \"\\u043c\\u0438\", \"\\u0441\\u0443\", \"\\u043a\\u043c\", \"\\u0430\\u0432\\u0438\\u0430\\u0446\\u0438\\u043e\\u043d\\u043d\\u044b\\u0439\", \"\\u0442\\u0440\\u0435\\u043d\\u0438\\u0440\\u043e\\u0432\\u043a\\u0430\", \"\\u0440\\u0430\\u0441\\u0447\\u0435\\u0442\", \"\\u0432\\u043e\\u0435\\u043d\\u043d\\u044b\\u0439\", \"\\u0432\\u044b\\u043f\\u043e\\u043b\\u043d\\u044f\\u0442\\u044c\", \"\\u0432\\u043e\\u043e\\u0440\\u0443\\u0436\\u0435\\u043d\\u0438\\u0435\", \"\\u0432\\u043e\\u0439\\u0441\\u043a\\u043e\", \"\\u0442\\u0435\\u0445\\u043d\\u0438\\u043a\\u0430\", \"\\u043c\", \"\\u043a\\u043e\\u043c\\u043f\\u043b\\u0435\\u043a\\u0441\", \"\\u0446\\u0435\\u043b\\u044c\", \"\\u0441\\u043f\\u0435\\u0446\\u0438\\u0430\\u043b\\u044c\\u043d\\u044b\\u0439\", \"\\u043f\\u0443\\u043d\\u043a\\u0442\", \"\\u043f\\u043e\\u0434\\u0440\\u0430\\u0437\\u0434\\u0435\\u043b\\u0435\\u043d\\u0438\\u0435\", \"\\u0445\\u043e\\u0434\", \"\\u043e\\u0442\\u043a\\u0440\\u044b\\u0442\\u043a\\u0430\", \"\\u043d\\u043e\\u0432\\u044b\\u0439\", \"\\u043f\\u0440\\u043e\\u0445\\u043e\\u0434\\u0438\\u0442\\u044c\", \"\\u0440\\u043e\\u0441\\u0441\\u0438\\u044f\", \"\\u0440\\u043e\\u0441\\u0441\\u0438\\u0439\\u0441\\u043a\\u0438\\u0439\", \"\\u043f\\u0435\\u0440\\u0432\\u044b\\u0439\", \"\\u043e\\u0431\\u043b\\u0430\\u0441\\u0442\\u044c\", \"\\u043f\\u043e\\u0447\\u0442\\u043e\\u0432\\u044b\\u0439\", \"\\u043f\\u0440\\u043e\\u0432\\u043e\\u0434\\u0438\\u0442\\u044c\", \"\\u0441\\u0440\\u0435\\u0434\\u0441\\u0442\\u0432\\u043e\", \"\\u0442\\u0435\\u043b\\u043e\\u0441\\u043b\\u043e\\u0436\\u0435\\u043d\\u0438\\u0435\", \"\\u0432\\u043e\\u043b\\u043e\\u0441\", \"\\u043f\\u0440\\u0438\\u043c\\u0435\\u0442\\u0430\", \"\\u043c\\u0430\\u043c\\u0430\", \"\\u0431\\u0443\\u0434\\u043d\\u0438\\u043c\\u0447\\u0441\", \"\\u0431\\u0443\\u043c\\u0430\\u0436\\u043d\\u044b\\u0439\", \"\\u043f\\u0430\\u043c\\u044f\\u0442\\u043a\\u0430\\u043c\\u0447\\u0441\", \"\\u043c\\u043e\\u0440\\u043e\\u0437\", \"\\u043a\\u0443\\u0440\\u0442\\u043a\\u0430\", \"\\u043f\\u043e\\u0433\\u0430\\u0441\\u0438\\u0442\\u044c\", \"\\u043c\\u0430\\u043b\\u044c\\u0447\\u0438\\u043a\", \"\\u043c\\u0447\\u0441\\u0440\\u043e\\u0441\\u0441\\u0438\\u044f\", \"\\u0434\\u0435\\u0434\", \"\\u043c\\u0430\\u043b\\u044b\\u0448\", \"\\u0441\\u043d\\u0435\\u0433\\u0443\\u0440\\u043e\\u0447\\u043a\\u0430\", \"\\u0441\\u043b\\u0443\\u0447\\u0430\\u0442\\u044c\\u0441\\u044f\", \"\\u0434\\u044f\\u0434\\u044f\", \"\\u0434\\u0435\\u043d\\u044c\\u043c\\u0430\\u0442\\u044c\", \"\\u0442\\u043e\\u043d\\u0443\\u0442\\u044c\", \"\\u0434\\u0435\\u0434\\u0443\\u0448\\u043a\\u0430\", \"\\u0432\\u044b\\u0442\\u0430\\u0441\\u043a\\u0438\\u0432\\u0430\\u0442\\u044c\", \"\\u0431\\u0430\\u0431\\u0443\\u0448\\u043a\\u0430\", \"\\u0431\\u0440\\u043e\\u0441\\u0430\\u0442\\u044c\\u0441\\u044f\", \"\\u043d\\u0438\\u043a\\u043e\\u043b\\u0430\\u0435\\u0432\\u043d\\u0430\", \"\\u0440\\u0443\\u0447\\u043a\\u0430\", \"\\u043f\\u044f\\u0442\\u0435\\u0440\\u043a\\u0430\", \"\\u043f\\u0430\\u043f\\u0430\", \"\\u0441\\u043f\\u0430\\u0441\\u0430\\u0442\\u044c\", \"\\u043f\\u043e\\u0436\\u0430\\u0440\\u043d\\u044b\\u0439\", \"\\u0443\\u043f\\u0430\\u0441\\u0442\\u044c\", \"\\u043f\\u043e\\u0436\\u0430\\u0440\", \"\\u0441\\u043f\\u0430\\u0441\\u0430\\u0442\\u0435\\u043b\\u044c\", \"\\u0431\\u0440\\u0430\\u0442\", \"\\u0442\\u0432\\u043e\\u0439\", \"\\u043c\\u0447\\u0441\", \"\\u0443\\u0441\\u043b\\u044b\\u0448\\u0430\\u0442\\u044c\", \"\\u0436\\u0438\\u0432\\u043e\\u0442\\u043d\\u043e\\u0435\", \"\\u0434\\u0435\\u0432\\u043e\\u0447\\u043a\\u0430\", \"\\u043c\\u0430\\u043b\\u0435\\u043d\\u044c\\u043a\\u0438\\u0439\", \"\\u043d\\u0435\\u0438\\u0437\\u0432\\u0435\\u0441\\u0442\\u043d\\u043e\", \"\\u0432\\u0437\\u0440\\u043e\\u0441\\u043b\\u044b\\u0439\", \"\\u043e\\u0434\\u0435\\u0432\\u0430\\u0442\\u044c\", \"\\u043c\\u0430\\u0442\\u044c\", \"\\u0433\\u043b\\u0430\\u0437\", \"\\u0440\\u0435\\u0431\\u0435\\u043d\\u043e\\u043a\", \"\\u0442\\u0435\\u043c\\u043d\\u043e\", \"\\u0440\\u0430\\u0437\\u044b\\u0441\\u043a\\u0438\\u0432\\u0430\\u0442\\u044c\", \"\\u0446\\u0432\\u0435\\u0442\", \"\\u0447\\u0435\\u0440\\u043d\\u044b\\u0439\", \"\\u043f\\u0440\\u043e\\u043f\\u0430\\u0434\\u0430\\u0442\\u044c\", \"\\u0434\\u0435\\u0442\\u0441\\u043a\\u0438\\u0439\", \"\\u0434\\u043e\\u043c\", \"\\u043c\\u0435\\u0441\\u0442\\u043e\\u043d\\u0430\\u0445\\u043e\\u0436\\u0434\\u0435\\u043d\\u0438\\u0435\", \"\\u043f\\u043e\\u0447\\u0442\\u0430\\u043b\\u044c\\u043e\\u043d\", \"\\u043f\\u0438\\u0441\\u044c\\u043c\\u043e\", \"\\u0432\\u0435\\u0441\\u0442\\u044c\", \"\\u0440\\u0435\\u0431\\u044f\\u0442\\u0430\", \"\\u0440\\u0443\\u043a\\u0430\", \"\\u0447\\u0435\\u043b\\u043e\\u0432\\u0435\\u043a\", \"\\u0434\\u0440\\u0443\\u0433\", \"\\u043f\\u043e\\u043c\\u043e\\u0433\\u0430\\u0442\\u044c\", \"\\u0444\\u043e\\u0442\\u043e\", \"\\u0436\\u0438\\u0437\\u043d\\u044c\", \"\\u0441\\u0430\\u043c\\u044b\\u0439\", \"\\u043f\\u043e\\u043c\\u043e\\u0449\\u044c\", \"\\u0430\\u043a\\u0446\\u0438\\u044f\", \"\\u0441\\u0435\\u043c\\u044c\\u044f\", \"\\u0440\\u0430\\u0441\\u0441\\u043a\\u0430\\u0437\\u044b\\u0432\\u0430\\u0442\\u044c\", \"\\u043f\\u0440\\u0430\\u0432\\u0438\\u043b\\u043e\", \"\\u0440\\u043e\\u0441\\u0441\\u0438\\u044f\", \"\\u043a\\u0430\\u0436\\u0434\\u044b\\u0439\", \"\\u043f\\u0440\\u0438\\u0445\\u043e\\u0434\\u0438\\u0442\\u044c\", \"\\u0441\\u0442\\u0430\\u043d\\u043e\\u0432\\u0438\\u0442\\u044c\\u0441\\u044f\", \"\\u043e\\u0447\\u0435\\u043d\\u044c\", \"\\u043e\\u0442\\u043a\\u0440\\u044b\\u0442\\u043a\\u0430\", \"\\u0432\\u0430\\u0448\", \"\\u0431\\u0435\\u0437\\u043e\\u043f\\u0430\\u0441\\u043d\\u043e\\u0441\\u0442\\u044c\", \"\\u043f\\u043e\\u043b\\u0443\\u0447\\u0430\\u0442\\u044c\", \"\\u0441\\u043e\\u0442\\u0440\\u0443\\u0434\\u043d\\u0438\\u043a\", \"\\u0440\\u0430\\u0431\\u043e\\u0442\\u0430\", \"\\u043c\\u0435\\u0441\\u0442\\u043e\"], \"Total\": [5998.0, 6017.0, 2944.0, 3745.0, 4328.0, 5299.0, 1993.0, 2240.0, 3815.0, 1948.0, 1733.0, 1681.0, 1659.0, 951.0, 1209.0, 1163.0, 1080.0, 2152.0, 1078.0, 1595.0, 9474.0, 1752.0, 1853.0, 1638.0, 1497.0, 1338.0, 785.0, 851.0, 2207.0, 995.0, 1080.737454084409, 1733.72779008659, 1163.1805074170577, 480.84675119967307, 851.9460316311998, 400.6501878492922, 460.8596312452587, 1681.1571162382736, 396.02814205514574, 469.8409676417583, 2944.3208025469753, 289.3214047186038, 253.84505785313968, 436.116040640365, 471.7561941830484, 380.93797955633846, 252.35118036885387, 228.83309325010518, 237.35837429784942, 252.2801670355692, 202.57417039793566, 292.54697363024997, 164.64473445539247, 185.4738358054502, 1209.8334215344953, 5998.572043564307, 219.46154098499164, 227.40956142116616, 214.81351792018725, 308.1723327433986, 6017.33114242282, 2240.44835733924, 1659.72345357272, 679.9421201375806, 562.4083482221772, 474.39446199000355, 644.8471389536386, 440.9495557202349, 363.9081807482447, 354.47071144680666, 699.249304432654, 771.6955958529499, 889.4870527587257, 496.70876888409765, 1595.7538685765173, 5299.78359595313, 3815.3624912895534, 1338.6152743771145, 1853.040599031593, 805.4172778787448, 1775.8270813923, 955.3747050914878, 1464.711432718729, 2207.0463644733345, 981.6388137415156, 837.263486271456, 1620.374482120561, 2191.4855858718447, 9474.90646629991, 1493.5968963988394, 1625.4857283949884, 1400.5272196905344, 139.7181627634827, 134.86576992784697, 61.842763862080254, 162.85402994588586, 95.32757718687353, 84.83727689418502, 71.17430887281257, 274.026291764361, 218.95030595330206, 101.78519791423494, 84.82271985276834, 81.4379941321912, 211.33668102089194, 35.88089295929871, 48.5823479587426, 28.440001727375538, 40.70806190693322, 37.11663430451562, 22.910820746867607, 25.759680988631086, 35.030882096432904, 98.39282540944063, 40.04088725924743, 19.629618504984037, 23.790479968518465, 25.340884967644104, 24.154727362831128, 42.1678965059233, 20.398831316521143, 37.8242382511437, 118.9685465623881, 80.83650714365227, 3745.5662687657477, 136.9206353437557, 122.83045212984683, 62.490817822170555, 91.68623342056244, 549.2971544514274, 328.3646870828265, 414.90300112597606, 807.5595996856861, 285.52480250878887, 312.6046708978908, 4328.390785111631, 368.99738040054575, 185.64333374706317, 259.16636020932066, 1276.0773054464148, 1638.3794754486196, 859.3586775763451, 2152.576797031071, 205.59215959625166, 226.57818241008897, 1090.9380333498336, 493.51560224460593, 363.36741427008053, 750.8130943741696, 549.6826830423641, 300.354949902214, 319.03939345213183, 1048.58507594032, 1078.824872236697, 690.7499367035896, 1002.2202797284582, 345.655624859204, 2051.9749835548655, 9474.90646629991, 706.6310791026913, 541.5726592127986, 819.5860406388161, 976.9217120640036, 1007.366406327412, 825.6583567626889, 2274.2446202222286, 1364.3144612170227, 1953.738771345092, 1623.506921391007, 1664.4516695216378, 1646.852424606554, 971.6985774258894, 1524.2136051188374, 1026.4160939891435, 1706.4634267142, 1423.8081437380536, 5299.78359595313, 403.8158064259531, 232.62428105574975, 195.23709148470056, 202.1116323306534, 257.2702579410634, 203.82894254499072, 400.17756259653663, 430.2040656405367, 188.95548742467005, 163.77947706163067, 168.92728800958199, 442.39763309901997, 119.44913575160031, 260.3281413139645, 372.18688001989335, 109.66811735203589, 257.1751087755178, 185.04065876356492, 110.60537118080855, 212.88564835982024, 627.301260499704, 100.95257011062002, 88.94770358601234, 104.9214674351697, 90.63467079207948, 112.60435321287278, 207.91479416139845, 78.48361608974199, 93.74352431702042, 37.983136473324315, 249.04733494959294, 785.8646223553776, 232.50476148624114, 392.23078166207955, 240.49275672971496, 144.26045296074693, 172.41965143733523, 146.9903246838541, 567.2554854457396, 521.6814318684636, 197.54132484797495, 565.1305212694778, 160.68922469752636, 1078.362749958309, 416.33001879528837, 593.0448815607973, 258.93886838681993, 995.6875026755743, 427.4947191269324, 265.07800649123334, 381.814688638972, 386.4789543527932, 264.05489453862737, 294.82433304220456, 309.94937029935676, 1497.7316189008427, 812.5788115152782, 355.1544146464961, 569.7948578123041, 648.9599354087783, 556.7282784612632, 769.3706217750946, 776.8533344984315, 1075.0551125153138, 686.0432643531896, 987.5723235212363, 1247.0802971714415, 1706.4634267142, 1953.738771345092, 1491.6179683521784, 9474.90646629991, 2051.9749835548655, 1623.506921391007, 1314.8068449920647, 4328.390785111631, 1480.8057582881743, 1493.5968963988394, 164.39532452409068, 170.35320331008162, 263.6260063426919, 190.33387754204733, 168.78610586592916, 69.01800687618453, 110.51077351161487, 271.4870130386716, 97.64591245833421, 64.40954358570441, 126.38921483288784, 951.5742465958751, 249.88049571236994, 103.15852185217588, 56.62507340823028, 66.7667754845563, 37.84275822115415, 52.11959887767547, 52.30838359763906, 50.118787006082215, 68.7503570511688, 47.14140909901929, 51.45659621851137, 32.08405069054873, 36.76341977178699, 71.0604276559825, 51.28523693040776, 291.0564320363166, 509.82253441215397, 64.3275455196934, 260.7790615598202, 407.8838058465659, 136.94614432873763, 109.81443559086934, 1993.423425979633, 77.2263046884727, 174.89019484690533, 124.83973782707811, 253.52256701174875, 73.82006557180924, 144.8612867267915, 155.09586014017924, 175.98011885292377, 201.41764897712375, 1948.718621001512, 95.8165192116366, 347.0611271508283, 357.37257526677007, 309.2599419863477, 372.339474483549, 568.8537927838336, 1098.2852432944449, 302.24433319017436, 661.2415934599662, 1752.123422765844, 361.6795650440555, 562.2499965367886, 284.6340968691712, 1894.0258338593994, 833.4471531628383, 497.6285333766293, 525.0267078504636, 780.726563804802, 1228.2365825949978, 1120.295030743194, 1053.2247613672596, 544.4983492416496, 906.656642465553, 794.0842304609539, 9474.90646629991, 971.900572634639, 468.8212933520764, 1390.5213321226752, 487.98334773317356, 1706.4634267142, 830.2921309962778, 1383.0597780278322, 1353.8584064308288, 3815.3624912895534, 2274.2446202222286, 1455.4854799714694], \"loglift\": [30.0, 29.0, 28.0, 27.0, 26.0, 25.0, 24.0, 23.0, 22.0, 21.0, 20.0, 19.0, 18.0, 17.0, 16.0, 15.0, 14.0, 13.0, 12.0, 11.0, 10.0, 9.0, 8.0, 7.0, 6.0, 5.0, 4.0, 3.0, 2.0, 1.0, 1.2335, 1.233, 1.2329, 1.2324, 1.2324, 1.2323, 1.2322, 1.2318, 1.2318, 1.2316, 1.2316, 1.2314, 1.2314, 1.2313, 1.2312, 1.2312, 1.2311, 1.2309, 1.2307, 1.2305, 1.2305, 1.2304, 1.2304, 1.2302, 1.2302, 1.2302, 1.2298, 1.2298, 1.2298, 1.2298, 1.2284, 1.2249, 1.2258, 1.2287, 1.2294, 1.2288, 1.2255, 1.2281, 1.2291, 1.2277, 1.2167, 1.2113, 1.1761, 1.1968, 1.113, 1.0116, 1.0337, 1.1146, 1.0542, 1.126, 0.9784, 1.0834, 0.9859, 0.891, 1.0689, 1.1039, 0.9396, 0.857, 0.1764, 0.799, 0.6665, 0.7233, 1.2907, 1.2889, 1.2875, 1.287, 1.2853, 1.285, 1.285, 1.2843, 1.2823, 1.2821, 1.2808, 1.2803, 1.2801, 1.2799, 1.2786, 1.2773, 1.2773, 1.2758, 1.2758, 1.2755, 1.2748, 1.2747, 1.2744, 1.2743, 1.274, 1.2737, 1.2734, 1.2733, 1.2732, 1.2727, 1.27, 1.2687, 1.2037, 1.2491, 1.2501, 1.2614, 1.2535, 1.2092, 1.222, 1.2135, 1.1924, 1.2202, 1.2173, 1.1215, 1.2052, 1.2277, 1.2124, 1.1348, 1.1167, 1.1458, 1.0872, 1.2201, 1.2103, 1.089, 1.1475, 1.1584, 1.0854, 1.1119, 1.1642, 1.1552, 1.0031, 0.9868, 1.0351, 0.9724, 1.1381, 0.8037, 0.4833, 0.988, 1.038, 0.9331, 0.8785, 0.8698, 0.92, 0.6294, 0.7245, 0.5461, 0.6085, 0.5617, 0.5658, 0.7897, 0.5473, 0.7318, 0.3899, 0.4703, -0.6628, 1.4402, 1.4393, 1.439, 1.4389, 1.4388, 1.4384, 1.4384, 1.4384, 1.4382, 1.4381, 1.438, 1.4378, 1.4378, 1.4376, 1.4376, 1.437, 1.437, 1.4369, 1.4368, 1.4367, 1.4366, 1.4363, 1.4363, 1.4361, 1.436, 1.4357, 1.4354, 1.4351, 1.4349, 1.4347, 1.4343, 1.4219, 1.4339, 1.4277, 1.432, 1.4342, 1.4323, 1.4339, 1.4104, 1.4121, 1.4285, 1.402, 1.4321, 1.3738, 1.4004, 1.3603, 1.4075, 1.2869, 1.3604, 1.4032, 1.3551, 1.3481, 1.3975, 1.3762, 1.365, 1.0489, 1.1399, 1.3322, 1.2113, 1.1753, 1.2101, 1.1225, 0.9574, 0.7106, 0.9179, 0.6788, 0.5268, 0.3233, 0.0664, 0.2603, -1.3787, -0.0703, 0.1202, 0.3013, -0.8566, 0.1594, 0.144, 1.611, 1.6106, 1.6106, 1.6101, 1.6089, 1.6079, 1.6077, 1.6077, 1.6076, 1.6069, 1.6067, 1.6059, 1.6045, 1.6044, 1.6044, 1.6041, 1.6039, 1.6039, 1.6038, 1.6037, 1.6029, 1.6027, 1.6022, 1.6021, 1.602, 1.602, 1.6018, 1.6017, 1.6014, 1.6013, 1.5947, 1.588, 1.5988, 1.6001, 1.5703, 1.6011, 1.5919, 1.5946, 1.5799, 1.5999, 1.5829, 1.5774, 1.567, 1.5518, 1.4287, 1.5865, 1.4974, 1.4786, 1.4529, 1.4249, 1.3575, 1.2515, 1.4468, 1.2964, 1.0904, 1.399, 1.3028, 1.4437, 0.9966, 1.1695, 1.3013, 1.2776, 1.159, 0.9699, 0.9867, 0.994, 1.1971, 0.9466, 1.0054, -0.2848, 0.8559, 1.2524, 0.5593, 1.2208, 0.2938, 0.8239, 0.4377, 0.4488, -0.4802, -0.1267, 0.2612], \"logprob\": [30.0, 29.0, 28.0, 27.0, 26.0, 25.0, 24.0, 23.0, 22.0, 21.0, 20.0, 19.0, 18.0, 17.0, 16.0, 15.0, 14.0, 13.0, 12.0, 11.0, 10.0, 9.0, 8.0, 7.0, 6.0, 5.0, 4.0, 3.0, 2.0, 1.0, -5.255, -4.7828, -5.182, -6.0659, -5.494, -6.2485, -6.1086, -4.8148, -6.2606, -6.0899, -4.2546, -6.5749, -6.7058, -6.1647, -6.0862, -6.3, -6.712, -6.8099, -6.7736, -6.7128, -6.9322, -6.5648, -7.1397, -7.0207, -5.1454, -3.5444, -6.8528, -6.8173, -6.8743, -6.5134, -3.5431, -4.5345, -4.8336, -5.7232, -5.9123, -6.0831, -5.7793, -6.1569, -6.3479, -6.3755, -5.7072, -5.614, -5.5071, -6.0691, -4.9857, -3.8868, -4.1933, -5.1598, -4.8951, -5.6565, -5.0135, -5.5284, -5.1986, -4.8834, -5.5158, -5.6398, -5.1439, -4.9245, -4.141, -5.3659, -5.4138, -5.506, -7.2436, -7.2806, -8.0617, -7.094, -7.6312, -7.7481, -7.9238, -6.5764, -6.8027, -7.5689, -7.7525, -7.7937, -6.8403, -8.6138, -8.3119, -8.8488, -8.4902, -8.584, -9.0665, -8.9496, -8.6428, -7.6102, -8.5095, -9.2225, -9.0305, -8.9677, -9.016, -8.4588, -9.1852, -8.5682, -7.425, -7.8127, -4.0418, -7.3053, -7.4129, -8.0774, -7.702, -5.956, -6.4577, -6.2323, -5.5874, -6.5993, -6.5116, -3.9794, -6.3579, -7.0224, -6.704, -5.1875, -4.9557, -5.5718, -4.7123, -6.9278, -6.8405, -5.3901, -6.1248, -6.4201, -5.7673, -6.0526, -6.6047, -6.5534, -5.5155, -5.5034, -5.901, -5.5915, -6.4903, -5.0436, -3.8342, -5.9253, -6.1414, -5.832, -5.7109, -5.6889, -5.8376, -5.115, -5.531, -5.3502, -5.473, -5.4949, -5.5014, -5.8051, -5.5973, -5.8082, -5.6418, -5.7425, -5.5612, -6.0327, -6.5852, -6.7607, -6.7261, -6.4849, -6.7181, -6.0436, -5.9712, -6.7941, -6.9373, -6.9064, -5.9438, -7.2532, -6.4743, -6.1169, -7.3394, -6.4871, -6.8163, -7.3311, -6.6764, -5.5958, -7.4229, -7.5496, -7.3845, -7.531, -7.3142, -6.7013, -7.6758, -7.4984, -8.402, -6.5219, -5.3852, -6.5911, -6.0743, -6.5591, -7.068, -6.8916, -7.0496, -5.7226, -5.8047, -6.7594, -5.7348, -6.9623, -5.1169, -6.042, -5.7283, -6.5098, -5.2835, -6.0555, -6.4907, -6.1738, -6.1687, -6.5001, -6.4112, -6.3724, -5.1133, -5.6337, -6.2691, -5.9172, -5.8232, -5.9417, -5.7058, -5.8612, -5.7831, -6.025, -5.8998, -5.8185, -5.7084, -5.8299, -5.9059, -5.6962, -5.9175, -5.9613, -5.9911, -5.9575, -6.0141, -6.0209, -6.7606, -6.7254, -6.2887, -6.615, -6.7363, -7.6316, -7.1611, -6.2623, -7.2849, -7.7017, -7.0277, -5.0099, -6.3484, -7.2331, -7.833, -7.6686, -8.2365, -7.9164, -7.9129, -7.9558, -7.6405, -8.018, -7.9309, -8.4034, -8.2673, -7.6083, -7.9347, -6.1986, -5.6384, -7.7085, -6.3154, -5.8749, -6.9555, -7.175, -4.306, -7.526, -6.7178, -7.0522, -6.3585, -7.5723, -6.9151, -6.8524, -6.7365, -6.6167, -4.4703, -7.3249, -6.1269, -6.1165, -6.2868, -6.1292, -5.7727, -5.2208, -6.3159, -5.6833, -4.9149, -6.1841, -5.8391, -6.3789, -4.9308, -5.5787, -5.9627, -5.9328, -5.6546, -5.3906, -5.4658, -5.5203, -5.9769, -5.7174, -5.7912, -4.6022, -5.7387, -6.0713, -5.6772, -6.0628, -5.7379, -5.9281, -5.8041, -5.8143, -5.7072, -5.8712, -5.9296]}, \"token.table\": {\"Topic\": [2, 2, 3, 4, 1, 2, 3, 4, 2, 3, 1, 2, 3, 4, 3, 2, 3, 4, 2, 3, 1, 2, 3, 4, 3, 1, 2, 3, 4, 3, 1, 3, 4, 4, 4, 4, 2, 1, 3, 4, 1, 2, 3, 4, 3, 3, 1, 2, 3, 4, 1, 2, 3, 4, 2, 3, 4, 1, 2, 3, 4, 1, 2, 3, 4, 1, 2, 3, 4, 2, 3, 2, 3, 2, 1, 2, 3, 4, 1, 2, 3, 4, 1, 3, 1, 2, 3, 4, 1, 2, 3, 4, 1, 2, 3, 4, 2, 4, 1, 2, 3, 4, 2, 1, 2, 3, 4, 4, 2, 3, 4, 1, 2, 3, 4, 1, 2, 3, 4, 1, 2, 3, 4, 2, 3, 4, 1, 2, 3, 4, 1, 2, 3, 4, 1, 3, 4, 1, 1, 2, 3, 4, 2, 3, 1, 2, 3, 4, 1, 2, 3, 4, 1, 3, 4, 2, 3, 4, 4, 1, 2, 3, 4, 4, 2, 3, 1, 2, 3, 4, 1, 2, 3, 4, 1, 2, 3, 4, 1, 2, 3, 4, 1, 2, 3, 4, 1, 3, 4, 1, 2, 3, 4, 4, 2, 3, 1, 3, 4, 1, 2, 3, 4, 1, 2, 3, 4, 2, 3, 2, 3, 1, 3, 4, 1, 2, 3, 4, 1, 3, 3, 1, 2, 3, 4, 2, 3, 1, 2, 3, 4, 1, 2, 3, 4, 1, 2, 3, 4, 2, 3, 4, 1, 3, 4, 1, 2, 3, 4, 2, 3, 2, 3, 2, 1, 2, 3, 4, 2, 3, 1, 2, 3, 4, 4, 4, 4, 1, 2, 3, 4, 1, 2, 3, 4, 1, 2, 3, 4, 1, 2, 3, 4, 1, 2, 3, 4, 2, 1, 2, 3, 4, 1, 2, 3, 4, 1, 2, 3, 4, 1, 2, 3, 4, 3, 1, 2, 3, 4, 1, 2, 3, 4, 1, 2, 3, 4, 3, 2, 3, 2, 3, 4, 1, 2, 3, 4, 1, 2, 3, 4, 1, 2, 3, 4, 1, 3, 1, 2, 3, 4, 2, 3, 4, 1, 3, 1, 1, 2, 3, 4, 4, 2, 4, 1, 2, 3, 4, 1, 2, 3, 4, 2, 3, 4, 1, 2, 3, 4, 1, 2, 3, 4, 1, 3, 4, 1, 2, 3, 4, 1, 1, 2, 3, 4, 1, 2, 3, 4, 1, 2, 3, 4, 1, 2, 3, 4, 1, 2, 3, 4, 1, 2, 3, 4, 1, 2, 3, 4, 2, 3, 1, 2, 3, 4, 4, 4, 2, 3, 1, 2, 3, 4, 1, 2, 3, 1, 2, 3, 4, 3, 1, 2, 3, 4, 2, 4, 2, 3, 4, 2, 1, 3, 1, 3, 2, 3, 1, 2, 3, 4, 2, 3, 4, 1, 2, 3, 4, 2, 3, 4, 2, 3, 1, 2, 3, 4, 1, 2, 3, 4, 1, 2, 3, 4, 1, 2, 3, 4, 1, 2, 3, 4, 1, 2, 3, 4, 1, 2, 3, 4, 1, 2, 3, 4, 1, 1, 2, 3, 4, 1, 2, 3, 4, 1, 2, 3, 4, 1, 2, 3, 4, 1, 2, 3, 4, 1, 3, 1, 2, 3, 4, 1, 3, 1, 2, 3, 4, 1, 2, 3, 4, 4, 1, 2, 3, 4, 1, 2, 3, 4, 1, 2, 3, 4, 1, 2, 3, 4, 3, 3, 1, 3, 1, 2, 3, 4, 1, 1, 2, 3, 4, 3, 2, 4, 1, 2, 3, 4, 1, 3, 1, 2, 3, 4, 1, 2, 3, 4, 1, 1, 2, 3, 4, 3, 2, 3, 1, 2, 3, 4, 1, 2, 3, 4, 2, 1, 2, 3, 4, 1, 2, 3, 4, 1, 2, 3, 4, 1, 2, 3, 4, 1, 2, 3, 4, 1, 2, 3, 4, 1, 2, 3, 4, 4, 1, 2, 3, 4, 1, 2, 3, 4, 1, 2, 3, 4, 1, 2, 3, 4, 1, 1, 2, 3, 4, 1, 2, 3, 4, 1, 2, 3, 4, 1, 2, 3, 4, 1, 2, 3, 4, 4, 4, 2, 2, 3, 1, 2, 3, 4, 1, 2, 3, 1, 2, 3, 4, 1, 2, 3, 4, 1, 2, 3, 4, 1, 2, 3, 4, 1, 2, 3, 4, 1, 2, 3, 4, 1, 2, 3, 4, 1, 2, 3, 4, 2, 1, 2, 3, 4, 1, 2, 3, 4, 3, 3, 2, 3, 3, 3, 4, 4, 1, 4, 1, 2, 3, 4, 2, 3, 4, 4, 3, 1, 2, 3, 4, 3, 2, 1, 2, 3, 4, 1, 2, 3, 4, 1, 2, 3, 4, 2, 1, 3, 4, 4, 1, 2, 3, 4, 1, 2, 3, 1, 2, 3, 4, 4, 1, 2, 3, 4, 1, 2, 3, 4, 2, 1, 2, 3, 4, 2, 3, 4, 1, 2, 3, 4, 1, 2, 3, 4, 1, 1, 2, 3, 4, 1, 2, 3, 4, 1, 2, 3, 4, 1, 2, 3, 4, 2, 1, 2, 3, 4, 1, 2, 3, 4, 2, 3, 2, 3, 4, 1, 2, 3, 4, 2, 3, 1, 3, 1], \"Freq\": [0.9863724741675557, 0.03787091323367667, 0.9581341048120197, 0.0037870913233676667, 0.00240194065970464, 0.036029109895569594, 0.9583743232221512, 0.00480388131940928, 0.9601410589751178, 0.01600235098291863, 0.22977051895916695, 0.2155285446435161, 0.016140904224404288, 0.5373971641772252, 0.994376053508896, 0.004697357514254769, 0.995839793022011, 0.9970003209127188, 0.9860735243037696, 0.994526746989358, 0.4800949391694608, 0.18292774037631562, 0.02892138187767836, 0.3080127169972745, 0.9944999091945644, 0.08536814991811303, 0.0492122275998534, 0.8556901615321448, 0.00903898057956491, 0.9962399413878196, 0.007302140596229651, 0.007302140596229651, 0.9857889804910028, 0.9911265755594788, 0.9953425913709179, 0.9997390988670996, 0.9705089131745704, 0.9961958533624277, 0.0032449376331023703, 0.0032449376331023703, 0.0180659305803625, 0.48657573029776324, 0.042153838020845824, 0.45405705525311074, 0.9952406914735883, 0.9949433200501734, 0.02740855017010354, 0.9288453113201756, 0.030453944633448377, 0.012181577853379352, 0.06659428768031757, 0.7701774140419337, 0.12884546964235358, 0.033297143840158784, 0.002498890726185493, 0.9970573997480117, 0.002498890726185493, 0.07741659387527015, 0.10230049904946413, 0.01105951341075288, 0.8073444789849602, 0.33255029937053415, 0.6531883492113775, 0.005956124764845388, 0.008934187147268081, 0.020709466744265517, 0.006903155581421839, 0.006903155581421839, 0.9664417813990575, 0.004809662554477619, 0.9956001487768671, 0.004015300947518268, 0.9917793340370122, 0.9826063469061241, 0.8867372296736534, 0.09188599768311657, 0.008217446947270588, 0.01269969073669091, 0.008012116355536766, 0.3118048615029725, 0.6750208029539725, 0.005341410903691177, 0.9981347221865887, 0.0021698580917099753, 0.0025495194328259904, 0.010198077731303962, 0.9866640205036583, 0.0025495194328259904, 0.07858147446026986, 0.8097887537600691, 0.09722792602711357, 0.013318893976316927, 0.04563045742431857, 0.15619656579862898, 0.793267952145846, 0.0035100351864860444, 0.9865480243456629, 0.9979266412182534, 0.02815676671217371, 0.07039191678043427, 0.895385181447124, 0.0056313533424347416, 0.9935943237732743, 0.1772135797283123, 0.05291794394664881, 0.739620565393859, 0.030766246480609775, 0.9890857723020938, 0.9889561992578312, 0.007298569736220156, 0.003649284868110078, 0.06077964204893842, 0.9244903448496423, 0.012795714115565984, 0.003198928528891496, 0.982482207197056, 0.002860210210180658, 0.002860210210180658, 0.011440840840722631, 0.005420092678785429, 0.9132856163753448, 0.008130139018178143, 0.07046120482421057, 0.9290237544811621, 0.03891198971648847, 0.03404799100192741, 0.02978884934101012, 0.009929616447003372, 0.01489442467050506, 0.9383487542418187, 0.19066675028578658, 0.4821318462640591, 0.15544805118841198, 0.1718429628371898, 0.9962773267109091, 0.002119738993001934, 0.002119738993001934, 0.9946456348376144, 0.8593486886607282, 0.10257755357947791, 0.01988748487765388, 0.01779406541684821, 0.9824611244973049, 0.00982461124497305, 0.98998041741703, 0.001339017697137552, 0.001339017697137552, 0.007587766950446127, 0.8475622483068214, 0.033617252637169595, 0.08862730240708348, 0.03056113876106327, 0.008010269946138073, 0.008010269946138073, 0.9772529334288448, 0.004001912983040783, 0.004001912983040783, 0.9884725068110735, 0.9976298906422496, 0.8348440939763915, 0.07231358021514962, 0.016729261094549537, 0.07609115530101564, 0.9977052993451433, 0.006931906697063391, 0.9912626576800649, 0.0878960475156754, 0.12481238747225906, 0.015821288552821573, 0.7734852181379435, 0.11008141740048587, 0.8723952328988505, 0.005504070870024294, 0.011008141740048587, 0.1283819489161602, 0.14750266471218407, 0.02822581855603522, 0.6956298508648681, 0.9770692019650689, 0.011662629731678541, 0.006479238739821412, 0.005183390991857129, 0.001238298696949692, 0.9014814513793759, 0.08172771399867967, 0.014859584363396305, 0.9947564225010791, 0.0027479459185112682, 0.0027479459185112682, 0.004799344487314462, 0.3023587027008111, 0.051592953238630467, 0.6407124890564807, 0.9777300001170885, 0.9723036574575341, 0.02371472335262278, 0.01715362031945889, 0.00571787343981963, 0.9777563582091569, 0.15370298074038954, 0.17419671150577481, 0.037144887012260805, 0.6340247955541068, 0.9984266330030658, 0.0005767918157152316, 0.0005767918157152316, 0.0005767918157152316, 0.9667732652067342, 0.9987856227374748, 0.006803168862649932, 0.9932626539468901, 0.9930298572857481, 0.0028211075491072386, 0.0028211075491072386, 0.0038585254629201525, 0.9183290601749963, 0.03086820370336122, 0.046302305555041834, 0.9975377105810481, 0.0026250992383711792, 0.9973163547119136, 0.0679081809995095, 0.36732152449734684, 0.09671771233263475, 0.4681548841632852, 0.9750476352938264, 0.016811166125755627, 0.06686718687293677, 0.861168315787822, 0.03242045424142389, 0.03647301102160188, 0.06986150137260343, 0.012937315069000635, 0.9107869808576446, 0.007762389041400381, 0.15727140675170098, 0.10398109537302544, 0.7265679039190153, 0.011697873229465363, 0.0031882607702825487, 0.9947373603281552, 0.0015941303851412744, 0.9982390414460314, 0.002079664669679232, 0.9933851562029304, 0.06943326905146105, 0.853450598757542, 0.06364716329717263, 0.011572211508576841, 0.003888401193884113, 0.9954307056343329, 0.9886153879857813, 0.00614046824835889, 0.98044832518429, 0.07903316878677556, 0.07364454364222267, 0.7921278962492732, 0.05388625144552879, 0.9782087283378728, 0.026438073738861426, 0.007888844072438395, 0.007888844072438395, 0.01972211018109599, 0.9663833988737034, 0.9887694992970526, 0.9890084384595262, 0.9982458322902943, 0.028076523595001898, 0.836192115764187, 0.09643675495674565, 0.03967334855815485, 0.01704738023564619, 0.022729840314194918, 0.0056824600785487294, 0.9546532931961866, 0.9954035654879083, 0.0011669443909588608, 0.0010002380493933094, 0.0023338887819177217, 0.995178326676497, 0.000826560071990446, 0.000826560071990446, 0.0024796802159713378, 0.05188480122761924, 0.7233938632696912, 0.19456800460357213, 0.02893575453078765, 0.96024495338116, 0.7442723970953461, 0.1802052570081601, 0.04628559683428769, 0.029622781973944124, 0.36757494826433246, 0.20611679341925185, 0.16764165864765818, 0.258333047752129, 0.14557758465008136, 0.003308581469320031, 0.006617162938640062, 0.8469968561459279, 0.03395226982098814, 0.0037724744245542377, 0.9619809782613307, 0.0037724744245542377, 0.9945107269493998, 0.09089786589113208, 0.8682313397187443, 0.03134409168659727, 0.006268818337319453, 0.07282032989948262, 0.9175361567334809, 0.007282032989948261, 0.0036410164949741307, 0.0009273317351129399, 0.06398588972279286, 0.9338230572587305, 0.0018546634702258798, 0.9946329498316083, 0.990300713603662, 0.011789294209567406, 0.0036834174453035675, 0.0036834174453035675, 0.9945227102319631, 0.0017628740940499098, 0.028205985504798557, 0.9678178776334004, 0.0017628740940499098, 0.8000326660955794, 0.14113783826403148, 0.012453338670355718, 0.04641698958950768, 0.5997741337620054, 0.29703099957737406, 0.03712887494717176, 0.06640356480936488, 0.9974038661752412, 0.002525073078924661, 0.001003299135514641, 0.0366204184462844, 0.005518145245330526, 0.9571473752809676, 0.006305340882715319, 0.0021017802942384397, 0.9920402988805436, 0.9960817217557708, 0.0021283797473413907, 0.9983771682404982, 0.8854749017531496, 0.08522617596491744, 0.01065327199561468, 0.018799891756967082, 0.9888910208158579, 0.9679250768513827, 0.9973802967910942, 0.7090924890349798, 0.2292656865506069, 0.013139733023651384, 0.048481083914851654, 0.11618748797400236, 0.4724275392070668, 0.2528485421108245, 0.15867013776185343, 0.9567586337231695, 0.03651750510393777, 0.007303501020787553, 0.17340950183551565, 0.2859735644304995, 0.31943855601279203, 0.2205647172469278, 0.8778598518288897, 0.09793810591832511, 0.009554937162763425, 0.015526772889490566, 0.025790501412382684, 0.006447625353095671, 0.960696177611255, 0.9909325193515994, 0.0015507551163561806, 0.0015507551163561806, 0.006203020465424722, 0.996670969841656, 0.9623345307027121, 0.010066260781409122, 0.006039756468845473, 0.022145773719100068, 0.029267248484185274, 0.8115854460614551, 0.05342434247113185, 0.10545500644301678, 0.11279234713534107, 0.8313887522717883, 0.04911924794603563, 0.005457694216226181, 0.0023440291408424797, 0.40434502679532774, 0.3264060578623153, 0.26721932205604265, 0.24344209484913082, 0.6867247153206825, 0.027856558117064723, 0.04117925982522611, 0.001833284695244148, 0.8130617623407796, 0.17782861543868236, 0.007333138780976592, 0.011585746159662683, 0.011585746159662683, 0.9654788466385569, 0.007723830773108456, 0.9597951264542215, 0.03272028840184846, 0.020492502554550162, 0.2643532829536971, 0.040985005109100324, 0.6742033340447003, 0.9953780659081063, 0.9944382253552846, 0.006223192637106512, 0.9894876292999355, 0.054203649421218573, 0.5026156582694813, 0.26670659317485956, 0.17616186061896036, 0.012370648304025907, 0.9772812160180466, 0.012370648304025907, 0.9968343114857211, 0.0006792738068045799, 0.0006792738068045799, 0.00203782142041374, 0.9929974833412762, 0.002853680245942472, 0.17921111944518725, 0.2254407394294553, 0.5924240190576573, 0.9699155291033549, 0.9936415698217227, 0.010124463838334445, 0.9871352242376085, 0.005062231919167223, 0.9845287728322462, 0.9983923439704596, 0.0009252941093331415, 0.9949256136516323, 0.003963847066341165, 0.9823424662221293, 0.012279280827776615, 0.3928826180715226, 0.10227099078665923, 0.4657886709095371, 0.03949077862059119, 0.0038346636958451114, 0.011503991087535335, 0.9816739061363485, 0.001961466848759521, 0.007845867395038083, 0.001961466848759521, 0.986617824926039, 0.004300987186704031, 0.9935280401286312, 0.004300987186704031, 0.002686822275805504, 0.9941242420480365, 0.9911289717928452, 0.0012050200264958604, 0.0018075300397437906, 0.006025100132479302, 0.993629876515756, 0.0011633064284345697, 0.0013294930610680796, 0.003822292550570729, 0.9939397268320228, 0.001778067489860506, 0.001778067489860506, 0.001778067489860506, 0.0864196724297385, 0.4165871388920728, 0.18539604940055013, 0.3117017244901679, 0.08239077394094928, 0.1627720168101681, 0.02411437286076564, 0.7314693101098911, 0.15977933944887085, 0.12407445912510082, 0.1820948896512271, 0.5337879608403618, 0.10189192370568885, 0.7344709500451738, 0.09764642688461848, 0.06651278353010244, 0.0020472469546965796, 0.6592135194122986, 0.27637833888403823, 0.06244103211824567, 0.9942771166095666, 0.0010679293097430884, 0.9120116305205974, 0.029902020672806475, 0.057134218071255224, 0.0015123065607041905, 0.21625983818069922, 0.05444303618535085, 0.7274194556987156, 0.0019073321239161233, 0.7457668604512042, 0.0572199637174837, 0.1945478766394446, 0.0018482619516513171, 0.8400350570255236, 0.10026821087708396, 0.057758185989103664, 0.3891274856580771, 0.02266762052377148, 0.04407592879622232, 0.5440228925705155, 0.9974409548460399, 0.002292967712289747, 0.10654061140133758, 0.8756306499547433, 0.009988182318875398, 0.006658788212583599, 0.9947120504749942, 0.0034182544689862343, 0.9977157806258293, 0.001173783271324505, 0.001173783271324505, 0.001173783271324505, 0.9933108998932606, 0.0022678331047791336, 0.0022678331047791336, 0.0022678331047791336, 0.9976253998936732, 0.2453724325409368, 0.4730308124652819, 0.16270685366350887, 0.11874976013344801, 0.04905920513027426, 0.22396593646429552, 0.02986212486190607, 0.69536090749867, 0.42544405062841334, 0.13843814345845196, 0.2775515949337744, 0.15937269198143736, 0.1557718264507101, 0.005371442291403797, 0.010742884582807593, 0.8272021128761847, 0.997979756084405, 0.9893453844472117, 0.993340332076263, 0.0045566070278727664, 0.20983925283883356, 0.3519667978926122, 0.30637871740366435, 0.13140093787990856, 0.9971656287827428, 0.040813752506409, 0.2827809995086909, 0.5917994113429305, 0.08454277304899006, 0.9905641816788198, 0.9835009444923302, 0.9850770999983812, 0.244037072821906, 0.513577119019795, 0.06727508494009302, 0.17544286856926217, 0.996084087003905, 0.991217551015105, 0.04820403792145009, 0.9206971242996967, 0.024102018960725044, 0.0072306056882175136, 0.10372812505837008, 0.0028813368071769468, 0.0028813368071769468, 0.8903330734176765, 0.9974452687442814, 0.5665998685263138, 0.03445124064872267, 0.23931308236344853, 0.1599521887262124, 0.9950625542523676, 0.002260409923522747, 0.9945803663500087, 0.26581176237194604, 0.16764891236736845, 0.05404471517105957, 0.5128733174396469, 0.016131666907956213, 0.03548966719750367, 0.9259576805166867, 0.02581066705272994, 0.9754495251749183, 0.15753941933506152, 0.006157892612445401, 0.005644734894741618, 0.8308023449624253, 0.2418852838376165, 0.016007114371606974, 0.00889284131755943, 0.732770124566897, 0.0775519208466856, 0.7718262598551092, 0.05354775487033054, 0.09601666390542028, 0.8964297387579718, 0.0024831848719057393, 0.0037247773078586087, 0.09684421000432382, 0.15643465567201792, 0.611118561410313, 0.22027558991823082, 0.011696049022206946, 0.34702189532895855, 0.44369831142425237, 0.05952565357832501, 0.1496584694575618, 0.0878320632523902, 0.0456726728912429, 0.021079695180573645, 0.8431878072229458, 0.9792342557758227, 0.7796757603511518, 0.15634478907216617, 0.05393553858821453, 0.009558196711835488, 0.048805126022915785, 0.6954730458265499, 0.18911986333879865, 0.06710704828150921, 0.001686213018765398, 0.05901745565678893, 0.9206723082459074, 0.01854834320641938, 0.03663789259958757, 0.27193458062805, 0.166091779784797, 0.5251431272607552, 0.9954327447017306, 0.22722034311903994, 0.5643860135537444, 0.11434314040829106, 0.09382001264270036, 0.029661904191785368, 0.7341321287466879, 0.07044702245549025, 0.1659212765727994, 0.16161665158868166, 0.1524338872938702, 0.027548292884434375, 0.6593224763674627, 0.008826975213262832, 0.9180054221793346, 0.06178882649283982, 0.008826975213262832, 0.6853798216530159, 0.1551458983768478, 0.038330163128397696, 0.12092253844077844, 0.9885156130576702, 0.9889611903242244, 0.9901307900861865, 0.008316258781331033, 0.989634794978393, 0.8180087756078804, 0.05084706903810599, 0.008125047114336524, 0.12318619818510215, 0.00946357248698482, 0.9842115386464213, 0.00473178624349241, 0.0024516786047058, 0.0098067144188232, 0.014710071628234797, 0.9733164060682025, 0.006871519677498313, 0.0034357598387491565, 0.0034357598387491565, 0.986063073721008, 0.0837166382934791, 0.35719099005217747, 0.48090557775254106, 0.07813552907391383, 0.6467608511567543, 0.0528924505604385, 0.2731660737804925, 0.027450512316176946, 0.9942022710156816, 0.001470713418662251, 0.001470713418662251, 0.002941426837324502, 0.11074982917731588, 0.38906271159044087, 0.1517416490676211, 0.3480708917001356, 0.9432402612245551, 0.042721251402304046, 0.0044969738318214785, 0.010118191121598325, 0.009403818991829805, 0.8510456187605975, 0.07444690035198596, 0.06425942977750368, 0.9948599183579416, 0.07251551566136524, 0.002339210182624685, 0.921648811954126, 0.002339210182624685, 0.07857214741250237, 0.0026190715804167456, 0.916675053145861, 0.0026190715804167456, 0.9938379993960905, 0.9948982030630229, 0.005799802932344074, 0.9917663014308367, 0.992068526093536, 0.00910627090709326, 0.983477257966072, 0.9975952812208309, 0.020873227460731076, 0.9706050769239951, 0.03852317937663218, 0.13714251858081056, 0.7658408060074477, 0.058555232652480915, 0.9318944909474123, 0.053866733580775275, 0.010773346716155055, 0.9941045091354538, 0.9939078250984174, 0.023742952041200544, 0.010175550874800234, 0.9361506804816215, 0.027134802332800623, 1.000443974043258, 0.9705721913140783, 0.21628655405937947, 0.5689700341021514, 0.13542266222636823, 0.07988962807598701, 0.9969324007920134, 0.0005948284014272156, 0.0005948284014272156, 0.0017844852042816469, 0.9981253920581082, 0.0008597117933317039, 0.0008597117933317039, 0.0008597117933317039, 0.9740043907491827, 0.9949525928697414, 0.0021079504086223334, 0.004215900817244667, 0.9949081607723844, 0.7737239815729942, 0.0934775698261405, 0.10305057396496212, 0.02984524819750269, 0.0023244782647767084, 0.0023244782647767084, 0.997201175589208, 0.07563780025276515, 0.8611072644160955, 0.05003731401336771, 0.013963901585125874, 0.9841206348870434, 0.270401599887766, 0.43826129436354805, 0.18612058174092985, 0.1060536145014355, 0.001272483798803438, 0.015269805585641255, 0.9798125250786471, 0.0038174513964103138, 0.9935805065413548, 0.3601940026784635, 0.6030676730559418, 0.02984464593621555, 0.00720388005356927, 0.9525325191860131, 0.040706517913932184, 0.008141303582786438, 0.0019168786522042428, 0.024919422478655154, 0.9699405980153468, 0.0019168786522042428, 0.25141578138077464, 0.020951315115064553, 0.013332655073222899, 0.7142493789226553, 0.9963593847451311, 0.4915481395948382, 0.09301726622023039, 0.4001346193439221, 0.015235586708486012, 0.08674420519498241, 0.01399100083790039, 0.0251838015082207, 0.8730384522849843, 0.24972538751507628, 0.11585198389874674, 0.6153027589288993, 0.018021419717582823, 0.2517345547921018, 0.48003796963935397, 0.1556068011722061, 0.1129501105033774, 0.98801317797079, 0.19376715641315997, 0.17898383112823224, 0.08764399990350015, 0.5390633969968293, 0.02586820636587056, 0.00970057738720146, 0.1131734028506837, 0.8504172842779947, 0.9865252257106628, 0.009134492830654286, 0.9281155180620182, 0.06304180877402388, 0.01050696812900398, 0.031851049133863454, 0.0017695027296590806, 0.9608399822048808, 0.005308508188977242, 0.9756808954363959, 0.02032668532159158, 0.9962129109561461, 0.9959331460260715, 0.9938016615820492], \"Term\": [\"\\u0430\\u0432\\u0438\\u0430\\u043a\\u043e\\u043c\\u043f\\u0430\\u043d\\u0438\\u044f\", \"\\u0430\\u0432\\u0438\\u0430\\u0446\\u0438\\u043e\\u043d\\u043d\\u044b\\u0439\", \"\\u0430\\u0432\\u0438\\u0430\\u0446\\u0438\\u043e\\u043d\\u043d\\u044b\\u0439\", \"\\u0430\\u0432\\u0438\\u0430\\u0446\\u0438\\u043e\\u043d\\u043d\\u044b\\u0439\", \"\\u0430\\u0432\\u0438\\u0430\\u0446\\u0438\\u044f\", \"\\u0430\\u0432\\u0438\\u0430\\u0446\\u0438\\u044f\", \"\\u0430\\u0432\\u0438\\u0430\\u0446\\u0438\\u044f\", \"\\u0430\\u0432\\u0438\\u0430\\u0446\\u0438\\u044f\", \"\\u0430\\u0432\\u0442\\u043e\\u043f\\u0430\\u0440\\u043a\", \"\\u0430\\u0432\\u0442\\u043e\\u043f\\u0430\\u0440\\u043a\", \"\\u0430\\u043a\\u0446\\u0438\\u044f\", \"\\u0430\\u043a\\u0446\\u0438\\u044f\", \"\\u0430\\u043a\\u0446\\u0438\\u044f\", \"\\u0430\\u043a\\u0446\\u0438\\u044f\", \"\\u0430\\u0440\\u0442\\u0438\\u043b\\u043b\\u0435\\u0440\\u0438\\u0439\\u0441\\u043a\\u0438\\u0439\", \"\\u0430\\u044d\\u0440\\u043e\\u0434\\u0440\\u043e\\u043c\", \"\\u0430\\u044d\\u0440\\u043e\\u0434\\u0440\\u043e\\u043c\", \"\\u0431\\u0430\\u0431\\u0443\\u0448\\u043a\\u0430\", \"\\u0431\\u0430\\u0433\\u0430\\u0436\", \"\\u0431\\u0430\\u043b\\u0442\\u0438\\u0439\\u0441\\u043a\\u0438\\u0439\", \"\\u0431\\u0435\\u0437\\u043e\\u043f\\u0430\\u0441\\u043d\\u043e\\u0441\\u0442\\u044c\", \"\\u0431\\u0435\\u0437\\u043e\\u043f\\u0430\\u0441\\u043d\\u043e\\u0441\\u0442\\u044c\", \"\\u0431\\u0435\\u0437\\u043e\\u043f\\u0430\\u0441\\u043d\\u043e\\u0441\\u0442\\u044c\", \"\\u0431\\u0435\\u0437\\u043e\\u043f\\u0430\\u0441\\u043d\\u043e\\u0441\\u0442\\u044c\", \"\\u0431\\u043e\\u0435\\u0432\\u0430\\u044f\\u043f\\u043e\\u0434\\u0433\\u043e\\u0442\\u043e\\u0432\\u043a\\u0430\", \"\\u0431\\u043e\\u0435\\u0432\\u043e\\u0439\", \"\\u0431\\u043e\\u0435\\u0432\\u043e\\u0439\", \"\\u0431\\u043e\\u0435\\u0432\\u043e\\u0439\", \"\\u0431\\u043e\\u0435\\u0432\\u043e\\u0439\", \"\\u0431\\u043e\\u043c\\u0431\\u0430\\u0440\\u0434\\u0438\\u0440\\u043e\\u0432\\u0449\\u0438\\u043a\", \"\\u0431\\u0440\\u0430\\u0442\", \"\\u0431\\u0440\\u0430\\u0442\", \"\\u0431\\u0440\\u0430\\u0442\", \"\\u0431\\u0440\\u043e\\u0441\\u0430\\u0442\\u044c\\u0441\\u044f\", \"\\u0431\\u0443\\u0434\\u043d\\u0438\\u043c\\u0447\\u0441\", \"\\u0431\\u0443\\u043c\\u0430\\u0436\\u043d\\u044b\\u0439\", \"\\u0432\\u0430\\u043a\\u0430\\u043d\\u0441\\u0438\\u044f\", \"\\u0432\\u0430\\u043e\", \"\\u0432\\u0430\\u043e\", \"\\u0432\\u0430\\u043e\", \"\\u0432\\u0430\\u0448\", \"\\u0432\\u0430\\u0448\", \"\\u0432\\u0430\\u0448\", \"\\u0432\\u0430\\u0448\", \"\\u0432\\u0432\\u043e\", \"\\u0432\\u0434\\u0432\", \"\\u0432\\u0435\\u0434\\u043e\\u043c\\u0441\\u0442\\u0432\\u043e\", \"\\u0432\\u0435\\u0434\\u043e\\u043c\\u0441\\u0442\\u0432\\u043e\", \"\\u0432\\u0435\\u0434\\u043e\\u043c\\u0441\\u0442\\u0432\\u043e\", \"\\u0432\\u0435\\u0434\\u043e\\u043c\\u0441\\u0442\\u0432\\u043e\", \"\\u0432\\u0435\\u043b\\u0438\\u043a\\u0438\\u0439\", \"\\u0432\\u0435\\u043b\\u0438\\u043a\\u0438\\u0439\", \"\\u0432\\u0435\\u043b\\u0438\\u043a\\u0438\\u0439\", \"\\u0432\\u0435\\u043b\\u0438\\u043a\\u0438\\u0439\", \"\\u0432\\u0435\\u0440\\u0442\\u043e\\u043b\\u0435\\u0442\", \"\\u0432\\u0435\\u0440\\u0442\\u043e\\u043b\\u0435\\u0442\", \"\\u0432\\u0435\\u0440\\u0442\\u043e\\u043b\\u0435\\u0442\", \"\\u0432\\u0435\\u0441\\u0442\\u044c\", \"\\u0432\\u0435\\u0441\\u0442\\u044c\", \"\\u0432\\u0435\\u0441\\u0442\\u044c\", \"\\u0432\\u0435\\u0441\\u0442\\u044c\", \"\\u0432\\u0435\\u0442\\u0435\\u0440\\u0430\\u043d\", \"\\u0432\\u0435\\u0442\\u0435\\u0440\\u0430\\u043d\", \"\\u0432\\u0435\\u0442\\u0435\\u0440\\u0430\\u043d\", \"\\u0432\\u0435\\u0442\\u0435\\u0440\\u0430\\u043d\", \"\\u0432\\u0437\\u0440\\u043e\\u0441\\u043b\\u044b\\u0439\", \"\\u0432\\u0437\\u0440\\u043e\\u0441\\u043b\\u044b\\u0439\", \"\\u0432\\u0437\\u0440\\u043e\\u0441\\u043b\\u044b\\u0439\", \"\\u0432\\u0437\\u0440\\u043e\\u0441\\u043b\\u044b\\u0439\", \"\\u0432\\u043a\\u0441\", \"\\u0432\\u043a\\u0441\", \"\\u0432\\u043c\\u0444\", \"\\u0432\\u043c\\u0444\", \"\\u0432\\u043d\\u0435\\u0434\\u0440\\u0435\\u043d\\u0438\\u0435\", \"\\u0432\\u043d\\u0443\\u0442\\u0440\\u0435\\u043d\\u043d\\u0438\\u0439\", \"\\u0432\\u043d\\u0443\\u0442\\u0440\\u0435\\u043d\\u043d\\u0438\\u0439\", \"\\u0432\\u043d\\u0443\\u0442\\u0440\\u0435\\u043d\\u043d\\u0438\\u0439\", \"\\u0432\\u043d\\u0443\\u0442\\u0440\\u0435\\u043d\\u043d\\u0438\\u0439\", \"\\u0432\\u043e\\u0435\\u043d\\u043d\\u044b\\u0439\", \"\\u0432\\u043e\\u0435\\u043d\\u043d\\u044b\\u0439\", \"\\u0432\\u043e\\u0435\\u043d\\u043d\\u044b\\u0439\", \"\\u0432\\u043e\\u0435\\u043d\\u043d\\u044b\\u0439\", \"\\u0432\\u043e\\u0437\\u0431\\u0443\\u0436\\u0434\\u0430\\u0442\\u044c\", \"\\u0432\\u043e\\u0437\\u0431\\u0443\\u0436\\u0434\\u0430\\u0442\\u044c\", \"\\u0432\\u043e\\u0437\\u0434\\u0443\\u0448\\u043d\\u044b\\u0439\", \"\\u0432\\u043e\\u0437\\u0434\\u0443\\u0448\\u043d\\u044b\\u0439\", \"\\u0432\\u043e\\u0437\\u0434\\u0443\\u0448\\u043d\\u044b\\u0439\", \"\\u0432\\u043e\\u0437\\u0434\\u0443\\u0448\\u043d\\u044b\\u0439\", \"\\u0432\\u043e\\u0439\\u043d\\u0430\", \"\\u0432\\u043e\\u0439\\u043d\\u0430\", \"\\u0432\\u043e\\u0439\\u043d\\u0430\", \"\\u0432\\u043e\\u0439\\u043d\\u0430\", \"\\u0432\\u043e\\u0439\\u0441\\u043a\\u043e\", \"\\u0432\\u043e\\u0439\\u0441\\u043a\\u043e\", \"\\u0432\\u043e\\u0439\\u0441\\u043a\\u043e\", \"\\u0432\\u043e\\u0439\\u0441\\u043a\\u043e\", \"\\u0432\\u043e\\u043b\\u0433\\u0438\\u043d\", \"\\u0432\\u043e\\u043b\\u043e\\u0441\", \"\\u0432\\u043e\\u043e\\u0440\\u0443\\u0436\\u0435\\u043d\\u0438\\u0435\", \"\\u0432\\u043e\\u043e\\u0440\\u0443\\u0436\\u0435\\u043d\\u0438\\u0435\", \"\\u0432\\u043e\\u043e\\u0440\\u0443\\u0436\\u0435\\u043d\\u0438\\u0435\", \"\\u0432\\u043e\\u043e\\u0440\\u0443\\u0436\\u0435\\u043d\\u0438\\u0435\", \"\\u0432\\u0442\\u0431\", \"\\u0432\\u044b\\u043f\\u043e\\u043b\\u043d\\u044f\\u0442\\u044c\", \"\\u0432\\u044b\\u043f\\u043e\\u043b\\u043d\\u044f\\u0442\\u044c\", \"\\u0432\\u044b\\u043f\\u043e\\u043b\\u043d\\u044f\\u0442\\u044c\", \"\\u0432\\u044b\\u043f\\u043e\\u043b\\u043d\\u044f\\u0442\\u044c\", \"\\u0432\\u044b\\u0442\\u0430\\u0441\\u043a\\u0438\\u0432\\u0430\\u0442\\u044c\", \"\\u0433\\u0430\\u0448\\u0435\\u043d\\u0438\\u0435\", \"\\u0433\\u0430\\u0448\\u0435\\u043d\\u0438\\u0435\", \"\\u0433\\u0430\\u0448\\u0435\\u043d\\u0438\\u0435\", \"\\u0433\\u0435\\u043d\\u0435\\u0440\\u0430\\u043b\\u044c\\u043d\\u044b\\u0439\", \"\\u0433\\u0435\\u043d\\u0435\\u0440\\u0430\\u043b\\u044c\\u043d\\u044b\\u0439\", \"\\u0433\\u0435\\u043d\\u0435\\u0440\\u0430\\u043b\\u044c\\u043d\\u044b\\u0439\", \"\\u0433\\u0435\\u043d\\u0435\\u0440\\u0430\\u043b\\u044c\\u043d\\u044b\\u0439\", \"\\u0433\\u0438\\u0431\\u0434\\u0434\", \"\\u0433\\u0438\\u0431\\u0434\\u0434\", \"\\u0433\\u0438\\u0431\\u0434\\u0434\", \"\\u0433\\u0438\\u0431\\u0434\\u0434\", \"\\u0433\\u043b\\u0430\\u0432\\u0430\", \"\\u0433\\u043b\\u0430\\u0432\\u0430\", \"\\u0433\\u043b\\u0430\\u0432\\u0430\", \"\\u0433\\u043b\\u0430\\u0432\\u0430\", \"\\u0433\\u043b\\u0430\\u0432\\u043f\\u043e\\u0447\\u0442\\u0430\\u043c\\u0442\", \"\\u0433\\u043b\\u0430\\u0432\\u043f\\u043e\\u0447\\u0442\\u0430\\u043c\\u0442\", \"\\u0433\\u043b\\u0430\\u0432\\u043f\\u043e\\u0447\\u0442\\u0430\\u043c\\u0442\", \"\\u0433\\u043b\\u0430\\u0437\", \"\\u0433\\u043b\\u0430\\u0437\", \"\\u0433\\u043b\\u0430\\u0437\", \"\\u0433\\u043b\\u0430\\u0437\", \"\\u0433\\u043e\\u0440\\u043e\\u0434\", \"\\u0433\\u043e\\u0440\\u043e\\u0434\", \"\\u0433\\u043e\\u0440\\u043e\\u0434\", \"\\u0433\\u043e\\u0440\\u043e\\u0434\", \"\\u0433\\u043e\\u0441\\u0430\\u0432\\u0442\\u043e\\u0438\\u043d\\u0441\\u043f\\u0435\\u043a\\u0446\\u0438\\u044f\", \"\\u0433\\u043e\\u0441\\u0430\\u0432\\u0442\\u043e\\u0438\\u043d\\u0441\\u043f\\u0435\\u043a\\u0446\\u0438\\u044f\", \"\\u0433\\u043e\\u0441\\u0430\\u0432\\u0442\\u043e\\u0438\\u043d\\u0441\\u043f\\u0435\\u043a\\u0446\\u0438\\u044f\", \"\\u0433\\u0440\\u0430\\u0431\\u0435\\u0436\", \"\\u0433\\u0440\\u0430\\u0436\\u0434\\u0430\\u043d\\u0438\\u043d\", \"\\u0433\\u0440\\u0430\\u0436\\u0434\\u0430\\u043d\\u0438\\u043d\", \"\\u0433\\u0440\\u0430\\u0436\\u0434\\u0430\\u043d\\u0438\\u043d\", \"\\u0433\\u0440\\u0430\\u0436\\u0434\\u0430\\u043d\\u0438\\u043d\", \"\\u0433\\u0440\\u0430\\u0444\\u0438\\u043a\", \"\\u0433\\u0440\\u0430\\u0444\\u0438\\u043a\", \"\\u0433\\u0443\", \"\\u0433\\u0443\", \"\\u0433\\u0443\", \"\\u0433\\u0443\", \"\\u0434\\u0432\\u0438\\u0436\\u0435\\u043d\\u0438\\u0435\", \"\\u0434\\u0432\\u0438\\u0436\\u0435\\u043d\\u0438\\u0435\", \"\\u0434\\u0432\\u0438\\u0436\\u0435\\u043d\\u0438\\u0435\", \"\\u0434\\u0432\\u0438\\u0436\\u0435\\u043d\\u0438\\u0435\", \"\\u0434\\u0435\\u0432\\u043e\\u0447\\u043a\\u0430\", \"\\u0434\\u0435\\u0432\\u043e\\u0447\\u043a\\u0430\", \"\\u0434\\u0435\\u0432\\u043e\\u0447\\u043a\\u0430\", \"\\u0434\\u0435\\u0434\", \"\\u0434\\u0435\\u0434\", \"\\u0434\\u0435\\u0434\", \"\\u0434\\u0435\\u0434\\u0443\\u0448\\u043a\\u0430\", \"\\u0434\\u0435\\u043b\\u043e\", \"\\u0434\\u0435\\u043b\\u043e\", \"\\u0434\\u0435\\u043b\\u043e\", \"\\u0434\\u0435\\u043b\\u043e\", \"\\u0434\\u0435\\u043d\\u044c\\u043c\\u0430\\u0442\\u044c\", \"\\u0434\\u0435\\u0441\\u0430\\u043d\\u0442\\u043d\\u044b\\u0439\", \"\\u0434\\u0435\\u0441\\u0430\\u043d\\u0442\\u043d\\u044b\\u0439\", \"\\u0434\\u0435\\u0442\\u0441\\u043a\\u0438\\u0439\", \"\\u0434\\u0435\\u0442\\u0441\\u043a\\u0438\\u0439\", \"\\u0434\\u0435\\u0442\\u0441\\u043a\\u0438\\u0439\", \"\\u0434\\u0435\\u0442\\u0441\\u043a\\u0438\\u0439\", \"\\u0434\\u0438\\u0440\\u0435\\u043a\\u0442\\u043e\\u0440\", \"\\u0434\\u0438\\u0440\\u0435\\u043a\\u0442\\u043e\\u0440\", \"\\u0434\\u0438\\u0440\\u0435\\u043a\\u0442\\u043e\\u0440\", \"\\u0434\\u0438\\u0440\\u0435\\u043a\\u0442\\u043e\\u0440\", \"\\u0434\\u043e\\u043c\", \"\\u0434\\u043e\\u043c\", \"\\u0434\\u043e\\u043c\", \"\\u0434\\u043e\\u043c\", \"\\u0434\\u043e\\u0440\\u043e\\u0436\\u043d\\u044b\\u0439\", \"\\u0434\\u043e\\u0440\\u043e\\u0436\\u043d\\u044b\\u0439\", \"\\u0434\\u043e\\u0440\\u043e\\u0436\\u043d\\u044b\\u0439\", \"\\u0434\\u043e\\u0440\\u043e\\u0436\\u043d\\u044b\\u0439\", \"\\u0434\\u043e\\u0441\\u0442\\u0430\\u0432\\u043a\\u0430\", \"\\u0434\\u043e\\u0441\\u0442\\u0430\\u0432\\u043a\\u0430\", \"\\u0434\\u043e\\u0441\\u0442\\u0430\\u0432\\u043a\\u0430\", \"\\u0434\\u043e\\u0441\\u0442\\u0430\\u0432\\u043a\\u0430\", \"\\u0434\\u043f\\u0441\", \"\\u0434\\u043f\\u0441\", \"\\u0434\\u043f\\u0441\", \"\\u0434\\u0440\\u0443\\u0433\", \"\\u0434\\u0440\\u0443\\u0433\", \"\\u0434\\u0440\\u0443\\u0433\", \"\\u0434\\u0440\\u0443\\u0433\", \"\\u0434\\u044f\\u0434\\u044f\", \"\\u0435\\u0433\\u0438\\u043f\\u0435\\u0442\", \"\\u0435\\u0433\\u0438\\u043f\\u0435\\u0442\", \"\\u0436\\u0438\\u0432\\u043e\\u0442\\u043d\\u043e\\u0435\", \"\\u0436\\u0438\\u0432\\u043e\\u0442\\u043d\\u043e\\u0435\", \"\\u0436\\u0438\\u0432\\u043e\\u0442\\u043d\\u043e\\u0435\", \"\\u0436\\u0438\\u0437\\u043d\\u044c\", \"\\u0436\\u0438\\u0437\\u043d\\u044c\", \"\\u0436\\u0438\\u0437\\u043d\\u044c\", \"\\u0436\\u0438\\u0437\\u043d\\u044c\", \"\\u0437\\u0430\\u0434\\u0435\\u0440\\u0436\\u0438\\u0432\\u0430\\u0442\\u044c\", \"\\u0437\\u0430\\u0434\\u0435\\u0440\\u0436\\u0438\\u0432\\u0430\\u0442\\u044c\", \"\\u0437\\u0430\\u0434\\u0435\\u0440\\u0436\\u0438\\u0432\\u0430\\u0442\\u044c\", \"\\u0437\\u0430\\u0434\\u0435\\u0440\\u0436\\u0438\\u0432\\u0430\\u0442\\u044c\", \"\\u0437\\u0430\\u043a\\u0440\\u044b\\u0432\\u0430\\u0442\\u044c\\u0441\\u044f\", \"\\u0437\\u0432\\u043e\", \"\\u0437\\u0435\\u043d\\u0438\\u0442\\u043d\\u044b\\u0439\", \"\\u0437\\u0435\\u043d\\u0438\\u0442\\u043d\\u044b\\u0439\", \"\\u0437\\u043b\\u043e\\u0443\\u043c\\u044b\\u0448\\u043b\\u0435\\u043d\\u043d\\u0438\\u043a\", \"\\u0437\\u043b\\u043e\\u0443\\u043c\\u044b\\u0448\\u043b\\u0435\\u043d\\u043d\\u0438\\u043a\", \"\\u0437\\u043b\\u043e\\u0443\\u043c\\u044b\\u0448\\u043b\\u0435\\u043d\\u043d\\u0438\\u043a\", \"\\u0438\\u0437\\u0434\\u0430\\u043d\\u0438\\u0435\", \"\\u0438\\u0437\\u0434\\u0430\\u043d\\u0438\\u0435\", \"\\u0438\\u0437\\u0434\\u0430\\u043d\\u0438\\u0435\", \"\\u0438\\u0437\\u0434\\u0430\\u043d\\u0438\\u0435\", \"\\u0438\\u0437\\u044b\\u043c\\u0430\\u0442\\u044c\", \"\\u0438\\u0437\\u044b\\u043c\\u0430\\u0442\\u044c\", \"\\u0438\\u0441\\u0442\\u0440\\u0435\\u0431\\u0438\\u0442\\u0435\\u043b\\u044c\", \"\\u043a\\u0430\\u0436\\u0434\\u044b\\u0439\", \"\\u043a\\u0430\\u0436\\u0434\\u044b\\u0439\", \"\\u043a\\u0430\\u0436\\u0434\\u044b\\u0439\", \"\\u043a\\u0430\\u0436\\u0434\\u044b\\u0439\", \"\\u043a\\u0438\\u0442\\u0430\\u0439\", \"\\u043a\\u0438\\u0442\\u0430\\u0439\", \"\\u043a\\u043b\\u0438\\u0435\\u043d\\u0442\", \"\\u043a\\u043b\\u0438\\u0435\\u043d\\u0442\", \"\\u043a\\u043b\\u0438\\u0435\\u043d\\u0442\", \"\\u043a\\u043b\\u0438\\u0435\\u043d\\u0442\", \"\\u043a\\u043c\", \"\\u043a\\u043c\", \"\\u043a\\u043c\", \"\\u043a\\u043c\", \"\\u043a\\u043e\\u043c\\u043f\\u043b\\u0435\\u043a\\u0441\", \"\\u043a\\u043e\\u043c\\u043f\\u043b\\u0435\\u043a\\u0441\", \"\\u043a\\u043e\\u043c\\u043f\\u043b\\u0435\\u043a\\u0441\", \"\\u043a\\u043e\\u043c\\u043f\\u043b\\u0435\\u043a\\u0441\", \"\\u043a\\u043e\\u0440\\u0430\\u0431\\u043b\\u044c\", \"\\u043a\\u043e\\u0440\\u0430\\u0431\\u043b\\u044c\", \"\\u043a\\u043e\\u0440\\u0430\\u0431\\u043b\\u044c\", \"\\u043a\\u0440\\u0430\\u0436\\u0430\", \"\\u043a\\u0440\\u0430\\u0436\\u0430\", \"\\u043a\\u0443\\u0440\\u0442\\u043a\\u0430\", \"\\u043b\\u0435\\u0442\\u0438\\u0435\", \"\\u043b\\u0435\\u0442\\u0438\\u0435\", \"\\u043b\\u0435\\u0442\\u0438\\u0435\", \"\\u043b\\u0435\\u0442\\u0438\\u0435\", \"\\u043b\\u0435\\u0442\\u0447\\u0438\\u043a\", \"\\u043b\\u0435\\u0442\\u0447\\u0438\\u043a\", \"\\u043b\\u043e\\u0433\\u0438\\u0441\\u0442\\u0438\\u0447\\u0435\\u0441\\u043a\\u0438\\u0439\", \"\\u043b\\u043e\\u0433\\u0438\\u0441\\u0442\\u0438\\u0447\\u0435\\u0441\\u043a\\u0438\\u0439\", \"\\u043b\\u043f\\u0446\", \"\\u043c\", \"\\u043c\", \"\\u043c\", \"\\u043c\", \"\\u043c\\u0430\\u0433\\u0438\\u0441\\u0442\\u0440\\u0430\\u043b\\u044c\\u043d\\u044b\\u0439\", \"\\u043c\\u0430\\u0433\\u0438\\u0441\\u0442\\u0440\\u0430\\u043b\\u044c\\u043d\\u044b\\u0439\", \"\\u043c\\u0430\\u043b\\u0435\\u043d\\u044c\\u043a\\u0438\\u0439\", \"\\u043c\\u0430\\u043b\\u0435\\u043d\\u044c\\u043a\\u0438\\u0439\", \"\\u043c\\u0430\\u043b\\u0435\\u043d\\u044c\\u043a\\u0438\\u0439\", \"\\u043c\\u0430\\u043b\\u0435\\u043d\\u044c\\u043a\\u0438\\u0439\", \"\\u043c\\u0430\\u043b\\u044b\\u0448\", \"\\u043c\\u0430\\u043b\\u044c\\u0447\\u0438\\u043a\", \"\\u043c\\u0430\\u043c\\u0430\", \"\\u043c\\u0430\\u0440\\u043a\\u0430\", \"\\u043c\\u0430\\u0440\\u043a\\u0430\", \"\\u043c\\u0430\\u0440\\u043a\\u0430\", \"\\u043c\\u0430\\u0440\\u043a\\u0430\", \"\\u043c\\u0430\\u0442\\u044c\", \"\\u043c\\u0430\\u0442\\u044c\", \"\\u043c\\u0430\\u0442\\u044c\", \"\\u043c\\u0430\\u0442\\u044c\", \"\\u043c\\u0432\\u0434\", \"\\u043c\\u0432\\u0434\", \"\\u043c\\u0432\\u0434\", \"\\u043c\\u0432\\u0434\", \"\\u043c\\u0432\\u0434\\u0440\\u043e\\u0441\\u0441\\u0438\\u044f\", \"\\u043c\\u0432\\u0434\\u0440\\u043e\\u0441\\u0441\\u0438\\u044f\", \"\\u043c\\u0432\\u0434\\u0440\\u043e\\u0441\\u0441\\u0438\\u044f\", \"\\u043c\\u0432\\u0434\\u0440\\u043e\\u0441\\u0441\\u0438\\u044f\", \"\\u043c\\u0435\\u0436\\u0434\\u0443\\u043d\\u0430\\u0440\\u043e\\u0434\\u043d\\u044b\\u0439\", \"\\u043c\\u0435\\u0436\\u0434\\u0443\\u043d\\u0430\\u0440\\u043e\\u0434\\u043d\\u044b\\u0439\", \"\\u043c\\u0435\\u0436\\u0434\\u0443\\u043d\\u0430\\u0440\\u043e\\u0434\\u043d\\u044b\\u0439\", \"\\u043c\\u0435\\u0436\\u0434\\u0443\\u043d\\u0430\\u0440\\u043e\\u0434\\u043d\\u044b\\u0439\", \"\\u043c\\u0435\\u043c\\u043e\\u0440\\u0430\\u043d\\u0434\\u0443\\u043c\", \"\\u043c\\u0435\\u0440\\u043e\\u043f\\u0440\\u0438\\u044f\\u0442\\u0438\\u0435\", \"\\u043c\\u0435\\u0440\\u043e\\u043f\\u0440\\u0438\\u044f\\u0442\\u0438\\u0435\", \"\\u043c\\u0435\\u0440\\u043e\\u043f\\u0440\\u0438\\u044f\\u0442\\u0438\\u0435\", \"\\u043c\\u0435\\u0440\\u043e\\u043f\\u0440\\u0438\\u044f\\u0442\\u0438\\u0435\", \"\\u043c\\u0435\\u0441\\u0442\\u043e\", \"\\u043c\\u0435\\u0441\\u0442\\u043e\", \"\\u043c\\u0435\\u0441\\u0442\\u043e\", \"\\u043c\\u0435\\u0441\\u0442\\u043e\", \"\\u043c\\u0435\\u0441\\u0442\\u043e\\u043d\\u0430\\u0445\\u043e\\u0436\\u0434\\u0435\\u043d\\u0438\\u0435\", \"\\u043c\\u0435\\u0441\\u0442\\u043e\\u043d\\u0430\\u0445\\u043e\\u0436\\u0434\\u0435\\u043d\\u0438\\u0435\", \"\\u043c\\u0435\\u0441\\u0442\\u043e\\u043d\\u0430\\u0445\\u043e\\u0436\\u0434\\u0435\\u043d\\u0438\\u0435\", \"\\u043c\\u0435\\u0441\\u0442\\u043e\\u043d\\u0430\\u0445\\u043e\\u0436\\u0434\\u0435\\u043d\\u0438\\u0435\", \"\\u043c\\u0438\", \"\\u043c\\u0438\", \"\\u043c\\u0438\", \"\\u043c\\u0438\", \"\\u043c\\u0438\\u0433\", \"\\u043c\\u0438\\u043d\\u0438\\u0441\\u0442\\u0435\\u0440\\u0441\\u0442\\u0432\\u043e\", \"\\u043c\\u0438\\u043d\\u0438\\u0441\\u0442\\u0435\\u0440\\u0441\\u0442\\u0432\\u043e\", \"\\u043c\\u0438\\u043d\\u0438\\u0441\\u0442\\u0435\\u0440\\u0441\\u0442\\u0432\\u043e\", \"\\u043c\\u0438\\u043d\\u0438\\u0441\\u0442\\u0435\\u0440\\u0441\\u0442\\u0432\\u043e\", \"\\u043c\\u0438\\u043d\\u0438\\u0441\\u0442\\u0440\", \"\\u043c\\u0438\\u043d\\u0438\\u0441\\u0442\\u0440\", \"\\u043c\\u0438\\u043d\\u0438\\u0441\\u0442\\u0440\", \"\\u043c\\u0438\\u043d\\u0438\\u0441\\u0442\\u0440\", \"\\u043c\\u0438\\u043d\\u043e\\u0431\\u043e\\u0440\\u043e\\u043d\\u044b\", \"\\u043c\\u0438\\u043d\\u043e\\u0431\\u043e\\u0440\\u043e\\u043d\\u044b\", \"\\u043c\\u0438\\u043d\\u043e\\u0431\\u043e\\u0440\\u043e\\u043d\\u044b\", \"\\u043c\\u0438\\u043d\\u043e\\u0431\\u043e\\u0440\\u043e\\u043d\\u044b\", \"\\u043c\\u0438\\u0448\\u0435\\u043d\\u044c\", \"\\u043c\\u043c\\u043f\\u043e\", \"\\u043c\\u043c\\u043f\\u043e\", \"\\u043c\\u043e\\u0440\\u043e\\u0437\", \"\\u043c\\u043e\\u0440\\u043e\\u0437\", \"\\u043c\\u043e\\u0440\\u043e\\u0437\", \"\\u043c\\u043e\\u0440\\u0441\\u043a\\u043e\\u0439\", \"\\u043c\\u043e\\u0440\\u0441\\u043a\\u043e\\u0439\", \"\\u043c\\u043e\\u0440\\u0441\\u043a\\u043e\\u0439\", \"\\u043c\\u043e\\u0440\\u0441\\u043a\\u043e\\u0439\", \"\\u043c\\u043e\\u0441\\u043a\\u0432\\u0430\", \"\\u043c\\u043e\\u0441\\u043a\\u0432\\u0430\", \"\\u043c\\u043e\\u0441\\u043a\\u0432\\u0430\", \"\\u043c\\u043e\\u0441\\u043a\\u0432\\u0430\", \"\\u043c\\u043e\\u0441\\u043a\\u043e\\u0432\\u0441\\u043a\\u0438\\u0439\", \"\\u043c\\u043e\\u0441\\u043a\\u043e\\u0432\\u0441\\u043a\\u0438\\u0439\", \"\\u043c\\u043e\\u0441\\u043a\\u043e\\u0432\\u0441\\u043a\\u0438\\u0439\", \"\\u043c\\u043e\\u0441\\u043a\\u043e\\u0432\\u0441\\u043a\\u0438\\u0439\", \"\\u043c\\u043e\\u0448\\u0435\\u043d\\u043d\\u0438\\u0447\\u0435\\u0441\\u0442\\u0432\\u043e\", \"\\u043c\\u043e\\u0448\\u0435\\u043d\\u043d\\u0438\\u0447\\u0435\\u0441\\u0442\\u0432\\u043e\", \"\\u043c\\u0447\\u0441\", \"\\u043c\\u0447\\u0441\", \"\\u043c\\u0447\\u0441\", \"\\u043c\\u0447\\u0441\", \"\\u043c\\u0447\\u0441\\u0440\\u043e\\u0441\\u0441\\u0438\\u044f\", \"\\u043c\\u0447\\u0441\\u0440\\u043e\\u0441\\u0441\\u0438\\u044f\", \"\\u043c\\u0447\\u0441\\u0440\\u043e\\u0441\\u0441\\u0438\\u044f\", \"\\u043d\\u0430\\u0440\\u043a\\u043e\\u0442\\u0438\\u043a\", \"\\u043d\\u0430\\u0440\\u043a\\u043e\\u0442\\u0438\\u043a\", \"\\u043d\\u0430\\u0440\\u043a\\u043e\\u0442\\u0438\\u0447\\u0435\\u0441\\u043a\\u0438\\u0439\", \"\\u043d\\u0430\\u0447\\u0430\\u043b\\u044c\\u043d\\u0438\\u043a\", \"\\u043d\\u0430\\u0447\\u0430\\u043b\\u044c\\u043d\\u0438\\u043a\", \"\\u043d\\u0430\\u0447\\u0430\\u043b\\u044c\\u043d\\u0438\\u043a\", \"\\u043d\\u0430\\u0447\\u0430\\u043b\\u044c\\u043d\\u0438\\u043a\", \"\\u043d\\u0435\\u0438\\u0437\\u0432\\u0435\\u0441\\u0442\\u043d\\u043e\", \"\\u043d\\u0435\\u0438\\u0441\\u0441\\u044f\\u043a\\u0430\\u0435\\u043c\\u044b\\u0439\", \"\\u043d\\u0438\\u043a\\u043e\\u043b\\u0430\\u0435\\u0432\\u043d\\u0430\", \"\\u043d\\u043e\\u0432\\u043e\\u0441\\u0442\\u044c\", \"\\u043d\\u043e\\u0432\\u043e\\u0441\\u0442\\u044c\", \"\\u043d\\u043e\\u0432\\u043e\\u0441\\u0442\\u044c\", \"\\u043d\\u043e\\u0432\\u043e\\u0441\\u0442\\u044c\", \"\\u043d\\u043e\\u0432\\u044b\\u0439\", \"\\u043d\\u043e\\u0432\\u044b\\u0439\", \"\\u043d\\u043e\\u0432\\u044b\\u0439\", \"\\u043d\\u043e\\u0432\\u044b\\u0439\", \"\\u043d\\u043e\\u043c\\u0438\\u043d\\u0430\\u043b\", \"\\u043d\\u043e\\u043c\\u0438\\u043d\\u0430\\u043b\", \"\\u043d\\u043e\\u043c\\u0438\\u043d\\u0430\\u043b\", \"\\u043e\\u0431\\u043b\\u0430\\u0441\\u0442\\u044c\", \"\\u043e\\u0431\\u043b\\u0430\\u0441\\u0442\\u044c\", \"\\u043e\\u0431\\u043b\\u0430\\u0441\\u0442\\u044c\", \"\\u043e\\u0431\\u043b\\u0430\\u0441\\u0442\\u044c\", \"\\u043e\\u0431\\u0449\\u0435\\u0441\\u0442\\u0432\\u0435\\u043d\\u043d\\u044b\\u0439\", \"\\u043e\\u0431\\u0449\\u0435\\u0441\\u0442\\u0432\\u0435\\u043d\\u043d\\u044b\\u0439\", \"\\u043e\\u0431\\u0449\\u0435\\u0441\\u0442\\u0432\\u0435\\u043d\\u043d\\u044b\\u0439\", \"\\u043e\\u0431\\u0449\\u0435\\u0441\\u0442\\u0432\\u0435\\u043d\\u043d\\u044b\\u0439\", \"\\u043e\\u0434\\u0435\\u0432\\u0430\\u0442\\u044c\", \"\\u043e\\u0434\\u0435\\u0432\\u0430\\u0442\\u044c\", \"\\u043e\\u0434\\u0435\\u0432\\u0430\\u0442\\u044c\", \"\\u043e\\u043c\\u0432\\u0434\", \"\\u043e\\u043c\\u0432\\u0434\", \"\\u043e\\u043c\\u0432\\u0434\", \"\\u043e\\u043c\\u0432\\u0434\", \"\\u043e\\u043f\\u0435\\u0440\\u0430\\u0442\\u0438\\u0432\\u043d\\u0438\\u043a\", \"\\u043e\\u0442\\u0434\\u0435\\u043b\", \"\\u043e\\u0442\\u0434\\u0435\\u043b\", \"\\u043e\\u0442\\u0434\\u0435\\u043b\", \"\\u043e\\u0442\\u0434\\u0435\\u043b\", \"\\u043e\\u0442\\u0434\\u0435\\u043b\\u0435\\u043d\\u0438\\u0435\", \"\\u043e\\u0442\\u0434\\u0435\\u043b\\u0435\\u043d\\u0438\\u0435\", \"\\u043e\\u0442\\u0434\\u0435\\u043b\\u0435\\u043d\\u0438\\u0435\", \"\\u043e\\u0442\\u0434\\u0435\\u043b\\u0435\\u043d\\u0438\\u0435\", \"\\u043e\\u0442\\u0435\\u0447\\u0435\\u0441\\u0442\\u0432\\u0435\\u043d\\u043d\\u044b\\u0439\", \"\\u043e\\u0442\\u0435\\u0447\\u0435\\u0441\\u0442\\u0432\\u0435\\u043d\\u043d\\u044b\\u0439\", \"\\u043e\\u0442\\u0435\\u0447\\u0435\\u0441\\u0442\\u0432\\u0435\\u043d\\u043d\\u044b\\u0439\", \"\\u043e\\u0442\\u0435\\u0447\\u0435\\u0441\\u0442\\u0432\\u0435\\u043d\\u043d\\u044b\\u0439\", \"\\u043e\\u0442\\u043a\\u0440\\u044b\\u0442\\u043a\\u0430\", \"\\u043e\\u0442\\u043a\\u0440\\u044b\\u0442\\u043a\\u0430\", \"\\u043e\\u0442\\u043a\\u0440\\u044b\\u0442\\u043a\\u0430\", \"\\u043e\\u0442\\u043a\\u0440\\u044b\\u0442\\u043a\\u0430\", \"\\u043e\\u0442\\u043c\\u0435\\u0447\\u0430\\u0442\\u044c\", \"\\u043e\\u0442\\u043c\\u0435\\u0447\\u0430\\u0442\\u044c\", \"\\u043e\\u0442\\u043c\\u0435\\u0447\\u0430\\u0442\\u044c\", \"\\u043e\\u0442\\u043c\\u0435\\u0447\\u0430\\u0442\\u044c\", \"\\u043e\\u0442\\u043f\\u0440\\u0430\\u0432\\u043b\\u0435\\u043d\\u0438\\u0435\", \"\\u043e\\u0442\\u043f\\u0440\\u0430\\u0432\\u043b\\u0435\\u043d\\u0438\\u0435\", \"\\u043e\\u0442\\u043f\\u0440\\u0430\\u0432\\u043b\\u0435\\u043d\\u0438\\u0435\", \"\\u043e\\u0442\\u043f\\u0440\\u0430\\u0432\\u043b\\u0435\\u043d\\u0438\\u0435\", \"\\u043e\\u0442\\u0440\\u0430\\u0431\\u0430\\u0442\\u044b\\u0432\\u0430\\u0442\\u044c\", \"\\u043e\\u0442\\u0440\\u0430\\u0431\\u0430\\u0442\\u044b\\u0432\\u0430\\u0442\\u044c\", \"\\u043e\\u0442\\u0440\\u0430\\u0431\\u0430\\u0442\\u044b\\u0432\\u0430\\u0442\\u044c\", \"\\u043e\\u0442\\u0440\\u0430\\u0431\\u0430\\u0442\\u044b\\u0432\\u0430\\u0442\\u044c\", \"\\u043e\\u0442\\u0442\\u0438\\u0441\\u043a\", \"\\u043e\\u0442\\u0442\\u0438\\u0441\\u043a\", \"\\u043e\\u0447\\u0435\\u043d\\u044c\", \"\\u043e\\u0447\\u0435\\u043d\\u044c\", \"\\u043e\\u0447\\u0435\\u043d\\u044c\", \"\\u043e\\u0447\\u0435\\u043d\\u044c\", \"\\u043f\\u0430\\u043c\\u044f\\u0442\\u043a\\u0430\\u043c\\u0447\\u0441\", \"\\u043f\\u0430\\u043f\\u0430\", \"\\u043f\\u0432\\u043e\", \"\\u043f\\u0432\\u043e\", \"\\u043f\\u0435\\u0440\\u0432\\u044b\\u0439\", \"\\u043f\\u0435\\u0440\\u0432\\u044b\\u0439\", \"\\u043f\\u0435\\u0440\\u0432\\u044b\\u0439\", \"\\u043f\\u0435\\u0440\\u0432\\u044b\\u0439\", \"\\u043f\\u0435\\u0440\\u0435\\u0440\\u044b\\u0432\", \"\\u043f\\u0435\\u0440\\u0435\\u0440\\u044b\\u0432\", \"\\u043f\\u0435\\u0440\\u0435\\u0440\\u044b\\u0432\", \"\\u043f\\u0435\\u0442\\u0440\\u043e\\u0432\\u043a\\u0430\", \"\\u043f\\u0435\\u0442\\u0440\\u043e\\u0432\\u043a\\u0430\", \"\\u043f\\u0435\\u0442\\u0440\\u043e\\u0432\\u043a\\u0430\", \"\\u043f\\u0435\\u0442\\u0440\\u043e\\u0432\\u043a\\u0430\", \"\\u043f\\u0435\\u0445\\u043e\\u0442\\u0430\", \"\\u043f\\u0438\\u0441\\u044c\\u043c\\u043e\", \"\\u043f\\u0438\\u0441\\u044c\\u043c\\u043e\", \"\\u043f\\u0438\\u0441\\u044c\\u043c\\u043e\", \"\\u043f\\u0438\\u0441\\u044c\\u043c\\u043e\", \"\\u043f\\u043c\\u044d\\u0444\", \"\\u043f\\u043e\\u0433\\u0430\\u0441\\u0438\\u0442\\u044c\", \"\\u043f\\u043e\\u0434\\u0432\\u043e\\u0434\\u043d\\u044b\\u0439\", \"\\u043f\\u043e\\u0434\\u0432\\u043e\\u0434\\u043d\\u044b\\u0439\", \"\\u043f\\u043e\\u0434\\u0432\\u043e\\u0434\\u043d\\u044b\\u0439\", \"\\u043f\\u043e\\u0434\\u0433\\u0443\\u0437\\u043e\\u0432\", \"\\u043f\\u043e\\u0434\\u043e\\u0437\\u0440\\u0435\\u0432\\u0430\\u0435\\u043c\\u044b\\u0439\", \"\\u043f\\u043e\\u0434\\u043e\\u0437\\u0440\\u0435\\u0432\\u0430\\u0435\\u043c\\u044b\\u0439\", \"\\u043f\\u043e\\u0434\\u043e\\u0437\\u0440\\u0435\\u043d\\u0438\\u0435\", \"\\u043f\\u043e\\u0434\\u043e\\u0437\\u0440\\u0435\\u043d\\u0438\\u0435\", \"\\u043f\\u043e\\u0434\\u043f\\u0438\\u0441\\u043d\\u043e\\u0439\", \"\\u043f\\u043e\\u0434\\u043f\\u0438\\u0441\\u043d\\u043e\\u0439\", \"\\u043f\\u043e\\u0434\\u0440\\u0430\\u0437\\u0434\\u0435\\u043b\\u0435\\u043d\\u0438\\u0435\", \"\\u043f\\u043e\\u0434\\u0440\\u0430\\u0437\\u0434\\u0435\\u043b\\u0435\\u043d\\u0438\\u0435\", \"\\u043f\\u043e\\u0434\\u0440\\u0430\\u0437\\u0434\\u0435\\u043b\\u0435\\u043d\\u0438\\u0435\", \"\\u043f\\u043e\\u0434\\u0440\\u0430\\u0437\\u0434\\u0435\\u043b\\u0435\\u043d\\u0438\\u0435\", \"\\u043f\\u043e\\u0436\\u0430\\u0440\", \"\\u043f\\u043e\\u0436\\u0430\\u0440\", \"\\u043f\\u043e\\u0436\\u0430\\u0440\", \"\\u043f\\u043e\\u0436\\u0430\\u0440\\u043d\\u044b\\u0439\", \"\\u043f\\u043e\\u0436\\u0430\\u0440\\u043d\\u044b\\u0439\", \"\\u043f\\u043e\\u0436\\u0430\\u0440\\u043d\\u044b\\u0439\", \"\\u043f\\u043e\\u0436\\u0430\\u0440\\u043d\\u044b\\u0439\", \"\\u043f\\u043e\\u043b\\u0435\\u0442\", \"\\u043f\\u043e\\u043b\\u0435\\u0442\", \"\\u043f\\u043e\\u043b\\u0435\\u0442\", \"\\u043f\\u043e\\u043b\\u0438\\u0433\\u043e\\u043d\", \"\\u043f\\u043e\\u043b\\u0438\\u0433\\u043e\\u043d\", \"\\u043f\\u043e\\u043b\\u0438\\u0446\\u0435\\u0439\\u0441\\u043a\\u0438\\u0439\", \"\\u043f\\u043e\\u043b\\u0438\\u0446\\u0435\\u0439\\u0441\\u043a\\u0438\\u0439\", \"\\u043f\\u043e\\u043b\\u0438\\u0446\\u0435\\u0439\\u0441\\u043a\\u0438\\u0439\", \"\\u043f\\u043e\\u043b\\u0438\\u0446\\u0435\\u0439\\u0441\\u043a\\u0438\\u0439\", \"\\u043f\\u043e\\u043b\\u0438\\u0446\\u0438\\u044f\", \"\\u043f\\u043e\\u043b\\u0438\\u0446\\u0438\\u044f\", \"\\u043f\\u043e\\u043b\\u0438\\u0446\\u0438\\u044f\", \"\\u043f\\u043e\\u043b\\u0438\\u0446\\u0438\\u044f\", \"\\u043f\\u043e\\u043b\\u0438\\u0446\\u0438\\u044f\\u0440\\u043e\\u0441\\u0441\\u0438\\u044f\", \"\\u043f\\u043e\\u043b\\u0438\\u0446\\u0438\\u044f\\u0440\\u043e\\u0441\\u0441\\u0438\\u044f\", \"\\u043f\\u043e\\u043b\\u0438\\u0446\\u0438\\u044f\\u0440\\u043e\\u0441\\u0441\\u0438\\u044f\", \"\\u043f\\u043e\\u043b\\u0438\\u0446\\u0438\\u044f\\u0440\\u043e\\u0441\\u0441\\u0438\\u044f\", \"\\u043f\\u043e\\u043b\\u0443\\u0447\\u0430\\u0442\\u044c\", \"\\u043f\\u043e\\u043b\\u0443\\u0447\\u0430\\u0442\\u044c\", \"\\u043f\\u043e\\u043b\\u0443\\u0447\\u0430\\u0442\\u044c\", \"\\u043f\\u043e\\u043b\\u0443\\u0447\\u0430\\u0442\\u044c\", \"\\u043f\\u043e\\u043c\\u043e\\u0433\\u0430\\u0442\\u044c\", \"\\u043f\\u043e\\u043c\\u043e\\u0433\\u0430\\u0442\\u044c\", \"\\u043f\\u043e\\u043c\\u043e\\u0433\\u0430\\u0442\\u044c\", \"\\u043f\\u043e\\u043c\\u043e\\u0433\\u0430\\u0442\\u044c\", \"\\u043f\\u043e\\u043c\\u043e\\u0449\\u044c\", \"\\u043f\\u043e\\u043c\\u043e\\u0449\\u044c\", \"\\u043f\\u043e\\u043c\\u043e\\u0449\\u044c\", \"\\u043f\\u043e\\u043c\\u043e\\u0449\\u044c\", \"\\u043f\\u043e\\u0441\\u0432\\u044f\\u0449\\u0430\\u0442\\u044c\", \"\\u043f\\u043e\\u0441\\u0432\\u044f\\u0449\\u0430\\u0442\\u044c\", \"\\u043f\\u043e\\u0441\\u0432\\u044f\\u0449\\u0430\\u0442\\u044c\", \"\\u043f\\u043e\\u0441\\u0432\\u044f\\u0449\\u0430\\u0442\\u044c\", \"\\u043f\\u043e\\u0441\\u044b\\u043b\\u043a\\u0430\", \"\\u043f\\u043e\\u0441\\u044b\\u043b\\u043a\\u0430\", \"\\u043f\\u043e\\u0441\\u044b\\u043b\\u043a\\u0430\", \"\\u043f\\u043e\\u0441\\u044b\\u043b\\u043a\\u0430\", \"\\u043f\\u043e\\u0445\\u0438\\u0449\\u0430\\u0442\\u044c\", \"\\u043f\\u043e\\u0447\\u0442\\u0430\", \"\\u043f\\u043e\\u0447\\u0442\\u0430\", \"\\u043f\\u043e\\u0447\\u0442\\u0430\", \"\\u043f\\u043e\\u0447\\u0442\\u0430\", \"\\u043f\\u043e\\u0447\\u0442\\u0430\\u043b\\u044c\\u043e\\u043d\", \"\\u043f\\u043e\\u0447\\u0442\\u0430\\u043b\\u044c\\u043e\\u043d\", \"\\u043f\\u043e\\u0447\\u0442\\u0430\\u043b\\u044c\\u043e\\u043d\", \"\\u043f\\u043e\\u0447\\u0442\\u0430\\u043b\\u044c\\u043e\\u043d\", \"\\u043f\\u043e\\u0447\\u0442\\u0430\\u0440\\u043e\\u0441\\u0441\\u0438\\u044f\", \"\\u043f\\u043e\\u0447\\u0442\\u0430\\u0440\\u043e\\u0441\\u0441\\u0438\\u044f\", \"\\u043f\\u043e\\u0447\\u0442\\u0430\\u0440\\u043e\\u0441\\u0441\\u0438\\u044f\", \"\\u043f\\u043e\\u0447\\u0442\\u0430\\u0440\\u043e\\u0441\\u0441\\u0438\\u044f\", \"\\u043f\\u043e\\u0447\\u0442\\u043e\\u0432\\u044b\\u0439\", \"\\u043f\\u043e\\u0447\\u0442\\u043e\\u0432\\u044b\\u0439\", \"\\u043f\\u043e\\u0447\\u0442\\u043e\\u0432\\u044b\\u0439\", \"\\u043f\\u043e\\u0447\\u0442\\u043e\\u0432\\u044b\\u0439\", \"\\u043f\\u0440\\u0430\\u0432\\u0438\\u043b\\u043e\", \"\\u043f\\u0440\\u0430\\u0432\\u0438\\u043b\\u043e\", \"\\u043f\\u0440\\u0430\\u0432\\u0438\\u043b\\u043e\", \"\\u043f\\u0440\\u0430\\u0432\\u0438\\u043b\\u043e\", \"\\u043f\\u0440\\u0435\\u0434\\u0443\\u0441\\u043c\\u043e\\u0442\\u0440\\u0435\\u043d\\u043d\\u044b\\u0439\", \"\\u043f\\u0440\\u0435\\u0434\\u0443\\u0441\\u043c\\u043e\\u0442\\u0440\\u0435\\u043d\\u043d\\u044b\\u0439\", \"\\u043f\\u0440\\u0435\\u0437\\u0438\\u0434\\u0435\\u043d\\u0442\", \"\\u043f\\u0440\\u0435\\u0437\\u0438\\u0434\\u0435\\u043d\\u0442\", \"\\u043f\\u0440\\u0435\\u0437\\u0438\\u0434\\u0435\\u043d\\u0442\", \"\\u043f\\u0440\\u0435\\u0437\\u0438\\u0434\\u0435\\u043d\\u0442\", \"\\u043f\\u0440\\u0435\\u0441\\u0435\\u0447\\u0435\\u043d\\u0438\\u0435\", \"\\u043f\\u0440\\u0435\\u0441\\u0435\\u0447\\u0435\\u043d\\u0438\\u0435\", \"\\u043f\\u0440\\u0435\\u0441\\u0442\\u0443\\u043f\\u043b\\u0435\\u043d\\u0438\\u0435\", \"\\u043f\\u0440\\u0435\\u0441\\u0442\\u0443\\u043f\\u043b\\u0435\\u043d\\u0438\\u0435\", \"\\u043f\\u0440\\u0435\\u0441\\u0442\\u0443\\u043f\\u043b\\u0435\\u043d\\u0438\\u0435\", \"\\u043f\\u0440\\u0435\\u0441\\u0442\\u0443\\u043f\\u043b\\u0435\\u043d\\u0438\\u0435\", \"\\u043f\\u0440\\u0438\\u0437\\u043d\\u0430\\u043a\", \"\\u043f\\u0440\\u0438\\u0437\\u043d\\u0430\\u043a\", \"\\u043f\\u0440\\u0438\\u0437\\u043d\\u0430\\u043a\", \"\\u043f\\u0440\\u0438\\u0437\\u043d\\u0430\\u043a\", \"\\u043f\\u0440\\u0438\\u043c\\u0435\\u0442\\u0430\", \"\\u043f\\u0440\\u0438\\u043d\\u0438\\u043c\\u0430\\u0442\\u044c\", \"\\u043f\\u0440\\u0438\\u043d\\u0438\\u043c\\u0430\\u0442\\u044c\", \"\\u043f\\u0440\\u0438\\u043d\\u0438\\u043c\\u0430\\u0442\\u044c\", \"\\u043f\\u0440\\u0438\\u043d\\u0438\\u043c\\u0430\\u0442\\u044c\", \"\\u043f\\u0440\\u0438\\u0445\\u043e\\u0434\\u0438\\u0442\\u044c\", \"\\u043f\\u0440\\u0438\\u0445\\u043e\\u0434\\u0438\\u0442\\u044c\", \"\\u043f\\u0440\\u0438\\u0445\\u043e\\u0434\\u0438\\u0442\\u044c\", \"\\u043f\\u0440\\u0438\\u0445\\u043e\\u0434\\u0438\\u0442\\u044c\", \"\\u043f\\u0440\\u043e\\u0432\\u043e\\u0434\\u0438\\u0442\\u044c\", \"\\u043f\\u0440\\u043e\\u0432\\u043e\\u0434\\u0438\\u0442\\u044c\", \"\\u043f\\u0440\\u043e\\u0432\\u043e\\u0434\\u0438\\u0442\\u044c\", \"\\u043f\\u0440\\u043e\\u0432\\u043e\\u0434\\u0438\\u0442\\u044c\", \"\\u043f\\u0440\\u043e\\u043f\\u0430\\u0434\\u0430\\u0442\\u044c\", \"\\u043f\\u0440\\u043e\\u043f\\u0430\\u0434\\u0430\\u0442\\u044c\", \"\\u043f\\u0440\\u043e\\u043f\\u0430\\u0434\\u0430\\u0442\\u044c\", \"\\u043f\\u0440\\u043e\\u043f\\u0430\\u0434\\u0430\\u0442\\u044c\", \"\\u043f\\u0440\\u043e\\u0442\\u0438\\u0432\\u043d\\u0438\\u043a\", \"\\u043f\\u0440\\u043e\\u0442\\u0438\\u0432\\u043e\\u043b\\u043e\\u0434\\u043e\\u0447\\u043d\\u044b\\u0439\", \"\\u043f\\u0440\\u043e\\u0442\\u0438\\u0432\\u043e\\u043f\\u0440\\u0430\\u0432\\u043d\\u044b\\u0439\", \"\\u043f\\u0440\\u043e\\u0442\\u0438\\u0432\\u043e\\u043f\\u0440\\u0430\\u0432\\u043d\\u044b\\u0439\", \"\\u043f\\u0440\\u043e\\u0445\\u043e\\u0434\\u0438\\u0442\\u044c\", \"\\u043f\\u0440\\u043e\\u0445\\u043e\\u0434\\u0438\\u0442\\u044c\", \"\\u043f\\u0440\\u043e\\u0445\\u043e\\u0434\\u0438\\u0442\\u044c\", \"\\u043f\\u0440\\u043e\\u0445\\u043e\\u0434\\u0438\\u0442\\u044c\", \"\\u043f\\u0441\\u0438\\u0445\\u043e\\u0442\\u0440\\u043e\\u043f\\u043d\\u044b\\u0439\", \"\\u043f\\u0443\\u043d\\u043a\\u0442\", \"\\u043f\\u0443\\u043d\\u043a\\u0442\", \"\\u043f\\u0443\\u043d\\u043a\\u0442\", \"\\u043f\\u0443\\u043d\\u043a\\u0442\", \"\\u043f\\u0443\\u0441\\u043a\", \"\\u043f\\u0443\\u0442\\u0438\\u043d\", \"\\u043f\\u044f\\u0442\\u0435\\u0440\\u043a\\u0430\", \"\\u0440\\u0430\\u0431\\u043e\\u0442\\u0430\", \"\\u0440\\u0430\\u0431\\u043e\\u0442\\u0430\", \"\\u0440\\u0430\\u0431\\u043e\\u0442\\u0430\", \"\\u0440\\u0430\\u0431\\u043e\\u0442\\u0430\", \"\\u0440\\u0430\\u0437\\u0431\\u043e\\u0439\\u043d\\u044b\\u0439\", \"\\u0440\\u0430\\u0437\\u0432\\u0435\\u0434\\u0447\\u0438\\u043a\", \"\\u0440\\u0430\\u0437\\u0432\\u0438\\u0442\\u0438\\u0435\", \"\\u0440\\u0430\\u0437\\u0432\\u0438\\u0442\\u0438\\u0435\", \"\\u0440\\u0430\\u0437\\u0432\\u0438\\u0442\\u0438\\u0435\", \"\\u0440\\u0430\\u0437\\u0432\\u0438\\u0442\\u0438\\u0435\", \"\\u0440\\u0430\\u0437\\u044b\\u0441\\u043a\\u0438\\u0432\\u0430\\u0442\\u044c\", \"\\u0440\\u0430\\u0437\\u044b\\u0441\\u043a\\u0438\\u0432\\u0430\\u0442\\u044c\", \"\\u0440\\u0430\\u0437\\u044b\\u0441\\u043a\\u0438\\u0432\\u0430\\u0442\\u044c\", \"\\u0440\\u0430\\u0437\\u044b\\u0441\\u043a\\u0438\\u0432\\u0430\\u0442\\u044c\", \"\\u0440\\u0430\\u0437\\u044b\\u0441\\u043a\\u043d\\u043e\\u0439\", \"\\u0440\\u0430\\u0439\\u043e\\u043d\", \"\\u0440\\u0430\\u0439\\u043e\\u043d\", \"\\u0440\\u0430\\u0439\\u043e\\u043d\", \"\\u0440\\u0430\\u0439\\u043e\\u043d\", \"\\u0440\\u0430\\u043a\\u0435\\u0442\\u0430\", \"\\u0440\\u0430\\u043a\\u0435\\u0442\\u043d\\u044b\\u0439\", \"\\u0440\\u0430\\u043a\\u0435\\u0442\\u043d\\u044b\\u0439\", \"\\u0440\\u0430\\u0441\\u0441\\u043a\\u0430\\u0437\\u044b\\u0432\\u0430\\u0442\\u044c\", \"\\u0440\\u0430\\u0441\\u0441\\u043a\\u0430\\u0437\\u044b\\u0432\\u0430\\u0442\\u044c\", \"\\u0440\\u0430\\u0441\\u0441\\u043a\\u0430\\u0437\\u044b\\u0432\\u0430\\u0442\\u044c\", \"\\u0440\\u0430\\u0441\\u0441\\u043a\\u0430\\u0437\\u044b\\u0432\\u0430\\u0442\\u044c\", \"\\u0440\\u0430\\u0441\\u0447\\u0435\\u0442\", \"\\u0440\\u0430\\u0441\\u0447\\u0435\\u0442\", \"\\u0440\\u0430\\u0441\\u0447\\u0435\\u0442\", \"\\u0440\\u0430\\u0441\\u0447\\u0435\\u0442\", \"\\u0440\\u0430\\u0441\\u0448\\u0438\\u0440\\u0435\\u043d\\u0438\\u0435\", \"\\u0440\\u0435\\u0431\\u0435\\u043d\\u043e\\u043a\", \"\\u0440\\u0435\\u0431\\u0435\\u043d\\u043e\\u043a\", \"\\u0440\\u0435\\u0431\\u0435\\u043d\\u043e\\u043a\", \"\\u0440\\u0435\\u0431\\u0435\\u043d\\u043e\\u043a\", \"\\u0440\\u0435\\u0431\\u044f\\u0442\\u0430\", \"\\u0440\\u0435\\u0431\\u044f\\u0442\\u0430\", \"\\u0440\\u0435\\u0431\\u044f\\u0442\\u0430\", \"\\u0440\\u0435\\u0431\\u044f\\u0442\\u0430\", \"\\u0440\\u0435\\u0433\\u0438\\u043e\\u043d\", \"\\u0440\\u0435\\u0433\\u0438\\u043e\\u043d\", \"\\u0440\\u0435\\u0433\\u0438\\u043e\\u043d\", \"\\u0440\\u0435\\u0433\\u0438\\u043e\\u043d\", \"\\u0440\\u043e\\u0437\\u044b\\u0441\\u043a\", \"\\u0440\\u043e\\u0437\\u044b\\u0441\\u043a\", \"\\u0440\\u043e\\u0437\\u044b\\u0441\\u043a\", \"\\u0440\\u043e\\u0437\\u044b\\u0441\\u043a\", \"\\u0440\\u043e\\u0441\\u0441\\u0438\\u0439\\u0441\\u043a\\u0438\\u0439\", \"\\u0440\\u043e\\u0441\\u0441\\u0438\\u0439\\u0441\\u043a\\u0438\\u0439\", \"\\u0440\\u043e\\u0441\\u0441\\u0438\\u0439\\u0441\\u043a\\u0438\\u0439\", \"\\u0440\\u043e\\u0441\\u0441\\u0438\\u0439\\u0441\\u043a\\u0438\\u0439\", \"\\u0440\\u043e\\u0441\\u0441\\u0438\\u044f\", \"\\u0440\\u043e\\u0441\\u0441\\u0438\\u044f\", \"\\u0440\\u043e\\u0441\\u0441\\u0438\\u044f\", \"\\u0440\\u043e\\u0441\\u0441\\u0438\\u044f\", \"\\u0440\\u0443\\u043a\\u0430\", \"\\u0440\\u0443\\u043a\\u0430\", \"\\u0440\\u0443\\u043a\\u0430\", \"\\u0440\\u0443\\u043a\\u0430\", \"\\u0440\\u0443\\u0447\\u043a\\u0430\", \"\\u0440\\u0444\", \"\\u0440\\u0444\", \"\\u0440\\u0444\", \"\\u0440\\u0444\", \"\\u0441\\u0430\\u0439\\u0442\", \"\\u0441\\u0430\\u0439\\u0442\", \"\\u0441\\u0430\\u0439\\u0442\", \"\\u0441\\u0430\\u0439\\u0442\", \"\\u0441\\u0430\\u043c\\u043e\\u043b\\u0435\\u0442\", \"\\u0441\\u0430\\u043c\\u043e\\u043b\\u0435\\u0442\", \"\\u0441\\u0430\\u043c\\u043e\\u043b\\u0435\\u0442\", \"\\u0441\\u0430\\u043c\\u043e\\u043b\\u0435\\u0442\", \"\\u0441\\u0430\\u043c\\u044b\\u0439\", \"\\u0441\\u0430\\u043c\\u044b\\u0439\", \"\\u0441\\u0430\\u043c\\u044b\\u0439\", \"\\u0441\\u0430\\u043c\\u044b\\u0439\", \"\\u0441\\u0431\\u044b\\u0442\", \"\\u0441\\u0432\\u044f\\u0437\\u044c\", \"\\u0441\\u0432\\u044f\\u0437\\u044c\", \"\\u0441\\u0432\\u044f\\u0437\\u044c\", \"\\u0441\\u0432\\u044f\\u0437\\u044c\", \"\\u0441\\u0435\\u0433\\u043e\\u0434\\u043d\\u044f\", \"\\u0441\\u0435\\u0433\\u043e\\u0434\\u043d\\u044f\", \"\\u0441\\u0435\\u0433\\u043e\\u0434\\u043d\\u044f\", \"\\u0441\\u0435\\u0433\\u043e\\u0434\\u043d\\u044f\", \"\\u0441\\u0435\\u043c\\u044c\\u044f\", \"\\u0441\\u0435\\u043c\\u044c\\u044f\", \"\\u0441\\u0435\\u043c\\u044c\\u044f\", \"\\u0441\\u0435\\u043c\\u044c\\u044f\", \"\\u0441\\u0435\\u0440\\u0432\\u0438\\u0441\", \"\\u0441\\u0435\\u0440\\u0432\\u0438\\u0441\", \"\\u0441\\u0435\\u0440\\u0432\\u0438\\u0441\", \"\\u0441\\u0435\\u0440\\u0432\\u0438\\u0441\", \"\\u0441\\u043b\\u0443\\u0436\\u0431\\u0430\", \"\\u0441\\u043b\\u0443\\u0436\\u0431\\u0430\", \"\\u0441\\u043b\\u0443\\u0436\\u0431\\u0430\", \"\\u0441\\u043b\\u0443\\u0436\\u0431\\u0430\", \"\\u0441\\u043b\\u0443\\u0447\\u0430\\u0442\\u044c\\u0441\\u044f\", \"\\u0441\\u043d\\u0435\\u0433\\u0443\\u0440\\u043e\\u0447\\u043a\\u0430\", \"\\u0441\\u043e\\u0433\\u043b\\u0430\\u0448\\u0435\\u043d\\u0438\\u0435\", \"\\u0441\\u043e\\u0435\\u0434\\u0438\\u043d\\u0435\\u043d\\u0438\\u0435\", \"\\u0441\\u043e\\u0435\\u0434\\u0438\\u043d\\u0435\\u043d\\u0438\\u0435\", \"\\u0441\\u043e\\u0442\\u0440\\u0443\\u0434\\u043d\\u0438\\u043a\", \"\\u0441\\u043e\\u0442\\u0440\\u0443\\u0434\\u043d\\u0438\\u043a\", \"\\u0441\\u043e\\u0442\\u0440\\u0443\\u0434\\u043d\\u0438\\u043a\", \"\\u0441\\u043e\\u0442\\u0440\\u0443\\u0434\\u043d\\u0438\\u043a\", \"\\u0441\\u043e\\u0442\\u0440\\u0443\\u0434\\u043d\\u0438\\u0447\\u0435\\u0441\\u0442\\u0432\\u043e\", \"\\u0441\\u043e\\u0442\\u0440\\u0443\\u0434\\u043d\\u0438\\u0447\\u0435\\u0441\\u0442\\u0432\\u043e\", \"\\u0441\\u043e\\u0442\\u0440\\u0443\\u0434\\u043d\\u0438\\u0447\\u0435\\u0441\\u0442\\u0432\\u043e\", \"\\u0441\\u043f\\u0430\\u0441\\u0430\\u0442\\u0435\\u043b\\u044c\", \"\\u0441\\u043f\\u0430\\u0441\\u0430\\u0442\\u0435\\u043b\\u044c\", \"\\u0441\\u043f\\u0430\\u0441\\u0430\\u0442\\u0435\\u043b\\u044c\", \"\\u0441\\u043f\\u0430\\u0441\\u0430\\u0442\\u0435\\u043b\\u044c\", \"\\u0441\\u043f\\u0430\\u0441\\u0430\\u0442\\u044c\", \"\\u0441\\u043f\\u0430\\u0441\\u0430\\u0442\\u044c\", \"\\u0441\\u043f\\u0430\\u0441\\u0430\\u0442\\u044c\", \"\\u0441\\u043f\\u0430\\u0441\\u0430\\u0442\\u044c\", \"\\u0441\\u043f\\u0435\\u0446\\u0438\\u0430\\u043b\\u044c\\u043d\\u044b\\u0439\", \"\\u0441\\u043f\\u0435\\u0446\\u0438\\u0430\\u043b\\u044c\\u043d\\u044b\\u0439\", \"\\u0441\\u043f\\u0435\\u0446\\u0438\\u0430\\u043b\\u044c\\u043d\\u044b\\u0439\", \"\\u0441\\u043f\\u0435\\u0446\\u0438\\u0430\\u043b\\u044c\\u043d\\u044b\\u0439\", \"\\u0441\\u0440\\u0435\\u0434\\u0441\\u0442\\u0432\\u043e\", \"\\u0441\\u0440\\u0435\\u0434\\u0441\\u0442\\u0432\\u043e\", \"\\u0441\\u0440\\u0435\\u0434\\u0441\\u0442\\u0432\\u043e\", \"\\u0441\\u0440\\u0435\\u0434\\u0441\\u0442\\u0432\\u043e\", \"\\u0441\\u0442\", \"\\u0441\\u0442\", \"\\u0441\\u0442\", \"\\u0441\\u0442\", \"\\u0441\\u0442\\u0430\\u043d\\u043e\\u0432\\u0438\\u0442\\u044c\\u0441\\u044f\", \"\\u0441\\u0442\\u0430\\u043d\\u043e\\u0432\\u0438\\u0442\\u044c\\u0441\\u044f\", \"\\u0441\\u0442\\u0430\\u043d\\u043e\\u0432\\u0438\\u0442\\u044c\\u0441\\u044f\", \"\\u0441\\u0442\\u0430\\u043d\\u043e\\u0432\\u0438\\u0442\\u044c\\u0441\\u044f\", \"\\u0441\\u0442\\u043e\\u043b\\u0438\\u0447\\u043d\\u044b\\u0439\", \"\\u0441\\u0442\\u043e\\u043b\\u0438\\u0447\\u043d\\u044b\\u0439\", \"\\u0441\\u0442\\u043e\\u043b\\u0438\\u0447\\u043d\\u044b\\u0439\", \"\\u0441\\u0442\\u043e\\u043b\\u0438\\u0447\\u043d\\u044b\\u0439\", \"\\u0441\\u0442\\u0440\\u0430\\u043d\\u0430\", \"\\u0441\\u0442\\u0440\\u0430\\u043d\\u0430\", \"\\u0441\\u0442\\u0440\\u0430\\u043d\\u0430\", \"\\u0441\\u0442\\u0440\\u0430\\u043d\\u0430\", \"\\u0441\\u0442\\u0440\\u0430\\u0448\\u043d\\u043e\\u0432\", \"\\u0441\\u0442\\u0440\\u0435\\u043b\\u044c\\u0431\\u0430\", \"\\u0441\\u0442\\u0440\\u0435\\u043b\\u044c\\u0431\\u0430\", \"\\u0441\\u0442\\u0440\\u0435\\u043b\\u044c\\u0431\\u0430\", \"\\u0441\\u0442\\u0440\\u0435\\u043b\\u044c\\u0431\\u0430\", \"\\u0441\\u0443\", \"\\u0441\\u0443\", \"\\u0441\\u0443\", \"\\u0441\\u0443\", \"\\u0441\\u0444\", \"\\u0442\\u0430\\u043a\\u0442\\u0438\\u0447\\u0435\\u0441\\u043a\\u0438\\u0439\", \"\\u0442\\u0430\\u043d\\u043a\", \"\\u0442\\u0430\\u043d\\u043a\", \"\\u0442\\u0430\\u043d\\u043a\\u043e\\u0432\\u044b\\u0439\", \"\\u0442\\u0432\\u043e\\u0439\", \"\\u0442\\u0432\\u043e\\u0439\", \"\\u0442\\u0435\\u043b\\u043e\\u0441\\u043b\\u043e\\u0436\\u0435\\u043d\\u0438\\u0435\", \"\\u0442\\u0435\\u043c\\u043d\\u043e\", \"\\u0442\\u0435\\u043c\\u043d\\u043e\", \"\\u0442\\u0435\\u0445\\u043d\\u0438\\u043a\\u0430\", \"\\u0442\\u0435\\u0445\\u043d\\u0438\\u043a\\u0430\", \"\\u0442\\u0435\\u0445\\u043d\\u0438\\u043a\\u0430\", \"\\u0442\\u0435\\u0445\\u043d\\u0438\\u043a\\u0430\", \"\\u0442\\u0438\\u0440\\u0430\\u0436\", \"\\u0442\\u0438\\u0440\\u0430\\u0436\", \"\\u0442\\u0438\\u0440\\u0430\\u0436\", \"\\u0442\\u043e\\u043d\\u0443\\u0442\\u044c\", \"\\u0442\\u043e\\u0444\", \"\\u0442\\u0440\\u0435\\u043d\\u0438\\u0440\\u043e\\u0432\\u043a\\u0430\", \"\\u0442\\u0440\\u0435\\u043d\\u0438\\u0440\\u043e\\u0432\\u043a\\u0430\", \"\\u0442\\u0440\\u0435\\u043d\\u0438\\u0440\\u043e\\u0432\\u043a\\u0430\", \"\\u0442\\u0440\\u0435\\u043d\\u0438\\u0440\\u043e\\u0432\\u043a\\u0430\", \"\\u0442\\u0440\\u043e\\u0433\\u0430\\u0442\\u044c\", \"\\u0442\\u0440\\u0443\\u0436\\u0435\\u043d\\u0438\\u043a\", \"\\u0442\\u044b\\u0441\\u044f\\u0447\\u0430\", \"\\u0442\\u044b\\u0441\\u044f\\u0447\\u0430\", \"\\u0442\\u044b\\u0441\\u044f\\u0447\\u0430\", \"\\u0442\\u044b\\u0441\\u044f\\u0447\\u0430\", \"\\u0443\\u0432\\u0434\", \"\\u0443\\u0432\\u0434\", \"\\u0443\\u0432\\u0434\", \"\\u0443\\u0432\\u0434\", \"\\u0443\\u0433\\u043e\\u043b\\u043e\\u0432\\u043d\\u044b\\u0439\", \"\\u0443\\u0433\\u043e\\u043b\\u043e\\u0432\\u043d\\u044b\\u0439\", \"\\u0443\\u0433\\u043e\\u043b\\u043e\\u0432\\u043d\\u044b\\u0439\", \"\\u0443\\u0433\\u043e\\u043b\\u043e\\u0432\\u043d\\u044b\\u0439\", \"\\u0443\\u0437\\u0431\\u0435\\u043a\\u0438\\u0441\\u0442\\u0430\\u043d\", \"\\u0443\\u043a\", \"\\u0443\\u043a\", \"\\u0443\\u043a\", \"\\u0443\\u043f\\u0430\\u0441\\u0442\\u044c\", \"\\u0443\\u043f\\u0440\\u0430\\u0432\\u043b\\u0435\\u043d\\u0438\\u0435\", \"\\u0443\\u043f\\u0440\\u0430\\u0432\\u043b\\u0435\\u043d\\u0438\\u0435\", \"\\u0443\\u043f\\u0440\\u0430\\u0432\\u043b\\u0435\\u043d\\u0438\\u0435\", \"\\u0443\\u043f\\u0440\\u0430\\u0432\\u043b\\u0435\\u043d\\u0438\\u0435\", \"\\u0443\\u0441\\u043b\\u043e\\u0432\\u043d\\u044b\\u0439\", \"\\u0443\\u0441\\u043b\\u043e\\u0432\\u043d\\u044b\\u0439\", \"\\u0443\\u0441\\u043b\\u043e\\u0432\\u043d\\u044b\\u0439\", \"\\u0443\\u0441\\u043b\\u0443\\u0433\\u0430\", \"\\u0443\\u0441\\u043b\\u0443\\u0433\\u0430\", \"\\u0443\\u0441\\u043b\\u0443\\u0433\\u0430\", \"\\u0443\\u0441\\u043b\\u0443\\u0433\\u0430\", \"\\u0443\\u0441\\u043b\\u044b\\u0448\\u0430\\u0442\\u044c\", \"\\u0443\\u0447\\u0430\\u0441\\u0442\\u0438\\u0435\", \"\\u0443\\u0447\\u0430\\u0441\\u0442\\u0438\\u0435\", \"\\u0443\\u0447\\u0430\\u0441\\u0442\\u0438\\u0435\", \"\\u0443\\u0447\\u0430\\u0441\\u0442\\u0438\\u0435\", \"\\u0443\\u0447\\u0435\\u043d\\u0438\\u0435\", \"\\u0443\\u0447\\u0435\\u043d\\u0438\\u0435\", \"\\u0443\\u0447\\u0435\\u043d\\u0438\\u0435\", \"\\u0443\\u0447\\u0435\\u043d\\u0438\\u0435\", \"\\u0444\\u0433\\u0443\\u043f\", \"\\u0444\\u0435\\u0434\\u0435\\u0440\\u0430\\u0446\\u0438\\u044f\", \"\\u0444\\u0435\\u0434\\u0435\\u0440\\u0430\\u0446\\u0438\\u044f\", \"\\u0444\\u0435\\u0434\\u0435\\u0440\\u0430\\u0446\\u0438\\u044f\", \"\\u0444\\u0435\\u0434\\u0435\\u0440\\u0430\\u0446\\u0438\\u044f\", \"\\u0444\\u0438\\u043b\\u0430\\u0442\\u0435\\u043b\\u0438\\u044f\", \"\\u0444\\u0438\\u043b\\u0430\\u0442\\u0435\\u043b\\u0438\\u044f\", \"\\u0444\\u0438\\u043b\\u0430\\u0442\\u0435\\u043b\\u0438\\u044f\", \"\\u0444\\u043b\\u043e\\u0442\", \"\\u0444\\u043b\\u043e\\u0442\", \"\\u0444\\u043b\\u043e\\u0442\", \"\\u0444\\u043b\\u043e\\u0442\", \"\\u0444\\u043e\\u0442\\u043e\", \"\\u0444\\u043e\\u0442\\u043e\", \"\\u0444\\u043e\\u0442\\u043e\", \"\\u0444\\u043e\\u0442\\u043e\", \"\\u0445\\u0438\\u0449\\u0435\\u043d\\u0438\\u0435\", \"\\u0445\\u043e\\u0434\", \"\\u0445\\u043e\\u0434\", \"\\u0445\\u043e\\u0434\", \"\\u0445\\u043e\\u0434\", \"\\u0446\\u0432\\u0435\\u0442\", \"\\u0446\\u0432\\u0435\\u0442\", \"\\u0446\\u0432\\u0435\\u0442\", \"\\u0446\\u0432\\u0435\\u0442\", \"\\u0446\\u0435\\u043b\\u044c\", \"\\u0446\\u0435\\u043b\\u044c\", \"\\u0446\\u0435\\u043b\\u044c\", \"\\u0446\\u0435\\u043b\\u044c\", \"\\u0446\\u0435\\u043d\\u0442\\u0440\", \"\\u0446\\u0435\\u043d\\u0442\\u0440\", \"\\u0446\\u0435\\u043d\\u0442\\u0440\", \"\\u0446\\u0435\\u043d\\u0442\\u0440\", \"\\u0446\\u0438\\u0444\\u0440\\u0430\\u0434\\u0435\\u043d\\u044c\", \"\\u0447\\u0435\\u043b\\u043e\\u0432\\u0435\\u043a\", \"\\u0447\\u0435\\u043b\\u043e\\u0432\\u0435\\u043a\", \"\\u0447\\u0435\\u043b\\u043e\\u0432\\u0435\\u043a\", \"\\u0447\\u0435\\u043b\\u043e\\u0432\\u0435\\u043a\", \"\\u0447\\u0435\\u0440\\u043d\\u044b\\u0439\", \"\\u0447\\u0435\\u0440\\u043d\\u044b\\u0439\", \"\\u0447\\u0435\\u0440\\u043d\\u044b\\u0439\", \"\\u0447\\u0435\\u0440\\u043d\\u044b\\u0439\", \"\\u0448\\u043e\\u0439\\u0433\\u0443\", \"\\u0448\\u043e\\u0439\\u0433\\u0443\", \"\\u0448\\u0442\\u0435\\u043c\\u043f\\u0435\\u043b\\u044c\", \"\\u0448\\u0442\\u0435\\u043c\\u043f\\u0435\\u043b\\u044c\", \"\\u0448\\u0442\\u0435\\u043c\\u043f\\u0435\\u043b\\u044c\", \"\\u044d\\u043a\\u0438\\u043f\\u0430\\u0436\", \"\\u044d\\u043a\\u0438\\u043f\\u0430\\u0436\", \"\\u044d\\u043a\\u0438\\u043f\\u0430\\u0436\", \"\\u044d\\u043a\\u0438\\u043f\\u0430\\u0436\", \"\\u044d\\u043a\\u0441\\u043f\\u0440\\u0435\\u0441\\u0441\", \"\\u044d\\u043a\\u0441\\u043f\\u0440\\u0435\\u0441\\u0441\", \"\\u044e\\u0432\\u0430\\u043e\", \"\\u044e\\u0432\\u043e\", \"\\u044e\\u0437\\u0430\\u043e\"]}, \"R\": 30, \"lambda.step\": 0.01, \"plot.opts\": {\"xlab\": \"PC1\", \"ylab\": \"PC2\"}, \"topic.order\": [1, 2, 3, 4]};\n",
       "\n",
       "function LDAvis_load_lib(url, callback){\n",
       "  var s = document.createElement('script');\n",
       "  s.src = url;\n",
       "  s.async = true;\n",
       "  s.onreadystatechange = s.onload = callback;\n",
       "  s.onerror = function(){console.warn(\"failed to load library \" + url);};\n",
       "  document.getElementsByTagName(\"head\")[0].appendChild(s);\n",
       "}\n",
       "\n",
       "if(typeof(LDAvis) !== \"undefined\"){\n",
       "   // already loaded: just create the visualization\n",
       "   !function(LDAvis){\n",
       "       new LDAvis(\"#\" + \"ldavis_el3280045008624404291654811\", ldavis_el3280045008624404291654811_data);\n",
       "   }(LDAvis);\n",
       "}else if(typeof define === \"function\" && define.amd){\n",
       "   // require.js is available: use it to load d3/LDAvis\n",
       "   require.config({paths: {d3: \"https://cdnjs.cloudflare.com/ajax/libs/d3/3.5.5/d3.min\"}});\n",
       "   require([\"d3\"], function(d3){\n",
       "      window.d3 = d3;\n",
       "      LDAvis_load_lib(\"https://cdn.rawgit.com/bmabey/pyLDAvis/files/ldavis.v1.0.0.js\", function(){\n",
       "        new LDAvis(\"#\" + \"ldavis_el3280045008624404291654811\", ldavis_el3280045008624404291654811_data);\n",
       "      });\n",
       "    });\n",
       "}else{\n",
       "    // require.js not available: dynamically load d3 & LDAvis\n",
       "    LDAvis_load_lib(\"https://cdnjs.cloudflare.com/ajax/libs/d3/3.5.5/d3.min.js\", function(){\n",
       "         LDAvis_load_lib(\"https://cdn.rawgit.com/bmabey/pyLDAvis/files/ldavis.v1.0.0.js\", function(){\n",
       "                 new LDAvis(\"#\" + \"ldavis_el3280045008624404291654811\", ldavis_el3280045008624404291654811_data);\n",
       "            })\n",
       "         });\n",
       "}\n",
       "</script>"
      ],
      "text/plain": [
       "<IPython.core.display.HTML object>"
      ]
     },
     "execution_count": 99,
     "metadata": {},
     "output_type": "execute_result"
    }
   ],
   "source": [
    "import pyLDAvis.gensim as gensimvis\n",
    "import pyLDAvis\n",
    "vis_data = gensimvis.prepare(lda, corpus, dictionary)\n",
    "pyLDAvis.display(vis_data)"
   ]
  },
  {
   "cell_type": "markdown",
   "metadata": {},
   "source": [
    "## Задание 7. Continious bag of words\n",
    "\n",
    "Представим тексты в виде усреднённых векторов слов, классифицируем тексты при помощи логистической регрессии и проанализируем результаты.\n",
    "\n",
    "Для получения векторов загрузим векторную модель, без тэгов."
   ]
  },
  {
   "cell_type": "code",
   "execution_count": 9,
   "metadata": {},
   "outputs": [],
   "source": [
    "import gensim\n",
    "from gensim.models import KeyedVectors\n",
    "import os.path\n",
    "\n",
    "model = gensim.models.KeyedVectors.load(os.path.join('181', 'model.model'))"
   ]
  },
  {
   "cell_type": "markdown",
   "metadata": {},
   "source": [
    "Усредним векторы слов, входящих в текст, при помощи функции, и получим в качестве текстов матрицы из усреднённых векторов."
   ]
  },
  {
   "cell_type": "code",
   "execution_count": 12,
   "metadata": {},
   "outputs": [],
   "source": [
    "def get_matrix(text, model):\n",
    "    vector = np.zeros(shape=model.vector_size)\n",
    "    counter = 0\n",
    "    for word in text:\n",
    "        if word in model.vocab: \n",
    "            try:\n",
    "                vector = np.add(vector, model[word])\n",
    "                counter += 1\n",
    "            except KeyError:\n",
    "                pass\n",
    "    if counter == 0:\n",
    "        return vector.squeeze()\n",
    "    return (vector / counter).squeeze() # убираем одномерные векторы при помощи функции .squeeze()"
   ]
  },
  {
   "cell_type": "code",
   "execution_count": 17,
   "metadata": {},
   "outputs": [],
   "source": [
    "# получить матрицы текстов:\n",
    "\n",
    "train_vectors = [get_matrix(text, model) for text in train.lemmas]\n",
    "test_vectors = [get_matrix(text, model) for text in test.lemmas]"
   ]
  },
  {
   "cell_type": "code",
   "execution_count": 24,
   "metadata": {},
   "outputs": [
    {
     "name": "stderr",
     "output_type": "stream",
     "text": [
      "/Library/Frameworks/Python.framework/Versions/3.6/lib/python3.6/site-packages/sklearn/linear_model/logistic.py:433: FutureWarning: Default solver will be changed to 'lbfgs' in 0.22. Specify a solver to silence this warning.\n",
      "  FutureWarning)\n",
      "/Library/Frameworks/Python.framework/Versions/3.6/lib/python3.6/site-packages/sklearn/linear_model/logistic.py:460: FutureWarning: Default multi_class will be changed to 'auto' in 0.22. Specify the multi_class option to silence this warning.\n",
      "  \"this warning.\", FutureWarning)\n"
     ]
    },
    {
     "name": "stdout",
     "output_type": "stream",
     "text": [
      "Precision:   0.92\n",
      "Recall:   0.92\n",
      "F1-measure:   0.92\n",
      "...\n",
      "Precision:   0.92\n",
      "Recall:   0.92\n",
      "F1-measure:   0.92\n",
      "...\n",
      "Accuracy:   0.92\n"
     ]
    }
   ],
   "source": [
    "# используем логистическую регрессию для проверки метода\n",
    "\n",
    "clf = LogisticRegression(C=1)\n",
    "clf.fit(train_vectors, train.source)\n",
    "preds = clf.predict(test_vectors)\n",
    "evaluate(test.source, preds)"
   ]
  },
  {
   "cell_type": "code",
   "execution_count": 27,
   "metadata": {},
   "outputs": [
    {
     "data": {
      "image/png": "[encoded data removed]",
      "text/plain": [
       "<Figure size 360x360 with 1 Axes>"
      ]
     },
     "metadata": {
      "needs_background": "light"
     },
     "output_type": "display_data"
    }
   ],
   "source": [
    "m = confusion_matrix(test.source, preds)\n",
    "\n",
    "labels = clf.classes_\n",
    "plt.figure(figsize = (5,5))\n",
    "sns.heatmap(data=m, annot=True, fmt=\"d\", cbar=False, xticklabels=labels, yticklabels=labels, cmap=\"PuBu\")\n",
    "plt.title(\"Confusion matrix\")\n",
    "plt.show()"
   ]
  },
  {
   "cell_type": "markdown",
   "metadata": {},
   "source": [
    "Хуже бейзлайна, но всё равно довольно хорошо. Сильнее всего утаются классы про мчс, они немножко похожи на все остальные классы."
   ]
  },
  {
   "cell_type": "markdown",
   "metadata": {},
   "source": [
    "### Усреднение с tf-idf.\n",
    "Сначала получим векторы слов."
   ]
  },
  {
   "cell_type": "code",
   "execution_count": 80,
   "metadata": {},
   "outputs": [],
   "source": [
    "# представим слова в виде векторов\n",
    "\n",
    "def get_vector(text, model):\n",
    "    vector = np.zeros(shape=model.vector_size)\n",
    "    counter = 0\n",
    "    for word in text:\n",
    "        if word in model.vocab: \n",
    "            try:\n",
    "                vector = np.add(vector, model[word])\n",
    "                counter += 1\n",
    "            except KeyError:\n",
    "                pass\n",
    "    if counter == 0:\n",
    "        return vector\n",
    "    return vector / counter"
   ]
  },
  {
   "cell_type": "code",
   "execution_count": 81,
   "metadata": {},
   "outputs": [],
   "source": [
    "# получим векторы слов в текстах:\n",
    "\n",
    "train_vectors = [get_vector(text, model) for text in train.lemmas]\n",
    "test_vectors = [get_vector(text, model) for text in test.lemmas]"
   ]
  },
  {
   "cell_type": "markdown",
   "metadata": {},
   "source": [
    "Проверим, как классифицируются полученные векторы."
   ]
  },
  {
   "cell_type": "code",
   "execution_count": 82,
   "metadata": {},
   "outputs": [
    {
     "name": "stderr",
     "output_type": "stream",
     "text": [
      "/Library/Frameworks/Python.framework/Versions/3.6/lib/python3.6/site-packages/sklearn/linear_model/logistic.py:433: FutureWarning: Default solver will be changed to 'lbfgs' in 0.22. Specify a solver to silence this warning.\n",
      "  FutureWarning)\n",
      "/Library/Frameworks/Python.framework/Versions/3.6/lib/python3.6/site-packages/sklearn/linear_model/logistic.py:460: FutureWarning: Default multi_class will be changed to 'auto' in 0.22. Specify the multi_class option to silence this warning.\n",
      "  \"this warning.\", FutureWarning)\n"
     ]
    },
    {
     "name": "stdout",
     "output_type": "stream",
     "text": [
      "Precision:   0.92\n",
      "Recall:   0.92\n",
      "F1-measure:   0.92\n",
      "...\n",
      "Precision:   0.92\n",
      "Recall:   0.92\n",
      "F1-measure:   0.92\n",
      "...\n",
      "Accuracy:   0.92\n"
     ]
    }
   ],
   "source": [
    "clf = LogisticRegression(C=1)\n",
    "clf.fit(train_vectors, train.source)\n",
    "preds = clf.predict(test_vectors)\n",
    "evaluate(test.source, preds)"
   ]
  },
  {
   "cell_type": "code",
   "execution_count": 83,
   "metadata": {},
   "outputs": [
    {
     "data": {
      "image/png": "[encoded data removed]",
      "text/plain": [
       "<Figure size 360x360 with 1 Axes>"
      ]
     },
     "metadata": {
      "needs_background": "light"
     },
     "output_type": "display_data"
    }
   ],
   "source": [
    "m = confusion_matrix(test.source, preds)\n",
    "\n",
    "labels = clf.classes_\n",
    "plt.figure(figsize = (5,5))\n",
    "sns.heatmap(data=m, annot=True, fmt=\"d\", cbar=False, xticklabels=labels, yticklabels=labels, cmap=\"PuBu\")\n",
    "plt.title(\"Confusion matrix\")\n",
    "plt.show()"
   ]
  },
  {
   "cell_type": "markdown",
   "metadata": {},
   "source": [
    "Тексты классифицируются, и довольно хорошо: алгоритм достаточно уверенно присвоил текстам классы."
   ]
  },
  {
   "cell_type": "markdown",
   "metadata": {},
   "source": [
    "Применим к векторам tf-idf взвешивание, сделаем усредниение и посмотрим на результаты."
   ]
  },
  {
   "cell_type": "code",
   "execution_count": 148,
   "metadata": {},
   "outputs": [],
   "source": [
    "tfidf = TfidfTransformer(use_idf=True, norm='l2', smooth_idf=True)\n",
    "\n",
    "train_tfidf = tfidf.fit_transform(train_vectors)\n",
    "test_tfidf = tfidf.fit_transform(test_vectors)"
   ]
  },
  {
   "cell_type": "markdown",
   "metadata": {},
   "source": [
    "fit_transform даёт на выходе scr-matrix, нам нужен формат np.array, чтобы скормить его анализатору - получим его."
   ]
  },
  {
   "cell_type": "code",
   "execution_count": 149,
   "metadata": {},
   "outputs": [],
   "source": [
    "train_tfidf_array = train_tfidf.toarray()\n",
    "test_tfidf_array = test_tfidf.toarray()"
   ]
  },
  {
   "cell_type": "markdown",
   "metadata": {},
   "source": [
    "## tf-idf bug\n",
    "После применения tf-idf исчезает один из классов -- russianpost. Посмотрим на это и добавим, что если поставить нормалихацию 'l1' вместо 'l2', то исчезнут сразу два класса (покажутся неинформативными)."
   ]
  },
  {
   "cell_type": "markdown",
   "metadata": {},
   "source": [
    "Теперь получим усреднённые векторы слов с tf-idf-весами для всех текстов. "
   ]
  },
  {
   "cell_type": "code",
   "execution_count": 150,
   "metadata": {},
   "outputs": [],
   "source": [
    "def get_mean_matrix(text):\n",
    "    vector = np.zeros(shape=300)\n",
    "    counter = 0\n",
    "    for word in text:\n",
    "        try:\n",
    "            vector = np.add(vector, word)\n",
    "            counter += 1\n",
    "        except KeyError:\n",
    "            pass\n",
    "    if counter == 0:\n",
    "        return vector.squeeze()\n",
    "    return (vector / counter).squeeze()"
   ]
  },
  {
   "cell_type": "code",
   "execution_count": 151,
   "metadata": {},
   "outputs": [],
   "source": [
    "mean_train_vectors = [get_mean_matrix(text) for text in train_tfidf_array]\n",
    "mean_test_vectors = [get_mean_matrix(text) for text in test_tfidf_array]"
   ]
  },
  {
   "cell_type": "code",
   "execution_count": 152,
   "metadata": {},
   "outputs": [
    {
     "name": "stderr",
     "output_type": "stream",
     "text": [
      "/Library/Frameworks/Python.framework/Versions/3.6/lib/python3.6/site-packages/sklearn/linear_model/logistic.py:433: FutureWarning: Default solver will be changed to 'lbfgs' in 0.22. Specify a solver to silence this warning.\n",
      "  FutureWarning)\n",
      "/Library/Frameworks/Python.framework/Versions/3.6/lib/python3.6/site-packages/sklearn/linear_model/logistic.py:460: FutureWarning: Default multi_class will be changed to 'auto' in 0.22. Specify the multi_class option to silence this warning.\n",
      "  \"this warning.\", FutureWarning)\n"
     ]
    },
    {
     "name": "stdout",
     "output_type": "stream",
     "text": [
      "Precision:   0.22\n",
      "Recall:   0.33\n",
      "F1-measure:   0.25\n",
      "...\n",
      "Precision:   0.33\n",
      "Recall:   0.33\n",
      "F1-measure:   0.33\n",
      "...\n",
      "Accuracy:   0.33\n"
     ]
    },
    {
     "name": "stderr",
     "output_type": "stream",
     "text": [
      "/Library/Frameworks/Python.framework/Versions/3.6/lib/python3.6/site-packages/sklearn/metrics/classification.py:1143: UndefinedMetricWarning: Precision is ill-defined and being set to 0.0 in labels with no predicted samples.\n",
      "  'precision', 'predicted', average, warn_for)\n",
      "/Library/Frameworks/Python.framework/Versions/3.6/lib/python3.6/site-packages/sklearn/metrics/classification.py:1143: UndefinedMetricWarning: F-score is ill-defined and being set to 0.0 in labels with no predicted samples.\n",
      "  'precision', 'predicted', average, warn_for)\n"
     ]
    }
   ],
   "source": [
    "clf = LogisticRegression(C=1)\n",
    "clf.fit(mean_train_vectors, train.source)\n",
    "preds = clf.predict(mean_test_vectors)\n",
    "evaluate(test.source, preds)"
   ]
  },
  {
   "cell_type": "code",
   "execution_count": 153,
   "metadata": {},
   "outputs": [
    {
     "data": {
      "image/png": "[encoded data removed]",
      "text/plain": [
       "<Figure size 360x360 with 1 Axes>"
      ]
     },
     "metadata": {
      "needs_background": "light"
     },
     "output_type": "display_data"
    }
   ],
   "source": [
    "m = confusion_matrix(test.source, preds)\n",
    "\n",
    "labels = clf.classes_\n",
    "plt.figure(figsize = (5,5))\n",
    "sns.heatmap(data=m, annot=True, fmt=\"d\", cbar=False, xticklabels=labels, yticklabels=labels, cmap=\"PuBu\")\n",
    "plt.title(\"Confusion matrix\")\n",
    "plt.show()"
   ]
  },
  {
   "cell_type": "markdown",
   "metadata": {},
   "source": [
    "Как видно, один из классов исчез или занулился после применения tf-idf. \n",
    "К сожалению, наши попытки обойти этот баг не завершились успехом, и лучше ли работают усреднённые с tf-idf-весами вектора, неясно."
   ]
  },
  {
   "cell_type": "markdown",
   "metadata": {
    "collapsed": true
   },
   "source": [
    "## Задание 8\n",
    "Используем ```fastText``` в режиме классификации. Возьмем обычный нелемматизированный текст. "
   ]
  },
  {
   "cell_type": "code",
   "execution_count": 145,
   "metadata": {},
   "outputs": [],
   "source": [
    "import fasttext"
   ]
  },
  {
   "cell_type": "code",
   "execution_count": 174,
   "metadata": {},
   "outputs": [],
   "source": [
    "with open('data_for_fasttext.txt', 'w', encoding = 'UTF-8') as f:\n",
    "    for i in train.index:\n",
    "        text = str(train.text[i])\n",
    "        label = str(train.source[i])\n",
    "        f.write(text + ' ' + '__label__' + label + '\\n')"
   ]
  },
  {
   "cell_type": "code",
   "execution_count": 175,
   "metadata": {
    "collapsed": true
   },
   "outputs": [],
   "source": [
    "classifier = fasttext.supervised('data_for_fasttext.txt', 'model', label_prefix='__label__')\n",
    "result = classifier.predict([text for text in test.text])"
   ]
  },
  {
   "cell_type": "code",
   "execution_count": 114,
   "metadata": {},
   "outputs": [
    {
     "name": "stdout",
     "output_type": "stream",
     "text": [
      "Precision:   0.96\n",
      "Recall:   0.96\n",
      "F1-measure:   0.96\n",
      "...\n",
      "Precision:   0.96\n",
      "Recall:   0.96\n",
      "F1-measure:   0.96\n",
      "...\n",
      "Accuracy:   0.96\n"
     ]
    }
   ],
   "source": [
    "evaluate(result, test.source)"
   ]
  },
  {
   "cell_type": "code",
   "execution_count": 117,
   "metadata": {},
   "outputs": [
    {
     "data": {
      "image/png": "[encoded data removed]",
      "text/plain": [
       "<Figure size 360x360 with 1 Axes>"
      ]
     },
     "metadata": {},
     "output_type": "display_data"
    }
   ],
   "source": [
    "m = confusion_matrix(test.source, result)\n",
    "\n",
    "labels = ['mchsgov', 'russianpost', 'mil', 'mospolice']\n",
    "plt.figure(figsize = (5,5))\n",
    "sns.heatmap(data=m, annot=True, fmt=\"d\", cbar=False, xticklabels=labels, yticklabels=labels, cmap=\"PuBu\")\n",
    "plt.title(\"Confusion matrix\")\n",
    "plt.show()"
   ]
  },
  {
   "cell_type": "markdown",
   "metadata": {},
   "source": [
    "FastText показал не самую лучшую F-меру. "
   ]
  },
  {
   "cell_type": "markdown",
   "metadata": {},
   "source": [
    "# Заключение"
   ]
  },
  {
   "cell_type": "markdown",
   "metadata": {},
   "source": [
    "Сложно сказать, какой метод нам показался лучше - многие классификаторы были на уровне baseline. Во время экспериментов в зависимости от выборки baseline был 0.96, и лучше всех о себе тогда заявил метод TruncatedSVD + Random Forest Classifier + лемматизация (F1 = 0.98), но, к сожалению, тестовая выборка поменялась, и те результаты не сохранились. Думаю, для этого датасета мы бы выбрали это сочетание методов. "
   ]
  },
  {
   "cell_type": "markdown",
   "metadata": {
    "collapsed": true
   },
   "source": [
    "Задание выполнено Николаевой Анной и Катричевой Надеждой. "
   ]
  },
  {
   "cell_type": "code",
   "execution_count": null,
   "metadata": {
    "collapsed": true
   },
   "outputs": [],
   "source": []
  }
 ],
 "metadata": {
  "kernelspec": {
   "display_name": "Python 3",
   "language": "python",
   "name": "python3"
  },
  "language_info": {
   "codemirror_mode": {
    "name": "ipython",
    "version": 3
   },
   "file_extension": ".py",
   "mimetype": "text/x-python",
   "name": "python",
   "nbconvert_exporter": "python",
   "pygments_lexer": "ipython3",
   "version": "3.6.8"
  }
 },
 "nbformat": 4,
 "nbformat_minor": 2
}
